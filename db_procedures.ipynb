{
  "nbformat": 4,
  "nbformat_minor": 0,
  "metadata": {
    "colab": {
      "provenance": []
    },
    "kernelspec": {
      "name": "python3",
      "display_name": "Python 3"
    },
    "language_info": {
      "name": "python"
    }
  },
  "cells": [
    {
      "cell_type": "markdown",
      "source": [
        "# **1. Create a connection to the database**"
      ],
      "metadata": {
        "id": "uLi_Aq-G6NH_"
      }
    },
    {
      "cell_type": "code",
      "source": [
        "# Install newer version of pip (Colab is currently shipping with an older version)\n",
        "!pip install -U pip"
      ],
      "metadata": {
        "colab": {
          "base_uri": "https://localhost:8080/"
        },
        "id": "-5ZBVyFgHjWI",
        "outputId": "84bb0c9c-872a-4d8b-8066-fcaa6973c6e5"
      },
      "execution_count": null,
      "outputs": [
        {
          "output_type": "stream",
          "name": "stdout",
          "text": [
            "Looking in indexes: https://pypi.org/simple, https://us-python.pkg.dev/colab-wheels/public/simple/\n",
            "Requirement already satisfied: pip in /usr/local/lib/python3.8/dist-packages (22.0.4)\n",
            "Collecting pip\n",
            "  Downloading pip-23.0-py3-none-any.whl (2.1 MB)\n",
            "\u001b[2K     \u001b[90m━━━━━━━━━━━━━━━━━━━━━━━━━━━━━━━━━━━━━━━━\u001b[0m \u001b[32m2.1/2.1 MB\u001b[0m \u001b[31m25.5 MB/s\u001b[0m eta \u001b[36m0:00:00\u001b[0m\n",
            "\u001b[?25hInstalling collected packages: pip\n",
            "  Attempting uninstall: pip\n",
            "    Found existing installation: pip 22.0.4\n",
            "    Uninstalling pip-22.0.4:\n",
            "      Successfully uninstalled pip-22.0.4\n",
            "Successfully installed pip-23.0\n"
          ]
        }
      ]
    },
    {
      "cell_type": "code",
      "source": [
        "# Install official Neo4j driver\n",
        "!pip install neo4j"
      ],
      "metadata": {
        "colab": {
          "base_uri": "https://localhost:8080/"
        },
        "id": "8btKcaNoXc1u",
        "outputId": "ece24ce0-8ca5-4e73-996c-52072315d24f"
      },
      "execution_count": null,
      "outputs": [
        {
          "output_type": "stream",
          "name": "stdout",
          "text": [
            "Looking in indexes: https://pypi.org/simple, https://us-python.pkg.dev/colab-wheels/public/simple/\n",
            "Collecting neo4j\n",
            "  Downloading neo4j-5.5.0.tar.gz (171 kB)\n",
            "\u001b[2K     \u001b[90m━━━━━━━━━━━━━━━━━━━━━━━━━━━━━━━━━━━━━━━\u001b[0m \u001b[32m171.0/171.0 kB\u001b[0m \u001b[31m6.2 MB/s\u001b[0m eta \u001b[36m0:00:00\u001b[0m\n",
            "\u001b[?25h  Installing build dependencies ... \u001b[?25l\u001b[?25hdone\n",
            "  Getting requirements to build wheel ... \u001b[?25l\u001b[?25hdone\n",
            "  Installing backend dependencies ... \u001b[?25l\u001b[?25hdone\n",
            "  Preparing metadata (pyproject.toml) ... \u001b[?25l\u001b[?25hdone\n",
            "Requirement already satisfied: pytz in /usr/local/lib/python3.8/dist-packages (from neo4j) (2022.7.1)\n",
            "Building wheels for collected packages: neo4j\n",
            "  Building wheel for neo4j (pyproject.toml) ... \u001b[?25l\u001b[?25hdone\n",
            "  Created wheel for neo4j: filename=neo4j-5.5.0-py3-none-any.whl size=237190 sha256=910e14c787c32d45e06b7bea0568048673cafdaec367263e64d1dda43e26f78c\n",
            "  Stored in directory: /root/.cache/pip/wheels/97/c9/83/0fb16d527cc493642bc4f69b6c8463b5816ca041b62c0c2d5f\n",
            "Successfully built neo4j\n",
            "Installing collected packages: neo4j\n",
            "Successfully installed neo4j-5.5.0\n",
            "\u001b[33mWARNING: Running pip as the 'root' user can result in broken permissions and conflicting behaviour with the system package manager. It is recommended to use a virtual environment instead: https://pip.pypa.io/warnings/venv\u001b[0m\u001b[33m\n",
            "\u001b[0m"
          ]
        }
      ]
    },
    {
      "cell_type": "code",
      "source": [
        "# Import the required libraries\n",
        "import pandas as pd\n",
        "import seaborn as sns\n",
        "import matplotlib.pyplot as plt\n",
        "import matplotlib.ticker as ticker\n",
        "from neo4j import GraphDatabase\n",
        "from datetime import datetime"
      ],
      "metadata": {
        "id": "4ULQ624hX-lg"
      },
      "execution_count": null,
      "outputs": []
    },
    {
      "cell_type": "code",
      "source": [
        "# Connection details for the database\n",
        "# If using Neo4j Sandbox enter the bolt URL\n",
        "\n",
        "url = \"bolt://3.83.95.52:7687\" \n",
        "user = \"neo4j\"\n",
        "pwd = \"rushes-levers-bud\""
      ],
      "metadata": {
        "id": "c7KrJwuUZX4O"
      },
      "execution_count": null,
      "outputs": []
    },
    {
      "cell_type": "code",
      "source": [
        "class Neo4jConnection:\n",
        "\n",
        "  def __init__(self, url, user, pwd):\n",
        "\n",
        "    self.__url = url\n",
        "    self.__user = user\n",
        "    self.__pwd = pwd\n",
        "    self.__driver = None\n",
        "\n",
        "    try:\n",
        "      self.__driver = GraphDatabase.driver(self.__url, auth = (self.__user, self.__pwd))\n",
        "    except Exception as e:\n",
        "      print(\"Failed to create the driver\", e)\n",
        "\n",
        "  def close(self):\n",
        "\n",
        "    if self.__driver is not None:\n",
        "      self.__driver.close()\n",
        "\n",
        "  def query(self, query, parameters = None, db = None):\n",
        "\n",
        "    assert self.__driver is not None, \"Driver not initialised!\"\n",
        "    session = None\n",
        "    response = None\n",
        "\n",
        "    try:\n",
        "      session = self.__driver.session(database = db) if db is not None else self.__driver.session()\n",
        "      response = list(session.run(query, parameters))\n",
        "    except Exception as e:\n",
        "      print(\"Query failed\", e)\n",
        "    finally:\n",
        "      if session is not None:\n",
        "        session.close()\n",
        "    return response \n"
      ],
      "metadata": {
        "id": "AhdKN99gi2kp"
      },
      "execution_count": null,
      "outputs": []
    },
    {
      "cell_type": "code",
      "source": [
        "# Connect to the database\n",
        "# If no error message is returned the connection was successful \n",
        "conn = Neo4jConnection(url = url, \n",
        "                       user = user,              \n",
        "                       pwd = pwd)"
      ],
      "metadata": {
        "id": "h5GCGNv_i2rt"
      },
      "execution_count": null,
      "outputs": []
    },
    {
      "cell_type": "markdown",
      "source": [
        "# **2. Create the nodes and relationships**"
      ],
      "metadata": {
        "id": "xFgb978-8Qdl"
      }
    },
    {
      "cell_type": "code",
      "source": [],
      "metadata": {
        "id": "_Zvv0Zaw4lxE"
      },
      "execution_count": null,
      "outputs": []
    },
    {
      "cell_type": "code",
      "source": [
        "# Links to datasets\n",
        "# Just memo items as parameterisation did not work \n",
        "\n",
        "# Full dataset: \n",
        "\"https://raw.githubusercontent.com/MissMaya/CASA0004_DISSERTATION/main/full_cleaned_data/full_individuals_cleaned.csv\"\n",
        "\"https://raw.githubusercontent.com/MissMaya/CASA0004_DISSERTATION/main/full_cleaned_data/full_relationships_cleaned.csv\"\n",
        "\"https://raw.githubusercontent.com/MissMaya/CASA0004_DISSERTATION/main/full_cleaned_data/full_addresses_cleaned.csv\"\n",
        "\"https://raw.githubusercontent.com/MissMaya/CASA0004_DISSERTATION/main/full_cleaned_data/full_locations_cleaned.csv\"\n",
        "\"https://raw.githubusercontent.com/MissMaya/CASA0004_DISSERTATION/main/full_cleaned_data/full_trades_guilds_cleaned.csv\"\n",
        "\"https://raw.githubusercontent.com/MissMaya/CASA0004_DISSERTATION/main/full_cleaned_data/full_addresses_cleaned.csv\"\n",
        "\"https://raw.githubusercontent.com/MissMaya/CASA0004_DISSERTATION/main/full_cleaned_data/time_intervals.csv\"\n",
        "\n",
        "# Subset used for testing queries:\n",
        "\"https://raw.githubusercontent.com/MissMaya/CASA0004_DISSERTATION/main/subset_cleaned_data/subset_individuals_cleaned.csv\"\n",
        "\"https://github.com/MissMaya/CASA0004_DISSERTATION/blob/main/subset_cleaned_data/subset_relationships_cleaned.csv\"\n",
        "\"https://raw.githubusercontent.com/MissMaya/CASA0004_DISSERTATION/main/subset_cleaned_data/subset_addresses_cleaned.csv\"\n",
        "\"https://raw.githubusercontent.com/MissMaya/CASA0004_DISSERTATION/main/subset_cleaned_data/subset_locations_cleaned.csv\"\n",
        "\"https://raw.githubusercontent.com/MissMaya/CASA0004_DISSERTATION/main/subset_cleaned_data/subset_trades_guilds_cleaned.csv\"\n",
        "\"https://raw.githubusercontent.com/MissMaya/CASA0004_DISSERTATION/main/subset_cleaned_data/subset_addresses_cleaned.csv\"\n",
        "\"https://raw.githubusercontent.com/MissMaya/CASA0004_DISSERTATION/main/subset_cleaned_data/subset_time_intervals.csv\"\n"
      ],
      "metadata": {
        "id": "fp1bwtIvJWlS",
        "colab": {
          "base_uri": "https://localhost:8080/",
          "height": 35
        },
        "outputId": "584aaad1-80a2-4148-f2cd-8d53ff9e0f40"
      },
      "execution_count": null,
      "outputs": [
        {
          "output_type": "execute_result",
          "data": {
            "text/plain": [
              "'https://raw.githubusercontent.com/MissMaya/CASA0004_DISSERTATION/main/subset_cleaned_data/subset_time_intervals.csv'"
            ],
            "application/vnd.google.colaboratory.intrinsic+json": {
              "type": "string"
            }
          },
          "metadata": {},
          "execution_count": 7
        }
      ]
    },
    {
      "cell_type": "code",
      "source": [
        "# Create the constraints \n",
        "\n",
        "conn.query('CREATE CONSTRAINT IF NOT EXISTS FOR (p:Person) REQUIRE p.id IS UNIQUE')\n",
        "conn.query('CREATE CONSTRAINT IF NOT EXISTS FOR (l:Location) REQUIRE l.location IS UNIQUE')\n",
        "conn.query('CREATE CONSTRAINT IF NOT EXISTS FOR (g:Guild) REQUIRE g.name IS UNIQUE')\n",
        "conn.query('CREATE CONSTRAINT IF NOT EXISTS FOR (primary:Primary_Role) REQUIRE primary.description IS UNIQUE')\n",
        "conn.query('CREATE CONSTRAINT IF NOT EXISTS FOR (other:Other_Trade) REQUIRE other.description IS UNIQUE')\n",
        "conn.query('CREATE CONSTRAINT IF NOT EXISTS FOR (maker:Maker_Of) REQUIRE maker.product IS UNIQUE')\n",
        "conn.query('CREATE CONSTRAINT IF NOT EXISTS FOR (makerCat:Maker_Category) REQUIRE makerCat.category IS UNIQUE')\n",
        "conn.query('CREATE CONSTRAINT IF NOT EXISTS FOR (seller:Seller_Of) REQUIRE seller.product IS UNIQUE')\n",
        "conn.query('CREATE CONSTRAINT IF NOT EXISTS FOR (sellerCat:Seller_Category) REQUIRE sellerCat.category IS UNIQUE')\n",
        "conn.query('CREATE CONSTRAINT IF NOT EXISTS FOR (s:Street) REQUIRE s.coord_string IS UNIQUE')\n",
        "#THINK CONSTRAINT ON a NEEDS TO GO\n",
        "conn.query('CREATE CONSTRAINT IF NOT EXISTS FOR (a:Address) REQUIRE a.first_line IS UNIQUE')\n",
        "conn.query('CREATE CONSTRAINT IF NOT EXISTS FOR (t:TIME) REQUIRE t.period_label IS UNIQUE')\n"
      ],
      "metadata": {
        "colab": {
          "base_uri": "https://localhost:8080/"
        },
        "id": "nNy8ZOWTmhD1",
        "outputId": "818e361e-7269-43b1-ebdb-82d4f8516f4e"
      },
      "execution_count": null,
      "outputs": [
        {
          "output_type": "execute_result",
          "data": {
            "text/plain": [
              "[]"
            ]
          },
          "metadata": {},
          "execution_count": 8
        }
      ]
    },
    {
      "cell_type": "code",
      "source": [
        "# Empty the database as a precaution\n",
        "\n",
        "query_string = '''\n",
        "MATCH (n)\n",
        "DETACH DELETE n\n",
        "'''\n",
        "\n",
        "conn.query(query_string)"
      ],
      "metadata": {
        "colab": {
          "base_uri": "https://localhost:8080/"
        },
        "id": "nH_Yd_f60AOW",
        "outputId": "9d19fd0a-003d-4f50-a86a-de1b505ede04"
      },
      "execution_count": null,
      "outputs": [
        {
          "output_type": "execute_result",
          "data": {
            "text/plain": [
              "[]"
            ]
          },
          "metadata": {},
          "execution_count": 9
        }
      ]
    },
    {
      "cell_type": "code",
      "source": [
        "# Create the Person nodes\n",
        "\n",
        "query_string = '''\n",
        "LOAD CSV WITH HEADERS FROM \"https://raw.githubusercontent.com/MissMaya/CASA0004_DISSERTATION/main/full_cleaned_data/full_individuals_cleaned.csv\" AS row\n",
        "\n",
        "CALL {\n",
        "  WITH row\n",
        "  MERGE (p:Person \n",
        "        {id: toInteger(row.id), \n",
        "        full_name: row.full_name, \n",
        "        first_name: row.first_name, \n",
        "        last_name: row.last_name\n",
        "        })\n",
        "        ON CREATE SET \n",
        "        p.year_from = CASE WHEN row.year_from = \"no_date\" THEN \"no_date\"\n",
        "                        ELSE toInteger(row.year_from) END,\n",
        "        p.year_to = CASE WHEN row.year_to = \"no_date\" THEN \"no_date\"\n",
        "                        ELSE toInteger(row.year_to) END\n",
        "} IN TRANSACTIONS\n",
        "'''\n",
        "\n",
        "conn.query(query_string);"
      ],
      "metadata": {
        "id": "H2PTZ03boC2y"
      },
      "execution_count": null,
      "outputs": []
    },
    {
      "cell_type": "code",
      "source": [
        "# Create the Town Location nodes \n",
        "\n",
        "query_string = '''\n",
        "LOAD CSV WITH HEADERS FROM \"https://raw.githubusercontent.com/MissMaya/CASA0004_DISSERTATION/main/full_cleaned_data/full_locations_cleaned.csv\" AS row\n",
        "\n",
        "CALL {\n",
        "  WITH row\n",
        "  MERGE (l:Location \n",
        "        {location: row.town,\n",
        "        latitude: row.lat,\n",
        "        longitude: row.lon\n",
        "        })\n",
        "} IN TRANSACTIONS\n",
        "'''\n",
        "\n",
        "conn.query(query_string);"
      ],
      "metadata": {
        "id": "pamr0fR2bsrk"
      },
      "execution_count": null,
      "outputs": []
    },
    {
      "cell_type": "code",
      "source": [
        "# Create the Street Location nodes\n",
        "# DELETE THIS\n",
        "\n",
        "query_string = '''\n",
        "LOAD CSV WITH HEADERS FROM \"https://raw.githubusercontent.com/MissMaya/CASA0004_DISSERTATION/main/full_cleaned_data/full_addresses_cleaned.csv\" AS row\n",
        "\n",
        "CALL {\n",
        "  WITH row\n",
        "  MERGE (s:Street \n",
        "        {latitude: row.lat,\n",
        "        longitude: row.lon,\n",
        "        coord_string: row.coordinate_label\n",
        "        })\n",
        "} IN TRANSACTIONS\n",
        "'''\n",
        "\n",
        "conn.query(query_string);"
      ],
      "metadata": {
        "id": "1YsgBIMuwO8N"
      },
      "execution_count": null,
      "outputs": []
    },
    {
      "cell_type": "code",
      "source": [
        "# Create the Geo Location nodes\n",
        "query_string = '''\n",
        "LOAD CSV WITH HEADERS FROM \"https://raw.githubusercontent.com/MissMaya/CASA0004_DISSERTATION/main/full_cleaned_data/full_addresses_cleaned.csv\" AS row\n",
        "\n",
        "CALL {\n",
        "  WITH row\n",
        "  MERGE (geo:GeoLoc \n",
        "        {latitude: row.lat,\n",
        "        longitude: row.lon,\n",
        "        coord_string: row.coordinate_label\n",
        "        })\n",
        "} IN TRANSACTIONS\n",
        "'''\n",
        "\n",
        "conn.query(query_string);"
      ],
      "metadata": {
        "id": "caJlnHebW6Ew"
      },
      "execution_count": null,
      "outputs": []
    },
    {
      "cell_type": "code",
      "source": [
        "# Create the Address nodes\n",
        "# DELETE AND RECREATE ID MUST BE INTEGER\n",
        "\n",
        "query_string = '''\n",
        "LOAD CSV WITH HEADERS FROM \"https://raw.githubusercontent.com/MissMaya/CASA0004_DISSERTATION/main/full_cleaned_data/full_addresses_cleaned.csv\" AS row\n",
        "\n",
        "CALL {\n",
        "  WITH row\n",
        "  MERGE (a: Address \n",
        "        {id: toInteger(row.id),\n",
        "        first_line: row.street,\n",
        "        latitude: row.lat,\n",
        "        longitude: row.lon\n",
        "        })\n",
        "} IN TRANSACTIONS\n",
        "'''\n",
        "\n",
        "conn.query(query_string);\n"
      ],
      "metadata": {
        "id": "Pu4Y07150h4P"
      },
      "execution_count": null,
      "outputs": []
    },
    {
      "cell_type": "code",
      "source": [
        "# Create the Time Span nodes\n",
        "\n",
        "query_string = '''\n",
        "LOAD CSV WITH HEADERS FROM \"https://raw.githubusercontent.com/MissMaya/CASA0004_DISSERTATION/main/full_cleaned_data/time_intervals.csv\" AS row\n",
        "\n",
        "CALL {\n",
        "  WITH row\n",
        "  MERGE (t:Time \n",
        "        {start: toInteger(row.period_start),\n",
        "        end: toInteger(row.period_end),\n",
        "        span: row.period_label\n",
        "        })\n",
        "} IN TRANSACTIONS\n",
        "'''\n",
        "\n",
        "conn.query(query_string);"
      ],
      "metadata": {
        "id": "YS824uG5wQaN"
      },
      "execution_count": null,
      "outputs": []
    },
    {
      "cell_type": "code",
      "source": [
        "# Create the Primary Role nodes \n",
        "\n",
        "query_string = '''\n",
        "LOAD CSV WITH HEADERS FROM \"https://raw.githubusercontent.com/MissMaya/CASA0004_DISSERTATION/main/full_cleaned_data/full_trades_guilds_cleaned.csv\" AS row\n",
        "\n",
        "CALL {\n",
        "  WITH row\n",
        "  FOREACH\n",
        "  (ignoreMe IN CASE WHEN row.role_primary is not null THEN [1] ELSE [] END | \n",
        "    MERGE (primary:Primary_Role {description: row.role_primary})\n",
        "  )\n",
        "} IN TRANSACTIONS\n",
        "'''\n",
        "\n",
        "conn.query(query_string);"
      ],
      "metadata": {
        "id": "Dk3AezKBbs3X"
      },
      "execution_count": null,
      "outputs": []
    },
    {
      "cell_type": "code",
      "source": [
        "# Create the Other Trades nodes \n",
        "\n",
        "query_string = '''\n",
        "LOAD CSV WITH HEADERS FROM \"https://raw.githubusercontent.com/MissMaya/CASA0004_DISSERTATION/main/full_cleaned_data/full_trades_guilds_cleaned.csv\" AS row\n",
        "\n",
        "CALL {\n",
        "  WITH row\n",
        "  FOREACH\n",
        "  (ignoreMe IN CASE WHEN row.other_trades is not null THEN [1] ELSE [] END | \n",
        "    MERGE (other:Other_Trade {description: row.other_trades})\n",
        "  )\n",
        "} IN TRANSACTIONS\n",
        "'''\n",
        "\n",
        "conn.query(query_string);"
      ],
      "metadata": {
        "id": "PSd2cNc8bs_R"
      },
      "execution_count": null,
      "outputs": []
    },
    {
      "cell_type": "code",
      "source": [
        "# Create the Guilds nodes \n",
        "\n",
        "query_string = '''\n",
        "LOAD CSV WITH HEADERS FROM \"https://raw.githubusercontent.com/MissMaya/CASA0004_DISSERTATION/main/full_cleaned_data/full_trades_guilds_cleaned.csv\" AS row\n",
        "\n",
        "CALL {\n",
        "  WITH row    \n",
        "  FOREACH\n",
        "  (ignoreMe IN CASE WHEN row.guild_memberships is not null THEN [1] ELSE [] END | \n",
        "    MERGE (g:Guild {name: row.guild_memberships})\n",
        "  )\n",
        "} IN TRANSACTIONS\n",
        "'''\n",
        "\n",
        "conn.query(query_string);"
      ],
      "metadata": {
        "id": "niNpiPkhbtG2"
      },
      "execution_count": null,
      "outputs": []
    },
    {
      "cell_type": "code",
      "source": [
        "# Create the Maker Trades nodes \n",
        "\n",
        "query_string = '''\n",
        "LOAD CSV WITH HEADERS FROM \"https://raw.githubusercontent.com/MissMaya/CASA0004_DISSERTATION/main/full_cleaned_data/full_trades_guilds_cleaned.csv\" AS row\n",
        "\n",
        "CALL {\n",
        "  WITH row\n",
        "  FOREACH\n",
        "  (ignoreMe IN CASE WHEN row.maker_trades is not null THEN [1] ELSE [] END | \n",
        "    MERGE (maker:Maker_Of {product: row.maker_trades})\n",
        "  )\n",
        "} IN TRANSACTIONS\n",
        "'''\n",
        "\n",
        "conn.query(query_string);"
      ],
      "metadata": {
        "id": "4P1l3ZMVbtLY"
      },
      "execution_count": null,
      "outputs": []
    },
    {
      "cell_type": "code",
      "source": [
        "# Create the Maker Descriptions nodes\n",
        "\n",
        "query_string = '''\n",
        "LOAD CSV WITH HEADERS FROM \"https://raw.githubusercontent.com/MissMaya/CASA0004_DISSERTATION/main/full_cleaned_data/full_trades_guilds_cleaned.csv\" AS row\n",
        "\n",
        "CALL{\n",
        "  WITH row\n",
        "  FOREACH\n",
        "  (ignoreMe IN CASE WHEN row.maker_descriptions is not null THEN [1] ELSE [] END | \n",
        "    MERGE (makerCat:Maker_Category {category: row.maker_descriptions})\n",
        "  )\n",
        "} IN TRANSACTIONS\n",
        "'''\n",
        "\n",
        "conn.query(query_string);"
      ],
      "metadata": {
        "id": "X6uMuO0kbtU-"
      },
      "execution_count": null,
      "outputs": []
    },
    {
      "cell_type": "code",
      "source": [
        "# Create the Seller Trades nodes\n",
        "\n",
        "query_string = '''\n",
        "LOAD CSV WITH HEADERS FROM \"https://raw.githubusercontent.com/MissMaya/CASA0004_DISSERTATION/main/full_cleaned_data/full_trades_guilds_cleaned.csv\" AS row\n",
        "\n",
        "CALL {\n",
        "  WITH row\n",
        "  FOREACH\n",
        "  (ignoreMe IN CASE WHEN row.seller_trades is not null THEN [1] ELSE [] END | \n",
        "    MERGE (seller:Seller_Of {product: row.seller_trades})\n",
        "  )\n",
        "} IN TRANSACTIONS\n",
        "'''\n",
        "\n",
        "conn.query(query_string);"
      ],
      "metadata": {
        "id": "0aPd16P6btbo"
      },
      "execution_count": null,
      "outputs": []
    },
    {
      "cell_type": "code",
      "source": [
        "# Create the Seller Descriptions nodes \n",
        "\n",
        "query_string = '''\n",
        "LOAD CSV WITH HEADERS FROM \"https://raw.githubusercontent.com/MissMaya/CASA0004_DISSERTATION/main/full_cleaned_data/full_trades_guilds_cleaned.csv\" AS row\n",
        "\n",
        "CALL {\n",
        "  WITH row\n",
        "  FOREACH\n",
        "  (ignoreMe IN CASE WHEN row.seller_descriptions is not null THEN [1] ELSE [] END | \n",
        "    MERGE (sellerCat:Seller_Category {category: row.seller_descriptions})\n",
        "  )\n",
        "} IN TRANSACTIONS\n",
        "'''\n",
        "\n",
        "conn.query(query_string);"
      ],
      "metadata": {
        "id": "PkCpJlZVbtiQ"
      },
      "execution_count": null,
      "outputs": []
    },
    {
      "cell_type": "code",
      "source": [
        "# Create the Person - Person relationships\n",
        "# Can take about 30 seconds\n",
        "# If query times out, just re-run \n",
        "\n",
        "query_string = '''\n",
        "LOAD CSV WITH HEADERS FROM \"https://raw.githubusercontent.com/MissMaya/CASA0004_DISSERTATION/main/full_cleaned_data/full_relationships_cleaned.csv\" AS row\n",
        "\n",
        "  MATCH (p1:Person {id: toInteger(row.source)}), (p2:Person {id: toInteger(row.target)})\n",
        "  WITH p1, p2, row\n",
        "  CALL apoc.merge.relationship(p1, row.relationship, {}, {}, p2) YIELD rel\n",
        "  RETURN rel\n",
        "'''\n",
        "\n",
        "conn.query(query_string);"
      ],
      "metadata": {
        "id": "skq-IKnpbtpb"
      },
      "execution_count": null,
      "outputs": []
    },
    {
      "cell_type": "code",
      "source": [
        "# Create the Person -> Location relationships\n",
        "\n",
        "query_string = '''\n",
        "LOAD CSV WITH HEADERS FROM \"https://raw.githubusercontent.com/MissMaya/CASA0004_DISSERTATION/main/full_cleaned_data/full_locations_cleaned.csv\" AS row\n",
        "WITH row\n",
        "MATCH (p:Person {id: toInteger(row.id)})\n",
        "MATCH (l:Location {location: row.town})\n",
        "MERGE (p)-[a:WAS_ACTIVE_IN]->(l)\n",
        "'''\n",
        "\n",
        "conn.query(query_string)\n"
      ],
      "metadata": {
        "colab": {
          "base_uri": "https://localhost:8080/"
        },
        "id": "ftw8PRRHbtuh",
        "outputId": "08c25c5b-8fb2-447a-eb26-ff1f67462df4"
      },
      "execution_count": null,
      "outputs": [
        {
          "output_type": "execute_result",
          "data": {
            "text/plain": [
              "[]"
            ]
          },
          "metadata": {},
          "execution_count": 32
        }
      ]
    },
    {
      "cell_type": "code",
      "source": [
        "# Create the Person -> Time Span relationships \n",
        "\n",
        "query_string = '''\n",
        "MATCH (p:Person)\n",
        "MATCH (t:Time)\n",
        "WHERE p.year_from <= t.end\n",
        "AND p.year_to >= t.start\n",
        "MERGE (p)-[o:OPERATED_DURING]->(t)\n",
        "'''\n",
        "\n",
        "conn.query(query_string)"
      ],
      "metadata": {
        "colab": {
          "base_uri": "https://localhost:8080/"
        },
        "id": "iIN0_6AnZPSz",
        "outputId": "4569fece-b6a9-45b8-bc5e-c897011b93ba"
      },
      "execution_count": null,
      "outputs": [
        {
          "output_type": "execute_result",
          "data": {
            "text/plain": [
              "[]"
            ]
          },
          "metadata": {},
          "execution_count": 33
        }
      ]
    },
    {
      "cell_type": "code",
      "source": [
        "# Create the Person -> Address relationships\n",
        "\n",
        "query_string = '''\n",
        "MATCH (p:Person)\n",
        "MATCH (a:Address)\n",
        "WHERE p.id = a.id\n",
        "MERGE (p)-[h:HAD_ADDRESS]->(a)\n",
        "'''\n",
        "\n",
        "conn.query(query_string)"
      ],
      "metadata": {
        "id": "k_ylHkmogx3I"
      },
      "execution_count": null,
      "outputs": []
    },
    {
      "cell_type": "code",
      "source": [
        "# Create the Address -> Geo Location relationships\n",
        "\n",
        "query_string = '''\n",
        "MATCH (a:Address)\n",
        "MATCH (geo:GeoLoc)\n",
        "WHERE a.latitude = geo.latitude\n",
        "AND a.longitude = geo.longitude\n",
        "MERGE (a)-[gloc:HAD_GEOLOCATION]->(geo)\n",
        "'''\n",
        "\n",
        "conn.query(query_string)"
      ],
      "metadata": {
        "id": "_dir_BsBigGK"
      },
      "execution_count": null,
      "outputs": []
    },
    {
      "cell_type": "code",
      "source": [
        "# Create the Person -> Geo Location relationships\n",
        "# DELETE THIS\n",
        "\n",
        "query_string = '''\n",
        "LOAD CSV WITH HEADERS FROM \"https://raw.githubusercontent.com/MissMaya/CASA0004_DISSERTATION/main/full_cleaned_data/full_addresses_cleaned.csv\" AS row\n",
        "WITH row\n",
        "MATCH (p:Person {id: toInteger(row.id)})\n",
        "MATCH (s:Street {coord_string: row.coordinate_label})\n",
        "MERGE (p)-[geo:HAD_GEO_LOCATION]->(s)\n",
        "'''\n",
        "\n",
        "conn.query(query_string)"
      ],
      "metadata": {
        "id": "ymWUQ3QXSs2X",
        "colab": {
          "base_uri": "https://localhost:8080/"
        },
        "outputId": "ca40595a-5b24-436a-f053-1cda9e69614e"
      },
      "execution_count": null,
      "outputs": [
        {
          "output_type": "execute_result",
          "data": {
            "text/plain": [
              "[]"
            ]
          },
          "metadata": {},
          "execution_count": 34
        }
      ]
    },
    {
      "cell_type": "code",
      "source": [
        "# Create the Geo Location -> Street Address relationships\n",
        "# DELETE THIS\n",
        "\n",
        "query_string = '''\n",
        "MATCH (a:Address)\n",
        "MATCH (s:Street)\n",
        "WHERE a.latitude = s.latitude\n",
        "AND a.longitude = s.longitude\n",
        "MERGE (s)-[assoc:ASSOCIATED_WITH_ADDRESS]->(a)\n",
        "'''\n",
        "\n",
        "conn.query(query_string)"
      ],
      "metadata": {
        "colab": {
          "base_uri": "https://localhost:8080/"
        },
        "id": "UkpaVCL8ham1",
        "outputId": "70ee68fb-d995-46a5-d332-5e24126dad74"
      },
      "execution_count": null,
      "outputs": [
        {
          "output_type": "execute_result",
          "data": {
            "text/plain": [
              "[]"
            ]
          },
          "metadata": {},
          "execution_count": 35
        }
      ]
    },
    {
      "cell_type": "code",
      "source": [
        "# Create the Address -> Geo Location relationships\n",
        "#DELETE THIS\n",
        "\n",
        "\n",
        "query_string = '''\n",
        "MATCH (a:Address)\n",
        "MATCH (geo:GeoLoc)\n",
        "WHERE a.latitude = geo.latitude\n",
        "AND a.longitude = geo.longitude\n",
        "MERGE (a)-[gloc:HAD_GEOLOCATION]->(geo)\n",
        "'''\n",
        "\n",
        "conn.query(query_string)\n"
      ],
      "metadata": {
        "id": "b4dVlvBJRcTu"
      },
      "execution_count": null,
      "outputs": []
    },
    {
      "cell_type": "code",
      "source": [
        "# Create the Address -> Geo Location relationships\n",
        "# DELETE THIS \n",
        "\n",
        "query_string = '''\n",
        "MATCH (a:Address)\n",
        "MATCH (s:Street)\n",
        "WHERE a.latitude = s.latitude\n",
        "AND a.longitude = s.longitude\n",
        "MERGE (a)-[assoc:ASSOCIATED_WITH_ADDRESS]->(s)\n",
        "'''\n"
      ],
      "metadata": {
        "id": "WhMaNBdKRcBO"
      },
      "execution_count": null,
      "outputs": []
    },
    {
      "cell_type": "code",
      "source": [
        "# Create the Person -> Primary Role relationships\n",
        "\n",
        "query_string = '''\n",
        "LOAD CSV WITH HEADERS FROM \"https://raw.githubusercontent.com/MissMaya/CASA0004_DISSERTATION/main/full_cleaned_data/full_trades_guilds_cleaned.csv\" AS row\n",
        "with row\n",
        "MATCH (p:Person {id: toInteger(row.id)})\n",
        "MATCH (primary:Primary_Role {description: row.role_primary})\n",
        "MERGE (p)-[r:PRIMARY_ROLE]->(primary)\n",
        "'''\n",
        "\n",
        "conn.query(query_string)"
      ],
      "metadata": {
        "colab": {
          "base_uri": "https://localhost:8080/"
        },
        "id": "b9n8yRF6bt1m",
        "outputId": "164c8bb8-ede2-4e81-a78f-adefc3243af6"
      },
      "execution_count": null,
      "outputs": [
        {
          "output_type": "execute_result",
          "data": {
            "text/plain": [
              "[]"
            ]
          },
          "metadata": {},
          "execution_count": 36
        }
      ]
    },
    {
      "cell_type": "code",
      "source": [
        "# Create the Person -> Other Trades relationships \n",
        "\n",
        "query_string = '''\n",
        "LOAD CSV WITH HEADERS FROM \"https://raw.githubusercontent.com/MissMaya/CASA0004_DISSERTATION/main/full_cleaned_data/full_trades_guilds_cleaned.csv\" AS row\n",
        "with row\n",
        "MATCH (p:Person {id: toInteger(row.id)})\n",
        "MATCH (other:Other_Trade {description: row.other_trades})\n",
        "MERGE (p)-[o:OTHER_TRADE]->(other)\n",
        "'''\n",
        "\n",
        "conn.query(query_string)"
      ],
      "metadata": {
        "colab": {
          "base_uri": "https://localhost:8080/"
        },
        "id": "v1nj3oMgbt6I",
        "outputId": "a72e92d4-a2a7-4902-cec5-592d525937cb"
      },
      "execution_count": null,
      "outputs": [
        {
          "output_type": "execute_result",
          "data": {
            "text/plain": [
              "[]"
            ]
          },
          "metadata": {},
          "execution_count": 37
        }
      ]
    },
    {
      "cell_type": "code",
      "source": [
        "# Create the Person -> Guilds relationships \n",
        "\n",
        "query_string = '''\n",
        "LOAD CSV WITH HEADERS FROM \"https://raw.githubusercontent.com/MissMaya/CASA0004_DISSERTATION/main/full_cleaned_data/full_trades_guilds_cleaned.csv\" AS row\n",
        "with row\n",
        "MATCH (p:Person {id: toInteger(row.id)})\n",
        "MATCH (g:Guild {name: row.guild_memberships})\n",
        "MERGE (p)-[m:MEMBER_OF]->(g)\n",
        "'''\n",
        "\n",
        "conn.query(query_string)"
      ],
      "metadata": {
        "colab": {
          "base_uri": "https://localhost:8080/"
        },
        "id": "H-o1EPxEbuEj",
        "outputId": "7d57bee6-96bb-4bfe-b0ea-a8dc895bc289"
      },
      "execution_count": null,
      "outputs": [
        {
          "output_type": "execute_result",
          "data": {
            "text/plain": [
              "[]"
            ]
          },
          "metadata": {},
          "execution_count": 38
        }
      ]
    },
    {
      "cell_type": "code",
      "source": [
        "# Create the Person -> Maker Trades relationships\n",
        "\n",
        "query_string = '''\n",
        "LOAD CSV WITH HEADERS FROM \"https://raw.githubusercontent.com/MissMaya/CASA0004_DISSERTATION/main/full_cleaned_data/full_trades_guilds_cleaned.csv\" AS row\n",
        "with row\n",
        "MATCH (p:Person {id: toInteger(row.id)})\n",
        "MATCH (maker:Maker_Of {product: row.maker_trades})\n",
        "MERGE (p)-[m:MADE]->(maker)\n",
        "'''\n",
        "\n",
        "conn.query(query_string)"
      ],
      "metadata": {
        "colab": {
          "base_uri": "https://localhost:8080/"
        },
        "id": "1T6eyB7ibuK2",
        "outputId": "7a9da31f-489d-4e95-807b-f2aca655b5ce"
      },
      "execution_count": null,
      "outputs": [
        {
          "output_type": "execute_result",
          "data": {
            "text/plain": [
              "[]"
            ]
          },
          "metadata": {},
          "execution_count": 39
        }
      ]
    },
    {
      "cell_type": "code",
      "source": [
        "# Create the Person -> Maker Descriptions relationships\n",
        "\n",
        "query_string = '''\n",
        "LOAD CSV WITH HEADERS FROM \"https://raw.githubusercontent.com/MissMaya/CASA0004_DISSERTATION/main/full_cleaned_data/full_trades_guilds_cleaned.csv\" AS row\n",
        "with row\n",
        "MATCH (p:Person {id: toInteger(row.id)})\n",
        "MATCH (makerCat:Maker_Category {category: row.maker_descriptions})\n",
        "MERGE (p)-[m:MADE]->(makerCat)\n",
        "'''\n",
        "\n",
        "conn.query(query_string)"
      ],
      "metadata": {
        "colab": {
          "base_uri": "https://localhost:8080/"
        },
        "id": "bivOSz_SbuQm",
        "outputId": "60b14c99-ad60-4dfb-bcf7-a2998a51ff3c"
      },
      "execution_count": null,
      "outputs": [
        {
          "output_type": "execute_result",
          "data": {
            "text/plain": [
              "[]"
            ]
          },
          "metadata": {},
          "execution_count": 40
        }
      ]
    },
    {
      "cell_type": "code",
      "source": [
        "# Create the Person -> Seller Trades relationships \n",
        "\n",
        "query_string = '''\n",
        "LOAD CSV WITH HEADERS FROM \"https://raw.githubusercontent.com/MissMaya/CASA0004_DISSERTATION/main/full_cleaned_data/full_trades_guilds_cleaned.csv\" AS row\n",
        "with row\n",
        "MATCH (p:Person {id: toInteger(row.id)})\n",
        "MATCH (seller:Seller_Of {product: row.seller_trades})\n",
        "MERGE (p)-[s:SOLD]->(seller)\n",
        "'''\n",
        "\n",
        "conn.query(query_string)"
      ],
      "metadata": {
        "colab": {
          "base_uri": "https://localhost:8080/"
        },
        "id": "3chuC6uXbuW3",
        "outputId": "13fc72ff-a8a2-4f25-d3c3-2cb502fb515c"
      },
      "execution_count": null,
      "outputs": [
        {
          "output_type": "execute_result",
          "data": {
            "text/plain": [
              "[]"
            ]
          },
          "metadata": {},
          "execution_count": 41
        }
      ]
    },
    {
      "cell_type": "code",
      "source": [
        "# Create the Person -> Seller Descriptions relationships \n",
        "\n",
        "query_string = '''\n",
        "LOAD CSV WITH HEADERS FROM \"https://raw.githubusercontent.com/MissMaya/CASA0004_DISSERTATION/main/full_cleaned_data/full_trades_guilds_cleaned.csv\" AS row\n",
        "with row\n",
        "MATCH (p:Person {id: toInteger(row.id)})\n",
        "MATCH (sellerCat:Seller_Category {category: row.seller_descriptions})\n",
        "MERGE (p)-[s:SOLD]->(sellerCat)\n",
        "'''\n",
        "\n",
        "conn.query(query_string)"
      ],
      "metadata": {
        "colab": {
          "base_uri": "https://localhost:8080/"
        },
        "id": "f-VkOLJGdxB4",
        "outputId": "1c1dc95f-7912-4b55-8095-cf9c5becf6e9"
      },
      "execution_count": null,
      "outputs": [
        {
          "output_type": "execute_result",
          "data": {
            "text/plain": [
              "[]"
            ]
          },
          "metadata": {},
          "execution_count": 42
        }
      ]
    },
    {
      "cell_type": "markdown",
      "source": [
        "# **3. Calculate Node Degrees**\n"
      ],
      "metadata": {
        "id": "LGmCJ05dLJVS"
      }
    },
    {
      "cell_type": "code",
      "source": [
        "# Calculate the degree of each node (in degree + out degree)\n",
        "\n",
        "query_string = '''\n",
        "MATCH (p1:Person)-[]-(p2:Person)\n",
        "RETURN count(*) AS degree, p1.full_name, p1.id as ID\n",
        "ORDER BY degree DESC\n",
        "'''\n",
        "\n",
        "conn.query(query_string)\n",
        "\n",
        "results = pd.DataFrame([dict(_) for _ in conn.query(query_string)])\n"
      ],
      "metadata": {
        "id": "KlQFoJQKsmz9"
      },
      "execution_count": null,
      "outputs": []
    },
    {
      "cell_type": "code",
      "source": [
        "# Produce histogram of degree distribution to show that distribution obeys power law \n",
        "plt.figure(figsize=(10,5))\n",
        "chart = sns.histplot(data = results, \n",
        "                     x = \"degree\", \n",
        "                     color = \"#55b8d1\")\n",
        "plt.xlim([0, 50])\n",
        "chart.set_xlabel(\"Degree\", fontsize = 11)\n",
        "chart.set_ylabel(\"Count\", fontsize = 11)"
      ],
      "metadata": {
        "colab": {
          "base_uri": "https://localhost:8080/",
          "height": 351
        },
        "id": "Pi9XhkWos1KS",
        "outputId": "ea40443b-5112-41d4-cb68-3680dbcb5a6c"
      },
      "execution_count": null,
      "outputs": [
        {
          "output_type": "execute_result",
          "data": {
            "text/plain": [
              "Text(0, 0.5, 'Count')"
            ]
          },
          "metadata": {},
          "execution_count": 44
        },
        {
          "output_type": "display_data",
          "data": {
            "text/plain": [
              "<Figure size 720x360 with 1 Axes>"
            ],
            "image/png": "[encoded data removed]"
          },
          "metadata": {
            "needs_background": "light"
          }
        }
      ]
    },
    {
      "cell_type": "markdown",
      "source": [
        "# **4. Create a Cypher Projection**"
      ],
      "metadata": {
        "id": "ESEV7GUu3WiK"
      }
    },
    {
      "cell_type": "code",
      "source": [
        "# Drop in-memory graph if one of the same name already exists \n",
        "\n",
        "graph_name = \"undirected_graph\"\n",
        "\n",
        "query_string = '''\n",
        "CALL gds.graph.drop(\"undirected_graph\", false) YIELD graphName\n",
        "'''\n",
        "\n",
        "conn.query(query_string)"
      ],
      "metadata": {
        "id": "7hLlpvfd4RfB",
        "colab": {
          "base_uri": "https://localhost:8080/"
        },
        "outputId": "b2e37ff7-f1df-4802-83c6-66eb27925e92"
      },
      "execution_count": null,
      "outputs": [
        {
          "output_type": "execute_result",
          "data": {
            "text/plain": [
              "[]"
            ]
          },
          "metadata": {},
          "execution_count": 45
        }
      ]
    },
    {
      "cell_type": "code",
      "source": [
        "# Create an in-memory graph \n",
        "\n",
        "query_string = '''\n",
        "CALL gds.graph.project.cypher(\n",
        "     \"undirected_graph\",\n",
        "    'MATCH (p:Person) RETURN id(p) AS id',\n",
        "    'MATCH (s:Person)-[r]-(t:Person) RETURN id(s) AS source, id(t) AS target'\n",
        ")\n",
        "'''\n",
        "conn.query(query_string)"
      ],
      "metadata": {
        "id": "l5tmh-eG3-xf",
        "colab": {
          "base_uri": "https://localhost:8080/"
        },
        "outputId": "8069fb95-f3c4-4609-ba2f-e8fa7d7641c1"
      },
      "execution_count": null,
      "outputs": [
        {
          "output_type": "execute_result",
          "data": {
            "text/plain": [
              "[<Record nodeQuery='MATCH (p:Person) RETURN id(p) AS id' relationshipQuery='MATCH (s:Person)-[r]-(t:Person) RETURN id(s) AS source, id(t) AS target' graphName='undirected_graph' nodeCount=5927 relationshipCount=20007 projectMillis=8211>]"
            ]
          },
          "metadata": {},
          "execution_count": 46
        }
      ]
    },
    {
      "cell_type": "markdown",
      "source": [
        "# **5. Run Weakly Connected Components Algorithm on the Whole Graph**"
      ],
      "metadata": {
        "id": "b8CJn3TWo5OP"
      }
    },
    {
      "cell_type": "code",
      "source": [
        "# Run WCC algorithm and write out the component id as a property back to the graph \n",
        "# Provides the stats as well so no need to call \"stats\" separately \n",
        "query_string = '''\n",
        "CALL gds.wcc.write(\n",
        "    \"undirected_graph\",\n",
        "    {\n",
        "        writeProperty: \"componentId\"\n",
        "    }\n",
        ")\n",
        "'''\n",
        "\n",
        "conn.query(query_string)"
      ],
      "metadata": {
        "colab": {
          "base_uri": "https://localhost:8080/"
        },
        "id": "AfOuQh9VgdWg",
        "outputId": "7d8e03ed-a3b8-40a0-982a-b4c9184a73a2"
      },
      "execution_count": null,
      "outputs": [
        {
          "output_type": "execute_result",
          "data": {
            "text/plain": [
              "[<Record writeMillis=714 nodePropertiesWritten=5927 componentCount=1057 componentDistribution={'p99': 12, 'min': 1, 'max': 2854, 'mean': 5.607379375591296, 'p90': 5, 'p50': 2, 'p999': 32, 'p95': 6, 'p75': 3} postProcessingMillis=103 preProcessingMillis=0 computeMillis=189 configuration={'jobId': '37a6b315-9ff6-4018-bfc7-1f6a92c7fa4a', 'writeConcurrency': 4, 'seedProperty': None, 'consecutiveIds': False, 'writeProperty': 'componentId', 'threshold': 0.0, 'nodeLabels': ['*'], 'sudo': False, 'relationshipTypes': ['*'], 'concurrency': 4}>]"
            ]
          },
          "metadata": {},
          "execution_count": 47
        }
      ]
    },
    {
      "cell_type": "code",
      "source": [
        "# Return a list of components in descending order of size\n",
        "query_string = '''\n",
        "MATCH (p:Person)\n",
        "RETURN p.componentId, COUNT(*) AS num\n",
        "ORDER BY num DESC\n",
        "LIMIT 100\n",
        "'''\n",
        "\n",
        "conn.query(query_string)\n",
        "\n",
        "results = pd.DataFrame([dict(_) for _ in conn.query(query_string)])\n",
        "\n",
        "results.head()"
      ],
      "metadata": {
        "colab": {
          "base_uri": "https://localhost:8080/",
          "height": 206
        },
        "id": "dNf4CG4njL0w",
        "outputId": "d6bafdc4-c1e4-4bb7-ee16-0a3cff1df4bb"
      },
      "execution_count": null,
      "outputs": [
        {
          "output_type": "execute_result",
          "data": {
            "text/plain": [
              "   p.componentId   num\n",
              "0              0  2854\n",
              "1             23    32\n",
              "2           1981    22\n",
              "3           1589    21\n",
              "4           4450    20"
            ],
            "text/html": [
              "\n",
              "  <div id=\"df-936c6a46-94f2-4703-8226-b98c43e1df89\">\n",
              "    <div class=\"colab-df-container\">\n",
              "      <div>\n",
              "<style scoped>\n",
              "    .dataframe tbody tr th:only-of-type {\n",
              "        vertical-align: middle;\n",
              "    }\n",
              "\n",
              "    .dataframe tbody tr th {\n",
              "        vertical-align: top;\n",
              "    }\n",
              "\n",
              "    .dataframe thead th {\n",
              "        text-align: right;\n",
              "    }\n",
              "</style>\n",
              "<table border=\"1\" class=\"dataframe\">\n",
              "  <thead>\n",
              "    <tr style=\"text-align: right;\">\n",
              "      <th></th>\n",
              "      <th>p.componentId</th>\n",
              "      <th>num</th>\n",
              "    </tr>\n",
              "  </thead>\n",
              "  <tbody>\n",
              "    <tr>\n",
              "      <th>0</th>\n",
              "      <td>0</td>\n",
              "      <td>2854</td>\n",
              "    </tr>\n",
              "    <tr>\n",
              "      <th>1</th>\n",
              "      <td>23</td>\n",
              "      <td>32</td>\n",
              "    </tr>\n",
              "    <tr>\n",
              "      <th>2</th>\n",
              "      <td>1981</td>\n",
              "      <td>22</td>\n",
              "    </tr>\n",
              "    <tr>\n",
              "      <th>3</th>\n",
              "      <td>1589</td>\n",
              "      <td>21</td>\n",
              "    </tr>\n",
              "    <tr>\n",
              "      <th>4</th>\n",
              "      <td>4450</td>\n",
              "      <td>20</td>\n",
              "    </tr>\n",
              "  </tbody>\n",
              "</table>\n",
              "</div>\n",
              "      <button class=\"colab-df-convert\" onclick=\"convertToInteractive('df-936c6a46-94f2-4703-8226-b98c43e1df89')\"\n",
              "              title=\"Convert this dataframe to an interactive table.\"\n",
              "              style=\"display:none;\">\n",
              "        \n",
              "  <svg xmlns=\"http://www.w3.org/2000/svg\" height=\"24px\"viewBox=\"0 0 24 24\"\n",
              "       width=\"24px\">\n",
              "    <path d=\"M0 0h24v24H0V0z\" fill=\"none\"/>\n",
              "    <path d=\"M18.56 5.44l.94 2.06.94-2.06 2.06-.94-2.06-.94-.94-2.06-.94 2.06-2.06.94zm-11 1L8.5 8.5l.94-2.06 2.06-.94-2.06-.94L8.5 2.5l-.94 2.06-2.06.94zm10 10l.94 2.06.94-2.06 2.06-.94-2.06-.94-.94-2.06-.94 2.06-2.06.94z\"/><path d=\"M17.41 7.96l-1.37-1.37c-.4-.4-.92-.59-1.43-.59-.52 0-1.04.2-1.43.59L10.3 9.45l-7.72 7.72c-.78.78-.78 2.05 0 2.83L4 21.41c.39.39.9.59 1.41.59.51 0 1.02-.2 1.41-.59l7.78-7.78 2.81-2.81c.8-.78.8-2.07 0-2.86zM5.41 20L4 18.59l7.72-7.72 1.47 1.35L5.41 20z\"/>\n",
              "  </svg>\n",
              "      </button>\n",
              "      \n",
              "  <style>\n",
              "    .colab-df-container {\n",
              "      display:flex;\n",
              "      flex-wrap:wrap;\n",
              "      gap: 12px;\n",
              "    }\n",
              "\n",
              "    .colab-df-convert {\n",
              "      background-color: #E8F0FE;\n",
              "      border: none;\n",
              "      border-radius: 50%;\n",
              "      cursor: pointer;\n",
              "      display: none;\n",
              "      fill: #1967D2;\n",
              "      height: 32px;\n",
              "      padding: 0 0 0 0;\n",
              "      width: 32px;\n",
              "    }\n",
              "\n",
              "    .colab-df-convert:hover {\n",
              "      background-color: #E2EBFA;\n",
              "      box-shadow: 0px 1px 2px rgba(60, 64, 67, 0.3), 0px 1px 3px 1px rgba(60, 64, 67, 0.15);\n",
              "      fill: #174EA6;\n",
              "    }\n",
              "\n",
              "    [theme=dark] .colab-df-convert {\n",
              "      background-color: #3B4455;\n",
              "      fill: #D2E3FC;\n",
              "    }\n",
              "\n",
              "    [theme=dark] .colab-df-convert:hover {\n",
              "      background-color: #434B5C;\n",
              "      box-shadow: 0px 1px 3px 1px rgba(0, 0, 0, 0.15);\n",
              "      filter: drop-shadow(0px 1px 2px rgba(0, 0, 0, 0.3));\n",
              "      fill: #FFFFFF;\n",
              "    }\n",
              "  </style>\n",
              "\n",
              "      <script>\n",
              "        const buttonEl =\n",
              "          document.querySelector('#df-936c6a46-94f2-4703-8226-b98c43e1df89 button.colab-df-convert');\n",
              "        buttonEl.style.display =\n",
              "          google.colab.kernel.accessAllowed ? 'block' : 'none';\n",
              "\n",
              "        async function convertToInteractive(key) {\n",
              "          const element = document.querySelector('#df-936c6a46-94f2-4703-8226-b98c43e1df89');\n",
              "          const dataTable =\n",
              "            await google.colab.kernel.invokeFunction('convertToInteractive',\n",
              "                                                     [key], {});\n",
              "          if (!dataTable) return;\n",
              "\n",
              "          const docLinkHtml = 'Like what you see? Visit the ' +\n",
              "            '<a target=\"_blank\" href=https://colab.research.google.com/notebooks/data_table.ipynb>data table notebook</a>'\n",
              "            + ' to learn more about interactive tables.';\n",
              "          element.innerHTML = '';\n",
              "          dataTable['output_type'] = 'display_data';\n",
              "          await google.colab.output.renderOutput(dataTable, element);\n",
              "          const docLink = document.createElement('div');\n",
              "          docLink.innerHTML = docLinkHtml;\n",
              "          element.appendChild(docLink);\n",
              "        }\n",
              "      </script>\n",
              "    </div>\n",
              "  </div>\n",
              "  "
            ]
          },
          "metadata": {},
          "execution_count": 48
        }
      ]
    },
    {
      "cell_type": "markdown",
      "source": [
        "# **6. Run Node Degree Calculation and PageRank Algorithm on the Whole Graph**"
      ],
      "metadata": {
        "id": "8-2ACuar0BzX"
      }
    },
    {
      "cell_type": "code",
      "source": [
        "# Run the node degree calculation for the whole graph \n",
        "\n",
        "query_string = '''\n",
        "CALL gds.degree.stream(\"undirected_graph\")\n",
        "YIELD nodeId, score\n",
        "RETURN gds.util.asNode(nodeId).full_name AS name, gds.util.asNode(nodeId).id AS id, score\n",
        "ORDER BY score DESC\n",
        "'''\n",
        "\n",
        "conn.query(query_string)\n",
        "\n",
        "results = pd.DataFrame([dict(_) for _ in conn.query(query_string)])\n",
        "\n",
        "results.head(10)\n"
      ],
      "metadata": {
        "colab": {
          "base_uri": "https://localhost:8080/",
          "height": 363
        },
        "id": "JKXrlxQL6dx7",
        "outputId": "115a7692-7735-4ef3-ac26-314d645aee8f"
      },
      "execution_count": null,
      "outputs": [
        {
          "output_type": "execute_result",
          "data": {
            "text/plain": [
              "                   name    id  score\n",
              "0   C STEDMAN (id: 749)   749   44.0\n",
              "1   W HARRIS (id: 4600)  4600   44.0\n",
              "2   J RAMSDEN (id: 430)   430   42.0\n",
              "3      R BATE (id: 566)   566   41.0\n",
              "4      R RUST (id: 728)   728   24.0\n",
              "5    W SIMMS (id: 2266)  2266   24.0\n",
              "6  W FRODSHAM (id: 786)   786   23.0\n",
              "7     G ADAMS (id: 551)   551   23.0\n",
              "8      B COLE (id: 166)   166   23.0\n",
              "9   J GILBERT (id: 182)   182   23.0"
            ],
            "text/html": [
              "\n",
              "  <div id=\"df-2ae75d49-c220-4552-b46d-b9efde35e030\">\n",
              "    <div class=\"colab-df-container\">\n",
              "      <div>\n",
              "<style scoped>\n",
              "    .dataframe tbody tr th:only-of-type {\n",
              "        vertical-align: middle;\n",
              "    }\n",
              "\n",
              "    .dataframe tbody tr th {\n",
              "        vertical-align: top;\n",
              "    }\n",
              "\n",
              "    .dataframe thead th {\n",
              "        text-align: right;\n",
              "    }\n",
              "</style>\n",
              "<table border=\"1\" class=\"dataframe\">\n",
              "  <thead>\n",
              "    <tr style=\"text-align: right;\">\n",
              "      <th></th>\n",
              "      <th>name</th>\n",
              "      <th>id</th>\n",
              "      <th>score</th>\n",
              "    </tr>\n",
              "  </thead>\n",
              "  <tbody>\n",
              "    <tr>\n",
              "      <th>0</th>\n",
              "      <td>C STEDMAN (id: 749)</td>\n",
              "      <td>749</td>\n",
              "      <td>44.0</td>\n",
              "    </tr>\n",
              "    <tr>\n",
              "      <th>1</th>\n",
              "      <td>W HARRIS (id: 4600)</td>\n",
              "      <td>4600</td>\n",
              "      <td>44.0</td>\n",
              "    </tr>\n",
              "    <tr>\n",
              "      <th>2</th>\n",
              "      <td>J RAMSDEN (id: 430)</td>\n",
              "      <td>430</td>\n",
              "      <td>42.0</td>\n",
              "    </tr>\n",
              "    <tr>\n",
              "      <th>3</th>\n",
              "      <td>R BATE (id: 566)</td>\n",
              "      <td>566</td>\n",
              "      <td>41.0</td>\n",
              "    </tr>\n",
              "    <tr>\n",
              "      <th>4</th>\n",
              "      <td>R RUST (id: 728)</td>\n",
              "      <td>728</td>\n",
              "      <td>24.0</td>\n",
              "    </tr>\n",
              "    <tr>\n",
              "      <th>5</th>\n",
              "      <td>W SIMMS (id: 2266)</td>\n",
              "      <td>2266</td>\n",
              "      <td>24.0</td>\n",
              "    </tr>\n",
              "    <tr>\n",
              "      <th>6</th>\n",
              "      <td>W FRODSHAM (id: 786)</td>\n",
              "      <td>786</td>\n",
              "      <td>23.0</td>\n",
              "    </tr>\n",
              "    <tr>\n",
              "      <th>7</th>\n",
              "      <td>G ADAMS (id: 551)</td>\n",
              "      <td>551</td>\n",
              "      <td>23.0</td>\n",
              "    </tr>\n",
              "    <tr>\n",
              "      <th>8</th>\n",
              "      <td>B COLE (id: 166)</td>\n",
              "      <td>166</td>\n",
              "      <td>23.0</td>\n",
              "    </tr>\n",
              "    <tr>\n",
              "      <th>9</th>\n",
              "      <td>J GILBERT (id: 182)</td>\n",
              "      <td>182</td>\n",
              "      <td>23.0</td>\n",
              "    </tr>\n",
              "  </tbody>\n",
              "</table>\n",
              "</div>\n",
              "      <button class=\"colab-df-convert\" onclick=\"convertToInteractive('df-2ae75d49-c220-4552-b46d-b9efde35e030')\"\n",
              "              title=\"Convert this dataframe to an interactive table.\"\n",
              "              style=\"display:none;\">\n",
              "        \n",
              "  <svg xmlns=\"http://www.w3.org/2000/svg\" height=\"24px\"viewBox=\"0 0 24 24\"\n",
              "       width=\"24px\">\n",
              "    <path d=\"M0 0h24v24H0V0z\" fill=\"none\"/>\n",
              "    <path d=\"M18.56 5.44l.94 2.06.94-2.06 2.06-.94-2.06-.94-.94-2.06-.94 2.06-2.06.94zm-11 1L8.5 8.5l.94-2.06 2.06-.94-2.06-.94L8.5 2.5l-.94 2.06-2.06.94zm10 10l.94 2.06.94-2.06 2.06-.94-2.06-.94-.94-2.06-.94 2.06-2.06.94z\"/><path d=\"M17.41 7.96l-1.37-1.37c-.4-.4-.92-.59-1.43-.59-.52 0-1.04.2-1.43.59L10.3 9.45l-7.72 7.72c-.78.78-.78 2.05 0 2.83L4 21.41c.39.39.9.59 1.41.59.51 0 1.02-.2 1.41-.59l7.78-7.78 2.81-2.81c.8-.78.8-2.07 0-2.86zM5.41 20L4 18.59l7.72-7.72 1.47 1.35L5.41 20z\"/>\n",
              "  </svg>\n",
              "      </button>\n",
              "      \n",
              "  <style>\n",
              "    .colab-df-container {\n",
              "      display:flex;\n",
              "      flex-wrap:wrap;\n",
              "      gap: 12px;\n",
              "    }\n",
              "\n",
              "    .colab-df-convert {\n",
              "      background-color: #E8F0FE;\n",
              "      border: none;\n",
              "      border-radius: 50%;\n",
              "      cursor: pointer;\n",
              "      display: none;\n",
              "      fill: #1967D2;\n",
              "      height: 32px;\n",
              "      padding: 0 0 0 0;\n",
              "      width: 32px;\n",
              "    }\n",
              "\n",
              "    .colab-df-convert:hover {\n",
              "      background-color: #E2EBFA;\n",
              "      box-shadow: 0px 1px 2px rgba(60, 64, 67, 0.3), 0px 1px 3px 1px rgba(60, 64, 67, 0.15);\n",
              "      fill: #174EA6;\n",
              "    }\n",
              "\n",
              "    [theme=dark] .colab-df-convert {\n",
              "      background-color: #3B4455;\n",
              "      fill: #D2E3FC;\n",
              "    }\n",
              "\n",
              "    [theme=dark] .colab-df-convert:hover {\n",
              "      background-color: #434B5C;\n",
              "      box-shadow: 0px 1px 3px 1px rgba(0, 0, 0, 0.15);\n",
              "      filter: drop-shadow(0px 1px 2px rgba(0, 0, 0, 0.3));\n",
              "      fill: #FFFFFF;\n",
              "    }\n",
              "  </style>\n",
              "\n",
              "      <script>\n",
              "        const buttonEl =\n",
              "          document.querySelector('#df-2ae75d49-c220-4552-b46d-b9efde35e030 button.colab-df-convert');\n",
              "        buttonEl.style.display =\n",
              "          google.colab.kernel.accessAllowed ? 'block' : 'none';\n",
              "\n",
              "        async function convertToInteractive(key) {\n",
              "          const element = document.querySelector('#df-2ae75d49-c220-4552-b46d-b9efde35e030');\n",
              "          const dataTable =\n",
              "            await google.colab.kernel.invokeFunction('convertToInteractive',\n",
              "                                                     [key], {});\n",
              "          if (!dataTable) return;\n",
              "\n",
              "          const docLinkHtml = 'Like what you see? Visit the ' +\n",
              "            '<a target=\"_blank\" href=https://colab.research.google.com/notebooks/data_table.ipynb>data table notebook</a>'\n",
              "            + ' to learn more about interactive tables.';\n",
              "          element.innerHTML = '';\n",
              "          dataTable['output_type'] = 'display_data';\n",
              "          await google.colab.output.renderOutput(dataTable, element);\n",
              "          const docLink = document.createElement('div');\n",
              "          docLink.innerHTML = docLinkHtml;\n",
              "          element.appendChild(docLink);\n",
              "        }\n",
              "      </script>\n",
              "    </div>\n",
              "  </div>\n",
              "  "
            ]
          },
          "metadata": {},
          "execution_count": 49
        }
      ]
    },
    {
      "cell_type": "code",
      "source": [
        "# Run PageRank and return a list of the top 10 highest-ranking individuals \n",
        "query_string = '''\n",
        "CALL gds.pageRank.stream(\"undirected_graph\")\n",
        "YIELD nodeId, score\n",
        "RETURN gds.util.asNode(nodeId).full_name AS name, gds.util.asNode(nodeId).id AS id, score\n",
        "ORDER BY score DESC\n",
        "'''\n",
        "\n",
        "conn.query(query_string)\n",
        "\n",
        "results = pd.DataFrame([dict(_) for _ in conn.query(query_string)])\n",
        "\n",
        "results.head(10)"
      ],
      "metadata": {
        "id": "cBgjNTroq7tb",
        "colab": {
          "base_uri": "https://localhost:8080/",
          "height": 363
        },
        "outputId": "c56e351a-a631-41eb-e667-abb3e1ebcc8d"
      },
      "execution_count": null,
      "outputs": [
        {
          "output_type": "execute_result",
          "data": {
            "text/plain": [
              "                     name    id     score\n",
              "0     C STEDMAN (id: 749)   749  9.632988\n",
              "1     W HARRIS (id: 4600)  4600  8.885842\n",
              "2        R BATE (id: 566)   566  7.631801\n",
              "3     J RAMSDEN (id: 430)   430  6.932740\n",
              "4      J WHITE (id: 3777)  3777  4.756438\n",
              "5    W NICHOLL (id: 3453)  3453  4.712187\n",
              "6        R RUST (id: 728)   728  4.486798\n",
              "7       W COOK (id: 1094)  1094  4.354304\n",
              "8  A WELLINGTON (id: 325)   325  4.312250\n",
              "9    L CASELLA (id: 4254)  4254  4.063447"
            ],
            "text/html": [
              "\n",
              "  <div id=\"df-5fa3a060-04e3-4199-a228-ad5ebe361f84\">\n",
              "    <div class=\"colab-df-container\">\n",
              "      <div>\n",
              "<style scoped>\n",
              "    .dataframe tbody tr th:only-of-type {\n",
              "        vertical-align: middle;\n",
              "    }\n",
              "\n",
              "    .dataframe tbody tr th {\n",
              "        vertical-align: top;\n",
              "    }\n",
              "\n",
              "    .dataframe thead th {\n",
              "        text-align: right;\n",
              "    }\n",
              "</style>\n",
              "<table border=\"1\" class=\"dataframe\">\n",
              "  <thead>\n",
              "    <tr style=\"text-align: right;\">\n",
              "      <th></th>\n",
              "      <th>name</th>\n",
              "      <th>id</th>\n",
              "      <th>score</th>\n",
              "    </tr>\n",
              "  </thead>\n",
              "  <tbody>\n",
              "    <tr>\n",
              "      <th>0</th>\n",
              "      <td>C STEDMAN (id: 749)</td>\n",
              "      <td>749</td>\n",
              "      <td>9.632988</td>\n",
              "    </tr>\n",
              "    <tr>\n",
              "      <th>1</th>\n",
              "      <td>W HARRIS (id: 4600)</td>\n",
              "      <td>4600</td>\n",
              "      <td>8.885842</td>\n",
              "    </tr>\n",
              "    <tr>\n",
              "      <th>2</th>\n",
              "      <td>R BATE (id: 566)</td>\n",
              "      <td>566</td>\n",
              "      <td>7.631801</td>\n",
              "    </tr>\n",
              "    <tr>\n",
              "      <th>3</th>\n",
              "      <td>J RAMSDEN (id: 430)</td>\n",
              "      <td>430</td>\n",
              "      <td>6.932740</td>\n",
              "    </tr>\n",
              "    <tr>\n",
              "      <th>4</th>\n",
              "      <td>J WHITE (id: 3777)</td>\n",
              "      <td>3777</td>\n",
              "      <td>4.756438</td>\n",
              "    </tr>\n",
              "    <tr>\n",
              "      <th>5</th>\n",
              "      <td>W NICHOLL (id: 3453)</td>\n",
              "      <td>3453</td>\n",
              "      <td>4.712187</td>\n",
              "    </tr>\n",
              "    <tr>\n",
              "      <th>6</th>\n",
              "      <td>R RUST (id: 728)</td>\n",
              "      <td>728</td>\n",
              "      <td>4.486798</td>\n",
              "    </tr>\n",
              "    <tr>\n",
              "      <th>7</th>\n",
              "      <td>W COOK (id: 1094)</td>\n",
              "      <td>1094</td>\n",
              "      <td>4.354304</td>\n",
              "    </tr>\n",
              "    <tr>\n",
              "      <th>8</th>\n",
              "      <td>A WELLINGTON (id: 325)</td>\n",
              "      <td>325</td>\n",
              "      <td>4.312250</td>\n",
              "    </tr>\n",
              "    <tr>\n",
              "      <th>9</th>\n",
              "      <td>L CASELLA (id: 4254)</td>\n",
              "      <td>4254</td>\n",
              "      <td>4.063447</td>\n",
              "    </tr>\n",
              "  </tbody>\n",
              "</table>\n",
              "</div>\n",
              "      <button class=\"colab-df-convert\" onclick=\"convertToInteractive('df-5fa3a060-04e3-4199-a228-ad5ebe361f84')\"\n",
              "              title=\"Convert this dataframe to an interactive table.\"\n",
              "              style=\"display:none;\">\n",
              "        \n",
              "  <svg xmlns=\"http://www.w3.org/2000/svg\" height=\"24px\"viewBox=\"0 0 24 24\"\n",
              "       width=\"24px\">\n",
              "    <path d=\"M0 0h24v24H0V0z\" fill=\"none\"/>\n",
              "    <path d=\"M18.56 5.44l.94 2.06.94-2.06 2.06-.94-2.06-.94-.94-2.06-.94 2.06-2.06.94zm-11 1L8.5 8.5l.94-2.06 2.06-.94-2.06-.94L8.5 2.5l-.94 2.06-2.06.94zm10 10l.94 2.06.94-2.06 2.06-.94-2.06-.94-.94-2.06-.94 2.06-2.06.94z\"/><path d=\"M17.41 7.96l-1.37-1.37c-.4-.4-.92-.59-1.43-.59-.52 0-1.04.2-1.43.59L10.3 9.45l-7.72 7.72c-.78.78-.78 2.05 0 2.83L4 21.41c.39.39.9.59 1.41.59.51 0 1.02-.2 1.41-.59l7.78-7.78 2.81-2.81c.8-.78.8-2.07 0-2.86zM5.41 20L4 18.59l7.72-7.72 1.47 1.35L5.41 20z\"/>\n",
              "  </svg>\n",
              "      </button>\n",
              "      \n",
              "  <style>\n",
              "    .colab-df-container {\n",
              "      display:flex;\n",
              "      flex-wrap:wrap;\n",
              "      gap: 12px;\n",
              "    }\n",
              "\n",
              "    .colab-df-convert {\n",
              "      background-color: #E8F0FE;\n",
              "      border: none;\n",
              "      border-radius: 50%;\n",
              "      cursor: pointer;\n",
              "      display: none;\n",
              "      fill: #1967D2;\n",
              "      height: 32px;\n",
              "      padding: 0 0 0 0;\n",
              "      width: 32px;\n",
              "    }\n",
              "\n",
              "    .colab-df-convert:hover {\n",
              "      background-color: #E2EBFA;\n",
              "      box-shadow: 0px 1px 2px rgba(60, 64, 67, 0.3), 0px 1px 3px 1px rgba(60, 64, 67, 0.15);\n",
              "      fill: #174EA6;\n",
              "    }\n",
              "\n",
              "    [theme=dark] .colab-df-convert {\n",
              "      background-color: #3B4455;\n",
              "      fill: #D2E3FC;\n",
              "    }\n",
              "\n",
              "    [theme=dark] .colab-df-convert:hover {\n",
              "      background-color: #434B5C;\n",
              "      box-shadow: 0px 1px 3px 1px rgba(0, 0, 0, 0.15);\n",
              "      filter: drop-shadow(0px 1px 2px rgba(0, 0, 0, 0.3));\n",
              "      fill: #FFFFFF;\n",
              "    }\n",
              "  </style>\n",
              "\n",
              "      <script>\n",
              "        const buttonEl =\n",
              "          document.querySelector('#df-5fa3a060-04e3-4199-a228-ad5ebe361f84 button.colab-df-convert');\n",
              "        buttonEl.style.display =\n",
              "          google.colab.kernel.accessAllowed ? 'block' : 'none';\n",
              "\n",
              "        async function convertToInteractive(key) {\n",
              "          const element = document.querySelector('#df-5fa3a060-04e3-4199-a228-ad5ebe361f84');\n",
              "          const dataTable =\n",
              "            await google.colab.kernel.invokeFunction('convertToInteractive',\n",
              "                                                     [key], {});\n",
              "          if (!dataTable) return;\n",
              "\n",
              "          const docLinkHtml = 'Like what you see? Visit the ' +\n",
              "            '<a target=\"_blank\" href=https://colab.research.google.com/notebooks/data_table.ipynb>data table notebook</a>'\n",
              "            + ' to learn more about interactive tables.';\n",
              "          element.innerHTML = '';\n",
              "          dataTable['output_type'] = 'display_data';\n",
              "          await google.colab.output.renderOutput(dataTable, element);\n",
              "          const docLink = document.createElement('div');\n",
              "          docLink.innerHTML = docLinkHtml;\n",
              "          element.appendChild(docLink);\n",
              "        }\n",
              "      </script>\n",
              "    </div>\n",
              "  </div>\n",
              "  "
            ]
          },
          "metadata": {},
          "execution_count": 50
        }
      ]
    },
    {
      "cell_type": "markdown",
      "source": [
        "# **7. Run Louvain Algorithm**"
      ],
      "metadata": {
        "id": "QFdlO6bF9SKy"
      }
    },
    {
      "cell_type": "code",
      "source": [
        "# Run the Louvain algorithm\n",
        "query_string = '''\n",
        "CALL gds.louvain.write(\"undirected_graph\", {writeProperty: \"louv\"}) \n",
        "YIELD communityCount, modularity, modularities\n",
        "'''\n",
        "\n",
        "conn.query(query_string)"
      ],
      "metadata": {
        "id": "2aDusjfrZjll",
        "colab": {
          "base_uri": "https://localhost:8080/"
        },
        "outputId": "cd1ae2a2-4d27-4002-d522-e3744d61a523"
      },
      "execution_count": null,
      "outputs": [
        {
          "output_type": "execute_result",
          "data": {
            "text/plain": [
              "[<Record communityCount=1097 modularity=0.9583052689193612 modularities=[0.7990324793829534, 0.933295348927071, 0.9564826050073759, 0.9583052689193612]>]"
            ]
          },
          "metadata": {},
          "execution_count": 51
        }
      ]
    },
    {
      "cell_type": "markdown",
      "source": [
        "# **8. Distribution of Communities by Size**"
      ],
      "metadata": {
        "id": "XtNgskddPtYn"
      }
    },
    {
      "cell_type": "code",
      "source": [
        "# Calculate the total number of communities generated by Louvain \n",
        "total = len(results[\"community_size\"])\n",
        "print(total)"
      ],
      "metadata": {
        "colab": {
          "base_uri": "https://localhost:8080/"
        },
        "id": "2oqv7BTYLKV3",
        "outputId": "2ea4a97e-2efa-487d-b0bf-9e8f13747967"
      },
      "execution_count": null,
      "outputs": [
        {
          "output_type": "stream",
          "name": "stdout",
          "text": [
            "1097\n"
          ]
        }
      ]
    },
    {
      "cell_type": "code",
      "source": [
        "# Generate a table of Louvain communities, arranged in descending order of size\n",
        "# Top 10 largest communities shown here \n",
        "\n",
        "query_string = '''\n",
        "MATCH (p:Person)\n",
        "RETURN p.louv as community,\n",
        "count(DISTINCT p) as community_size\n",
        "ORDER BY community_size DESC\n",
        "'''\n",
        "\n",
        "conn.query(query_string)\n",
        "\n",
        "results = pd.DataFrame([dict(_) for _ in conn.query(query_string)])\n",
        "\n",
        "results.head(10)"
      ],
      "metadata": {
        "id": "crP9fqtUZjwZ",
        "colab": {
          "base_uri": "https://localhost:8080/",
          "height": 363
        },
        "outputId": "0c0d94b1-072d-4694-e97c-ecc330445e3a"
      },
      "execution_count": null,
      "outputs": [
        {
          "output_type": "execute_result",
          "data": {
            "text/plain": [
              "   community  community_size\n",
              "0       2609             137\n",
              "1       2535             131\n",
              "2        619             128\n",
              "3        202             116\n",
              "4       1491             114\n",
              "5       3009             109\n",
              "6       2349             102\n",
              "7        372             101\n",
              "8        974             100\n",
              "9       4409              98"
            ],
            "text/html": [
              "\n",
              "  <div id=\"df-ffabd99e-bfc6-4c58-a7c6-06ee4d9eb643\">\n",
              "    <div class=\"colab-df-container\">\n",
              "      <div>\n",
              "<style scoped>\n",
              "    .dataframe tbody tr th:only-of-type {\n",
              "        vertical-align: middle;\n",
              "    }\n",
              "\n",
              "    .dataframe tbody tr th {\n",
              "        vertical-align: top;\n",
              "    }\n",
              "\n",
              "    .dataframe thead th {\n",
              "        text-align: right;\n",
              "    }\n",
              "</style>\n",
              "<table border=\"1\" class=\"dataframe\">\n",
              "  <thead>\n",
              "    <tr style=\"text-align: right;\">\n",
              "      <th></th>\n",
              "      <th>community</th>\n",
              "      <th>community_size</th>\n",
              "    </tr>\n",
              "  </thead>\n",
              "  <tbody>\n",
              "    <tr>\n",
              "      <th>0</th>\n",
              "      <td>2609</td>\n",
              "      <td>137</td>\n",
              "    </tr>\n",
              "    <tr>\n",
              "      <th>1</th>\n",
              "      <td>2535</td>\n",
              "      <td>131</td>\n",
              "    </tr>\n",
              "    <tr>\n",
              "      <th>2</th>\n",
              "      <td>619</td>\n",
              "      <td>128</td>\n",
              "    </tr>\n",
              "    <tr>\n",
              "      <th>3</th>\n",
              "      <td>202</td>\n",
              "      <td>116</td>\n",
              "    </tr>\n",
              "    <tr>\n",
              "      <th>4</th>\n",
              "      <td>1491</td>\n",
              "      <td>114</td>\n",
              "    </tr>\n",
              "    <tr>\n",
              "      <th>5</th>\n",
              "      <td>3009</td>\n",
              "      <td>109</td>\n",
              "    </tr>\n",
              "    <tr>\n",
              "      <th>6</th>\n",
              "      <td>2349</td>\n",
              "      <td>102</td>\n",
              "    </tr>\n",
              "    <tr>\n",
              "      <th>7</th>\n",
              "      <td>372</td>\n",
              "      <td>101</td>\n",
              "    </tr>\n",
              "    <tr>\n",
              "      <th>8</th>\n",
              "      <td>974</td>\n",
              "      <td>100</td>\n",
              "    </tr>\n",
              "    <tr>\n",
              "      <th>9</th>\n",
              "      <td>4409</td>\n",
              "      <td>98</td>\n",
              "    </tr>\n",
              "  </tbody>\n",
              "</table>\n",
              "</div>\n",
              "      <button class=\"colab-df-convert\" onclick=\"convertToInteractive('df-ffabd99e-bfc6-4c58-a7c6-06ee4d9eb643')\"\n",
              "              title=\"Convert this dataframe to an interactive table.\"\n",
              "              style=\"display:none;\">\n",
              "        \n",
              "  <svg xmlns=\"http://www.w3.org/2000/svg\" height=\"24px\"viewBox=\"0 0 24 24\"\n",
              "       width=\"24px\">\n",
              "    <path d=\"M0 0h24v24H0V0z\" fill=\"none\"/>\n",
              "    <path d=\"M18.56 5.44l.94 2.06.94-2.06 2.06-.94-2.06-.94-.94-2.06-.94 2.06-2.06.94zm-11 1L8.5 8.5l.94-2.06 2.06-.94-2.06-.94L8.5 2.5l-.94 2.06-2.06.94zm10 10l.94 2.06.94-2.06 2.06-.94-2.06-.94-.94-2.06-.94 2.06-2.06.94z\"/><path d=\"M17.41 7.96l-1.37-1.37c-.4-.4-.92-.59-1.43-.59-.52 0-1.04.2-1.43.59L10.3 9.45l-7.72 7.72c-.78.78-.78 2.05 0 2.83L4 21.41c.39.39.9.59 1.41.59.51 0 1.02-.2 1.41-.59l7.78-7.78 2.81-2.81c.8-.78.8-2.07 0-2.86zM5.41 20L4 18.59l7.72-7.72 1.47 1.35L5.41 20z\"/>\n",
              "  </svg>\n",
              "      </button>\n",
              "      \n",
              "  <style>\n",
              "    .colab-df-container {\n",
              "      display:flex;\n",
              "      flex-wrap:wrap;\n",
              "      gap: 12px;\n",
              "    }\n",
              "\n",
              "    .colab-df-convert {\n",
              "      background-color: #E8F0FE;\n",
              "      border: none;\n",
              "      border-radius: 50%;\n",
              "      cursor: pointer;\n",
              "      display: none;\n",
              "      fill: #1967D2;\n",
              "      height: 32px;\n",
              "      padding: 0 0 0 0;\n",
              "      width: 32px;\n",
              "    }\n",
              "\n",
              "    .colab-df-convert:hover {\n",
              "      background-color: #E2EBFA;\n",
              "      box-shadow: 0px 1px 2px rgba(60, 64, 67, 0.3), 0px 1px 3px 1px rgba(60, 64, 67, 0.15);\n",
              "      fill: #174EA6;\n",
              "    }\n",
              "\n",
              "    [theme=dark] .colab-df-convert {\n",
              "      background-color: #3B4455;\n",
              "      fill: #D2E3FC;\n",
              "    }\n",
              "\n",
              "    [theme=dark] .colab-df-convert:hover {\n",
              "      background-color: #434B5C;\n",
              "      box-shadow: 0px 1px 3px 1px rgba(0, 0, 0, 0.15);\n",
              "      filter: drop-shadow(0px 1px 2px rgba(0, 0, 0, 0.3));\n",
              "      fill: #FFFFFF;\n",
              "    }\n",
              "  </style>\n",
              "\n",
              "      <script>\n",
              "        const buttonEl =\n",
              "          document.querySelector('#df-ffabd99e-bfc6-4c58-a7c6-06ee4d9eb643 button.colab-df-convert');\n",
              "        buttonEl.style.display =\n",
              "          google.colab.kernel.accessAllowed ? 'block' : 'none';\n",
              "\n",
              "        async function convertToInteractive(key) {\n",
              "          const element = document.querySelector('#df-ffabd99e-bfc6-4c58-a7c6-06ee4d9eb643');\n",
              "          const dataTable =\n",
              "            await google.colab.kernel.invokeFunction('convertToInteractive',\n",
              "                                                     [key], {});\n",
              "          if (!dataTable) return;\n",
              "\n",
              "          const docLinkHtml = 'Like what you see? Visit the ' +\n",
              "            '<a target=\"_blank\" href=https://colab.research.google.com/notebooks/data_table.ipynb>data table notebook</a>'\n",
              "            + ' to learn more about interactive tables.';\n",
              "          element.innerHTML = '';\n",
              "          dataTable['output_type'] = 'display_data';\n",
              "          await google.colab.output.renderOutput(dataTable, element);\n",
              "          const docLink = document.createElement('div');\n",
              "          docLink.innerHTML = docLinkHtml;\n",
              "          element.appendChild(docLink);\n",
              "        }\n",
              "      </script>\n",
              "    </div>\n",
              "  </div>\n",
              "  "
            ]
          },
          "metadata": {},
          "execution_count": 62
        }
      ]
    },
    {
      "cell_type": "code",
      "source": [
        "# Distribution of community size  \n",
        "plt.figure(figsize=(10,5))\n",
        "chart = sns.scatterplot(data = results, \n",
        "                      x = \"community\",\n",
        "                      y = \"community_size\",\n",
        "                      color = \"#55b8d1\")\n",
        "#chart.set_xticklabels(chart.get_xticklabels(), rotation=90)\n",
        "chart.set_xlabel(\"Community ID\", fontsize = 11)\n",
        "chart.set_ylabel(\"Community Size\", fontsize = 11)\n",
        "plt.savefig(\"comm_size_scatter.svg\")"
      ],
      "metadata": {
        "colab": {
          "base_uri": "https://localhost:8080/",
          "height": 334
        },
        "id": "Cs6Rz2ypTOgE",
        "outputId": "1b877fa4-dac3-42ad-c2e2-edf6a9894512"
      },
      "execution_count": null,
      "outputs": [
        {
          "output_type": "display_data",
          "data": {
            "text/plain": [
              "<Figure size 720x360 with 1 Axes>"
            ],
            "image/png": "[encoded data removed]"
          },
          "metadata": {
            "needs_background": "light"
          }
        }
      ]
    },
    {
      "cell_type": "code",
      "source": [
        "# Calulate proportion of communities with 5 or fewer members\n",
        "# Use this with the scatter plot to illustrate the large proportion of small communities \n",
        "under_5 = sum(results[\"community_size\"] <= 5)\n",
        "total = len(results[\"community_size\"])\n",
        "prop_under_5 = under_5/total\n",
        "print(prop_under_5)\n",
        "print(under_5)"
      ],
      "metadata": {
        "colab": {
          "base_uri": "https://localhost:8080/"
        },
        "id": "HZmbQVuFXSg7",
        "outputId": "6db181a1-1789-4999-9c56-723ca5c3b786"
      },
      "execution_count": null,
      "outputs": [
        {
          "output_type": "stream",
          "name": "stdout",
          "text": [
            "0.9006381039197813\n",
            "988\n"
          ]
        }
      ]
    },
    {
      "cell_type": "code",
      "source": [
        "# Calulate proportion of communities with 10 or fewer members\n",
        "# Use this with the scatter plot to illustrate the large proportion of small communities \n",
        "under_10 = sum(results[\"community_size\"] <= 10)\n",
        "total = len(results[\"community_size\"])\n",
        "prop_under_10 = under_10/total\n",
        "print(prop_under_10)\n",
        "print(under_10)"
      ],
      "metadata": {
        "colab": {
          "base_uri": "https://localhost:8080/"
        },
        "id": "v3apAXU7KTeF",
        "outputId": "d0bf2b77-b4a5-4eb0-f056-df0e732be2f3"
      },
      "execution_count": null,
      "outputs": [
        {
          "output_type": "stream",
          "name": "stdout",
          "text": [
            "0.95077484047402\n",
            "1043\n"
          ]
        }
      ]
    },
    {
      "cell_type": "code",
      "source": [
        "# Produce histogram of community size on log scale\n",
        "plt.figure(figsize=(10,5))\n",
        "chart = sns.histplot(data = results, \n",
        "                     x = \"community_size\", \n",
        "                     bins = 75, \n",
        "                     color = \"#55b8d1\",\n",
        "                     log_scale = (False, True))\n",
        "chart.set_xlabel(\"Community Size\", fontsize = 11)\n",
        "chart.set_ylabel(\"Count\", fontsize = 11)\n",
        "chart.xaxis.set_major_locator(ticker.MultipleLocator(10))\n",
        "chart.xaxis.set_major_formatter(ticker.ScalarFormatter())\n",
        "chart.set_xlim([0,180])\n",
        "plt.savefig(\"comm_size_hist.svg\")"
      ],
      "metadata": {
        "colab": {
          "base_uri": "https://localhost:8080/",
          "height": 334
        },
        "id": "NQvcFCKBX9DK",
        "outputId": "abd11ae9-025a-4cfe-d6fe-679118775aeb"
      },
      "execution_count": null,
      "outputs": [
        {
          "output_type": "display_data",
          "data": {
            "text/plain": [
              "<Figure size 720x360 with 1 Axes>"
            ],
            "image/png": "[encoded data removed]"
          },
          "metadata": {
            "needs_background": "light"
          }
        }
      ]
    },
    {
      "cell_type": "markdown",
      "source": [
        "# **9. Community Profiles**"
      ],
      "metadata": {
        "id": "kdhb769xL3v8"
      }
    },
    {
      "cell_type": "code",
      "source": [
        "# Louvain community profile by years of activity\n",
        "\n",
        "query_string = '''\n",
        "MATCH (p:Person)-[:WAS_ACTIVE_IN]->(l:Location) with p, p.year_from as year_from, p.year_to as year_to\n",
        "RETURN p.louv as community,\n",
        "       count(DISTINCT p) as community_size,\n",
        "       min(year_from) as earliest_commencement_date,\n",
        "       max(year_from) as latest_commencement_date,\n",
        "       max(year_to) as latest_cessation_date \n",
        "ORDER BY community_size DESC\n",
        "'''\n",
        "\n",
        "conn.query(query_string)\n",
        "\n",
        "results = pd.DataFrame([dict(_) for _ in conn.query(query_string)])\n",
        "\n",
        "results[\"span_years\"] = results[\"latest_cessation_date\"] - results[\"earliest_commencement_date\"]\n",
        "\n",
        "results_20 = results.head(20).sort_values(by = [\"span_years\"], ascending=False)\n",
        "\n",
        "results_20"
      ],
      "metadata": {
        "colab": {
          "base_uri": "https://localhost:8080/",
          "height": 677
        },
        "id": "fwofi5KEjrH9",
        "outputId": "182e1a01-c60b-4c6f-93d4-eceb5b5f86d8"
      },
      "execution_count": null,
      "outputs": [
        {
          "output_type": "execute_result",
          "data": {
            "text/plain": [
              "    community  community_size  earliest_commencement_date  \\\n",
              "17       2382              75                        1667   \n",
              "15        710              79                        1576   \n",
              "12       3590              91                        1637   \n",
              "0        2609             137                        1633   \n",
              "2         619             127                        1667   \n",
              "9         974              97                        1620   \n",
              "3         202             112                        1647   \n",
              "1        2535             131                        1729   \n",
              "16       3053              77                        1710   \n",
              "14        302              80                        1738   \n",
              "10        956              95                        1659   \n",
              "11        120              92                        1626   \n",
              "6        2349             102                        1676   \n",
              "5        3009             109                        1743   \n",
              "18       2347              74                        1681   \n",
              "7         372              99                        1671   \n",
              "19        387              72                        1679   \n",
              "4        1491             112                        1778   \n",
              "13       1835              81                        1753   \n",
              "8        4409              98                        1737   \n",
              "\n",
              "    latest_commencement_date  latest_cessation_date  span_years  \n",
              "17                      1930                   2004         337  \n",
              "15                      1850                   1900         324  \n",
              "12                      1907                   1946         309  \n",
              "0                       1872                   1940         307  \n",
              "2                       1913                   1960         293  \n",
              "9                       1873                   1907         287  \n",
              "3                       1860                   1915         268  \n",
              "1                       1932                   1991         262  \n",
              "16                      1960                   1960         250  \n",
              "14                      1910                   1988         250  \n",
              "10                      1870                   1903         244  \n",
              "11                      1858                   1867         241  \n",
              "6                       1895                   1914         238  \n",
              "5                       1897                   1976         233  \n",
              "18                      1901                   1914         233  \n",
              "7                       1885                   1895         224  \n",
              "19                      1880                   1901         222  \n",
              "4                       1953                   1999         221  \n",
              "13                      1904                   1952         199  \n",
              "8                       1880                   1914         177  "
            ],
            "text/html": [
              "\n",
              "  <div id=\"df-d0b7ba34-72c1-483d-8eef-11053e59ebf7\">\n",
              "    <div class=\"colab-df-container\">\n",
              "      <div>\n",
              "<style scoped>\n",
              "    .dataframe tbody tr th:only-of-type {\n",
              "        vertical-align: middle;\n",
              "    }\n",
              "\n",
              "    .dataframe tbody tr th {\n",
              "        vertical-align: top;\n",
              "    }\n",
              "\n",
              "    .dataframe thead th {\n",
              "        text-align: right;\n",
              "    }\n",
              "</style>\n",
              "<table border=\"1\" class=\"dataframe\">\n",
              "  <thead>\n",
              "    <tr style=\"text-align: right;\">\n",
              "      <th></th>\n",
              "      <th>community</th>\n",
              "      <th>community_size</th>\n",
              "      <th>earliest_commencement_date</th>\n",
              "      <th>latest_commencement_date</th>\n",
              "      <th>latest_cessation_date</th>\n",
              "      <th>span_years</th>\n",
              "    </tr>\n",
              "  </thead>\n",
              "  <tbody>\n",
              "    <tr>\n",
              "      <th>17</th>\n",
              "      <td>2382</td>\n",
              "      <td>75</td>\n",
              "      <td>1667</td>\n",
              "      <td>1930</td>\n",
              "      <td>2004</td>\n",
              "      <td>337</td>\n",
              "    </tr>\n",
              "    <tr>\n",
              "      <th>15</th>\n",
              "      <td>710</td>\n",
              "      <td>79</td>\n",
              "      <td>1576</td>\n",
              "      <td>1850</td>\n",
              "      <td>1900</td>\n",
              "      <td>324</td>\n",
              "    </tr>\n",
              "    <tr>\n",
              "      <th>12</th>\n",
              "      <td>3590</td>\n",
              "      <td>91</td>\n",
              "      <td>1637</td>\n",
              "      <td>1907</td>\n",
              "      <td>1946</td>\n",
              "      <td>309</td>\n",
              "    </tr>\n",
              "    <tr>\n",
              "      <th>0</th>\n",
              "      <td>2609</td>\n",
              "      <td>137</td>\n",
              "      <td>1633</td>\n",
              "      <td>1872</td>\n",
              "      <td>1940</td>\n",
              "      <td>307</td>\n",
              "    </tr>\n",
              "    <tr>\n",
              "      <th>2</th>\n",
              "      <td>619</td>\n",
              "      <td>127</td>\n",
              "      <td>1667</td>\n",
              "      <td>1913</td>\n",
              "      <td>1960</td>\n",
              "      <td>293</td>\n",
              "    </tr>\n",
              "    <tr>\n",
              "      <th>9</th>\n",
              "      <td>974</td>\n",
              "      <td>97</td>\n",
              "      <td>1620</td>\n",
              "      <td>1873</td>\n",
              "      <td>1907</td>\n",
              "      <td>287</td>\n",
              "    </tr>\n",
              "    <tr>\n",
              "      <th>3</th>\n",
              "      <td>202</td>\n",
              "      <td>112</td>\n",
              "      <td>1647</td>\n",
              "      <td>1860</td>\n",
              "      <td>1915</td>\n",
              "      <td>268</td>\n",
              "    </tr>\n",
              "    <tr>\n",
              "      <th>1</th>\n",
              "      <td>2535</td>\n",
              "      <td>131</td>\n",
              "      <td>1729</td>\n",
              "      <td>1932</td>\n",
              "      <td>1991</td>\n",
              "      <td>262</td>\n",
              "    </tr>\n",
              "    <tr>\n",
              "      <th>16</th>\n",
              "      <td>3053</td>\n",
              "      <td>77</td>\n",
              "      <td>1710</td>\n",
              "      <td>1960</td>\n",
              "      <td>1960</td>\n",
              "      <td>250</td>\n",
              "    </tr>\n",
              "    <tr>\n",
              "      <th>14</th>\n",
              "      <td>302</td>\n",
              "      <td>80</td>\n",
              "      <td>1738</td>\n",
              "      <td>1910</td>\n",
              "      <td>1988</td>\n",
              "      <td>250</td>\n",
              "    </tr>\n",
              "    <tr>\n",
              "      <th>10</th>\n",
              "      <td>956</td>\n",
              "      <td>95</td>\n",
              "      <td>1659</td>\n",
              "      <td>1870</td>\n",
              "      <td>1903</td>\n",
              "      <td>244</td>\n",
              "    </tr>\n",
              "    <tr>\n",
              "      <th>11</th>\n",
              "      <td>120</td>\n",
              "      <td>92</td>\n",
              "      <td>1626</td>\n",
              "      <td>1858</td>\n",
              "      <td>1867</td>\n",
              "      <td>241</td>\n",
              "    </tr>\n",
              "    <tr>\n",
              "      <th>6</th>\n",
              "      <td>2349</td>\n",
              "      <td>102</td>\n",
              "      <td>1676</td>\n",
              "      <td>1895</td>\n",
              "      <td>1914</td>\n",
              "      <td>238</td>\n",
              "    </tr>\n",
              "    <tr>\n",
              "      <th>5</th>\n",
              "      <td>3009</td>\n",
              "      <td>109</td>\n",
              "      <td>1743</td>\n",
              "      <td>1897</td>\n",
              "      <td>1976</td>\n",
              "      <td>233</td>\n",
              "    </tr>\n",
              "    <tr>\n",
              "      <th>18</th>\n",
              "      <td>2347</td>\n",
              "      <td>74</td>\n",
              "      <td>1681</td>\n",
              "      <td>1901</td>\n",
              "      <td>1914</td>\n",
              "      <td>233</td>\n",
              "    </tr>\n",
              "    <tr>\n",
              "      <th>7</th>\n",
              "      <td>372</td>\n",
              "      <td>99</td>\n",
              "      <td>1671</td>\n",
              "      <td>1885</td>\n",
              "      <td>1895</td>\n",
              "      <td>224</td>\n",
              "    </tr>\n",
              "    <tr>\n",
              "      <th>19</th>\n",
              "      <td>387</td>\n",
              "      <td>72</td>\n",
              "      <td>1679</td>\n",
              "      <td>1880</td>\n",
              "      <td>1901</td>\n",
              "      <td>222</td>\n",
              "    </tr>\n",
              "    <tr>\n",
              "      <th>4</th>\n",
              "      <td>1491</td>\n",
              "      <td>112</td>\n",
              "      <td>1778</td>\n",
              "      <td>1953</td>\n",
              "      <td>1999</td>\n",
              "      <td>221</td>\n",
              "    </tr>\n",
              "    <tr>\n",
              "      <th>13</th>\n",
              "      <td>1835</td>\n",
              "      <td>81</td>\n",
              "      <td>1753</td>\n",
              "      <td>1904</td>\n",
              "      <td>1952</td>\n",
              "      <td>199</td>\n",
              "    </tr>\n",
              "    <tr>\n",
              "      <th>8</th>\n",
              "      <td>4409</td>\n",
              "      <td>98</td>\n",
              "      <td>1737</td>\n",
              "      <td>1880</td>\n",
              "      <td>1914</td>\n",
              "      <td>177</td>\n",
              "    </tr>\n",
              "  </tbody>\n",
              "</table>\n",
              "</div>\n",
              "      <button class=\"colab-df-convert\" onclick=\"convertToInteractive('df-d0b7ba34-72c1-483d-8eef-11053e59ebf7')\"\n",
              "              title=\"Convert this dataframe to an interactive table.\"\n",
              "              style=\"display:none;\">\n",
              "        \n",
              "  <svg xmlns=\"http://www.w3.org/2000/svg\" height=\"24px\"viewBox=\"0 0 24 24\"\n",
              "       width=\"24px\">\n",
              "    <path d=\"M0 0h24v24H0V0z\" fill=\"none\"/>\n",
              "    <path d=\"M18.56 5.44l.94 2.06.94-2.06 2.06-.94-2.06-.94-.94-2.06-.94 2.06-2.06.94zm-11 1L8.5 8.5l.94-2.06 2.06-.94-2.06-.94L8.5 2.5l-.94 2.06-2.06.94zm10 10l.94 2.06.94-2.06 2.06-.94-2.06-.94-.94-2.06-.94 2.06-2.06.94z\"/><path d=\"M17.41 7.96l-1.37-1.37c-.4-.4-.92-.59-1.43-.59-.52 0-1.04.2-1.43.59L10.3 9.45l-7.72 7.72c-.78.78-.78 2.05 0 2.83L4 21.41c.39.39.9.59 1.41.59.51 0 1.02-.2 1.41-.59l7.78-7.78 2.81-2.81c.8-.78.8-2.07 0-2.86zM5.41 20L4 18.59l7.72-7.72 1.47 1.35L5.41 20z\"/>\n",
              "  </svg>\n",
              "      </button>\n",
              "      \n",
              "  <style>\n",
              "    .colab-df-container {\n",
              "      display:flex;\n",
              "      flex-wrap:wrap;\n",
              "      gap: 12px;\n",
              "    }\n",
              "\n",
              "    .colab-df-convert {\n",
              "      background-color: #E8F0FE;\n",
              "      border: none;\n",
              "      border-radius: 50%;\n",
              "      cursor: pointer;\n",
              "      display: none;\n",
              "      fill: #1967D2;\n",
              "      height: 32px;\n",
              "      padding: 0 0 0 0;\n",
              "      width: 32px;\n",
              "    }\n",
              "\n",
              "    .colab-df-convert:hover {\n",
              "      background-color: #E2EBFA;\n",
              "      box-shadow: 0px 1px 2px rgba(60, 64, 67, 0.3), 0px 1px 3px 1px rgba(60, 64, 67, 0.15);\n",
              "      fill: #174EA6;\n",
              "    }\n",
              "\n",
              "    [theme=dark] .colab-df-convert {\n",
              "      background-color: #3B4455;\n",
              "      fill: #D2E3FC;\n",
              "    }\n",
              "\n",
              "    [theme=dark] .colab-df-convert:hover {\n",
              "      background-color: #434B5C;\n",
              "      box-shadow: 0px 1px 3px 1px rgba(0, 0, 0, 0.15);\n",
              "      filter: drop-shadow(0px 1px 2px rgba(0, 0, 0, 0.3));\n",
              "      fill: #FFFFFF;\n",
              "    }\n",
              "  </style>\n",
              "\n",
              "      <script>\n",
              "        const buttonEl =\n",
              "          document.querySelector('#df-d0b7ba34-72c1-483d-8eef-11053e59ebf7 button.colab-df-convert');\n",
              "        buttonEl.style.display =\n",
              "          google.colab.kernel.accessAllowed ? 'block' : 'none';\n",
              "\n",
              "        async function convertToInteractive(key) {\n",
              "          const element = document.querySelector('#df-d0b7ba34-72c1-483d-8eef-11053e59ebf7');\n",
              "          const dataTable =\n",
              "            await google.colab.kernel.invokeFunction('convertToInteractive',\n",
              "                                                     [key], {});\n",
              "          if (!dataTable) return;\n",
              "\n",
              "          const docLinkHtml = 'Like what you see? Visit the ' +\n",
              "            '<a target=\"_blank\" href=https://colab.research.google.com/notebooks/data_table.ipynb>data table notebook</a>'\n",
              "            + ' to learn more about interactive tables.';\n",
              "          element.innerHTML = '';\n",
              "          dataTable['output_type'] = 'display_data';\n",
              "          await google.colab.output.renderOutput(dataTable, element);\n",
              "          const docLink = document.createElement('div');\n",
              "          docLink.innerHTML = docLinkHtml;\n",
              "          element.appendChild(docLink);\n",
              "        }\n",
              "      </script>\n",
              "    </div>\n",
              "  </div>\n",
              "  "
            ]
          },
          "metadata": {},
          "execution_count": 69
        }
      ]
    },
    {
      "cell_type": "code",
      "source": [
        "# Distribution of time span of activity in years by Louvain community for the 20 communities with the longest duration   \n",
        "plt.figure(figsize=(10,5))\n",
        "chart = sns.barplot(data = results_20, \n",
        "                      x = \"community\",\n",
        "                      y = \"span_years\",\n",
        "                      order = results_20.sort_values(\"span_years\", ascending = False).community,\n",
        "                      color = \"#55b8d1\")\n",
        "chart.set_xticklabels(chart.get_xticklabels(), rotation=90)\n",
        "chart.set_xlabel(\"Louvain Community Id\", fontsize = 11)\n",
        "chart.set_ylabel(\"Activity Span (years)\", fontsize = 11)\n",
        "plt.savefig(\"comm_duration.svg\")"
      ],
      "metadata": {
        "colab": {
          "base_uri": "https://localhost:8080/",
          "height": 350
        },
        "id": "0OVyD2pWj-KS",
        "outputId": "73d27269-1f83-4399-bb4c-f6158acfc53a"
      },
      "execution_count": null,
      "outputs": [
        {
          "output_type": "display_data",
          "data": {
            "text/plain": [
              "<Figure size 720x360 with 1 Axes>"
            ],
            "image/png": "[encoded data removed]"
          },
          "metadata": {
            "needs_background": "light"
          }
        }
      ]
    },
    {
      "cell_type": "code",
      "source": [
        "# Top 10 Louvain community profiles by number of makers\n",
        "# Number of high and low level locations, guild memberships and numbers of products made and sold is summarised for each community\n",
        "\n",
        "query_string = '''\n",
        "MATCH (p:Person)\n",
        "OPTIONAL MATCH (p:Person)-[:HAD_GEO_LOCATION]->(st:Street)\n",
        "OPTIONAL MATCH (p:Person)-[:WAS_ACTIVE_IN]->(l:Location)\n",
        "OPTIONAL MATCH (p:Person)-[:MEMBER_OF]->(g:Guild)\n",
        "OPTIONAL MATCH (p:Person)-[r:PRIMARY_ROLE]->(primary)\n",
        "OPTIONAL MATCH (p:Person)-[o:OTHER_TRADE]->(other)\n",
        "OPTIONAL MATCH (p:Person)-[m:MADE]->(maker) \n",
        "OPTIONAL MATCH (p:Person)-[s:SOLD]->(seller) \n",
        "RETURN p.louv as community,\n",
        "       count(DISTINCT p) as community_size,\n",
        "       count(DISTINCT st.coord_string) as number_of_streets,\n",
        "       count(DISTINCT l.location) as number_of_towns,\n",
        "       count(DISTINCT g.name) as number_of_guilds,\n",
        "       count(DISTINCT primary.description) as number_of_primary_roles,\n",
        "       count(DISTINCT other.description) as number_of_other_trades,\n",
        "       count(DISTINCT maker.product) as number_of_products_made,\n",
        "       count(DISTINCT seller.product) as number_of_products_sold\n",
        "ORDER BY community_size DESC\n",
        "'''\n",
        "\n",
        "conn.query(query_string)\n",
        "\n",
        "results = pd.DataFrame([dict(_) for _ in conn.query(query_string)])\n",
        "\n",
        "results.head(10)\n"
      ],
      "metadata": {
        "colab": {
          "base_uri": "https://localhost:8080/",
          "height": 427
        },
        "id": "ui9rIenWeZje",
        "outputId": "61f93c52-8194-4783-a057-4a3421e397df"
      },
      "execution_count": null,
      "outputs": [
        {
          "output_type": "execute_result",
          "data": {
            "text/plain": [
              "   community  community_size  number_of_streets  number_of_towns  \\\n",
              "0       2609             137                 46               10   \n",
              "1       2535             131                 33               28   \n",
              "2        619             128                 58               22   \n",
              "3        202             116                 39               21   \n",
              "4       1491             114                 53               31   \n",
              "5       3009             109                 56               15   \n",
              "6       2349             102                 44               12   \n",
              "7        372             101                 35               23   \n",
              "8        974             100                 64               17   \n",
              "9       4409              98                 42               15   \n",
              "\n",
              "   number_of_guilds  number_of_primary_roles  number_of_other_trades  \\\n",
              "0                12                        7                       4   \n",
              "1                 2                       13                       7   \n",
              "2                 9                        8                       5   \n",
              "3                12                       13                      10   \n",
              "4                 5                       10                       1   \n",
              "5                 7                       11                       2   \n",
              "6                 5                        1                       3   \n",
              "7                 7                        5                       2   \n",
              "8                 6                        4                       3   \n",
              "9                 5                        2                       2   \n",
              "\n",
              "   number_of_products_made  number_of_products_sold  \n",
              "0                       21                        0  \n",
              "1                       25                        2  \n",
              "2                       20                        2  \n",
              "3                       11                        4  \n",
              "4                       24                        6  \n",
              "5                       12                        2  \n",
              "6                        9                        0  \n",
              "7                       11                        0  \n",
              "8                        7                        2  \n",
              "9                       14                        0  "
            ],
            "text/html": [
              "\n",
              "  <div id=\"df-03ca09f3-0d86-4cd5-a989-bdb386bad1b7\">\n",
              "    <div class=\"colab-df-container\">\n",
              "      <div>\n",
              "<style scoped>\n",
              "    .dataframe tbody tr th:only-of-type {\n",
              "        vertical-align: middle;\n",
              "    }\n",
              "\n",
              "    .dataframe tbody tr th {\n",
              "        vertical-align: top;\n",
              "    }\n",
              "\n",
              "    .dataframe thead th {\n",
              "        text-align: right;\n",
              "    }\n",
              "</style>\n",
              "<table border=\"1\" class=\"dataframe\">\n",
              "  <thead>\n",
              "    <tr style=\"text-align: right;\">\n",
              "      <th></th>\n",
              "      <th>community</th>\n",
              "      <th>community_size</th>\n",
              "      <th>number_of_streets</th>\n",
              "      <th>number_of_towns</th>\n",
              "      <th>number_of_guilds</th>\n",
              "      <th>number_of_primary_roles</th>\n",
              "      <th>number_of_other_trades</th>\n",
              "      <th>number_of_products_made</th>\n",
              "      <th>number_of_products_sold</th>\n",
              "    </tr>\n",
              "  </thead>\n",
              "  <tbody>\n",
              "    <tr>\n",
              "      <th>0</th>\n",
              "      <td>2609</td>\n",
              "      <td>137</td>\n",
              "      <td>46</td>\n",
              "      <td>10</td>\n",
              "      <td>12</td>\n",
              "      <td>7</td>\n",
              "      <td>4</td>\n",
              "      <td>21</td>\n",
              "      <td>0</td>\n",
              "    </tr>\n",
              "    <tr>\n",
              "      <th>1</th>\n",
              "      <td>2535</td>\n",
              "      <td>131</td>\n",
              "      <td>33</td>\n",
              "      <td>28</td>\n",
              "      <td>2</td>\n",
              "      <td>13</td>\n",
              "      <td>7</td>\n",
              "      <td>25</td>\n",
              "      <td>2</td>\n",
              "    </tr>\n",
              "    <tr>\n",
              "      <th>2</th>\n",
              "      <td>619</td>\n",
              "      <td>128</td>\n",
              "      <td>58</td>\n",
              "      <td>22</td>\n",
              "      <td>9</td>\n",
              "      <td>8</td>\n",
              "      <td>5</td>\n",
              "      <td>20</td>\n",
              "      <td>2</td>\n",
              "    </tr>\n",
              "    <tr>\n",
              "      <th>3</th>\n",
              "      <td>202</td>\n",
              "      <td>116</td>\n",
              "      <td>39</td>\n",
              "      <td>21</td>\n",
              "      <td>12</td>\n",
              "      <td>13</td>\n",
              "      <td>10</td>\n",
              "      <td>11</td>\n",
              "      <td>4</td>\n",
              "    </tr>\n",
              "    <tr>\n",
              "      <th>4</th>\n",
              "      <td>1491</td>\n",
              "      <td>114</td>\n",
              "      <td>53</td>\n",
              "      <td>31</td>\n",
              "      <td>5</td>\n",
              "      <td>10</td>\n",
              "      <td>1</td>\n",
              "      <td>24</td>\n",
              "      <td>6</td>\n",
              "    </tr>\n",
              "    <tr>\n",
              "      <th>5</th>\n",
              "      <td>3009</td>\n",
              "      <td>109</td>\n",
              "      <td>56</td>\n",
              "      <td>15</td>\n",
              "      <td>7</td>\n",
              "      <td>11</td>\n",
              "      <td>2</td>\n",
              "      <td>12</td>\n",
              "      <td>2</td>\n",
              "    </tr>\n",
              "    <tr>\n",
              "      <th>6</th>\n",
              "      <td>2349</td>\n",
              "      <td>102</td>\n",
              "      <td>44</td>\n",
              "      <td>12</td>\n",
              "      <td>5</td>\n",
              "      <td>1</td>\n",
              "      <td>3</td>\n",
              "      <td>9</td>\n",
              "      <td>0</td>\n",
              "    </tr>\n",
              "    <tr>\n",
              "      <th>7</th>\n",
              "      <td>372</td>\n",
              "      <td>101</td>\n",
              "      <td>35</td>\n",
              "      <td>23</td>\n",
              "      <td>7</td>\n",
              "      <td>5</td>\n",
              "      <td>2</td>\n",
              "      <td>11</td>\n",
              "      <td>0</td>\n",
              "    </tr>\n",
              "    <tr>\n",
              "      <th>8</th>\n",
              "      <td>974</td>\n",
              "      <td>100</td>\n",
              "      <td>64</td>\n",
              "      <td>17</td>\n",
              "      <td>6</td>\n",
              "      <td>4</td>\n",
              "      <td>3</td>\n",
              "      <td>7</td>\n",
              "      <td>2</td>\n",
              "    </tr>\n",
              "    <tr>\n",
              "      <th>9</th>\n",
              "      <td>4409</td>\n",
              "      <td>98</td>\n",
              "      <td>42</td>\n",
              "      <td>15</td>\n",
              "      <td>5</td>\n",
              "      <td>2</td>\n",
              "      <td>2</td>\n",
              "      <td>14</td>\n",
              "      <td>0</td>\n",
              "    </tr>\n",
              "  </tbody>\n",
              "</table>\n",
              "</div>\n",
              "      <button class=\"colab-df-convert\" onclick=\"convertToInteractive('df-03ca09f3-0d86-4cd5-a989-bdb386bad1b7')\"\n",
              "              title=\"Convert this dataframe to an interactive table.\"\n",
              "              style=\"display:none;\">\n",
              "        \n",
              "  <svg xmlns=\"http://www.w3.org/2000/svg\" height=\"24px\"viewBox=\"0 0 24 24\"\n",
              "       width=\"24px\">\n",
              "    <path d=\"M0 0h24v24H0V0z\" fill=\"none\"/>\n",
              "    <path d=\"M18.56 5.44l.94 2.06.94-2.06 2.06-.94-2.06-.94-.94-2.06-.94 2.06-2.06.94zm-11 1L8.5 8.5l.94-2.06 2.06-.94-2.06-.94L8.5 2.5l-.94 2.06-2.06.94zm10 10l.94 2.06.94-2.06 2.06-.94-2.06-.94-.94-2.06-.94 2.06-2.06.94z\"/><path d=\"M17.41 7.96l-1.37-1.37c-.4-.4-.92-.59-1.43-.59-.52 0-1.04.2-1.43.59L10.3 9.45l-7.72 7.72c-.78.78-.78 2.05 0 2.83L4 21.41c.39.39.9.59 1.41.59.51 0 1.02-.2 1.41-.59l7.78-7.78 2.81-2.81c.8-.78.8-2.07 0-2.86zM5.41 20L4 18.59l7.72-7.72 1.47 1.35L5.41 20z\"/>\n",
              "  </svg>\n",
              "      </button>\n",
              "      \n",
              "  <style>\n",
              "    .colab-df-container {\n",
              "      display:flex;\n",
              "      flex-wrap:wrap;\n",
              "      gap: 12px;\n",
              "    }\n",
              "\n",
              "    .colab-df-convert {\n",
              "      background-color: #E8F0FE;\n",
              "      border: none;\n",
              "      border-radius: 50%;\n",
              "      cursor: pointer;\n",
              "      display: none;\n",
              "      fill: #1967D2;\n",
              "      height: 32px;\n",
              "      padding: 0 0 0 0;\n",
              "      width: 32px;\n",
              "    }\n",
              "\n",
              "    .colab-df-convert:hover {\n",
              "      background-color: #E2EBFA;\n",
              "      box-shadow: 0px 1px 2px rgba(60, 64, 67, 0.3), 0px 1px 3px 1px rgba(60, 64, 67, 0.15);\n",
              "      fill: #174EA6;\n",
              "    }\n",
              "\n",
              "    [theme=dark] .colab-df-convert {\n",
              "      background-color: #3B4455;\n",
              "      fill: #D2E3FC;\n",
              "    }\n",
              "\n",
              "    [theme=dark] .colab-df-convert:hover {\n",
              "      background-color: #434B5C;\n",
              "      box-shadow: 0px 1px 3px 1px rgba(0, 0, 0, 0.15);\n",
              "      filter: drop-shadow(0px 1px 2px rgba(0, 0, 0, 0.3));\n",
              "      fill: #FFFFFF;\n",
              "    }\n",
              "  </style>\n",
              "\n",
              "      <script>\n",
              "        const buttonEl =\n",
              "          document.querySelector('#df-03ca09f3-0d86-4cd5-a989-bdb386bad1b7 button.colab-df-convert');\n",
              "        buttonEl.style.display =\n",
              "          google.colab.kernel.accessAllowed ? 'block' : 'none';\n",
              "\n",
              "        async function convertToInteractive(key) {\n",
              "          const element = document.querySelector('#df-03ca09f3-0d86-4cd5-a989-bdb386bad1b7');\n",
              "          const dataTable =\n",
              "            await google.colab.kernel.invokeFunction('convertToInteractive',\n",
              "                                                     [key], {});\n",
              "          if (!dataTable) return;\n",
              "\n",
              "          const docLinkHtml = 'Like what you see? Visit the ' +\n",
              "            '<a target=\"_blank\" href=https://colab.research.google.com/notebooks/data_table.ipynb>data table notebook</a>'\n",
              "            + ' to learn more about interactive tables.';\n",
              "          element.innerHTML = '';\n",
              "          dataTable['output_type'] = 'display_data';\n",
              "          await google.colab.output.renderOutput(dataTable, element);\n",
              "          const docLink = document.createElement('div');\n",
              "          docLink.innerHTML = docLinkHtml;\n",
              "          element.appendChild(docLink);\n",
              "        }\n",
              "      </script>\n",
              "    </div>\n",
              "  </div>\n",
              "  "
            ]
          },
          "metadata": {},
          "execution_count": 73
        }
      ]
    },
    {
      "cell_type": "markdown",
      "source": [
        "#**10. Queries to Address Communities of Place Question - High Level**\n"
      ],
      "metadata": {
        "id": "9Y-6rFaSSZmN"
      }
    },
    {
      "cell_type": "code",
      "source": [
        "# Queries using high level locations"
      ],
      "metadata": {
        "id": "QIjkYXawFZV5"
      },
      "execution_count": null,
      "outputs": []
    },
    {
      "cell_type": "code",
      "source": [
        "# Largest community\n",
        "# Copy and paste into Neo4j browser or into GraphXR query tab \n",
        "'''\n",
        "MATCH (p:Person)-[:WAS_ACTIVE_IN]->(l:Location) with p.louv as community, collect(l) as locations, collect(p) as members \n",
        "WHERE community = 2609\n",
        "UNWIND members as member\n",
        "RETURN member,locations\n",
        "'''"
      ],
      "metadata": {
        "id": "_mBJWoOiVc7x"
      },
      "execution_count": null,
      "outputs": []
    },
    {
      "cell_type": "code",
      "source": [
        "# Second largest community\n",
        "'''\n",
        "MATCH (p:Person)-[:WAS_ACTIVE_IN]->(l:Location) with p.louv as community, collect(l) as locations, collect(p) as members \n",
        "WHERE community = 2535\n",
        "UNWIND members as member\n",
        "RETURN member,locations\n",
        "'''"
      ],
      "metadata": {
        "id": "B_lmXafcVc4V"
      },
      "execution_count": null,
      "outputs": []
    },
    {
      "cell_type": "code",
      "source": [
        "# Third largest community\n",
        "'''\n",
        "MATCH (p:Person)-[:WAS_ACTIVE_IN]->(l:Location) with p.louv as community, collect(l) as locations, collect(p) as members \n",
        "WHERE community = 619\n",
        "UNWIND members as member\n",
        "RETURN member,locations\n",
        "'''"
      ],
      "metadata": {
        "id": "1l0kDDrsVc1F"
      },
      "execution_count": null,
      "outputs": []
    },
    {
      "cell_type": "code",
      "source": [
        "# Fourth largest community\n",
        "'''\n",
        "MATCH (p:Person)-[:WAS_ACTIVE_IN]->(l:Location) with p.louv as community, collect(l) as locations, collect(p) as members \n",
        "WHERE community = 202\n",
        "UNWIND members as member\n",
        "RETURN member,locations\n",
        "'''"
      ],
      "metadata": {
        "id": "zdGXPkrbVcvZ"
      },
      "execution_count": null,
      "outputs": []
    },
    {
      "cell_type": "code",
      "source": [
        "# Fifth largest community \n",
        "'''\n",
        "MATCH (p:Person)-[:WAS_ACTIVE_IN]->(l:Location) with p.louv as community, collect(l) as locations, collect(p) as members \n",
        "WHERE community = 1491\n",
        "UNWIND members as member\n",
        "RETURN member,locations\n",
        "'''"
      ],
      "metadata": {
        "id": "0FQGJ_8UVcm0"
      },
      "execution_count": null,
      "outputs": []
    },
    {
      "cell_type": "markdown",
      "source": [
        "#**11. Queries to Address Communities of Place Question - Low Level**"
      ],
      "metadata": {
        "id": "BfWkXAs2uwmk"
      }
    },
    {
      "cell_type": "code",
      "source": [
        "# Largest community\n",
        "'''\n",
        "MATCH (p:Person)-[:HAD_ADDRESS]->(a:Address)\n",
        "MATCH (a)-[:HAD_GEOLOCATION]->(geo)\n",
        "with p.louv as community, collect(a) as addresses, collect(geo) as geolocations, collect(p) as members\n",
        "WHERE community = 2609\n",
        "UNWIND members as member\n",
        "RETURN member, addresses, geolocations\n",
        "'''"
      ],
      "metadata": {
        "id": "nMWKhBN2Fk5i"
      },
      "execution_count": null,
      "outputs": []
    },
    {
      "cell_type": "code",
      "source": [
        "# Second largst community\n",
        "'''\n",
        "MATCH (p:Person)-[:HAD_ADDRESS]->(a:Address)\n",
        "MATCH (a)-[:HAD_GEOLOCATION]->(geo)\n",
        "with p.louv as community, collect(a) as addresses, collect(geo) as geolocations, collect(p) as members\n",
        "WHERE community = 2535\n",
        "UNWIND members as member\n",
        "RETURN member, addresses, geolocations\n",
        "'''"
      ],
      "metadata": {
        "id": "yOkbdiMgRUwG"
      },
      "execution_count": null,
      "outputs": []
    },
    {
      "cell_type": "code",
      "source": [
        "# Second largest community just the addresses\n",
        "'''\n",
        "MATCH (p:Person)-[:HAD_ADDRESS]->(a:Address)\n",
        "MATCH (a)-[:HAD_GEOLOCATION]->(geo)\n",
        "with p.louv as community, collect(a) as addresses, collect(geo) as geolocations, collect(p) as members\n",
        "WHERE community = 2535\n",
        "UNWIND members as member\n",
        "RETURN addresses, geolocations\n",
        "'''"
      ],
      "metadata": {
        "id": "rlHpS15Nk4Tu"
      },
      "execution_count": null,
      "outputs": []
    },
    {
      "cell_type": "code",
      "source": [
        "# Third largest community\n",
        "'''\n",
        "MATCH (p:Person)-[:HAD_ADDRESS]->(a:Address)\n",
        "MATCH (a)-[:HAD_GEOLOCATION]->(geo)\n",
        "with p.louv as community, collect(a) as addresses, collect(geo) as geolocations, collect(p) as members\n",
        "WHERE community = 619\n",
        "UNWIND members as member\n",
        "RETURN member, addresses, geolocations\n",
        "'''"
      ],
      "metadata": {
        "id": "zWdZnOtkn05G"
      },
      "execution_count": null,
      "outputs": []
    },
    {
      "cell_type": "code",
      "source": [
        "# Fourth largest community\n",
        "'''\n",
        "MATCH (p:Person)-[:HAD_ADDRESS]->(a:Address)\n",
        "MATCH (a)-[:HAD_GEOLOCATION]->(geo)\n",
        "with p.louv as community, collect(a) as addresses, collect(geo) as geolocations, collect(p) as members\n",
        "WHERE community = 202\n",
        "UNWIND members as member\n",
        "RETURN member, addresses, geolocations\n",
        "'''"
      ],
      "metadata": {
        "id": "SJRFzuRgn0us"
      },
      "execution_count": null,
      "outputs": []
    },
    {
      "cell_type": "code",
      "source": [
        "# Fifth largest community\n",
        "'''\n",
        "MATCH (p:Person)-[:HAD_ADDRESS]->(a:Address)\n",
        "MATCH (a)-[:HAD_GEOLOCATION]->(geo)\n",
        "with p.louv as community, collect(a) as addresses, collect(geo) as geolocations, collect(p) as members\n",
        "WHERE community = 1491\n",
        "UNWIND members as member\n",
        "RETURN member, addresses, geolocations\n",
        "'''"
      ],
      "metadata": {
        "id": "AAaAC7ern0ek"
      },
      "execution_count": null,
      "outputs": []
    },
    {
      "cell_type": "code",
      "source": [
        "# Fifth largest community just the addresses \n",
        "'''\n",
        "MATCH (p:Person)-[:HAD_ADDRESS]->(a:Address)\n",
        "MATCH (a)-[:HAD_GEOLOCATION]->(geo)\n",
        "with p.louv as community, collect(a) as addresses, collect(geo) as geolocations, collect(p) as members\n",
        "WHERE community = 1491\n",
        "UNWIND members as member\n",
        "RETURN addresses, geolocations\n",
        "'''"
      ],
      "metadata": {
        "id": "UzRuBLew4MW1"
      },
      "execution_count": null,
      "outputs": []
    },
    {
      "cell_type": "code",
      "source": [
        "# Fifth largest community - how to get all addresses and makers for coordinate label of interest\n",
        "'''\n",
        "MATCH (p:Person)-[:HAD_ADDRESS]->(a:Address)\n",
        "MATCH (a)-[:HAD_GEOLOCATION]->(geo)\n",
        "with p.louv as community, geo.coord_string as coord, collect(a) as addresses, collect(geo) as geolocations, collect(p) as members\n",
        "WHERE community = 1491 AND coord = \"51.5207627358765-0.10985255241394\"\n",
        "UNWIND members as member\n",
        "RETURN member, community, addresses, geolocations\n",
        "'''"
      ],
      "metadata": {
        "id": "xqr2xro10VJ7"
      },
      "execution_count": null,
      "outputs": []
    },
    {
      "cell_type": "markdown",
      "source": [
        "#**12. Queries to Address Communities of Affiliation Question**"
      ],
      "metadata": {
        "id": "Wlk70K9SvCGv"
      }
    },
    {
      "cell_type": "code",
      "source": [
        "# Largest community\n",
        "''' \n",
        "MATCH (p:Person)\n",
        "OPTIONAL MATCH (p:Person)-[:MEMBER_OF]->(g:Guild) \n",
        "with p.louv as community, collect(g) as guilds, collect(p) as members \n",
        "WHERE community = 2609\n",
        "CALL apoc.create.vNodes(['Community'], [{name:community}]) YIELD node as comm \n",
        "UNWIND members as member\n",
        "RETURN member, guilds\n",
        "'''"
      ],
      "metadata": {
        "id": "6-G2LLOgJdhv"
      },
      "execution_count": null,
      "outputs": []
    },
    {
      "cell_type": "code",
      "source": [
        "# Second largest community\n",
        "# This only has 2 guilds\n",
        "''' \n",
        "MATCH (p:Person)\n",
        "OPTIONAL MATCH (p:Person)-[:MEMBER_OF]->(g:Guild) \n",
        "with p.louv as community, collect(g) as guilds, collect(p) as members \n",
        "WHERE community = 2535\n",
        "CALL apoc.create.vNodes(['Community'], [{name:community}]) YIELD node as comm \n",
        "UNWIND members as member\n",
        "RETURN member, guilds\n",
        "'''"
      ],
      "metadata": {
        "id": "R_cucTaxG3L4"
      },
      "execution_count": null,
      "outputs": []
    },
    {
      "cell_type": "code",
      "source": [
        "# Third largest community\n",
        "''' \n",
        "MATCH (p:Person)\n",
        "OPTIONAL MATCH (p:Person)-[:MEMBER_OF]->(g:Guild) \n",
        "with p.louv as community, collect(g) as guilds, collect(p) as members \n",
        "WHERE community = 619\n",
        "CALL apoc.create.vNodes(['Community'], [{name:community}]) YIELD node as comm \n",
        "UNWIND members as member\n",
        "RETURN member, guilds\n",
        "'''"
      ],
      "metadata": {
        "id": "ZF-v65cfYD4B"
      },
      "execution_count": null,
      "outputs": []
    },
    {
      "cell_type": "code",
      "source": [
        "# Fourth largest community\n",
        "''' \n",
        "MATCH (p:Person)\n",
        "OPTIONAL MATCH (p:Person)-[:MEMBER_OF]->(g:Guild) \n",
        "with p.louv as community, collect(g) as guilds, collect(p) as members \n",
        "WHERE community = 202\n",
        "CALL apoc.create.vNodes(['Community'], [{name:community}]) YIELD node as comm \n",
        "UNWIND members as member\n",
        "RETURN member, guilds\n",
        "'''"
      ],
      "metadata": {
        "id": "VIEqbRSPYDyR"
      },
      "execution_count": null,
      "outputs": []
    },
    {
      "cell_type": "code",
      "source": [
        "# Fifth largest community \n",
        "''' \n",
        "MATCH (p:Person)\n",
        "OPTIONAL MATCH (p:Person)-[:MEMBER_OF]->(g:Guild) \n",
        "with p.louv as community, collect(g) as guilds, collect(p) as members \n",
        "WHERE community = 1491\n",
        "CALL apoc.create.vNodes(['Community'], [{name:community}]) YIELD node as comm \n",
        "UNWIND members as member\n",
        "RETURN member, guilds\n",
        "'''"
      ],
      "metadata": {
        "id": "I-uE4UynYDtV"
      },
      "execution_count": null,
      "outputs": []
    },
    {
      "cell_type": "code",
      "source": [
        "# Ask an additional question with second largest community: was guild memebership associated with being in particular geographic location?\n",
        "''' \n",
        "MATCH (p:Person)-[:MEMBER_OF]->(g:Guild) \n",
        "OPTIONAL MATCH (p:Person)-[:WAS_ACTIVE_IN]->(l:Location)\n",
        "with p.louv as community, collect(g) as guilds, collect(l) as locations, collect(p) as members \n",
        "WHERE community = 2535\n",
        "CALL apoc.create.vNodes(['Community'], [{name:community}]) YIELD node as comm \n",
        "UNWIND members as member\n",
        "RETURN member, guilds, locations\n",
        "'''"
      ],
      "metadata": {
        "id": "4z6_HH9NLMoB"
      },
      "execution_count": null,
      "outputs": []
    },
    {
      "cell_type": "markdown",
      "source": [
        "#**13. Queries to Address Communities of Product Question**\n"
      ],
      "metadata": {
        "id": "ZHeFnMfBXf4f"
      }
    },
    {
      "cell_type": "code",
      "source": [
        "# Largest community\n",
        "''' \n",
        "MATCH (p:Person) \n",
        "OPTIONAL MATCH (p:Person)-[:MADE]->(m:Maker_Of)\n",
        "OPTIONAL MATCH (p:Person)-[:SOLD]->(s:Seller_Of)\n",
        "with p.louv as community, collect(m) as products_made, collect(s) as products_sold, collect(p) as members \n",
        "WHERE community = 2609 \n",
        "UNWIND members as member\n",
        "RETURN member, products_made, products_sold\n",
        "'''"
      ],
      "metadata": {
        "id": "VeaiPkwEVcjc"
      },
      "execution_count": null,
      "outputs": []
    },
    {
      "cell_type": "code",
      "source": [
        "# Second largest community\n",
        "''' \n",
        "MATCH (p:Person) \n",
        "OPTIONAL MATCH (p:Person)-[:MADE]->(m:Maker_Of)\n",
        "OPTIONAL MATCH (p:Person)-[:SOLD]->(s:Seller_Of)\n",
        "with p.louv as community, collect(m) as products_made, collect(s) as products_sold, collect(p) as members \n",
        "WHERE community = 2535 \n",
        "UNWIND members as member\n",
        "RETURN member, products_made, products_sold\n",
        "'''"
      ],
      "metadata": {
        "id": "7Iq4DB8EVcUI"
      },
      "execution_count": null,
      "outputs": []
    },
    {
      "cell_type": "code",
      "source": [
        "# Third largest community\n",
        "''' \n",
        "MATCH (p:Person) \n",
        "OPTIONAL MATCH (p:Person)-[:MADE]->(m:Maker_Of)\n",
        "OPTIONAL MATCH (p:Person)-[:SOLD]->(s:Seller_Of)\n",
        "with p.louv as community, collect(m) as products_made, collect(s) as products_sold, collect(p) as members \n",
        "WHERE community = 619 \n",
        "UNWIND members as member\n",
        "RETURN member, products_made, products_sold\n",
        "'''"
      ],
      "metadata": {
        "id": "l2U345ZhXq0A"
      },
      "execution_count": null,
      "outputs": []
    },
    {
      "cell_type": "code",
      "source": [
        "# Fourth largest community\n",
        "''' \n",
        "MATCH (p:Person) \n",
        "OPTIONAL MATCH (p:Person)-[:MADE]->(m:Maker_Of)\n",
        "OPTIONAL MATCH (p:Person)-[:SOLD]->(s:Seller_Of)\n",
        "with p.louv as community, collect(m) as products_made, collect(s) as products_sold, collect(p) as members \n",
        "WHERE community = 202 \n",
        "UNWIND members as member\n",
        "RETURN member, products_made, products_sold\n",
        "'''"
      ],
      "metadata": {
        "id": "YDX6ljRfXqpx"
      },
      "execution_count": null,
      "outputs": []
    },
    {
      "cell_type": "code",
      "source": [
        "# Fifth largest community \n",
        "''' \n",
        "MATCH (p:Person) \n",
        "OPTIONAL MATCH (p:Person)-[:MADE]->(m:Maker_Of)\n",
        "OPTIONAL MATCH (p:Person)-[:SOLD]->(s:Seller_Of)\n",
        "with p.louv as community, collect(m) as products_made, collect(s) as products_sold, collect(p) as members \n",
        "WHERE community = 1491 \n",
        "UNWIND members as member\n",
        "RETURN member, products_made, products_sold\n",
        "'''\n"
      ],
      "metadata": {
        "id": "shCsu20RXqbC"
      },
      "execution_count": null,
      "outputs": []
    },
    {
      "cell_type": "markdown",
      "source": [
        "#**13. Queries to Address Communities Over Time Question**"
      ],
      "metadata": {
        "id": "RGtY547rScQD"
      }
    },
    {
      "cell_type": "code",
      "source": [
        "# Largest community\n",
        "'''\n",
        "MATCH (p:Person)-[:OPERATED_DURING]->(t:Time) \n",
        "with p.louv as community, collect(t) as times, collect(p) as members \n",
        "WHERE community = 2609\n",
        "CALL apoc.create.vNodes(['Community'], [{name:community}]) YIELD node as comm \n",
        "UNWIND members as member\n",
        "RETURN member, times\n",
        "'''"
      ],
      "metadata": {
        "id": "dKKh8UVFJdc-"
      },
      "execution_count": null,
      "outputs": []
    },
    {
      "cell_type": "code",
      "source": [
        "# Second largest community\n",
        "'''\n",
        "MATCH (p:Person)\n",
        "MATCH (t:Time)\n",
        "with p.louv as community,collect(p) as members\n",
        "UNWIND t.start as start\n",
        "UNWIND t.end as end\n",
        "RETURN start, end\n",
        "'''"
      ],
      "metadata": {
        "id": "tD6ywTi4ZMnF"
      },
      "execution_count": null,
      "outputs": []
    },
    {
      "cell_type": "code",
      "source": [
        "# Third largest community"
      ],
      "metadata": {
        "id": "P69aNtojZMc6"
      },
      "execution_count": null,
      "outputs": []
    },
    {
      "cell_type": "code",
      "source": [
        "# Fourth largest community"
      ],
      "metadata": {
        "id": "Y5A9t5MoZMRN"
      },
      "execution_count": null,
      "outputs": []
    },
    {
      "cell_type": "code",
      "source": [
        "# Fifth largest community "
      ],
      "metadata": {
        "id": "BCNRuKulZMBo"
      },
      "execution_count": null,
      "outputs": []
    },
    {
      "cell_type": "code",
      "source": [],
      "metadata": {
        "id": "CKhyxEvSZcLc"
      },
      "execution_count": null,
      "outputs": []
    },
    {
      "cell_type": "code",
      "source": [],
      "metadata": {
        "id": "X3z38hEBZcIi"
      },
      "execution_count": null,
      "outputs": []
    },
    {
      "cell_type": "code",
      "source": [],
      "metadata": {
        "id": "HpbFQ8Z5ZcFT"
      },
      "execution_count": null,
      "outputs": []
    },
    {
      "cell_type": "code",
      "source": [],
      "metadata": {
        "id": "HENVwg2lZcCa"
      },
      "execution_count": null,
      "outputs": []
    },
    {
      "cell_type": "code",
      "source": [],
      "metadata": {
        "id": "HHsm_iH7Zb05"
      },
      "execution_count": null,
      "outputs": []
    },
    {
      "cell_type": "markdown",
      "source": [
        "# **9. Tabulated Queries Relating to Stedman FOR DELETION**"
      ],
      "metadata": {
        "id": "8AQdm45O_QHn"
      }
    },
    {
      "cell_type": "code",
      "source": [
        "# Find Stedman's community (individual with the highest node degree and PageRank score) using his ID as generated above \n",
        "\n",
        "query_string = '''\n",
        "MATCH (p:Person)\n",
        "WHERE p.id = 749\n",
        "RETURN p.louv as community\n",
        "'''\n",
        "\n",
        "conn.query(query_string)"
      ],
      "metadata": {
        "colab": {
          "base_uri": "https://localhost:8080/"
        },
        "id": "FAjS5LTW3dHD",
        "outputId": "3e67c583-6161-4819-fe90-928e01e0672d"
      },
      "execution_count": null,
      "outputs": [
        {
          "output_type": "execute_result",
          "data": {
            "text/plain": [
              "[<Record community=1240>]"
            ]
          },
          "metadata": {},
          "execution_count": 51
        }
      ]
    },
    {
      "cell_type": "code",
      "source": [
        "# Summarise Stedman's community as a table \n",
        "\n",
        "query_string = '''\n",
        "MATCH (p:Person)\n",
        "OPTIONAL MATCH (p:Person)-[:WAS_ACTIVE_IN]->(l:Location)\n",
        "OPTIONAL MATCH (p:Person)-[:MEMBER_OF]->(g:Guild)\n",
        "OPTIONAL MATCH (p:Person)-[r:PRIMARY_ROLE]->(primary)\n",
        "OPTIONAL MATCH (p:Person)-[o:OTHER_TRADE]->(other)\n",
        "OPTIONAL MATCH (p:Person)-[m:MADE]->(maker) \n",
        "OPTIONAL MATCH (p:Person)-[s:SOLD]->(seller) \n",
        "RETURN p.louv as community,\n",
        "       count(DISTINCT p) as community_size,\n",
        "       count(DISTINCT l.location) as number_of_locations,\n",
        "       count(DISTINCT g.name) as number_of_guilds,\n",
        "       count(DISTINCT primary.description) as number_of_primary_roles,\n",
        "       count(DISTINCT other.description) as number_of_other_trades,\n",
        "       count(DISTINCT maker.product) as number_of_products_made,\n",
        "       count(DISTINCT seller.product) as number_of_products_sold\n",
        "ORDER BY community_size DESC\n",
        "'''\n",
        "\n",
        "conn.query(query_string)\n",
        "\n",
        "results = pd.DataFrame([dict(_) for _ in conn.query(query_string)])\n",
        "\n",
        "stedman_comm = results[results[\"community\"] == 5198]\n",
        "\n",
        "stedman_comm\n"
      ],
      "metadata": {
        "colab": {
          "base_uri": "https://localhost:8080/",
          "height": 113
        },
        "id": "CUGtx2NZ4q90",
        "outputId": "02a2b12d-99f3-43df-c6e6-6c2686b52491"
      },
      "execution_count": null,
      "outputs": [
        {
          "output_type": "execute_result",
          "data": {
            "text/plain": [
              "Empty DataFrame\n",
              "Columns: [community, community_size, number_of_locations, number_of_guilds, number_of_primary_roles, number_of_other_trades, number_of_products_made, number_of_products_sold]\n",
              "Index: []"
            ],
            "text/html": [
              "\n",
              "  <div id=\"df-9f317cfa-2e76-4afb-bfbc-2999e0105bde\">\n",
              "    <div class=\"colab-df-container\">\n",
              "      <div>\n",
              "<style scoped>\n",
              "    .dataframe tbody tr th:only-of-type {\n",
              "        vertical-align: middle;\n",
              "    }\n",
              "\n",
              "    .dataframe tbody tr th {\n",
              "        vertical-align: top;\n",
              "    }\n",
              "\n",
              "    .dataframe thead th {\n",
              "        text-align: right;\n",
              "    }\n",
              "</style>\n",
              "<table border=\"1\" class=\"dataframe\">\n",
              "  <thead>\n",
              "    <tr style=\"text-align: right;\">\n",
              "      <th></th>\n",
              "      <th>community</th>\n",
              "      <th>community_size</th>\n",
              "      <th>number_of_locations</th>\n",
              "      <th>number_of_guilds</th>\n",
              "      <th>number_of_primary_roles</th>\n",
              "      <th>number_of_other_trades</th>\n",
              "      <th>number_of_products_made</th>\n",
              "      <th>number_of_products_sold</th>\n",
              "    </tr>\n",
              "  </thead>\n",
              "  <tbody>\n",
              "  </tbody>\n",
              "</table>\n",
              "</div>\n",
              "      <button class=\"colab-df-convert\" onclick=\"convertToInteractive('df-9f317cfa-2e76-4afb-bfbc-2999e0105bde')\"\n",
              "              title=\"Convert this dataframe to an interactive table.\"\n",
              "              style=\"display:none;\">\n",
              "        \n",
              "  <svg xmlns=\"http://www.w3.org/2000/svg\" height=\"24px\"viewBox=\"0 0 24 24\"\n",
              "       width=\"24px\">\n",
              "    <path d=\"M0 0h24v24H0V0z\" fill=\"none\"/>\n",
              "    <path d=\"M18.56 5.44l.94 2.06.94-2.06 2.06-.94-2.06-.94-.94-2.06-.94 2.06-2.06.94zm-11 1L8.5 8.5l.94-2.06 2.06-.94-2.06-.94L8.5 2.5l-.94 2.06-2.06.94zm10 10l.94 2.06.94-2.06 2.06-.94-2.06-.94-.94-2.06-.94 2.06-2.06.94z\"/><path d=\"M17.41 7.96l-1.37-1.37c-.4-.4-.92-.59-1.43-.59-.52 0-1.04.2-1.43.59L10.3 9.45l-7.72 7.72c-.78.78-.78 2.05 0 2.83L4 21.41c.39.39.9.59 1.41.59.51 0 1.02-.2 1.41-.59l7.78-7.78 2.81-2.81c.8-.78.8-2.07 0-2.86zM5.41 20L4 18.59l7.72-7.72 1.47 1.35L5.41 20z\"/>\n",
              "  </svg>\n",
              "      </button>\n",
              "      \n",
              "  <style>\n",
              "    .colab-df-container {\n",
              "      display:flex;\n",
              "      flex-wrap:wrap;\n",
              "      gap: 12px;\n",
              "    }\n",
              "\n",
              "    .colab-df-convert {\n",
              "      background-color: #E8F0FE;\n",
              "      border: none;\n",
              "      border-radius: 50%;\n",
              "      cursor: pointer;\n",
              "      display: none;\n",
              "      fill: #1967D2;\n",
              "      height: 32px;\n",
              "      padding: 0 0 0 0;\n",
              "      width: 32px;\n",
              "    }\n",
              "\n",
              "    .colab-df-convert:hover {\n",
              "      background-color: #E2EBFA;\n",
              "      box-shadow: 0px 1px 2px rgba(60, 64, 67, 0.3), 0px 1px 3px 1px rgba(60, 64, 67, 0.15);\n",
              "      fill: #174EA6;\n",
              "    }\n",
              "\n",
              "    [theme=dark] .colab-df-convert {\n",
              "      background-color: #3B4455;\n",
              "      fill: #D2E3FC;\n",
              "    }\n",
              "\n",
              "    [theme=dark] .colab-df-convert:hover {\n",
              "      background-color: #434B5C;\n",
              "      box-shadow: 0px 1px 3px 1px rgba(0, 0, 0, 0.15);\n",
              "      filter: drop-shadow(0px 1px 2px rgba(0, 0, 0, 0.3));\n",
              "      fill: #FFFFFF;\n",
              "    }\n",
              "  </style>\n",
              "\n",
              "      <script>\n",
              "        const buttonEl =\n",
              "          document.querySelector('#df-9f317cfa-2e76-4afb-bfbc-2999e0105bde button.colab-df-convert');\n",
              "        buttonEl.style.display =\n",
              "          google.colab.kernel.accessAllowed ? 'block' : 'none';\n",
              "\n",
              "        async function convertToInteractive(key) {\n",
              "          const element = document.querySelector('#df-9f317cfa-2e76-4afb-bfbc-2999e0105bde');\n",
              "          const dataTable =\n",
              "            await google.colab.kernel.invokeFunction('convertToInteractive',\n",
              "                                                     [key], {});\n",
              "          if (!dataTable) return;\n",
              "\n",
              "          const docLinkHtml = 'Like what you see? Visit the ' +\n",
              "            '<a target=\"_blank\" href=https://colab.research.google.com/notebooks/data_table.ipynb>data table notebook</a>'\n",
              "            + ' to learn more about interactive tables.';\n",
              "          element.innerHTML = '';\n",
              "          dataTable['output_type'] = 'display_data';\n",
              "          await google.colab.output.renderOutput(dataTable, element);\n",
              "          const docLink = document.createElement('div');\n",
              "          docLink.innerHTML = docLinkHtml;\n",
              "          element.appendChild(docLink);\n",
              "        }\n",
              "      </script>\n",
              "    </div>\n",
              "  </div>\n",
              "  "
            ]
          },
          "metadata": {},
          "execution_count": 52
        }
      ]
    },
    {
      "cell_type": "code",
      "source": [
        "# Visualisation: copy code between ''' to Neo4j browser\n",
        "'''\n",
        "MATCH (p:Person)-[:WAS_ACTIVE_IN]->(l:Location) \n",
        "OPTIONAL MATCH (p:Person)-[:MEMBER_OF]->(g:Guild) \n",
        "OPTIONAL MATCH (p:Person)-[:MADE]->(m:Maker_Of)\n",
        "with p.louv as community, collect(l) as locations, collect(g) as guilds, collect(m) as products_made, collect(p) as members \n",
        "WHERE community = 5198\n",
        "CALL apoc.create.vNodes(['Community'], [{name:community}]) YIELD node as comm \n",
        "UNWIND members as member\n",
        "CALL apoc.create.vRelationship(member,'MEMBER_OF_COMMUNITY',{}, comm) YIELD rel \n",
        "RETURN member,rel, locations, guilds, products_made\n",
        "'''"
      ],
      "metadata": {
        "id": "z4orkJH_-N52"
      },
      "execution_count": null,
      "outputs": []
    },
    {
      "cell_type": "markdown",
      "source": [
        "# **9. Community Evolution FOR DELETION**"
      ],
      "metadata": {
        "id": "g2d5NOtLiBsR"
      }
    },
    {
      "cell_type": "code",
      "source": [
        "# Generate a table of Louvain communities, arranged in descending order of size\n",
        "# Top 10 largest communities shown here \n",
        "\n",
        "query_string = '''\n",
        "MATCH (p:Person)\n",
        "RETURN p.louv as community,\n",
        "count(DISTINCT p) as community_size\n",
        "ORDER BY community_size DESC\n",
        "'''\n",
        "\n",
        "conn.query(query_string)\n",
        "\n",
        "results = pd.DataFrame([dict(_) for _ in conn.query(query_string)])\n",
        "\n",
        "#results[\"log_community_size\"] = \n",
        "\n",
        "results.head(50)"
      ],
      "metadata": {
        "colab": {
          "base_uri": "https://localhost:8080/",
          "height": 1000
        },
        "id": "IgmTlW3PoUMl",
        "outputId": "94c6d8ee-149d-4548-8616-3360c40ba282"
      },
      "execution_count": null,
      "outputs": [
        {
          "output_type": "execute_result",
          "data": {
            "text/plain": [
              "    community  community_size\n",
              "0        2637             180\n",
              "1        2535             129\n",
              "2        1491             125\n",
              "3         974             112\n",
              "4         202             109\n",
              "5        3009             109\n",
              "6         372             101\n",
              "7        4409              98\n",
              "8        1867              97\n",
              "9         956              96\n",
              "10        363              96\n",
              "11       4899              93\n",
              "12        387              84\n",
              "13        710              82\n",
              "14        302              81\n",
              "15       1587              79\n",
              "16       1430              78\n",
              "17        120              78\n",
              "18       3053              78\n",
              "19        194              76\n",
              "20        760              68\n",
              "21       5197              65\n",
              "22        581              62\n",
              "23       2893              62\n",
              "24       4052              60\n",
              "25       1240              57\n",
              "26       3453              56\n",
              "27       3636              56\n",
              "28       5359              52\n",
              "29        566              49\n",
              "30       5895              47\n",
              "31       1757              46\n",
              "32       5008              43\n",
              "33       3094              35\n",
              "34       2291              32\n",
              "35       1069              32\n",
              "36       1754              22\n",
              "37       4036              22\n",
              "38       3507              21\n",
              "39       5089              21\n",
              "40       5379              20\n",
              "41       2928              16\n",
              "42       1174              16\n",
              "43       1612              15\n",
              "44       2033              15\n",
              "45       2116              14\n",
              "46       2029              12\n",
              "47       4926              12\n",
              "48       4396              12\n",
              "49       1479              12"
            ],
            "text/html": [
              "\n",
              "  <div id=\"df-9230c591-30f1-42e4-af90-ea644cddca9d\">\n",
              "    <div class=\"colab-df-container\">\n",
              "      <div>\n",
              "<style scoped>\n",
              "    .dataframe tbody tr th:only-of-type {\n",
              "        vertical-align: middle;\n",
              "    }\n",
              "\n",
              "    .dataframe tbody tr th {\n",
              "        vertical-align: top;\n",
              "    }\n",
              "\n",
              "    .dataframe thead th {\n",
              "        text-align: right;\n",
              "    }\n",
              "</style>\n",
              "<table border=\"1\" class=\"dataframe\">\n",
              "  <thead>\n",
              "    <tr style=\"text-align: right;\">\n",
              "      <th></th>\n",
              "      <th>community</th>\n",
              "      <th>community_size</th>\n",
              "    </tr>\n",
              "  </thead>\n",
              "  <tbody>\n",
              "    <tr>\n",
              "      <th>0</th>\n",
              "      <td>2637</td>\n",
              "      <td>180</td>\n",
              "    </tr>\n",
              "    <tr>\n",
              "      <th>1</th>\n",
              "      <td>2535</td>\n",
              "      <td>129</td>\n",
              "    </tr>\n",
              "    <tr>\n",
              "      <th>2</th>\n",
              "      <td>1491</td>\n",
              "      <td>125</td>\n",
              "    </tr>\n",
              "    <tr>\n",
              "      <th>3</th>\n",
              "      <td>974</td>\n",
              "      <td>112</td>\n",
              "    </tr>\n",
              "    <tr>\n",
              "      <th>4</th>\n",
              "      <td>202</td>\n",
              "      <td>109</td>\n",
              "    </tr>\n",
              "    <tr>\n",
              "      <th>5</th>\n",
              "      <td>3009</td>\n",
              "      <td>109</td>\n",
              "    </tr>\n",
              "    <tr>\n",
              "      <th>6</th>\n",
              "      <td>372</td>\n",
              "      <td>101</td>\n",
              "    </tr>\n",
              "    <tr>\n",
              "      <th>7</th>\n",
              "      <td>4409</td>\n",
              "      <td>98</td>\n",
              "    </tr>\n",
              "    <tr>\n",
              "      <th>8</th>\n",
              "      <td>1867</td>\n",
              "      <td>97</td>\n",
              "    </tr>\n",
              "    <tr>\n",
              "      <th>9</th>\n",
              "      <td>956</td>\n",
              "      <td>96</td>\n",
              "    </tr>\n",
              "    <tr>\n",
              "      <th>10</th>\n",
              "      <td>363</td>\n",
              "      <td>96</td>\n",
              "    </tr>\n",
              "    <tr>\n",
              "      <th>11</th>\n",
              "      <td>4899</td>\n",
              "      <td>93</td>\n",
              "    </tr>\n",
              "    <tr>\n",
              "      <th>12</th>\n",
              "      <td>387</td>\n",
              "      <td>84</td>\n",
              "    </tr>\n",
              "    <tr>\n",
              "      <th>13</th>\n",
              "      <td>710</td>\n",
              "      <td>82</td>\n",
              "    </tr>\n",
              "    <tr>\n",
              "      <th>14</th>\n",
              "      <td>302</td>\n",
              "      <td>81</td>\n",
              "    </tr>\n",
              "    <tr>\n",
              "      <th>15</th>\n",
              "      <td>1587</td>\n",
              "      <td>79</td>\n",
              "    </tr>\n",
              "    <tr>\n",
              "      <th>16</th>\n",
              "      <td>1430</td>\n",
              "      <td>78</td>\n",
              "    </tr>\n",
              "    <tr>\n",
              "      <th>17</th>\n",
              "      <td>120</td>\n",
              "      <td>78</td>\n",
              "    </tr>\n",
              "    <tr>\n",
              "      <th>18</th>\n",
              "      <td>3053</td>\n",
              "      <td>78</td>\n",
              "    </tr>\n",
              "    <tr>\n",
              "      <th>19</th>\n",
              "      <td>194</td>\n",
              "      <td>76</td>\n",
              "    </tr>\n",
              "    <tr>\n",
              "      <th>20</th>\n",
              "      <td>760</td>\n",
              "      <td>68</td>\n",
              "    </tr>\n",
              "    <tr>\n",
              "      <th>21</th>\n",
              "      <td>5197</td>\n",
              "      <td>65</td>\n",
              "    </tr>\n",
              "    <tr>\n",
              "      <th>22</th>\n",
              "      <td>581</td>\n",
              "      <td>62</td>\n",
              "    </tr>\n",
              "    <tr>\n",
              "      <th>23</th>\n",
              "      <td>2893</td>\n",
              "      <td>62</td>\n",
              "    </tr>\n",
              "    <tr>\n",
              "      <th>24</th>\n",
              "      <td>4052</td>\n",
              "      <td>60</td>\n",
              "    </tr>\n",
              "    <tr>\n",
              "      <th>25</th>\n",
              "      <td>1240</td>\n",
              "      <td>57</td>\n",
              "    </tr>\n",
              "    <tr>\n",
              "      <th>26</th>\n",
              "      <td>3453</td>\n",
              "      <td>56</td>\n",
              "    </tr>\n",
              "    <tr>\n",
              "      <th>27</th>\n",
              "      <td>3636</td>\n",
              "      <td>56</td>\n",
              "    </tr>\n",
              "    <tr>\n",
              "      <th>28</th>\n",
              "      <td>5359</td>\n",
              "      <td>52</td>\n",
              "    </tr>\n",
              "    <tr>\n",
              "      <th>29</th>\n",
              "      <td>566</td>\n",
              "      <td>49</td>\n",
              "    </tr>\n",
              "    <tr>\n",
              "      <th>30</th>\n",
              "      <td>5895</td>\n",
              "      <td>47</td>\n",
              "    </tr>\n",
              "    <tr>\n",
              "      <th>31</th>\n",
              "      <td>1757</td>\n",
              "      <td>46</td>\n",
              "    </tr>\n",
              "    <tr>\n",
              "      <th>32</th>\n",
              "      <td>5008</td>\n",
              "      <td>43</td>\n",
              "    </tr>\n",
              "    <tr>\n",
              "      <th>33</th>\n",
              "      <td>3094</td>\n",
              "      <td>35</td>\n",
              "    </tr>\n",
              "    <tr>\n",
              "      <th>34</th>\n",
              "      <td>2291</td>\n",
              "      <td>32</td>\n",
              "    </tr>\n",
              "    <tr>\n",
              "      <th>35</th>\n",
              "      <td>1069</td>\n",
              "      <td>32</td>\n",
              "    </tr>\n",
              "    <tr>\n",
              "      <th>36</th>\n",
              "      <td>1754</td>\n",
              "      <td>22</td>\n",
              "    </tr>\n",
              "    <tr>\n",
              "      <th>37</th>\n",
              "      <td>4036</td>\n",
              "      <td>22</td>\n",
              "    </tr>\n",
              "    <tr>\n",
              "      <th>38</th>\n",
              "      <td>3507</td>\n",
              "      <td>21</td>\n",
              "    </tr>\n",
              "    <tr>\n",
              "      <th>39</th>\n",
              "      <td>5089</td>\n",
              "      <td>21</td>\n",
              "    </tr>\n",
              "    <tr>\n",
              "      <th>40</th>\n",
              "      <td>5379</td>\n",
              "      <td>20</td>\n",
              "    </tr>\n",
              "    <tr>\n",
              "      <th>41</th>\n",
              "      <td>2928</td>\n",
              "      <td>16</td>\n",
              "    </tr>\n",
              "    <tr>\n",
              "      <th>42</th>\n",
              "      <td>1174</td>\n",
              "      <td>16</td>\n",
              "    </tr>\n",
              "    <tr>\n",
              "      <th>43</th>\n",
              "      <td>1612</td>\n",
              "      <td>15</td>\n",
              "    </tr>\n",
              "    <tr>\n",
              "      <th>44</th>\n",
              "      <td>2033</td>\n",
              "      <td>15</td>\n",
              "    </tr>\n",
              "    <tr>\n",
              "      <th>45</th>\n",
              "      <td>2116</td>\n",
              "      <td>14</td>\n",
              "    </tr>\n",
              "    <tr>\n",
              "      <th>46</th>\n",
              "      <td>2029</td>\n",
              "      <td>12</td>\n",
              "    </tr>\n",
              "    <tr>\n",
              "      <th>47</th>\n",
              "      <td>4926</td>\n",
              "      <td>12</td>\n",
              "    </tr>\n",
              "    <tr>\n",
              "      <th>48</th>\n",
              "      <td>4396</td>\n",
              "      <td>12</td>\n",
              "    </tr>\n",
              "    <tr>\n",
              "      <th>49</th>\n",
              "      <td>1479</td>\n",
              "      <td>12</td>\n",
              "    </tr>\n",
              "  </tbody>\n",
              "</table>\n",
              "</div>\n",
              "      <button class=\"colab-df-convert\" onclick=\"convertToInteractive('df-9230c591-30f1-42e4-af90-ea644cddca9d')\"\n",
              "              title=\"Convert this dataframe to an interactive table.\"\n",
              "              style=\"display:none;\">\n",
              "        \n",
              "  <svg xmlns=\"http://www.w3.org/2000/svg\" height=\"24px\"viewBox=\"0 0 24 24\"\n",
              "       width=\"24px\">\n",
              "    <path d=\"M0 0h24v24H0V0z\" fill=\"none\"/>\n",
              "    <path d=\"M18.56 5.44l.94 2.06.94-2.06 2.06-.94-2.06-.94-.94-2.06-.94 2.06-2.06.94zm-11 1L8.5 8.5l.94-2.06 2.06-.94-2.06-.94L8.5 2.5l-.94 2.06-2.06.94zm10 10l.94 2.06.94-2.06 2.06-.94-2.06-.94-.94-2.06-.94 2.06-2.06.94z\"/><path d=\"M17.41 7.96l-1.37-1.37c-.4-.4-.92-.59-1.43-.59-.52 0-1.04.2-1.43.59L10.3 9.45l-7.72 7.72c-.78.78-.78 2.05 0 2.83L4 21.41c.39.39.9.59 1.41.59.51 0 1.02-.2 1.41-.59l7.78-7.78 2.81-2.81c.8-.78.8-2.07 0-2.86zM5.41 20L4 18.59l7.72-7.72 1.47 1.35L5.41 20z\"/>\n",
              "  </svg>\n",
              "      </button>\n",
              "      \n",
              "  <style>\n",
              "    .colab-df-container {\n",
              "      display:flex;\n",
              "      flex-wrap:wrap;\n",
              "      gap: 12px;\n",
              "    }\n",
              "\n",
              "    .colab-df-convert {\n",
              "      background-color: #E8F0FE;\n",
              "      border: none;\n",
              "      border-radius: 50%;\n",
              "      cursor: pointer;\n",
              "      display: none;\n",
              "      fill: #1967D2;\n",
              "      height: 32px;\n",
              "      padding: 0 0 0 0;\n",
              "      width: 32px;\n",
              "    }\n",
              "\n",
              "    .colab-df-convert:hover {\n",
              "      background-color: #E2EBFA;\n",
              "      box-shadow: 0px 1px 2px rgba(60, 64, 67, 0.3), 0px 1px 3px 1px rgba(60, 64, 67, 0.15);\n",
              "      fill: #174EA6;\n",
              "    }\n",
              "\n",
              "    [theme=dark] .colab-df-convert {\n",
              "      background-color: #3B4455;\n",
              "      fill: #D2E3FC;\n",
              "    }\n",
              "\n",
              "    [theme=dark] .colab-df-convert:hover {\n",
              "      background-color: #434B5C;\n",
              "      box-shadow: 0px 1px 3px 1px rgba(0, 0, 0, 0.15);\n",
              "      filter: drop-shadow(0px 1px 2px rgba(0, 0, 0, 0.3));\n",
              "      fill: #FFFFFF;\n",
              "    }\n",
              "  </style>\n",
              "\n",
              "      <script>\n",
              "        const buttonEl =\n",
              "          document.querySelector('#df-9230c591-30f1-42e4-af90-ea644cddca9d button.colab-df-convert');\n",
              "        buttonEl.style.display =\n",
              "          google.colab.kernel.accessAllowed ? 'block' : 'none';\n",
              "\n",
              "        async function convertToInteractive(key) {\n",
              "          const element = document.querySelector('#df-9230c591-30f1-42e4-af90-ea644cddca9d');\n",
              "          const dataTable =\n",
              "            await google.colab.kernel.invokeFunction('convertToInteractive',\n",
              "                                                     [key], {});\n",
              "          if (!dataTable) return;\n",
              "\n",
              "          const docLinkHtml = 'Like what you see? Visit the ' +\n",
              "            '<a target=\"_blank\" href=https://colab.research.google.com/notebooks/data_table.ipynb>data table notebook</a>'\n",
              "            + ' to learn more about interactive tables.';\n",
              "          element.innerHTML = '';\n",
              "          dataTable['output_type'] = 'display_data';\n",
              "          await google.colab.output.renderOutput(dataTable, element);\n",
              "          const docLink = document.createElement('div');\n",
              "          docLink.innerHTML = docLinkHtml;\n",
              "          element.appendChild(docLink);\n",
              "        }\n",
              "      </script>\n",
              "    </div>\n",
              "  </div>\n",
              "  "
            ]
          },
          "metadata": {},
          "execution_count": 53
        }
      ]
    },
    {
      "cell_type": "code",
      "source": [
        "query_string = '''\n",
        "MATCH (p:Person)\n",
        "WHERE p.id = 923\n",
        "RETURN p.louv as community\n",
        "'''\n",
        "conn.query(query_string)"
      ],
      "metadata": {
        "colab": {
          "base_uri": "https://localhost:8080/"
        },
        "id": "cV_-3fWMigQ9",
        "outputId": "ed415dc8-989c-4e32-9eb6-dd4a0bc6ea6f"
      },
      "execution_count": null,
      "outputs": [
        {
          "output_type": "execute_result",
          "data": {
            "text/plain": [
              "[<Record community=2031>]"
            ]
          },
          "metadata": {},
          "execution_count": 121
        }
      ]
    },
    {
      "cell_type": "code",
      "source": [
        "# Return a particular community for time span query \n",
        "\n",
        "# Louvain community profile by years of activity\n",
        "\n",
        "query_string = '''\n",
        "MATCH (p:Person)-[:WAS_ACTIVE_IN]->(l:Location) with p, p.year_from as year_from, p.year_to as year_to\n",
        "WHERE p.louv = 4567\n",
        "RETURN p.louv as community,\n",
        "       count(DISTINCT p) as community_size,\n",
        "       min(year_from) as earliest_commencement_date,\n",
        "       max(year_from) as latest_commencement_date,\n",
        "       max(year_to) as latest_cessation_date \n",
        "ORDER BY community_size DESC\n",
        "'''\n",
        "\n",
        "conn.query(query_string)\n",
        "\n",
        "results = pd.DataFrame([dict(_) for _ in conn.query(query_string)])\n",
        "\n",
        "results[\"span_years\"] = results[\"latest_cessation_date\"] - results[\"earliest_commencement_date\"] \n",
        "\n",
        "results"
      ],
      "metadata": {
        "colab": {
          "base_uri": "https://localhost:8080/",
          "height": 145
        },
        "id": "y4nhgeRKigE8",
        "outputId": "dd30154b-6cb1-4103-dbee-94660c9ccaea"
      },
      "execution_count": null,
      "outputs": [
        {
          "output_type": "execute_result",
          "data": {
            "text/plain": [
              "   community  community_size  earliest_commencement_date  \\\n",
              "0       4567              12                        1740   \n",
              "\n",
              "   latest_commencement_date  latest_cessation_date  span_years  \n",
              "0                      1822                   1834          94  "
            ],
            "text/html": [
              "\n",
              "  <div id=\"df-4092de8f-2d14-425c-bf82-d4fd825b0581\">\n",
              "    <div class=\"colab-df-container\">\n",
              "      <div>\n",
              "<style scoped>\n",
              "    .dataframe tbody tr th:only-of-type {\n",
              "        vertical-align: middle;\n",
              "    }\n",
              "\n",
              "    .dataframe tbody tr th {\n",
              "        vertical-align: top;\n",
              "    }\n",
              "\n",
              "    .dataframe thead th {\n",
              "        text-align: right;\n",
              "    }\n",
              "</style>\n",
              "<table border=\"1\" class=\"dataframe\">\n",
              "  <thead>\n",
              "    <tr style=\"text-align: right;\">\n",
              "      <th></th>\n",
              "      <th>community</th>\n",
              "      <th>community_size</th>\n",
              "      <th>earliest_commencement_date</th>\n",
              "      <th>latest_commencement_date</th>\n",
              "      <th>latest_cessation_date</th>\n",
              "      <th>span_years</th>\n",
              "    </tr>\n",
              "  </thead>\n",
              "  <tbody>\n",
              "    <tr>\n",
              "      <th>0</th>\n",
              "      <td>4567</td>\n",
              "      <td>12</td>\n",
              "      <td>1740</td>\n",
              "      <td>1822</td>\n",
              "      <td>1834</td>\n",
              "      <td>94</td>\n",
              "    </tr>\n",
              "  </tbody>\n",
              "</table>\n",
              "</div>\n",
              "      <button class=\"colab-df-convert\" onclick=\"convertToInteractive('df-4092de8f-2d14-425c-bf82-d4fd825b0581')\"\n",
              "              title=\"Convert this dataframe to an interactive table.\"\n",
              "              style=\"display:none;\">\n",
              "        \n",
              "  <svg xmlns=\"http://www.w3.org/2000/svg\" height=\"24px\"viewBox=\"0 0 24 24\"\n",
              "       width=\"24px\">\n",
              "    <path d=\"M0 0h24v24H0V0z\" fill=\"none\"/>\n",
              "    <path d=\"M18.56 5.44l.94 2.06.94-2.06 2.06-.94-2.06-.94-.94-2.06-.94 2.06-2.06.94zm-11 1L8.5 8.5l.94-2.06 2.06-.94-2.06-.94L8.5 2.5l-.94 2.06-2.06.94zm10 10l.94 2.06.94-2.06 2.06-.94-2.06-.94-.94-2.06-.94 2.06-2.06.94z\"/><path d=\"M17.41 7.96l-1.37-1.37c-.4-.4-.92-.59-1.43-.59-.52 0-1.04.2-1.43.59L10.3 9.45l-7.72 7.72c-.78.78-.78 2.05 0 2.83L4 21.41c.39.39.9.59 1.41.59.51 0 1.02-.2 1.41-.59l7.78-7.78 2.81-2.81c.8-.78.8-2.07 0-2.86zM5.41 20L4 18.59l7.72-7.72 1.47 1.35L5.41 20z\"/>\n",
              "  </svg>\n",
              "      </button>\n",
              "      \n",
              "  <style>\n",
              "    .colab-df-container {\n",
              "      display:flex;\n",
              "      flex-wrap:wrap;\n",
              "      gap: 12px;\n",
              "    }\n",
              "\n",
              "    .colab-df-convert {\n",
              "      background-color: #E8F0FE;\n",
              "      border: none;\n",
              "      border-radius: 50%;\n",
              "      cursor: pointer;\n",
              "      display: none;\n",
              "      fill: #1967D2;\n",
              "      height: 32px;\n",
              "      padding: 0 0 0 0;\n",
              "      width: 32px;\n",
              "    }\n",
              "\n",
              "    .colab-df-convert:hover {\n",
              "      background-color: #E2EBFA;\n",
              "      box-shadow: 0px 1px 2px rgba(60, 64, 67, 0.3), 0px 1px 3px 1px rgba(60, 64, 67, 0.15);\n",
              "      fill: #174EA6;\n",
              "    }\n",
              "\n",
              "    [theme=dark] .colab-df-convert {\n",
              "      background-color: #3B4455;\n",
              "      fill: #D2E3FC;\n",
              "    }\n",
              "\n",
              "    [theme=dark] .colab-df-convert:hover {\n",
              "      background-color: #434B5C;\n",
              "      box-shadow: 0px 1px 3px 1px rgba(0, 0, 0, 0.15);\n",
              "      filter: drop-shadow(0px 1px 2px rgba(0, 0, 0, 0.3));\n",
              "      fill: #FFFFFF;\n",
              "    }\n",
              "  </style>\n",
              "\n",
              "      <script>\n",
              "        const buttonEl =\n",
              "          document.querySelector('#df-4092de8f-2d14-425c-bf82-d4fd825b0581 button.colab-df-convert');\n",
              "        buttonEl.style.display =\n",
              "          google.colab.kernel.accessAllowed ? 'block' : 'none';\n",
              "\n",
              "        async function convertToInteractive(key) {\n",
              "          const element = document.querySelector('#df-4092de8f-2d14-425c-bf82-d4fd825b0581');\n",
              "          const dataTable =\n",
              "            await google.colab.kernel.invokeFunction('convertToInteractive',\n",
              "                                                     [key], {});\n",
              "          if (!dataTable) return;\n",
              "\n",
              "          const docLinkHtml = 'Like what you see? Visit the ' +\n",
              "            '<a target=\"_blank\" href=https://colab.research.google.com/notebooks/data_table.ipynb>data table notebook</a>'\n",
              "            + ' to learn more about interactive tables.';\n",
              "          element.innerHTML = '';\n",
              "          dataTable['output_type'] = 'display_data';\n",
              "          await google.colab.output.renderOutput(dataTable, element);\n",
              "          const docLink = document.createElement('div');\n",
              "          docLink.innerHTML = docLinkHtml;\n",
              "          element.appendChild(docLink);\n",
              "        }\n",
              "      </script>\n",
              "    </div>\n",
              "  </div>\n",
              "  "
            ]
          },
          "metadata": {},
          "execution_count": 126
        }
      ]
    },
    {
      "cell_type": "code",
      "source": [
        "'''\n",
        "MATCH (p:Person)-[:WAS_ACTIVE_IN]->(l:Location) \n",
        "OPTIONAL MATCH (p:Person)-[:MEMBER_OF]->(g:Guild) \n",
        "OPTIONAL MATCH (p:Person)-[:MADE]->(m:Maker_Of) with p.louv as community, p.year_from as year_from, collect(l) as locations, collect(g) as guilds, collect(m) as products_made, collect(p) as members \n",
        "WHERE community = 4567 AND year_from >=1740 AND year_from <1750  \n",
        "UNWIND members as member\n",
        "RETURN member,locations, guilds, products_made\n",
        "'''"
      ],
      "metadata": {
        "id": "P_jBO1Hqif2p"
      },
      "execution_count": null,
      "outputs": []
    },
    {
      "cell_type": "markdown",
      "source": [
        "# **9. Queries for Neo4j Browser Visualisation FOR DELETION**"
      ],
      "metadata": {
        "id": "7pLhq9PW6ytX"
      }
    },
    {
      "cell_type": "code",
      "source": [
        "# The queries in this section that are not prefaced with \"query_string\" must be copied and pasted into the Neo4j Browser window in order for the corresponsing visualisations to be generated \n",
        "# To generate the visualiation, copy and paste the text within the starting and ending ''' marks, excluding the ''' marks themselves "
      ],
      "metadata": {
        "id": "RofjUFU86-O3"
      },
      "execution_count": null,
      "outputs": []
    },
    {
      "cell_type": "code",
      "source": [
        "# Visualising communities by specific ID\n",
        "# This query is used to produce the visualisations for the largest 5 communities included in the dissertation Results section \n",
        "\n",
        "'''\n",
        "MATCH (p:Person)-[:WAS_ACTIVE_IN]->(l:Location) \n",
        "OPTIONAL MATCH (p:Person)-[:MEMBER_OF]->(g:Guild) \n",
        "OPTIONAL MATCH (p:Person)-[:MADE]->(m:Maker_Of)\n",
        "with p.louv as community, collect(l) as locations, collect(g) as guilds, collect(m) as products_made, collect(p) as members \n",
        "WHERE community = 943\n",
        "CALL apoc.create.vNodes(['Community'], [{name:community}]) YIELD node as comm \n",
        "UNWIND members as member\n",
        "CALL apoc.create.vRelationship(member,'MEMBER_OF_COMMUNITY',{}, comm) YIELD rel \n",
        "RETURN member,rel, locations, guilds, products_made\n",
        "'''"
      ],
      "metadata": {
        "id": "S2j3bwTkmdVB"
      },
      "execution_count": null,
      "outputs": []
    },
    {
      "cell_type": "code",
      "source": [],
      "metadata": {
        "id": "WwuY6A-hrlWN"
      },
      "execution_count": null,
      "outputs": []
    },
    {
      "cell_type": "code",
      "source": [],
      "metadata": {
        "id": "su2fzXz7rlpp"
      },
      "execution_count": null,
      "outputs": []
    },
    {
      "cell_type": "code",
      "source": [],
      "metadata": {
        "id": "U4PxRS2ArlzY"
      },
      "execution_count": null,
      "outputs": []
    },
    {
      "cell_type": "code",
      "source": [],
      "metadata": {
        "id": "mwSHTDY4rl-F"
      },
      "execution_count": null,
      "outputs": []
    },
    {
      "cell_type": "code",
      "source": [
        "# Find the community of a person of interest \n",
        "\n",
        "query_string = '''\n",
        "MATCH (p:Person)\n",
        "WHERE p.id = 749\n",
        "RETURN p.louv as community\n",
        "'''\n",
        "\n",
        "conn.query(query_string)"
      ],
      "metadata": {
        "colab": {
          "base_uri": "https://localhost:8080/"
        },
        "id": "5jYR0BwCqRiH",
        "outputId": "b25f83ee-7b16-420b-f74d-5925c2285857"
      },
      "execution_count": null,
      "outputs": [
        {
          "output_type": "execute_result",
          "data": {
            "text/plain": [
              "[<Record community=1240>]"
            ]
          },
          "metadata": {},
          "execution_count": 91
        }
      ]
    },
    {
      "cell_type": "code",
      "source": [
        "# Simple query to visualise a specific community by its members\n",
        "\n",
        "'''\n",
        "MATCH (p:Person) with p, p.louv as community\n",
        "WHERE community = 842\n",
        "RETURN p\n",
        "'''"
      ],
      "metadata": {
        "id": "mDwWhoVnmoUv"
      },
      "execution_count": null,
      "outputs": []
    },
    {
      "cell_type": "code",
      "source": [
        "# Extending the above to include associated locations\n",
        "# This query does not return the community number as a separate node to avoid overcrowding the resulting visualisation\n",
        "# A community number node can be added by including the string 'comm' in the RETURN statement \n",
        "\n",
        "'''\n",
        "MATCH (p:Person)-[:WAS_ACTIVE_IN]->(l:Location) with p.louv as community, collect(l) as locations, collect(p) as members \n",
        "WHERE community = 842\n",
        "CALL apoc.create.vNodes(['Community'], [{name:community}]) YIELD node as comm \n",
        "UNWIND members as member\n",
        "CALL apoc.create.vRelationship(member,'MEMBER_OF_COMMUNITY',{}, comm) YIELD rel \n",
        "RETURN member,rel,locations\n",
        "'''"
      ],
      "metadata": {
        "id": "jKei5gqxmyop"
      },
      "execution_count": null,
      "outputs": []
    },
    {
      "cell_type": "code",
      "source": [
        "# Further extending the above to bring in guild memberships\n",
        "\n",
        "'''\n",
        "MATCH (p:Person)-[:WAS_ACTIVE_IN]->(l:Location) \n",
        "OPTIONAL MATCH (g:Guild)<-[:MEMBER_OF]-(p:Person) \n",
        "with p.louv as community, collect(l) as locations, collect(g) as guilds, collect(p) as members \n",
        "WHERE community = 1323\n",
        "CALL apoc.create.vNodes(['Community'], [{name:community}]) YIELD node as comm \n",
        "UNWIND members as member\n",
        "CALL apoc.create.vRelationship(member,'MEMBER_OF_COMMUNITY',{}, comm) YIELD rel \n",
        "RETURN member,rel, locations, guilds\n",
        "'''"
      ],
      "metadata": {
        "id": "dQ3YXvDnm40D"
      },
      "execution_count": null,
      "outputs": []
    },
    {
      "cell_type": "code",
      "source": [
        "# Further extending to add in products made \n",
        "\n",
        "'''\n",
        "MATCH (p:Person)-[:WAS_ACTIVE_IN]->(l:Location) \n",
        "OPTIONAL MATCH (p:Person)-[:MEMBER_OF]->(g:Guild) \n",
        "OPTIONAL MATCH (p:Person)-[:MADE]->(m:Maker_Of)\n",
        "with p.louv as community, collect(l) as locations, collect(g) as guilds, collect(m) as products_made, collect(p) as members \n",
        "WHERE community = 842\n",
        "CALL apoc.create.vNodes(['Community'], [{name:community}]) YIELD node as comm \n",
        "UNWIND members as member\n",
        "CALL apoc.create.vRelationship(member,'MEMBER_OF_COMMUNITY',{}, comm) YIELD rel \n",
        "RETURN member,rel, locations, guilds, products_made\n",
        "'''"
      ],
      "metadata": {
        "id": "1nNuZYmUmydC"
      },
      "execution_count": null,
      "outputs": []
    },
    {
      "cell_type": "code",
      "source": [
        "# Query to find which communities made a particular product \n",
        "\n",
        "'''\n",
        "MATCH (p:Person)-[:MADE]->(m:Maker_Of) with m, p.louv as community,collect(p) as members, collect(m) as products_made\n",
        "WHERE m.product = \"Compass\"\n",
        "CALL apoc.create.vNodes(['Community'], [{name:community}]) YIELD node as comm \n",
        "UNWIND members as member \n",
        "CALL apoc.create.vRelationship(member,'MEMBER_OF_COMMUNITY',{}, comm) YIELD rel \n",
        "RETURN member,rel,comm, products_made\n",
        "'''"
      ],
      "metadata": {
        "id": "k_JxNevEo902"
      },
      "execution_count": null,
      "outputs": []
    },
    {
      "cell_type": "code",
      "source": [
        "# CAN DELETE \n",
        "'''\n",
        "MATCH (p:Person)-[:MADE]->(m:Maker_Of) \n",
        "OPTIONAL MATCH (p:Person)-[:WAS_ACTIVE_IN]->(l:Location) with m, p.louv as community,collect(p) as members, collect(m) as products_made, collect(l) as locations\n",
        "WHERE m.product = \"Compass\"\n",
        "CALL apoc.create.vNodes(['Community'], [{name:community}]) YIELD node as comm \n",
        "UNWIND locations as location\n",
        "UNWIND products_made as product\n",
        "CALL apoc.create.vRelationship(comm,'ASSOCIATED_WITH',{}, location) YIELD rel \n",
        "CALL apoc.create.vRelationship(product,'MADE_BY',{}, comm) YIELD rel \n",
        "RETURN rel,rel,comm, product\n",
        "'''"
      ],
      "metadata": {
        "id": "ZTuzjZ8kTx5N"
      },
      "execution_count": null,
      "outputs": []
    },
    {
      "cell_type": "code",
      "source": [
        "# Extending the above to find which communities made a particular product and the locations with which these communities were associated \n",
        "\n",
        "'''\n",
        "MATCH (p:Person)-[:MADE]->(m:Maker_Of)\n",
        "OPTIONAL MATCH (p:Person)-[:WAS_ACTIVE_IN]->(l:Location) with m, p.louv as community,collect(p) as members, collect(m) as products_made, collect(l) as locations\n",
        "WHERE m.product = \"Spectacle\"\n",
        "CALL apoc.create.vNodes(['Community'], [{name:community}]) YIELD node as comm \n",
        "UNWIND members as member \n",
        "CALL apoc.create.vRelationship(member,'MEMBER_OF_COMMUNITY',{}, comm) YIELD rel \n",
        "RETURN member,rel,comm, products_made, locations\n",
        "'''"
      ],
      "metadata": {
        "id": "Tu9FprkLo9pu"
      },
      "execution_count": null,
      "outputs": []
    },
    {
      "cell_type": "code",
      "source": [
        "# Extending the above query to include guild memberships\n",
        "\n",
        "'''\n",
        "MATCH (p:Person)-[:MADE]->(m:Maker_Of)\n",
        "OPTIONAL MATCH (p:Person)-[:WAS_ACTIVE_IN]->(l:Location) \n",
        "OPTIONAL MATCH (p:Person)-[:MEMBER_OF]->(g:Guild) with m, p.louv as community,collect(p) as members, collect(m) as products_made, collect(l) as locations, collect(g) as guilds\n",
        "WHERE m.product = \"Spectacle\"\n",
        "CALL apoc.create.vNodes(['Community'], [{name:community}]) YIELD node as comm \n",
        "UNWIND members as member \n",
        "CALL apoc.create.vRelationship(member,'MEMBER_OF_COMMUNITY',{}, comm) YIELD rel \n",
        "RETURN member,rel,comm, products_made, locations, guilds\n",
        "'''"
      ],
      "metadata": {
        "id": "l6_nCL8WXkIQ"
      },
      "execution_count": null,
      "outputs": []
    },
    {
      "cell_type": "code",
      "source": [
        "# Query looking at which members of which communities both made and sold items \n",
        "# This query is for all products \n",
        "\n",
        "'''\n",
        "MATCH (s:Seller_Of)<-[:SOLD]-(p:Person)-[:MADE]->(m:Maker_Of) with m,s, p.louv as community,collect(p) as members, collect(m) as products_made, collect(s) as products_sold\n",
        "WHERE m.product = \"Umbrella\"\n",
        "CALL apoc.create.vNodes(['Community'], [{name:community}]) YIELD node as comm \n",
        "UNWIND members as member \n",
        "CALL apoc.create.vRelationship(member,'MEMBER_OF_COMMUNITY',{}, comm) YIELD rel \n",
        "RETURN member,rel,comm, products_made, products_sold\n",
        "'''"
      ],
      "metadata": {
        "id": "ofGgXmzaXj_B"
      },
      "execution_count": null,
      "outputs": []
    },
    {
      "cell_type": "code",
      "source": [
        "# Extending the above query to include location and guild membership information as well\n",
        "\n",
        "'''\n",
        "MATCH (s:Seller_Of)<-[:SOLD]-(p:Person)-[:MADE]->(m:Maker_Of)\n",
        "OPTIONAL MATCH (p:Person)-[:WAS_ACTIVE_IN]->(l:Location) \n",
        "OPTIONAL MATCH (p:Person)-[:MEMBER_OF]->(g:Guild) with m,s, p.louv as community,collect(p) as members, collect(m) as products_made, collect(s) as products_sold, collect(l) as locations, collect(g) as guilds\n",
        "CALL apoc.create.vNodes(['Community'], [{name:community}]) YIELD node as comm \n",
        "UNWIND members as member \n",
        "CALL apoc.create.vRelationship(member,'MEMBER_OF_COMMUNITY',{}, comm) YIELD rel \n",
        "RETURN member,rel,comm, products_made, products_sold, locations, guilds\n",
        "'''"
      ],
      "metadata": {
        "id": "9dW1exE4iZ84"
      },
      "execution_count": null,
      "outputs": []
    },
    {
      "cell_type": "code",
      "source": [
        "# Members and associated communities where members both made a specific product and sold an item \n",
        "# Query includes location and guild information so can be trimmed if required \n",
        "\n",
        "'''\n",
        "MATCH (s:Seller_Of)<-[:SOLD]-(p:Person)-[:MADE]->(m:Maker_Of)\n",
        "OPTIONAL MATCH (p:Person)-[:WAS_ACTIVE_IN]->(l:Location) \n",
        "OPTIONAL MATCH (p:Person)-[:MEMBER_OF]->(g:Guild) with m,s, p.louv as community,collect(p) as members, collect(m) as products_made, collect(s) as products_sold, collect(l) as locations, collect(g) as guilds\n",
        "WHERE m.product = \"Salinometer\"\n",
        "CALL apoc.create.vNodes(['Community'], [{name:community}]) YIELD node as comm \n",
        "UNWIND members as member \n",
        "CALL apoc.create.vRelationship(member,'MEMBER_OF_COMMUNITY',{}, comm) YIELD rel \n",
        "RETURN member,rel,comm, products_made, products_sold, locations, guilds\n",
        "'''"
      ],
      "metadata": {
        "id": "Et1Hg5mhXjra"
      },
      "execution_count": null,
      "outputs": []
    },
    {
      "cell_type": "code",
      "source": [
        "# All communities in a particular location "
      ],
      "metadata": {
        "id": "1_mvgbh0XXPL"
      },
      "execution_count": null,
      "outputs": []
    },
    {
      "cell_type": "code",
      "source": [
        "# Query to generate the evolution of a community over time with the desired parameters \n",
        "# This query returns information on location, guild and products made as well as showing the constituent members of a certain community over a specified period\n",
        "\n",
        "'''\n",
        "MATCH (p:Person)-[:WAS_ACTIVE_IN]->(l:Location) \n",
        "OPTIONAL MATCH (p:Person)-[:MEMBER_OF]->(g:Guild) \n",
        "OPTIONAL MATCH (p:Person)-[:MADE]->(m:Maker_Of) with p.louv as community, p.year_from as year_from, collect(l) as locations, collect(g) as guilds, collect(m) as products_made, collect(p) as members \n",
        "WHERE community = 38 AND year_from >=1700 AND year_from <1800  \n",
        "UNWIND members as member\n",
        "RETURN member,locations, guilds, products_made\n",
        "'''"
      ],
      "metadata": {
        "id": "aVr679AlYVT7"
      },
      "execution_count": null,
      "outputs": []
    },
    {
      "cell_type": "code",
      "source": [
        "'''\n",
        "MATCH(p:Person)-[:MADE]->(m:Maker_Of) with m, p.louv as community, collect(p) as members, collect(m) as products_made\n",
        "WHERE m.product = \"Umbrella\"\n",
        "CALL apoc.create.vNodes(['Community'], [{name:community}]) YIELD node as comm \n",
        "UNWIND members as member \n",
        "CALL apoc.create.vRelationship(member,'MEMBER_OF_COMMUNITY',{}, comm) YIELD rel \n",
        "RETURN member,rel,comm, products_made\n",
        "'''"
      ],
      "metadata": {
        "id": "XDrKPEt4e0wa",
        "colab": {
          "base_uri": "https://localhost:8080/",
          "height": 87
        },
        "outputId": "7241cb13-a161-431a-d81b-7a14e73e71ed"
      },
      "execution_count": null,
      "outputs": [
        {
          "output_type": "execute_result",
          "data": {
            "text/plain": [
              "'\\nMATCH (s:Seller_Of)<-[:SOLD]-(p:Person)-[:MADE]->(m:Maker_Of) with m,s, p.louv as community,collect(p) as members, collect(m) as products_made, collect(s) as products_sold\\nWHERE m.product = \"Umbrella\"\\nCALL apoc.create.vNodes([\\'Community\\'], [{name:community}]) YIELD node as comm \\nUNWIND members as member \\nCALL apoc.create.vRelationship(member,\\'MEMBER_OF_COMMUNITY\\',{}, comm) YIELD rel\\nWITH DISTINCT community \\nRETURN member,rel,comm, products_made, products_sold\\n'"
            ],
            "application/vnd.google.colaboratory.intrinsic+json": {
              "type": "string"
            }
          },
          "metadata": {},
          "execution_count": 13
        }
      ]
    },
    {
      "cell_type": "code",
      "source": [
        "'''\n",
        "MATCH (p:Person)-[:WAS_ACTIVE_IN]->(l:Location) \n",
        "OPTIONAL MATCH (p:Person)-[:MEMBER_OF]->(g:Guild) \n",
        "OPTIONAL MATCH (p:Person)-[:MADE]->(m:Maker_Of)\n",
        "with p.louv as community, collect(l) as locations, collect(g) as guilds, collect(m) as products_made, collect(p) as members \n",
        "WHERE community = 1323\n",
        "CALL apoc.create.vNodes(['Community'], [{name:community}]) YIELD node as comm \n",
        "UNWIND members as member\n",
        "CALL apoc.create.vRelationship(member,'MEMBER_OF_COMMUNITY',{}, comm) YIELD rel \n",
        "RETURN member,rel, locations, guilds, products_made\n",
        "'''"
      ],
      "metadata": {
        "id": "dIEuO-VbJqXM"
      },
      "execution_count": null,
      "outputs": []
    },
    {
      "cell_type": "code",
      "source": [
        "# Return a particular community for time span query \n",
        "\n",
        "# Louvain community profile by years of activity\n",
        "\n",
        "query_string = '''\n",
        "MATCH (p:Person)-[:WAS_ACTIVE_IN]->(l:Location) with p, p.year_from as year_from, p.year_to as year_to\n",
        "WHERE p.louv = 1038\n",
        "RETURN p.louv as community,\n",
        "       count(DISTINCT p) as community_size,\n",
        "       min(year_from) as earliest_commencement_date,\n",
        "       max(year_from) as latest_commencement_date,\n",
        "       max(year_to) as latest_cessation_date \n",
        "ORDER BY community_size DESC\n",
        "'''\n",
        "\n",
        "conn.query(query_string)\n",
        "\n",
        "results = pd.DataFrame([dict(_) for _ in conn.query(query_string)])\n",
        "\n",
        "results[\"span_years\"] = results[\"latest_cessation_date\"] - results[\"earliest_commencement_date\"] \n",
        "\n",
        "results\n"
      ],
      "metadata": {
        "colab": {
          "base_uri": "https://localhost:8080/",
          "height": 125
        },
        "id": "t8c6q4PgRozW",
        "outputId": "4deaf28c-2a02-42e5-924b-62a533e2f96d"
      },
      "execution_count": null,
      "outputs": [
        {
          "output_type": "execute_result",
          "data": {
            "text/plain": [
              "   community  community_size  earliest_commencement_date  \\\n",
              "0       1038              21                        1763   \n",
              "\n",
              "   latest_commencement_date  latest_cessation_date  span_years  \n",
              "0                      1882                   1882         119  "
            ],
            "text/html": [
              "\n",
              "  <div id=\"df-4a5c97b8-68e4-41e5-a335-ce7d34930edf\">\n",
              "    <div class=\"colab-df-container\">\n",
              "      <div>\n",
              "<style scoped>\n",
              "    .dataframe tbody tr th:only-of-type {\n",
              "        vertical-align: middle;\n",
              "    }\n",
              "\n",
              "    .dataframe tbody tr th {\n",
              "        vertical-align: top;\n",
              "    }\n",
              "\n",
              "    .dataframe thead th {\n",
              "        text-align: right;\n",
              "    }\n",
              "</style>\n",
              "<table border=\"1\" class=\"dataframe\">\n",
              "  <thead>\n",
              "    <tr style=\"text-align: right;\">\n",
              "      <th></th>\n",
              "      <th>community</th>\n",
              "      <th>community_size</th>\n",
              "      <th>earliest_commencement_date</th>\n",
              "      <th>latest_commencement_date</th>\n",
              "      <th>latest_cessation_date</th>\n",
              "      <th>span_years</th>\n",
              "    </tr>\n",
              "  </thead>\n",
              "  <tbody>\n",
              "    <tr>\n",
              "      <th>0</th>\n",
              "      <td>1038</td>\n",
              "      <td>21</td>\n",
              "      <td>1763</td>\n",
              "      <td>1882</td>\n",
              "      <td>1882</td>\n",
              "      <td>119</td>\n",
              "    </tr>\n",
              "  </tbody>\n",
              "</table>\n",
              "</div>\n",
              "      <button class=\"colab-df-convert\" onclick=\"convertToInteractive('df-4a5c97b8-68e4-41e5-a335-ce7d34930edf')\"\n",
              "              title=\"Convert this dataframe to an interactive table.\"\n",
              "              style=\"display:none;\">\n",
              "        \n",
              "  <svg xmlns=\"http://www.w3.org/2000/svg\" height=\"24px\"viewBox=\"0 0 24 24\"\n",
              "       width=\"24px\">\n",
              "    <path d=\"M0 0h24v24H0V0z\" fill=\"none\"/>\n",
              "    <path d=\"M18.56 5.44l.94 2.06.94-2.06 2.06-.94-2.06-.94-.94-2.06-.94 2.06-2.06.94zm-11 1L8.5 8.5l.94-2.06 2.06-.94-2.06-.94L8.5 2.5l-.94 2.06-2.06.94zm10 10l.94 2.06.94-2.06 2.06-.94-2.06-.94-.94-2.06-.94 2.06-2.06.94z\"/><path d=\"M17.41 7.96l-1.37-1.37c-.4-.4-.92-.59-1.43-.59-.52 0-1.04.2-1.43.59L10.3 9.45l-7.72 7.72c-.78.78-.78 2.05 0 2.83L4 21.41c.39.39.9.59 1.41.59.51 0 1.02-.2 1.41-.59l7.78-7.78 2.81-2.81c.8-.78.8-2.07 0-2.86zM5.41 20L4 18.59l7.72-7.72 1.47 1.35L5.41 20z\"/>\n",
              "  </svg>\n",
              "      </button>\n",
              "      \n",
              "  <style>\n",
              "    .colab-df-container {\n",
              "      display:flex;\n",
              "      flex-wrap:wrap;\n",
              "      gap: 12px;\n",
              "    }\n",
              "\n",
              "    .colab-df-convert {\n",
              "      background-color: #E8F0FE;\n",
              "      border: none;\n",
              "      border-radius: 50%;\n",
              "      cursor: pointer;\n",
              "      display: none;\n",
              "      fill: #1967D2;\n",
              "      height: 32px;\n",
              "      padding: 0 0 0 0;\n",
              "      width: 32px;\n",
              "    }\n",
              "\n",
              "    .colab-df-convert:hover {\n",
              "      background-color: #E2EBFA;\n",
              "      box-shadow: 0px 1px 2px rgba(60, 64, 67, 0.3), 0px 1px 3px 1px rgba(60, 64, 67, 0.15);\n",
              "      fill: #174EA6;\n",
              "    }\n",
              "\n",
              "    [theme=dark] .colab-df-convert {\n",
              "      background-color: #3B4455;\n",
              "      fill: #D2E3FC;\n",
              "    }\n",
              "\n",
              "    [theme=dark] .colab-df-convert:hover {\n",
              "      background-color: #434B5C;\n",
              "      box-shadow: 0px 1px 3px 1px rgba(0, 0, 0, 0.15);\n",
              "      filter: drop-shadow(0px 1px 2px rgba(0, 0, 0, 0.3));\n",
              "      fill: #FFFFFF;\n",
              "    }\n",
              "  </style>\n",
              "\n",
              "      <script>\n",
              "        const buttonEl =\n",
              "          document.querySelector('#df-4a5c97b8-68e4-41e5-a335-ce7d34930edf button.colab-df-convert');\n",
              "        buttonEl.style.display =\n",
              "          google.colab.kernel.accessAllowed ? 'block' : 'none';\n",
              "\n",
              "        async function convertToInteractive(key) {\n",
              "          const element = document.querySelector('#df-4a5c97b8-68e4-41e5-a335-ce7d34930edf');\n",
              "          const dataTable =\n",
              "            await google.colab.kernel.invokeFunction('convertToInteractive',\n",
              "                                                     [key], {});\n",
              "          if (!dataTable) return;\n",
              "\n",
              "          const docLinkHtml = 'Like what you see? Visit the ' +\n",
              "            '<a target=\"_blank\" href=https://colab.research.google.com/notebooks/data_table.ipynb>data table notebook</a>'\n",
              "            + ' to learn more about interactive tables.';\n",
              "          element.innerHTML = '';\n",
              "          dataTable['output_type'] = 'display_data';\n",
              "          await google.colab.output.renderOutput(dataTable, element);\n",
              "          const docLink = document.createElement('div');\n",
              "          docLink.innerHTML = docLinkHtml;\n",
              "          element.appendChild(docLink);\n",
              "        }\n",
              "      </script>\n",
              "    </div>\n",
              "  </div>\n",
              "  "
            ]
          },
          "metadata": {},
          "execution_count": 18
        }
      ]
    },
    {
      "cell_type": "code",
      "source": [
        "results"
      ],
      "metadata": {
        "colab": {
          "base_uri": "https://localhost:8080/",
          "height": 125
        },
        "id": "rIMUy0YLSAti",
        "outputId": "007d0627-944d-48f6-bf69-ed1d6e1744d5"
      },
      "execution_count": null,
      "outputs": [
        {
          "output_type": "execute_result",
          "data": {
            "text/plain": [
              "   community  community_size  earliest_commencement_date  \\\n",
              "0       1323              57                        1714   \n",
              "\n",
              "   latest_commencement_date  latest_cessation_date  span_years  \n",
              "0                      1901                   1913         199  "
            ],
            "text/html": [
              "\n",
              "  <div id=\"df-f73cd131-adc2-432e-908c-035e5c3f4df1\">\n",
              "    <div class=\"colab-df-container\">\n",
              "      <div>\n",
              "<style scoped>\n",
              "    .dataframe tbody tr th:only-of-type {\n",
              "        vertical-align: middle;\n",
              "    }\n",
              "\n",
              "    .dataframe tbody tr th {\n",
              "        vertical-align: top;\n",
              "    }\n",
              "\n",
              "    .dataframe thead th {\n",
              "        text-align: right;\n",
              "    }\n",
              "</style>\n",
              "<table border=\"1\" class=\"dataframe\">\n",
              "  <thead>\n",
              "    <tr style=\"text-align: right;\">\n",
              "      <th></th>\n",
              "      <th>community</th>\n",
              "      <th>community_size</th>\n",
              "      <th>earliest_commencement_date</th>\n",
              "      <th>latest_commencement_date</th>\n",
              "      <th>latest_cessation_date</th>\n",
              "      <th>span_years</th>\n",
              "    </tr>\n",
              "  </thead>\n",
              "  <tbody>\n",
              "    <tr>\n",
              "      <th>0</th>\n",
              "      <td>1323</td>\n",
              "      <td>57</td>\n",
              "      <td>1714</td>\n",
              "      <td>1901</td>\n",
              "      <td>1913</td>\n",
              "      <td>199</td>\n",
              "    </tr>\n",
              "  </tbody>\n",
              "</table>\n",
              "</div>\n",
              "      <button class=\"colab-df-convert\" onclick=\"convertToInteractive('df-f73cd131-adc2-432e-908c-035e5c3f4df1')\"\n",
              "              title=\"Convert this dataframe to an interactive table.\"\n",
              "              style=\"display:none;\">\n",
              "        \n",
              "  <svg xmlns=\"http://www.w3.org/2000/svg\" height=\"24px\"viewBox=\"0 0 24 24\"\n",
              "       width=\"24px\">\n",
              "    <path d=\"M0 0h24v24H0V0z\" fill=\"none\"/>\n",
              "    <path d=\"M18.56 5.44l.94 2.06.94-2.06 2.06-.94-2.06-.94-.94-2.06-.94 2.06-2.06.94zm-11 1L8.5 8.5l.94-2.06 2.06-.94-2.06-.94L8.5 2.5l-.94 2.06-2.06.94zm10 10l.94 2.06.94-2.06 2.06-.94-2.06-.94-.94-2.06-.94 2.06-2.06.94z\"/><path d=\"M17.41 7.96l-1.37-1.37c-.4-.4-.92-.59-1.43-.59-.52 0-1.04.2-1.43.59L10.3 9.45l-7.72 7.72c-.78.78-.78 2.05 0 2.83L4 21.41c.39.39.9.59 1.41.59.51 0 1.02-.2 1.41-.59l7.78-7.78 2.81-2.81c.8-.78.8-2.07 0-2.86zM5.41 20L4 18.59l7.72-7.72 1.47 1.35L5.41 20z\"/>\n",
              "  </svg>\n",
              "      </button>\n",
              "      \n",
              "  <style>\n",
              "    .colab-df-container {\n",
              "      display:flex;\n",
              "      flex-wrap:wrap;\n",
              "      gap: 12px;\n",
              "    }\n",
              "\n",
              "    .colab-df-convert {\n",
              "      background-color: #E8F0FE;\n",
              "      border: none;\n",
              "      border-radius: 50%;\n",
              "      cursor: pointer;\n",
              "      display: none;\n",
              "      fill: #1967D2;\n",
              "      height: 32px;\n",
              "      padding: 0 0 0 0;\n",
              "      width: 32px;\n",
              "    }\n",
              "\n",
              "    .colab-df-convert:hover {\n",
              "      background-color: #E2EBFA;\n",
              "      box-shadow: 0px 1px 2px rgba(60, 64, 67, 0.3), 0px 1px 3px 1px rgba(60, 64, 67, 0.15);\n",
              "      fill: #174EA6;\n",
              "    }\n",
              "\n",
              "    [theme=dark] .colab-df-convert {\n",
              "      background-color: #3B4455;\n",
              "      fill: #D2E3FC;\n",
              "    }\n",
              "\n",
              "    [theme=dark] .colab-df-convert:hover {\n",
              "      background-color: #434B5C;\n",
              "      box-shadow: 0px 1px 3px 1px rgba(0, 0, 0, 0.15);\n",
              "      filter: drop-shadow(0px 1px 2px rgba(0, 0, 0, 0.3));\n",
              "      fill: #FFFFFF;\n",
              "    }\n",
              "  </style>\n",
              "\n",
              "      <script>\n",
              "        const buttonEl =\n",
              "          document.querySelector('#df-f73cd131-adc2-432e-908c-035e5c3f4df1 button.colab-df-convert');\n",
              "        buttonEl.style.display =\n",
              "          google.colab.kernel.accessAllowed ? 'block' : 'none';\n",
              "\n",
              "        async function convertToInteractive(key) {\n",
              "          const element = document.querySelector('#df-f73cd131-adc2-432e-908c-035e5c3f4df1');\n",
              "          const dataTable =\n",
              "            await google.colab.kernel.invokeFunction('convertToInteractive',\n",
              "                                                     [key], {});\n",
              "          if (!dataTable) return;\n",
              "\n",
              "          const docLinkHtml = 'Like what you see? Visit the ' +\n",
              "            '<a target=\"_blank\" href=https://colab.research.google.com/notebooks/data_table.ipynb>data table notebook</a>'\n",
              "            + ' to learn more about interactive tables.';\n",
              "          element.innerHTML = '';\n",
              "          dataTable['output_type'] = 'display_data';\n",
              "          await google.colab.output.renderOutput(dataTable, element);\n",
              "          const docLink = document.createElement('div');\n",
              "          docLink.innerHTML = docLinkHtml;\n",
              "          element.appendChild(docLink);\n",
              "        }\n",
              "      </script>\n",
              "    </div>\n",
              "  </div>\n",
              "  "
            ]
          },
          "metadata": {},
          "execution_count": 15
        }
      ]
    },
    {
      "cell_type": "code",
      "source": [
        "'''\n",
        "MATCH (p:Person)-[:WAS_ACTIVE_IN]->(l:Location) \n",
        "OPTIONAL MATCH (p:Person)-[:MEMBER_OF]->(g:Guild) \n",
        "OPTIONAL MATCH (p:Person)-[:MADE]->(m:Maker_Of) with p.louv as community, p.year_from as year_from, collect(l) as locations, collect(g) as guilds, collect(m) as products_made, collect(p) as members \n",
        "WHERE community = 1038 AND year_from >=1760 AND year_from <1780  \n",
        "UNWIND members as member\n",
        "RETURN member,locations, guilds, products_made\n",
        "'''"
      ],
      "metadata": {
        "id": "mpNQ_uFLTRTU"
      },
      "execution_count": null,
      "outputs": []
    },
    {
      "cell_type": "code",
      "source": [
        "'''\n",
        "MATCH (p:Person)-[]->(p1:Person) \n",
        "WHERE p.id = 749\n",
        "RETURN p, p1\n",
        "'''"
      ],
      "metadata": {
        "id": "6Z60ZhC4Cfs3"
      },
      "execution_count": null,
      "outputs": []
    },
    {
      "cell_type": "code",
      "source": [
        "'''\n",
        "MATCH (p:Person)-[]->(p1:Person) \n",
        "MATCH (p:Person)-[:WAS_ACTIVE_IN]->(l:Location) \n",
        "MATCH (p:Person)-[:MEMBER_OF]->(g:Guild) \n",
        "WHERE p.id = 749\n",
        "RETURN p, p1, l, g \n",
        "'''"
      ],
      "metadata": {
        "id": "rbfFdsw_JJKB"
      },
      "execution_count": null,
      "outputs": []
    },
    {
      "cell_type": "code",
      "source": [
        "'''\n",
        "MATCH (p:Person)-[]->(p1:Person) \n",
        "WHERE p.last_name = \"WATT\"\n",
        "RETURN p, p1\n",
        "'''"
      ],
      "metadata": {
        "id": "dZaAwzkiHjDd"
      },
      "execution_count": null,
      "outputs": []
    },
    {
      "cell_type": "code",
      "source": [
        "'''\n",
        "MATCH (p:Person)-[]->(p1:Person) \n",
        "WHERE p.last_name = \"WATT\"\n",
        "RETURN p.louv\n",
        "'''"
      ],
      "metadata": {
        "id": "Few_4Dn4gkmp"
      },
      "execution_count": null,
      "outputs": []
    },
    {
      "cell_type": "code",
      "source": [
        "'''\n",
        "MATCH (s)-[assoc:ASSOCIATED_WITH_ADDRESS]->(a)\n",
        "WHERE s.latitude = \"51.5062516547869\"\n",
        "RETURN s, a\n",
        "'''"
      ],
      "metadata": {
        "id": "AQ5csKe2WoCL"
      },
      "execution_count": null,
      "outputs": []
    },
    {
      "cell_type": "markdown",
      "source": [
        "# **QUERIES FOR GRAPHXR**"
      ],
      "metadata": {
        "id": "8E36PMSXgC4m"
      }
    },
    {
      "cell_type": "code",
      "source": [
        "# Community evolution through time \n",
        "'''\n",
        "MATCH (p)-[o:OPERATED_DURING]->(t) with p.louv as community, collect(t) as timespans, collect(p) as members \n",
        "WHERE community = 1606 \n",
        "UNWIND members as member\n",
        "RETURN member,timespans\n",
        "'''"
      ],
      "metadata": {
        "id": "TstBofHGgB4m"
      },
      "execution_count": null,
      "outputs": []
    },
    {
      "cell_type": "code",
      "source": [
        "'''\n",
        "MATCH (p:Person)-[:WAS_ACTIVE_IN]->(l:Location) \n",
        "OPTIONAL MATCH (p:Person)-[:MEMBER_OF]->(g:Guild) with p.louv as community, collect(l) as locations, collect(g) as guilds, collect(p) as members \n",
        "WHERE community = 5359 \n",
        "UNWIND members as member\n",
        "RETURN member,locations, guilds\n",
        "'''"
      ],
      "metadata": {
        "id": "d8NKSHtqgBu_"
      },
      "execution_count": null,
      "outputs": []
    },
    {
      "cell_type": "code",
      "source": [
        "'''\n",
        "MATCH (s:Seller_Of)<-[:SOLD]-(p:Person)-[:MADE]->(m:Maker_Of) with m,s, p.louv as community,collect(p) as members, collect(m) as products_made, collect(s) as products_sold\n",
        "WHERE community = 5359\n",
        "CALL apoc.create.vNodes(['Community'], [{name:community}]) YIELD node as comm \n",
        "UNWIND members as member \n",
        "CALL apoc.create.vRelationship(member,'MEMBER_OF_COMMUNITY',{}, comm) YIELD rel \n",
        "RETURN member,rel,comm, products_made, products_sold\n",
        "'''"
      ],
      "metadata": {
        "id": "RbGmJf_MgBnq"
      },
      "execution_count": null,
      "outputs": []
    },
    {
      "cell_type": "code",
      "source": [],
      "metadata": {
        "id": "MeWposOVgBfE"
      },
      "execution_count": null,
      "outputs": []
    },
    {
      "cell_type": "markdown",
      "source": [
        "# **Queries Used in Geometric Layouts**"
      ],
      "metadata": {
        "id": "BLYIs2_dk9kz"
      }
    },
    {
      "cell_type": "code",
      "source": [
        "'''\n",
        "MATCH (g:Guild)<-[:MEMBER_OF]-(p:Person) \n",
        "with p.louv as community, collect(g) as guilds, collect(p) as members \n",
        "WHERE community = 202\n",
        "CALL apoc.create.vNodes(['Community'], [{name:community}]) YIELD node as comm \n",
        "UNWIND members as member\n",
        "CALL apoc.create.vRelationship(member,'MEMBER_OF_COMMUNITY',{}, comm) YIELD rel \n",
        "RETURN member,rel, guilds\n",
        "'''"
      ],
      "metadata": {
        "id": "IvOk_2Vdk6eh"
      },
      "execution_count": null,
      "outputs": []
    },
    {
      "cell_type": "code",
      "source": [
        "'''\n",
        "MATCH (p:Person)-[:WAS_ACTIVE_IN]->(l:Location) \n",
        "OPTIONAL MATCH (p:Person)-[:MEMBER_OF]->(g:Guild) \n",
        "OPTIONAL MATCH (p:Person)-[:MADE]->(m:Maker_Of)\n",
        "with p.louv as community, collect(l) as locations, collect(g) as guilds, collect(m) as products_made, collect(p) as members \n",
        "WHERE community = 2637\n",
        "CALL apoc.create.vNodes(['Community'], [{name:community}]) YIELD node as comm \n",
        "UNWIND members as member\n",
        "CALL apoc.create.vRelationship(member,'MEMBER_OF_COMMUNITY',{}, comm) YIELD rel \n",
        "RETURN member,rel, locations, guilds, products_made\n",
        "'''"
      ],
      "metadata": {
        "id": "R0GI1agNsw60"
      },
      "execution_count": null,
      "outputs": []
    }
  ]
}