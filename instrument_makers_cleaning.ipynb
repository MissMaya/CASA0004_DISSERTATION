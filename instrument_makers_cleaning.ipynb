{
  "nbformat": 4,
  "nbformat_minor": 0,
  "metadata": {
    "colab": {
      "provenance": []
    },
    "kernelspec": {
      "name": "python3",
      "display_name": "Python 3"
    },
    "language_info": {
      "name": "python"
    }
  },
  "cells": [
    {
      "cell_type": "markdown",
      "source": [
        "# **Data Cleaning Procedures for Scientific Instrument Makers' Dataset**\n",
        " "
      ],
      "metadata": {
        "id": "s3VnB6qKjreB"
      }
    },
    {
      "cell_type": "markdown",
      "source": [
        "# **1. Mount the Drive** "
      ],
      "metadata": {
        "id": "GlgZDF3QDkuz"
      }
    },
    {
      "cell_type": "code",
      "source": [
        "from google.colab import drive\n",
        "drive.mount('/content/drive')"
      ],
      "metadata": {
        "colab": {
          "base_uri": "https://localhost:8080/"
        },
        "id": "W885xtnX_mNj",
        "outputId": "83728314-06eb-4c00-80db-059a62e3742e"
      },
      "execution_count": 1,
      "outputs": [
        {
          "output_type": "stream",
          "name": "stdout",
          "text": [
            "Mounted at /content/drive\n"
          ]
        }
      ]
    },
    {
      "cell_type": "markdown",
      "source": [
        "# **2. Load the Required Libraries** "
      ],
      "metadata": {
        "id": "2puQ87AKxi3v"
      }
    },
    {
      "cell_type": "code",
      "execution_count": 19,
      "metadata": {
        "id": "XZXTDd2Arl8N"
      },
      "outputs": [],
      "source": [
        "import pandas as pd\n",
        "import re\n",
        "import numpy as np\n",
        "import math\n",
        "import seaborn as sns\n",
        "import matplotlib.pyplot as plt\n",
        "import matplotlib.ticker as ticker\n",
        "from datetime import datetime\n",
        "\n"
      ]
    },
    {
      "cell_type": "code",
      "source": [
        "!pip install ipynb"
      ],
      "metadata": {
        "colab": {
          "base_uri": "https://localhost:8080/"
        },
        "id": "uViVPcyVw6If",
        "outputId": "7299d191-b65a-4927-982f-6741dd2f3acf"
      },
      "execution_count": 20,
      "outputs": [
        {
          "output_type": "stream",
          "name": "stdout",
          "text": [
            "Looking in indexes: https://pypi.org/simple, https://us-python.pkg.dev/colab-wheels/public/simple/\n",
            "Requirement already satisfied: ipynb in /usr/local/lib/python3.8/dist-packages (0.5.1)\n"
          ]
        }
      ]
    },
    {
      "cell_type": "code",
      "source": [
        "%run /content/drive/MyDrive/colab_notebooks/tok_key.ipynb\n"
      ],
      "metadata": {
        "id": "pW6NzkZow9jB"
      },
      "execution_count": 21,
      "outputs": []
    },
    {
      "cell_type": "markdown",
      "source": [
        "# **3. Clean the Individuals Data** "
      ],
      "metadata": {
        "id": "WNzDb5RxxYnv"
      }
    },
    {
      "cell_type": "code",
      "source": [
        "# Read in the raw data file from Github\n",
        "i_url = \"https://raw.githubusercontent.com/MissMaya/CASA0004_DISSERTATION_DATA/main/raw_data/individuals.csv\"\n",
        "i_df = pd.read_csv(i_url)"
      ],
      "metadata": {
        "id": "Vho0NFdLryWx"
      },
      "execution_count": null,
      "outputs": []
    },
    {
      "cell_type": "code",
      "source": [
        "# Check the initial shape and column headings of the dataframe \n",
        "i_df.head()"
      ],
      "metadata": {
        "colab": {
          "base_uri": "https://localhost:8080/",
          "height": 206
        },
        "id": "2eDhhwUsvW-b",
        "outputId": "7ed4d565-9e94-4db6-ddda-561e498cda6f"
      },
      "execution_count": null,
      "outputs": [
        {
          "output_type": "execute_result",
          "data": {
            "text/plain": [
              "     Id  Label  timeset     0     1        2            3\n",
              "0  2806   2806      NaN  1808  1808  William            \\\n",
              "1  2028   2028      NaN  1808  1833   Philip    CARPENTER\n",
              "2  1122   1122      NaN  1805  1822    Aaron        AARON\n",
              "3  1671   1671      NaN  1801  1801    Isaac  AARON & CO.\n",
              "4  1670   1670      NaN  1794  1814    Isaac  AARON & SON"
            ],
            "text/html": [
              "\n",
              "  <div id=\"df-f321990c-b446-45b1-af36-7db0c052f527\">\n",
              "    <div class=\"colab-df-container\">\n",
              "      <div>\n",
              "<style scoped>\n",
              "    .dataframe tbody tr th:only-of-type {\n",
              "        vertical-align: middle;\n",
              "    }\n",
              "\n",
              "    .dataframe tbody tr th {\n",
              "        vertical-align: top;\n",
              "    }\n",
              "\n",
              "    .dataframe thead th {\n",
              "        text-align: right;\n",
              "    }\n",
              "</style>\n",
              "<table border=\"1\" class=\"dataframe\">\n",
              "  <thead>\n",
              "    <tr style=\"text-align: right;\">\n",
              "      <th></th>\n",
              "      <th>Id</th>\n",
              "      <th>Label</th>\n",
              "      <th>timeset</th>\n",
              "      <th>0</th>\n",
              "      <th>1</th>\n",
              "      <th>2</th>\n",
              "      <th>3</th>\n",
              "    </tr>\n",
              "  </thead>\n",
              "  <tbody>\n",
              "    <tr>\n",
              "      <th>0</th>\n",
              "      <td>2806</td>\n",
              "      <td>2806</td>\n",
              "      <td>NaN</td>\n",
              "      <td>1808</td>\n",
              "      <td>1808</td>\n",
              "      <td>William</td>\n",
              "      <td>\\</td>\n",
              "    </tr>\n",
              "    <tr>\n",
              "      <th>1</th>\n",
              "      <td>2028</td>\n",
              "      <td>2028</td>\n",
              "      <td>NaN</td>\n",
              "      <td>1808</td>\n",
              "      <td>1833</td>\n",
              "      <td>Philip</td>\n",
              "      <td>CARPENTER</td>\n",
              "    </tr>\n",
              "    <tr>\n",
              "      <th>2</th>\n",
              "      <td>1122</td>\n",
              "      <td>1122</td>\n",
              "      <td>NaN</td>\n",
              "      <td>1805</td>\n",
              "      <td>1822</td>\n",
              "      <td>Aaron</td>\n",
              "      <td>AARON</td>\n",
              "    </tr>\n",
              "    <tr>\n",
              "      <th>3</th>\n",
              "      <td>1671</td>\n",
              "      <td>1671</td>\n",
              "      <td>NaN</td>\n",
              "      <td>1801</td>\n",
              "      <td>1801</td>\n",
              "      <td>Isaac</td>\n",
              "      <td>AARON &amp; CO.</td>\n",
              "    </tr>\n",
              "    <tr>\n",
              "      <th>4</th>\n",
              "      <td>1670</td>\n",
              "      <td>1670</td>\n",
              "      <td>NaN</td>\n",
              "      <td>1794</td>\n",
              "      <td>1814</td>\n",
              "      <td>Isaac</td>\n",
              "      <td>AARON &amp; SON</td>\n",
              "    </tr>\n",
              "  </tbody>\n",
              "</table>\n",
              "</div>\n",
              "      <button class=\"colab-df-convert\" onclick=\"convertToInteractive('df-f321990c-b446-45b1-af36-7db0c052f527')\"\n",
              "              title=\"Convert this dataframe to an interactive table.\"\n",
              "              style=\"display:none;\">\n",
              "        \n",
              "  <svg xmlns=\"http://www.w3.org/2000/svg\" height=\"24px\"viewBox=\"0 0 24 24\"\n",
              "       width=\"24px\">\n",
              "    <path d=\"M0 0h24v24H0V0z\" fill=\"none\"/>\n",
              "    <path d=\"M18.56 5.44l.94 2.06.94-2.06 2.06-.94-2.06-.94-.94-2.06-.94 2.06-2.06.94zm-11 1L8.5 8.5l.94-2.06 2.06-.94-2.06-.94L8.5 2.5l-.94 2.06-2.06.94zm10 10l.94 2.06.94-2.06 2.06-.94-2.06-.94-.94-2.06-.94 2.06-2.06.94z\"/><path d=\"M17.41 7.96l-1.37-1.37c-.4-.4-.92-.59-1.43-.59-.52 0-1.04.2-1.43.59L10.3 9.45l-7.72 7.72c-.78.78-.78 2.05 0 2.83L4 21.41c.39.39.9.59 1.41.59.51 0 1.02-.2 1.41-.59l7.78-7.78 2.81-2.81c.8-.78.8-2.07 0-2.86zM5.41 20L4 18.59l7.72-7.72 1.47 1.35L5.41 20z\"/>\n",
              "  </svg>\n",
              "      </button>\n",
              "      \n",
              "  <style>\n",
              "    .colab-df-container {\n",
              "      display:flex;\n",
              "      flex-wrap:wrap;\n",
              "      gap: 12px;\n",
              "    }\n",
              "\n",
              "    .colab-df-convert {\n",
              "      background-color: #E8F0FE;\n",
              "      border: none;\n",
              "      border-radius: 50%;\n",
              "      cursor: pointer;\n",
              "      display: none;\n",
              "      fill: #1967D2;\n",
              "      height: 32px;\n",
              "      padding: 0 0 0 0;\n",
              "      width: 32px;\n",
              "    }\n",
              "\n",
              "    .colab-df-convert:hover {\n",
              "      background-color: #E2EBFA;\n",
              "      box-shadow: 0px 1px 2px rgba(60, 64, 67, 0.3), 0px 1px 3px 1px rgba(60, 64, 67, 0.15);\n",
              "      fill: #174EA6;\n",
              "    }\n",
              "\n",
              "    [theme=dark] .colab-df-convert {\n",
              "      background-color: #3B4455;\n",
              "      fill: #D2E3FC;\n",
              "    }\n",
              "\n",
              "    [theme=dark] .colab-df-convert:hover {\n",
              "      background-color: #434B5C;\n",
              "      box-shadow: 0px 1px 3px 1px rgba(0, 0, 0, 0.15);\n",
              "      filter: drop-shadow(0px 1px 2px rgba(0, 0, 0, 0.3));\n",
              "      fill: #FFFFFF;\n",
              "    }\n",
              "  </style>\n",
              "\n",
              "      <script>\n",
              "        const buttonEl =\n",
              "          document.querySelector('#df-f321990c-b446-45b1-af36-7db0c052f527 button.colab-df-convert');\n",
              "        buttonEl.style.display =\n",
              "          google.colab.kernel.accessAllowed ? 'block' : 'none';\n",
              "\n",
              "        async function convertToInteractive(key) {\n",
              "          const element = document.querySelector('#df-f321990c-b446-45b1-af36-7db0c052f527');\n",
              "          const dataTable =\n",
              "            await google.colab.kernel.invokeFunction('convertToInteractive',\n",
              "                                                     [key], {});\n",
              "          if (!dataTable) return;\n",
              "\n",
              "          const docLinkHtml = 'Like what you see? Visit the ' +\n",
              "            '<a target=\"_blank\" href=https://colab.research.google.com/notebooks/data_table.ipynb>data table notebook</a>'\n",
              "            + ' to learn more about interactive tables.';\n",
              "          element.innerHTML = '';\n",
              "          dataTable['output_type'] = 'display_data';\n",
              "          await google.colab.output.renderOutput(dataTable, element);\n",
              "          const docLink = document.createElement('div');\n",
              "          docLink.innerHTML = docLinkHtml;\n",
              "          element.appendChild(docLink);\n",
              "        }\n",
              "      </script>\n",
              "    </div>\n",
              "  </div>\n",
              "  "
            ]
          },
          "metadata": {},
          "execution_count": 378
        }
      ]
    },
    {
      "cell_type": "code",
      "source": [
        "# Check the data types\n",
        "i_df.dtypes"
      ],
      "metadata": {
        "colab": {
          "base_uri": "https://localhost:8080/"
        },
        "id": "vjqlojFV_yJg",
        "outputId": "6be83f3b-0a23-45d6-8326-35cea059ceed"
      },
      "execution_count": null,
      "outputs": [
        {
          "output_type": "execute_result",
          "data": {
            "text/plain": [
              "Id           int64\n",
              "Label        int64\n",
              "timeset    float64\n",
              "0           object\n",
              "1           object\n",
              "2           object\n",
              "3           object\n",
              "dtype: object"
            ]
          },
          "metadata": {},
          "execution_count": 379
        }
      ]
    },
    {
      "cell_type": "code",
      "source": [
        "# Convert columnn names to lower case \n",
        "i_df.columns = i_df.columns.str.lower()"
      ],
      "metadata": {
        "id": "8RMFOmiqvfY-"
      },
      "execution_count": null,
      "outputs": []
    },
    {
      "cell_type": "code",
      "source": [
        "# Drop any rows with null values in \"id\" column\n",
        "i_df = i_df.dropna(subset = [\"id\"])"
      ],
      "metadata": {
        "id": "aJIWHbxqc1m9"
      },
      "execution_count": null,
      "outputs": []
    },
    {
      "cell_type": "code",
      "source": [
        "# Check that there are no duplicate values in the \"id\" column \n",
        "i_df[\"id\"].duplicated().sum()"
      ],
      "metadata": {
        "colab": {
          "base_uri": "https://localhost:8080/"
        },
        "id": "u2MR5-zEdtkY",
        "outputId": "59293353-3b34-48ff-b6dd-da95c23b9942"
      },
      "execution_count": null,
      "outputs": [
        {
          "output_type": "execute_result",
          "data": {
            "text/plain": [
              "0"
            ]
          },
          "metadata": {},
          "execution_count": 382
        }
      ]
    },
    {
      "cell_type": "code",
      "source": [
        "# Check if the id and label columns contain the same values\n",
        "i_df[\"id\"].equals(i_df[\"label\"])"
      ],
      "metadata": {
        "colab": {
          "base_uri": "https://localhost:8080/"
        },
        "id": "FYgO5-ObwHAB",
        "outputId": "54a595b4-bcb4-4eb3-ca35-e21130da1906"
      },
      "execution_count": null,
      "outputs": [
        {
          "output_type": "execute_result",
          "data": {
            "text/plain": [
              "True"
            ]
          },
          "metadata": {},
          "execution_count": 383
        }
      ]
    },
    {
      "cell_type": "code",
      "source": [
        "# Drop the label column as it is a duplicate \n",
        "i_df = i_df.drop([\"label\"], axis = 1)"
      ],
      "metadata": {
        "id": "OuUcQ3BDwTgm"
      },
      "execution_count": null,
      "outputs": []
    },
    {
      "cell_type": "code",
      "source": [
        "# Check if all values in the \"timeset\" column are null and drop the column if this is the case \n",
        "if i_df[\"timeset\"].isnull().all():\n",
        "  i_df = i_df.drop([\"timeset\"], axis = 1)"
      ],
      "metadata": {
        "id": "0-Xgdtioykks"
      },
      "execution_count": null,
      "outputs": []
    },
    {
      "cell_type": "code",
      "source": [
        "# Rename columns labelled '0', '1', '2' and '3'\n",
        "\n",
        "i_df.rename(columns = {\"0\" : \"year_from\", \"1\" : \"year_to\", \"2\" : \"first_name\", \"3\" : \"last_name\"}, inplace = True)\n"
      ],
      "metadata": {
        "id": "I-LBnao5wgSU"
      },
      "execution_count": null,
      "outputs": []
    },
    {
      "cell_type": "code",
      "source": [
        "# Rename all values not containing 4 digits from the \"year_from\" and \"year_to\" columns \n",
        "i_df[\"year_from\"] = i_df[\"year_from\"].str.replace(r\"^(?!\\d{4}).*\", \"no_date\", regex = True)\n",
        "i_df[\"year_to\"] = i_df[\"year_to\"].str.replace(r\"^(?!\\d{4}).*\", \"no_date\", regex = True)"
      ],
      "metadata": {
        "id": "B7hsoEYCwgb-"
      },
      "execution_count": null,
      "outputs": []
    },
    {
      "cell_type": "code",
      "source": [
        "# Rename all null values in \"year_from\" and \"year_to\" columns (regex did not capture these)\n",
        "i_df[\"year_from\"] = i_df[\"year_from\"].fillna(\"no_date\")\n",
        "i_df[\"year_to\"] = i_df[\"year_to\"].fillna(\"no_date\")"
      ],
      "metadata": {
        "id": "PJdg0gE3cc8l"
      },
      "execution_count": null,
      "outputs": []
    },
    {
      "cell_type": "code",
      "source": [
        "# Rename null values in \"first_name column\" \n",
        "i_df[\"first_name\"] = i_df[\"first_name\"].fillna(\"UNKNOWN\")"
      ],
      "metadata": {
        "id": "sC134Tlxwggm"
      },
      "execution_count": null,
      "outputs": []
    },
    {
      "cell_type": "code",
      "source": [
        "# Rename null values in \"last_name column\"\n",
        "i_df[\"last_name\"] = i_df[\"last_name\"].fillna(\"UNKNOWN\")"
      ],
      "metadata": {
        "id": "nUtm-5vMJb6k"
      },
      "execution_count": null,
      "outputs": []
    },
    {
      "cell_type": "code",
      "source": [
        "# Rename values in \"first_name\" column labelled \"#NAME?\"\n",
        "i_df[\"first_name\"] = i_df[\"first_name\"].str.replace(\"#NAME?\", \"UNKNOWN\", regex = False)"
      ],
      "metadata": {
        "id": "W-GEmIo7drA-"
      },
      "execution_count": null,
      "outputs": []
    },
    {
      "cell_type": "code",
      "source": [
        "# Rename values in \"last_name\" column labelled \"\\\"\n",
        "i_df[\"last_name\"] = i_df[\"last_name\"].str.replace(\"\\\\\", \"UNKNOWN\", regex = False)"
      ],
      "metadata": {
        "id": "OGz8c1Y5vUEc"
      },
      "execution_count": null,
      "outputs": []
    },
    {
      "cell_type": "code",
      "source": [
        "# Create a new column \"identifier\" which is a string version of the \"id\" column\n",
        "# New column created as converting \"id\" to string had implications for procedures further on in the process\n",
        "\n",
        "i_df[\"id_string\"] = i_df[\"id\"].copy().apply(str)"
      ],
      "metadata": {
        "id": "za9gBJzXX7p9"
      },
      "execution_count": null,
      "outputs": []
    },
    {
      "cell_type": "code",
      "source": [
        "# Convert the formats of the year_from and year_to columns to YYYY-MM-DD HH:mm:ss format in new columns \n",
        "# Convert now to make it easier to use these dates in subsequent GraphXR visualisations\n",
        "# GraphXR prefers YYYY-MM-DD HH:mm:ss format for dates and times and it is easier to convert in Python rather than via Cypher\n",
        "\n",
        "i_df[\"year_from_dt\"] = i_df[\"year_from\"].apply(lambda x: \"no_date\" if x == \"no_date\" else datetime.strptime(x, \"%Y\").strftime(\"%Y-%m-%d %H:%M:%S\"))\n",
        "\n",
        "i_df[\"year_to_dt\"] = i_df[\"year_to\"].apply(lambda x: \"no_date\" if x == \"no_date\" else datetime.strptime(x, \"%Y\").strftime(\"%Y-%m-%d %H:%M:%S\"))\n"
      ],
      "metadata": {
        "id": "QhXMmwaRmMSU"
      },
      "execution_count": null,
      "outputs": []
    },
    {
      "cell_type": "code",
      "source": [
        "# Check of the data types to confirm all is as expected \n",
        "i_df.dtypes"
      ],
      "metadata": {
        "colab": {
          "base_uri": "https://localhost:8080/"
        },
        "id": "u3gn1ywDL476",
        "outputId": "3115694f-8006-46a5-cdc0-fb4c38d94902"
      },
      "execution_count": null,
      "outputs": [
        {
          "output_type": "execute_result",
          "data": {
            "text/plain": [
              "id               int64\n",
              "year_from       object\n",
              "year_to         object\n",
              "first_name      object\n",
              "last_name       object\n",
              "id_string       object\n",
              "year_from_dt    object\n",
              "year_to_dt      object\n",
              "dtype: object"
            ]
          },
          "metadata": {},
          "execution_count": 395
        }
      ]
    },
    {
      "cell_type": "code",
      "source": [
        "# Create a new column \"full_name\" consisting of first character from \"first_name\" and full string from \"last_name\"\n",
        "# If first name is unknown only the last name is taken \n",
        "i_df[\"full_name\"] = np.where(i_df[\"first_name\"] == \"UNKNOWN\",\n",
        "                             i_df[\"last_name\"] + \" (id: \" + i_df[\"id_string\"] + \")\",\n",
        "                             i_df[\"first_name\"].str.slice(stop = 1) + \" \" + i_df[\"last_name\"] + \" (id: \" + i_df[\"id_string\"] + \")\")"
      ],
      "metadata": {
        "id": "D0-P_VnaJkUZ"
      },
      "execution_count": null,
      "outputs": []
    },
    {
      "cell_type": "code",
      "source": [
        "# Sort by \"id\" in ascending order for ease of comparison with other dataframes\n",
        "i_df = i_df.sort_values(by = [\"id\"]);"
      ],
      "metadata": {
        "id": "Urj47uuwA9sf"
      },
      "execution_count": null,
      "outputs": []
    },
    {
      "cell_type": "code",
      "source": [
        "# Final check of dataframe \n",
        "i_df.head()"
      ],
      "metadata": {
        "colab": {
          "base_uri": "https://localhost:8080/",
          "height": 337
        },
        "id": "UcxD_LTy2dUq",
        "outputId": "818c611d-79fd-4f1c-a335-33278cc8b410"
      },
      "execution_count": null,
      "outputs": [
        {
          "output_type": "execute_result",
          "data": {
            "text/plain": [
              "      id year_from year_to     first_name        last_name id_string  \\\n",
              "12     1      1818    1850        Abraham          ABRAHAM         1   \n",
              "2287   3      1790    1803           John            FIELD         3   \n",
              "5531   4      1811    1834          James           VEITCH         4   \n",
              "42     5      1705    1705     Edward (I)         SCARLETT         5   \n",
              "3709   7      1743    1747  James & James  MANN & AYSCOUGH         7   \n",
              "\n",
              "             year_from_dt           year_to_dt                  full_name  \n",
              "12    1818-01-01 00:00:00  1850-01-01 00:00:00          A ABRAHAM (id: 1)  \n",
              "2287  1790-01-01 00:00:00  1803-01-01 00:00:00            J FIELD (id: 3)  \n",
              "5531  1811-01-01 00:00:00  1834-01-01 00:00:00           J VEITCH (id: 4)  \n",
              "42    1705-01-01 00:00:00  1705-01-01 00:00:00         E SCARLETT (id: 5)  \n",
              "3709  1743-01-01 00:00:00  1747-01-01 00:00:00  J MANN & AYSCOUGH (id: 7)  "
            ],
            "text/html": [
              "\n",
              "  <div id=\"df-76fba935-f561-4423-8a25-02d55e6882be\">\n",
              "    <div class=\"colab-df-container\">\n",
              "      <div>\n",
              "<style scoped>\n",
              "    .dataframe tbody tr th:only-of-type {\n",
              "        vertical-align: middle;\n",
              "    }\n",
              "\n",
              "    .dataframe tbody tr th {\n",
              "        vertical-align: top;\n",
              "    }\n",
              "\n",
              "    .dataframe thead th {\n",
              "        text-align: right;\n",
              "    }\n",
              "</style>\n",
              "<table border=\"1\" class=\"dataframe\">\n",
              "  <thead>\n",
              "    <tr style=\"text-align: right;\">\n",
              "      <th></th>\n",
              "      <th>id</th>\n",
              "      <th>year_from</th>\n",
              "      <th>year_to</th>\n",
              "      <th>first_name</th>\n",
              "      <th>last_name</th>\n",
              "      <th>id_string</th>\n",
              "      <th>year_from_dt</th>\n",
              "      <th>year_to_dt</th>\n",
              "      <th>full_name</th>\n",
              "    </tr>\n",
              "  </thead>\n",
              "  <tbody>\n",
              "    <tr>\n",
              "      <th>12</th>\n",
              "      <td>1</td>\n",
              "      <td>1818</td>\n",
              "      <td>1850</td>\n",
              "      <td>Abraham</td>\n",
              "      <td>ABRAHAM</td>\n",
              "      <td>1</td>\n",
              "      <td>1818-01-01 00:00:00</td>\n",
              "      <td>1850-01-01 00:00:00</td>\n",
              "      <td>A ABRAHAM (id: 1)</td>\n",
              "    </tr>\n",
              "    <tr>\n",
              "      <th>2287</th>\n",
              "      <td>3</td>\n",
              "      <td>1790</td>\n",
              "      <td>1803</td>\n",
              "      <td>John</td>\n",
              "      <td>FIELD</td>\n",
              "      <td>3</td>\n",
              "      <td>1790-01-01 00:00:00</td>\n",
              "      <td>1803-01-01 00:00:00</td>\n",
              "      <td>J FIELD (id: 3)</td>\n",
              "    </tr>\n",
              "    <tr>\n",
              "      <th>5531</th>\n",
              "      <td>4</td>\n",
              "      <td>1811</td>\n",
              "      <td>1834</td>\n",
              "      <td>James</td>\n",
              "      <td>VEITCH</td>\n",
              "      <td>4</td>\n",
              "      <td>1811-01-01 00:00:00</td>\n",
              "      <td>1834-01-01 00:00:00</td>\n",
              "      <td>J VEITCH (id: 4)</td>\n",
              "    </tr>\n",
              "    <tr>\n",
              "      <th>42</th>\n",
              "      <td>5</td>\n",
              "      <td>1705</td>\n",
              "      <td>1705</td>\n",
              "      <td>Edward (I)</td>\n",
              "      <td>SCARLETT</td>\n",
              "      <td>5</td>\n",
              "      <td>1705-01-01 00:00:00</td>\n",
              "      <td>1705-01-01 00:00:00</td>\n",
              "      <td>E SCARLETT (id: 5)</td>\n",
              "    </tr>\n",
              "    <tr>\n",
              "      <th>3709</th>\n",
              "      <td>7</td>\n",
              "      <td>1743</td>\n",
              "      <td>1747</td>\n",
              "      <td>James &amp; James</td>\n",
              "      <td>MANN &amp; AYSCOUGH</td>\n",
              "      <td>7</td>\n",
              "      <td>1743-01-01 00:00:00</td>\n",
              "      <td>1747-01-01 00:00:00</td>\n",
              "      <td>J MANN &amp; AYSCOUGH (id: 7)</td>\n",
              "    </tr>\n",
              "  </tbody>\n",
              "</table>\n",
              "</div>\n",
              "      <button class=\"colab-df-convert\" onclick=\"convertToInteractive('df-76fba935-f561-4423-8a25-02d55e6882be')\"\n",
              "              title=\"Convert this dataframe to an interactive table.\"\n",
              "              style=\"display:none;\">\n",
              "        \n",
              "  <svg xmlns=\"http://www.w3.org/2000/svg\" height=\"24px\"viewBox=\"0 0 24 24\"\n",
              "       width=\"24px\">\n",
              "    <path d=\"M0 0h24v24H0V0z\" fill=\"none\"/>\n",
              "    <path d=\"M18.56 5.44l.94 2.06.94-2.06 2.06-.94-2.06-.94-.94-2.06-.94 2.06-2.06.94zm-11 1L8.5 8.5l.94-2.06 2.06-.94-2.06-.94L8.5 2.5l-.94 2.06-2.06.94zm10 10l.94 2.06.94-2.06 2.06-.94-2.06-.94-.94-2.06-.94 2.06-2.06.94z\"/><path d=\"M17.41 7.96l-1.37-1.37c-.4-.4-.92-.59-1.43-.59-.52 0-1.04.2-1.43.59L10.3 9.45l-7.72 7.72c-.78.78-.78 2.05 0 2.83L4 21.41c.39.39.9.59 1.41.59.51 0 1.02-.2 1.41-.59l7.78-7.78 2.81-2.81c.8-.78.8-2.07 0-2.86zM5.41 20L4 18.59l7.72-7.72 1.47 1.35L5.41 20z\"/>\n",
              "  </svg>\n",
              "      </button>\n",
              "      \n",
              "  <style>\n",
              "    .colab-df-container {\n",
              "      display:flex;\n",
              "      flex-wrap:wrap;\n",
              "      gap: 12px;\n",
              "    }\n",
              "\n",
              "    .colab-df-convert {\n",
              "      background-color: #E8F0FE;\n",
              "      border: none;\n",
              "      border-radius: 50%;\n",
              "      cursor: pointer;\n",
              "      display: none;\n",
              "      fill: #1967D2;\n",
              "      height: 32px;\n",
              "      padding: 0 0 0 0;\n",
              "      width: 32px;\n",
              "    }\n",
              "\n",
              "    .colab-df-convert:hover {\n",
              "      background-color: #E2EBFA;\n",
              "      box-shadow: 0px 1px 2px rgba(60, 64, 67, 0.3), 0px 1px 3px 1px rgba(60, 64, 67, 0.15);\n",
              "      fill: #174EA6;\n",
              "    }\n",
              "\n",
              "    [theme=dark] .colab-df-convert {\n",
              "      background-color: #3B4455;\n",
              "      fill: #D2E3FC;\n",
              "    }\n",
              "\n",
              "    [theme=dark] .colab-df-convert:hover {\n",
              "      background-color: #434B5C;\n",
              "      box-shadow: 0px 1px 3px 1px rgba(0, 0, 0, 0.15);\n",
              "      filter: drop-shadow(0px 1px 2px rgba(0, 0, 0, 0.3));\n",
              "      fill: #FFFFFF;\n",
              "    }\n",
              "  </style>\n",
              "\n",
              "      <script>\n",
              "        const buttonEl =\n",
              "          document.querySelector('#df-76fba935-f561-4423-8a25-02d55e6882be button.colab-df-convert');\n",
              "        buttonEl.style.display =\n",
              "          google.colab.kernel.accessAllowed ? 'block' : 'none';\n",
              "\n",
              "        async function convertToInteractive(key) {\n",
              "          const element = document.querySelector('#df-76fba935-f561-4423-8a25-02d55e6882be');\n",
              "          const dataTable =\n",
              "            await google.colab.kernel.invokeFunction('convertToInteractive',\n",
              "                                                     [key], {});\n",
              "          if (!dataTable) return;\n",
              "\n",
              "          const docLinkHtml = 'Like what you see? Visit the ' +\n",
              "            '<a target=\"_blank\" href=https://colab.research.google.com/notebooks/data_table.ipynb>data table notebook</a>'\n",
              "            + ' to learn more about interactive tables.';\n",
              "          element.innerHTML = '';\n",
              "          dataTable['output_type'] = 'display_data';\n",
              "          await google.colab.output.renderOutput(dataTable, element);\n",
              "          const docLink = document.createElement('div');\n",
              "          docLink.innerHTML = docLinkHtml;\n",
              "          element.appendChild(docLink);\n",
              "        }\n",
              "      </script>\n",
              "    </div>\n",
              "  </div>\n",
              "  "
            ]
          },
          "metadata": {},
          "execution_count": 398
        }
      ]
    },
    {
      "cell_type": "code",
      "source": [
        "# Count the number of individuals in the dataset \n",
        "persons = len(pd.unique(i_df[\"id\"]))\n",
        "print(persons)"
      ],
      "metadata": {
        "colab": {
          "base_uri": "https://localhost:8080/"
        },
        "id": "UCWnxsCZK6UT",
        "outputId": "c4a4e0cb-5477-4a78-e12d-a0f46f154f7a"
      },
      "execution_count": null,
      "outputs": [
        {
          "output_type": "stream",
          "name": "stdout",
          "text": [
            "5927\n"
          ]
        }
      ]
    },
    {
      "cell_type": "code",
      "source": [
        "# Count number of entries labelled no_date in the year_from column\n",
        "count = (i_df[\"year_from\"] == \"no_date\").sum()\n",
        "print(count)"
      ],
      "metadata": {
        "colab": {
          "base_uri": "https://localhost:8080/"
        },
        "id": "AtxYaJ0bFJ7-",
        "outputId": "7986ac23-9178-487e-dac8-f9f4bf8a2b0e"
      },
      "execution_count": null,
      "outputs": [
        {
          "output_type": "stream",
          "name": "stdout",
          "text": [
            "10\n"
          ]
        }
      ]
    },
    {
      "cell_type": "code",
      "source": [
        "# Find the min and max values of the year_from column\n",
        "# Had to create a new series excluding no_date entries as could not find another way to exclude for the purpose of calculating min and max on the series \n",
        "num_dates_from = i_df[\"year_from\"].loc[i_df[\"year_from\"] != \"no_date\"]\n",
        "print(num_dates_from.min())\n",
        "print(num_dates_from.max())"
      ],
      "metadata": {
        "colab": {
          "base_uri": "https://localhost:8080/"
        },
        "id": "Q86xEewSGgaV",
        "outputId": "86bfc8f2-835e-40a0-8639-f9ddd10d750a"
      },
      "execution_count": null,
      "outputs": [
        {
          "output_type": "stream",
          "name": "stdout",
          "text": [
            "1532\n",
            "2003\n"
          ]
        }
      ]
    },
    {
      "cell_type": "code",
      "source": [
        "# Count number of entries labelled no_date in the year_to column\n",
        "count = (i_df[\"year_to\"] == \"no_date\").sum()\n",
        "print(count)"
      ],
      "metadata": {
        "colab": {
          "base_uri": "https://localhost:8080/"
        },
        "id": "Hx35kQamMgBM",
        "outputId": "8c052e7b-535d-447a-9180-3303f269e54f"
      },
      "execution_count": null,
      "outputs": [
        {
          "output_type": "stream",
          "name": "stdout",
          "text": [
            "10\n"
          ]
        }
      ]
    },
    {
      "cell_type": "code",
      "source": [
        "# Find the min and max values of the year_to column\n",
        "# Had to create a new series excluding no_date entries as could not find another way to exclude for the purpose of calculating min and max on the series \n",
        "num_dates_to = i_df[\"year_to\"].loc[i_df[\"year_to\"] != \"no_date\"]\n",
        "print(num_dates_to.min())\n",
        "print(num_dates_to.max())"
      ],
      "metadata": {
        "colab": {
          "base_uri": "https://localhost:8080/"
        },
        "id": "kmJUW5BoG2Iq",
        "outputId": "be88604b-60a6-4fee-9630-41607a73e6d2"
      },
      "execution_count": null,
      "outputs": [
        {
          "output_type": "stream",
          "name": "stdout",
          "text": [
            "1562\n",
            "2010\n"
          ]
        }
      ]
    },
    {
      "cell_type": "code",
      "source": [
        "# Create a new dataframe with just the numeric dates\n",
        "dates = pd.DataFrame({\"year_from\": num_dates_from, \"year_to\": num_dates_to})"
      ],
      "metadata": {
        "id": "-GDydHSkPk-m"
      },
      "execution_count": null,
      "outputs": []
    },
    {
      "cell_type": "code",
      "source": [
        "# Convert data types in the data frame to float to allow calculations to be performed \n",
        "dates[\"year_from\"] = dates[\"year_from\"].astype(float)\n",
        "dates[\"year_to\"] = dates[\"year_to\"].astype(float)"
      ],
      "metadata": {
        "id": "-KUygawvmQVA"
      },
      "execution_count": null,
      "outputs": []
    },
    {
      "cell_type": "code",
      "source": [
        "# Set lower bound of time span to 0 years to avoid having negative time \n",
        "dates[\"time_span\"] = np.where(dates[\"year_to\"] - dates[\"year_from\"] >= 0, dates[\"year_to\"] - dates[\"year_from\"], 0 )\n"
      ],
      "metadata": {
        "id": "53g_masHegMX"
      },
      "execution_count": null,
      "outputs": []
    },
    {
      "cell_type": "code",
      "source": [
        "# Check data frame is as expected \n",
        "dates.head()"
      ],
      "metadata": {
        "colab": {
          "base_uri": "https://localhost:8080/",
          "height": 206
        },
        "id": "qou8WSXevYoq",
        "outputId": "1e67a863-5ba8-4a77-bf5b-af6cc3587e79"
      },
      "execution_count": null,
      "outputs": [
        {
          "output_type": "execute_result",
          "data": {
            "text/plain": [
              "   year_from  year_to  time_span\n",
              "0     1808.0   1808.0        0.0\n",
              "1     1808.0   1833.0       25.0\n",
              "2     1805.0   1822.0       17.0\n",
              "3     1801.0   1801.0        0.0\n",
              "4     1794.0   1814.0       20.0"
            ],
            "text/html": [
              "\n",
              "  <div id=\"df-6fe7f8fc-eb10-43a4-ad45-ec2dac00e5d1\">\n",
              "    <div class=\"colab-df-container\">\n",
              "      <div>\n",
              "<style scoped>\n",
              "    .dataframe tbody tr th:only-of-type {\n",
              "        vertical-align: middle;\n",
              "    }\n",
              "\n",
              "    .dataframe tbody tr th {\n",
              "        vertical-align: top;\n",
              "    }\n",
              "\n",
              "    .dataframe thead th {\n",
              "        text-align: right;\n",
              "    }\n",
              "</style>\n",
              "<table border=\"1\" class=\"dataframe\">\n",
              "  <thead>\n",
              "    <tr style=\"text-align: right;\">\n",
              "      <th></th>\n",
              "      <th>year_from</th>\n",
              "      <th>year_to</th>\n",
              "      <th>time_span</th>\n",
              "    </tr>\n",
              "  </thead>\n",
              "  <tbody>\n",
              "    <tr>\n",
              "      <th>0</th>\n",
              "      <td>1808.0</td>\n",
              "      <td>1808.0</td>\n",
              "      <td>0.0</td>\n",
              "    </tr>\n",
              "    <tr>\n",
              "      <th>1</th>\n",
              "      <td>1808.0</td>\n",
              "      <td>1833.0</td>\n",
              "      <td>25.0</td>\n",
              "    </tr>\n",
              "    <tr>\n",
              "      <th>2</th>\n",
              "      <td>1805.0</td>\n",
              "      <td>1822.0</td>\n",
              "      <td>17.0</td>\n",
              "    </tr>\n",
              "    <tr>\n",
              "      <th>3</th>\n",
              "      <td>1801.0</td>\n",
              "      <td>1801.0</td>\n",
              "      <td>0.0</td>\n",
              "    </tr>\n",
              "    <tr>\n",
              "      <th>4</th>\n",
              "      <td>1794.0</td>\n",
              "      <td>1814.0</td>\n",
              "      <td>20.0</td>\n",
              "    </tr>\n",
              "  </tbody>\n",
              "</table>\n",
              "</div>\n",
              "      <button class=\"colab-df-convert\" onclick=\"convertToInteractive('df-6fe7f8fc-eb10-43a4-ad45-ec2dac00e5d1')\"\n",
              "              title=\"Convert this dataframe to an interactive table.\"\n",
              "              style=\"display:none;\">\n",
              "        \n",
              "  <svg xmlns=\"http://www.w3.org/2000/svg\" height=\"24px\"viewBox=\"0 0 24 24\"\n",
              "       width=\"24px\">\n",
              "    <path d=\"M0 0h24v24H0V0z\" fill=\"none\"/>\n",
              "    <path d=\"M18.56 5.44l.94 2.06.94-2.06 2.06-.94-2.06-.94-.94-2.06-.94 2.06-2.06.94zm-11 1L8.5 8.5l.94-2.06 2.06-.94-2.06-.94L8.5 2.5l-.94 2.06-2.06.94zm10 10l.94 2.06.94-2.06 2.06-.94-2.06-.94-.94-2.06-.94 2.06-2.06.94z\"/><path d=\"M17.41 7.96l-1.37-1.37c-.4-.4-.92-.59-1.43-.59-.52 0-1.04.2-1.43.59L10.3 9.45l-7.72 7.72c-.78.78-.78 2.05 0 2.83L4 21.41c.39.39.9.59 1.41.59.51 0 1.02-.2 1.41-.59l7.78-7.78 2.81-2.81c.8-.78.8-2.07 0-2.86zM5.41 20L4 18.59l7.72-7.72 1.47 1.35L5.41 20z\"/>\n",
              "  </svg>\n",
              "      </button>\n",
              "      \n",
              "  <style>\n",
              "    .colab-df-container {\n",
              "      display:flex;\n",
              "      flex-wrap:wrap;\n",
              "      gap: 12px;\n",
              "    }\n",
              "\n",
              "    .colab-df-convert {\n",
              "      background-color: #E8F0FE;\n",
              "      border: none;\n",
              "      border-radius: 50%;\n",
              "      cursor: pointer;\n",
              "      display: none;\n",
              "      fill: #1967D2;\n",
              "      height: 32px;\n",
              "      padding: 0 0 0 0;\n",
              "      width: 32px;\n",
              "    }\n",
              "\n",
              "    .colab-df-convert:hover {\n",
              "      background-color: #E2EBFA;\n",
              "      box-shadow: 0px 1px 2px rgba(60, 64, 67, 0.3), 0px 1px 3px 1px rgba(60, 64, 67, 0.15);\n",
              "      fill: #174EA6;\n",
              "    }\n",
              "\n",
              "    [theme=dark] .colab-df-convert {\n",
              "      background-color: #3B4455;\n",
              "      fill: #D2E3FC;\n",
              "    }\n",
              "\n",
              "    [theme=dark] .colab-df-convert:hover {\n",
              "      background-color: #434B5C;\n",
              "      box-shadow: 0px 1px 3px 1px rgba(0, 0, 0, 0.15);\n",
              "      filter: drop-shadow(0px 1px 2px rgba(0, 0, 0, 0.3));\n",
              "      fill: #FFFFFF;\n",
              "    }\n",
              "  </style>\n",
              "\n",
              "      <script>\n",
              "        const buttonEl =\n",
              "          document.querySelector('#df-6fe7f8fc-eb10-43a4-ad45-ec2dac00e5d1 button.colab-df-convert');\n",
              "        buttonEl.style.display =\n",
              "          google.colab.kernel.accessAllowed ? 'block' : 'none';\n",
              "\n",
              "        async function convertToInteractive(key) {\n",
              "          const element = document.querySelector('#df-6fe7f8fc-eb10-43a4-ad45-ec2dac00e5d1');\n",
              "          const dataTable =\n",
              "            await google.colab.kernel.invokeFunction('convertToInteractive',\n",
              "                                                     [key], {});\n",
              "          if (!dataTable) return;\n",
              "\n",
              "          const docLinkHtml = 'Like what you see? Visit the ' +\n",
              "            '<a target=\"_blank\" href=https://colab.research.google.com/notebooks/data_table.ipynb>data table notebook</a>'\n",
              "            + ' to learn more about interactive tables.';\n",
              "          element.innerHTML = '';\n",
              "          dataTable['output_type'] = 'display_data';\n",
              "          await google.colab.output.renderOutput(dataTable, element);\n",
              "          const docLink = document.createElement('div');\n",
              "          docLink.innerHTML = docLinkHtml;\n",
              "          element.appendChild(docLink);\n",
              "        }\n",
              "      </script>\n",
              "    </div>\n",
              "  </div>\n",
              "  "
            ]
          },
          "metadata": {},
          "execution_count": 407
        }
      ]
    },
    {
      "cell_type": "code",
      "source": [
        "# Run .describe() to generate minimum and maximum values and to view skewness of the distribution \n",
        "dates[\"time_span\"].describe()"
      ],
      "metadata": {
        "colab": {
          "base_uri": "https://localhost:8080/"
        },
        "id": "jETfRxPTFlVV",
        "outputId": "1fe72f7f-9235-4b3d-f7df-42c28f0e3142"
      },
      "execution_count": null,
      "outputs": [
        {
          "output_type": "execute_result",
          "data": {
            "text/plain": [
              "count    5922.000000\n",
              "mean       15.536136\n",
              "std        17.793960\n",
              "min         0.000000\n",
              "25%         1.000000\n",
              "50%        10.000000\n",
              "75%        25.000000\n",
              "max       200.000000\n",
              "Name: time_span, dtype: float64"
            ]
          },
          "metadata": {},
          "execution_count": 408
        }
      ]
    },
    {
      "cell_type": "code",
      "source": [
        "# Produce histogram of the duration of activity  \n",
        "plt.figure(figsize=(10,5))\n",
        "chart = sns.histplot(data = dates, \n",
        "                     x = \"time_span\", \n",
        "                     bins = 50, \n",
        "                     color = \"#55b8d1\")\n",
        "chart.set_xlabel(\"Duration (years)\", fontsize = 11)\n",
        "chart.set_ylabel(\"Count\", fontsize = 11)\n",
        "chart.xaxis.set_major_locator(ticker.MultipleLocator(10))\n",
        "chart.xaxis.set_major_formatter(ticker.ScalarFormatter())\n",
        "chart.set_xlim([0, 200])\n",
        "plt.savefig(\"duration.svg\")"
      ],
      "metadata": {
        "colab": {
          "base_uri": "https://localhost:8080/",
          "height": 334
        },
        "id": "TyE10XE2v0wx",
        "outputId": "1febe470-d496-4590-f9b3-5d34806776b0"
      },
      "execution_count": null,
      "outputs": [
        {
          "output_type": "display_data",
          "data": {
            "text/plain": [
              "<Figure size 720x360 with 1 Axes>"
            ],
            "image/png": "[encoded data removed]"
          },
          "metadata": {
            "needs_background": "light"
          }
        }
      ]
    },
    {
      "cell_type": "code",
      "source": [
        "# Produce histogram of start years \n",
        "plt.figure(figsize=(10,5))\n",
        "chart = sns.histplot(data = dates, \n",
        "                     x = \"year_from\", \n",
        "                     bins = 25, \n",
        "                     color = \"#55b8d1\")\n",
        "chart.set_xlabel(\"Start of Record (year)\", fontsize = 11)\n",
        "chart.set_ylabel(\"Count\", fontsize = 11)\n",
        "chart.xaxis.set_major_locator(ticker.MultipleLocator(25))\n",
        "chart.xaxis.set_major_formatter(ticker.ScalarFormatter())\n",
        "plt.savefig(\"start_year.svg\")"
      ],
      "metadata": {
        "colab": {
          "base_uri": "https://localhost:8080/",
          "height": 334
        },
        "id": "-rIn9JWjwOq_",
        "outputId": "90a0dbe3-2a7f-478a-f833-9967dfc3e70d"
      },
      "execution_count": null,
      "outputs": [
        {
          "output_type": "display_data",
          "data": {
            "text/plain": [
              "<Figure size 720x360 with 1 Axes>"
            ],
            "image/png": "[encoded data removed]"
          },
          "metadata": {
            "needs_background": "light"
          }
        }
      ]
    },
    {
      "cell_type": "code",
      "source": [
        "# Produce histogram of end years \n",
        "plt.figure(figsize=(10,5))\n",
        "chart = sns.histplot(data = dates, \n",
        "                     x = \"year_to\", \n",
        "                     bins = 25,\n",
        "                     color = \"#55b8d1\")\n",
        "chart.set_xlabel(\"End of Record (year)\", fontsize = 11)\n",
        "chart.set_ylabel(\"Count\", fontsize = 11)\n",
        "chart.xaxis.set_major_locator(ticker.MultipleLocator(25))\n",
        "chart.xaxis.set_major_formatter(ticker.ScalarFormatter())\n",
        "plt.savefig(\"end_year.svg\")"
      ],
      "metadata": {
        "colab": {
          "base_uri": "https://localhost:8080/",
          "height": 334
        },
        "id": "zXSnoJqsyQus",
        "outputId": "f1bde9ce-14e9-4723-b4ad-fdcd52b94527"
      },
      "execution_count": null,
      "outputs": [
        {
          "output_type": "display_data",
          "data": {
            "text/plain": [
              "<Figure size 720x360 with 1 Axes>"
            ],
            "image/png": "[encoded data removed]"
          },
          "metadata": {
            "needs_background": "light"
          }
        }
      ]
    },
    {
      "cell_type": "code",
      "source": [
        "# Produce bivariate plot showing both start and end years \n",
        "plt.figure(figsize=(10,5))\n",
        "chart = sns.displot(data = dates, \n",
        "                    x=\"year_from\", \n",
        "                    y=\"year_to\", \n",
        "                    binwidth=(25, 25),\n",
        "                    color = \"#55b8d1\")\n",
        "plt.xlabel(\"Start of Record (year)\")\n",
        "plt.ylabel(\"End of Record (year)\")\n",
        "plt.savefig(\"bivariate.svg\")\n"
      ],
      "metadata": {
        "colab": {
          "base_uri": "https://localhost:8080/",
          "height": 385
        },
        "id": "ndhEqlvv-uXS",
        "outputId": "21bcdfaf-4800-4b4c-e233-fd35b4eaba46"
      },
      "execution_count": null,
      "outputs": [
        {
          "output_type": "display_data",
          "data": {
            "text/plain": [
              "<Figure size 720x360 with 0 Axes>"
            ]
          },
          "metadata": {}
        },
        {
          "output_type": "display_data",
          "data": {
            "text/plain": [
              "<Figure size 360x360 with 1 Axes>"
            ],
            "image/png": "[encoded data removed]"
          },
          "metadata": {
            "needs_background": "light"
          }
        }
      ]
    },
    {
      "cell_type": "markdown",
      "source": [
        "# **4. Create a Dataframe of Time Intervals**"
      ],
      "metadata": {
        "id": "uhopn8I0OecK"
      }
    },
    {
      "cell_type": "markdown",
      "source": [
        "The dataframe created here will be used later on to create time span nodes in the labelled property graph. Relationships between these nodes and the person nodes created from the i_df dataframe will be created if the maker activity data contained in the i_df dataframe indicates that an individual was active in a particular period. Through this process, it will be possible to map maker activity through segments of time.  "
      ],
      "metadata": {
        "id": "pbdUbd9fekHB"
      }
    },
    {
      "cell_type": "code",
      "source": [
        "# Define the start of the overall date range as the earliest date in the year_from column in the i_df dataframe, rounded down to the nearest decade\n",
        "data_start = math.floor(int(num_dates_from.min()) / 10) * 10\n",
        "print(data_start)"
      ],
      "metadata": {
        "colab": {
          "base_uri": "https://localhost:8080/"
        },
        "id": "oThbsjSTOqEQ",
        "outputId": "1e3ee832-d546-4602-d6fc-27296e0e8f6f"
      },
      "execution_count": null,
      "outputs": [
        {
          "output_type": "stream",
          "name": "stdout",
          "text": [
            "1530\n"
          ]
        }
      ]
    },
    {
      "cell_type": "code",
      "source": [
        "# Define the end of the date range as the latest date in the year_to column in the i_df dataframe, rounded up to the nearest decade \n",
        "data_end = math.ceil(int(num_dates_to.max()) /10 ) * 10\n",
        "print(data_end)"
      ],
      "metadata": {
        "colab": {
          "base_uri": "https://localhost:8080/"
        },
        "id": "3_8X4bOjOqN4",
        "outputId": "852a7410-c883-45fe-f094-f022e0772120"
      },
      "execution_count": null,
      "outputs": [
        {
          "output_type": "stream",
          "name": "stdout",
          "text": [
            "2010\n"
          ]
        }
      ]
    },
    {
      "cell_type": "code",
      "source": [
        "# Select the desired periodicity \n",
        "year_intervals = 10\n",
        "\n",
        "# Calculate how many intervals are needed.\n",
        "factor = math.ceil( (data_end - data_start) / year_intervals )\n",
        "\n",
        "# Rename variable for start of period so that it is consistent with variable name for end of period\n",
        "period_start = data_start\n",
        "\n",
        "# Calculate the end point of the range\n",
        "period_end = period_start + year_intervals * factor + 1 if period_start + year_intervals * factor <= data_end else period_start + year_intervals * factor \n",
        "\n",
        "# Create a new dataframe, t_df with a column period_start as the first column, containing the start year for each period \n",
        "t_df = pd.DataFrame({\"period_start\" : pd.Series(range(period_start, period_end, year_intervals))})\n",
        "\n",
        "# Create period_end: the end year for each period \n",
        "t_df = t_df.assign(period_end = lambda x: x.period_start + (year_intervals - 1))\n",
        "\n",
        "# Convert both period_start and period_end to strings to allow for a period_label column to be created\n",
        "t_df = t_df.astype({\"period_start\" : \"string\", \"period_end\" : \"string\"})\n",
        "\n",
        "# Create period_label: a string denoting the time span of the period as the range from period_start to period_end\n",
        "t_df[\"period_label\"] = t_df[\"period_start\"] + \" - \" + t_df[\"period_end\"]\n",
        "\n",
        "# Create a new column that specifies period_start as a date time in YYYY-MM-DD HH:mm:ss format \n",
        "t_df[\"period_start_dt\"] = t_df[\"period_start\"].apply(lambda x: datetime.strptime(x, \"%Y\").strftime(\"%Y-%m-%d %H:%M:%S\"))\n",
        "\n",
        "# Create a new column that specifies period_end as a date time in YYYY-MM-DD HH:mm:ss format\n",
        "t_df[\"period_end_dt\"] = t_df[\"period_end\"].apply(lambda x: datetime.strptime(x, \"%Y\").strftime(\"%Y-%m-%d %H:%M:%S\"))\n"
      ],
      "metadata": {
        "id": "qrqJ4xquQXHy"
      },
      "execution_count": null,
      "outputs": []
    },
    {
      "cell_type": "code",
      "source": [
        "# Check the final shape of the dataframe \n",
        "t_df.head(50)"
      ],
      "metadata": {
        "colab": {
          "base_uri": "https://localhost:8080/",
          "height": 1000
        },
        "id": "MuTmzRyuSeBD",
        "outputId": "eb34732a-c74b-47b2-a03e-67b912eff521"
      },
      "execution_count": null,
      "outputs": [
        {
          "output_type": "execute_result",
          "data": {
            "text/plain": [
              "   period_start period_end period_label      period_start_dt  \\\n",
              "0          1530       1539  1530 - 1539  1530-01-01 00:00:00   \n",
              "1          1540       1549  1540 - 1549  1540-01-01 00:00:00   \n",
              "2          1550       1559  1550 - 1559  1550-01-01 00:00:00   \n",
              "3          1560       1569  1560 - 1569  1560-01-01 00:00:00   \n",
              "4          1570       1579  1570 - 1579  1570-01-01 00:00:00   \n",
              "5          1580       1589  1580 - 1589  1580-01-01 00:00:00   \n",
              "6          1590       1599  1590 - 1599  1590-01-01 00:00:00   \n",
              "7          1600       1609  1600 - 1609  1600-01-01 00:00:00   \n",
              "8          1610       1619  1610 - 1619  1610-01-01 00:00:00   \n",
              "9          1620       1629  1620 - 1629  1620-01-01 00:00:00   \n",
              "10         1630       1639  1630 - 1639  1630-01-01 00:00:00   \n",
              "11         1640       1649  1640 - 1649  1640-01-01 00:00:00   \n",
              "12         1650       1659  1650 - 1659  1650-01-01 00:00:00   \n",
              "13         1660       1669  1660 - 1669  1660-01-01 00:00:00   \n",
              "14         1670       1679  1670 - 1679  1670-01-01 00:00:00   \n",
              "15         1680       1689  1680 - 1689  1680-01-01 00:00:00   \n",
              "16         1690       1699  1690 - 1699  1690-01-01 00:00:00   \n",
              "17         1700       1709  1700 - 1709  1700-01-01 00:00:00   \n",
              "18         1710       1719  1710 - 1719  1710-01-01 00:00:00   \n",
              "19         1720       1729  1720 - 1729  1720-01-01 00:00:00   \n",
              "20         1730       1739  1730 - 1739  1730-01-01 00:00:00   \n",
              "21         1740       1749  1740 - 1749  1740-01-01 00:00:00   \n",
              "22         1750       1759  1750 - 1759  1750-01-01 00:00:00   \n",
              "23         1760       1769  1760 - 1769  1760-01-01 00:00:00   \n",
              "24         1770       1779  1770 - 1779  1770-01-01 00:00:00   \n",
              "25         1780       1789  1780 - 1789  1780-01-01 00:00:00   \n",
              "26         1790       1799  1790 - 1799  1790-01-01 00:00:00   \n",
              "27         1800       1809  1800 - 1809  1800-01-01 00:00:00   \n",
              "28         1810       1819  1810 - 1819  1810-01-01 00:00:00   \n",
              "29         1820       1829  1820 - 1829  1820-01-01 00:00:00   \n",
              "30         1830       1839  1830 - 1839  1830-01-01 00:00:00   \n",
              "31         1840       1849  1840 - 1849  1840-01-01 00:00:00   \n",
              "32         1850       1859  1850 - 1859  1850-01-01 00:00:00   \n",
              "33         1860       1869  1860 - 1869  1860-01-01 00:00:00   \n",
              "34         1870       1879  1870 - 1879  1870-01-01 00:00:00   \n",
              "35         1880       1889  1880 - 1889  1880-01-01 00:00:00   \n",
              "36         1890       1899  1890 - 1899  1890-01-01 00:00:00   \n",
              "37         1900       1909  1900 - 1909  1900-01-01 00:00:00   \n",
              "38         1910       1919  1910 - 1919  1910-01-01 00:00:00   \n",
              "39         1920       1929  1920 - 1929  1920-01-01 00:00:00   \n",
              "40         1930       1939  1930 - 1939  1930-01-01 00:00:00   \n",
              "41         1940       1949  1940 - 1949  1940-01-01 00:00:00   \n",
              "42         1950       1959  1950 - 1959  1950-01-01 00:00:00   \n",
              "43         1960       1969  1960 - 1969  1960-01-01 00:00:00   \n",
              "44         1970       1979  1970 - 1979  1970-01-01 00:00:00   \n",
              "45         1980       1989  1980 - 1989  1980-01-01 00:00:00   \n",
              "46         1990       1999  1990 - 1999  1990-01-01 00:00:00   \n",
              "47         2000       2009  2000 - 2009  2000-01-01 00:00:00   \n",
              "48         2010       2019  2010 - 2019  2010-01-01 00:00:00   \n",
              "\n",
              "          period_end_dt  \n",
              "0   1539-01-01 00:00:00  \n",
              "1   1549-01-01 00:00:00  \n",
              "2   1559-01-01 00:00:00  \n",
              "3   1569-01-01 00:00:00  \n",
              "4   1579-01-01 00:00:00  \n",
              "5   1589-01-01 00:00:00  \n",
              "6   1599-01-01 00:00:00  \n",
              "7   1609-01-01 00:00:00  \n",
              "8   1619-01-01 00:00:00  \n",
              "9   1629-01-01 00:00:00  \n",
              "10  1639-01-01 00:00:00  \n",
              "11  1649-01-01 00:00:00  \n",
              "12  1659-01-01 00:00:00  \n",
              "13  1669-01-01 00:00:00  \n",
              "14  1679-01-01 00:00:00  \n",
              "15  1689-01-01 00:00:00  \n",
              "16  1699-01-01 00:00:00  \n",
              "17  1709-01-01 00:00:00  \n",
              "18  1719-01-01 00:00:00  \n",
              "19  1729-01-01 00:00:00  \n",
              "20  1739-01-01 00:00:00  \n",
              "21  1749-01-01 00:00:00  \n",
              "22  1759-01-01 00:00:00  \n",
              "23  1769-01-01 00:00:00  \n",
              "24  1779-01-01 00:00:00  \n",
              "25  1789-01-01 00:00:00  \n",
              "26  1799-01-01 00:00:00  \n",
              "27  1809-01-01 00:00:00  \n",
              "28  1819-01-01 00:00:00  \n",
              "29  1829-01-01 00:00:00  \n",
              "30  1839-01-01 00:00:00  \n",
              "31  1849-01-01 00:00:00  \n",
              "32  1859-01-01 00:00:00  \n",
              "33  1869-01-01 00:00:00  \n",
              "34  1879-01-01 00:00:00  \n",
              "35  1889-01-01 00:00:00  \n",
              "36  1899-01-01 00:00:00  \n",
              "37  1909-01-01 00:00:00  \n",
              "38  1919-01-01 00:00:00  \n",
              "39  1929-01-01 00:00:00  \n",
              "40  1939-01-01 00:00:00  \n",
              "41  1949-01-01 00:00:00  \n",
              "42  1959-01-01 00:00:00  \n",
              "43  1969-01-01 00:00:00  \n",
              "44  1979-01-01 00:00:00  \n",
              "45  1989-01-01 00:00:00  \n",
              "46  1999-01-01 00:00:00  \n",
              "47  2009-01-01 00:00:00  \n",
              "48  2019-01-01 00:00:00  "
            ],
            "text/html": [
              "\n",
              "  <div id=\"df-d2d37901-831f-4a2f-baee-4fee15039226\">\n",
              "    <div class=\"colab-df-container\">\n",
              "      <div>\n",
              "<style scoped>\n",
              "    .dataframe tbody tr th:only-of-type {\n",
              "        vertical-align: middle;\n",
              "    }\n",
              "\n",
              "    .dataframe tbody tr th {\n",
              "        vertical-align: top;\n",
              "    }\n",
              "\n",
              "    .dataframe thead th {\n",
              "        text-align: right;\n",
              "    }\n",
              "</style>\n",
              "<table border=\"1\" class=\"dataframe\">\n",
              "  <thead>\n",
              "    <tr style=\"text-align: right;\">\n",
              "      <th></th>\n",
              "      <th>period_start</th>\n",
              "      <th>period_end</th>\n",
              "      <th>period_label</th>\n",
              "      <th>period_start_dt</th>\n",
              "      <th>period_end_dt</th>\n",
              "    </tr>\n",
              "  </thead>\n",
              "  <tbody>\n",
              "    <tr>\n",
              "      <th>0</th>\n",
              "      <td>1530</td>\n",
              "      <td>1539</td>\n",
              "      <td>1530 - 1539</td>\n",
              "      <td>1530-01-01 00:00:00</td>\n",
              "      <td>1539-01-01 00:00:00</td>\n",
              "    </tr>\n",
              "    <tr>\n",
              "      <th>1</th>\n",
              "      <td>1540</td>\n",
              "      <td>1549</td>\n",
              "      <td>1540 - 1549</td>\n",
              "      <td>1540-01-01 00:00:00</td>\n",
              "      <td>1549-01-01 00:00:00</td>\n",
              "    </tr>\n",
              "    <tr>\n",
              "      <th>2</th>\n",
              "      <td>1550</td>\n",
              "      <td>1559</td>\n",
              "      <td>1550 - 1559</td>\n",
              "      <td>1550-01-01 00:00:00</td>\n",
              "      <td>1559-01-01 00:00:00</td>\n",
              "    </tr>\n",
              "    <tr>\n",
              "      <th>3</th>\n",
              "      <td>1560</td>\n",
              "      <td>1569</td>\n",
              "      <td>1560 - 1569</td>\n",
              "      <td>1560-01-01 00:00:00</td>\n",
              "      <td>1569-01-01 00:00:00</td>\n",
              "    </tr>\n",
              "    <tr>\n",
              "      <th>4</th>\n",
              "      <td>1570</td>\n",
              "      <td>1579</td>\n",
              "      <td>1570 - 1579</td>\n",
              "      <td>1570-01-01 00:00:00</td>\n",
              "      <td>1579-01-01 00:00:00</td>\n",
              "    </tr>\n",
              "    <tr>\n",
              "      <th>5</th>\n",
              "      <td>1580</td>\n",
              "      <td>1589</td>\n",
              "      <td>1580 - 1589</td>\n",
              "      <td>1580-01-01 00:00:00</td>\n",
              "      <td>1589-01-01 00:00:00</td>\n",
              "    </tr>\n",
              "    <tr>\n",
              "      <th>6</th>\n",
              "      <td>1590</td>\n",
              "      <td>1599</td>\n",
              "      <td>1590 - 1599</td>\n",
              "      <td>1590-01-01 00:00:00</td>\n",
              "      <td>1599-01-01 00:00:00</td>\n",
              "    </tr>\n",
              "    <tr>\n",
              "      <th>7</th>\n",
              "      <td>1600</td>\n",
              "      <td>1609</td>\n",
              "      <td>1600 - 1609</td>\n",
              "      <td>1600-01-01 00:00:00</td>\n",
              "      <td>1609-01-01 00:00:00</td>\n",
              "    </tr>\n",
              "    <tr>\n",
              "      <th>8</th>\n",
              "      <td>1610</td>\n",
              "      <td>1619</td>\n",
              "      <td>1610 - 1619</td>\n",
              "      <td>1610-01-01 00:00:00</td>\n",
              "      <td>1619-01-01 00:00:00</td>\n",
              "    </tr>\n",
              "    <tr>\n",
              "      <th>9</th>\n",
              "      <td>1620</td>\n",
              "      <td>1629</td>\n",
              "      <td>1620 - 1629</td>\n",
              "      <td>1620-01-01 00:00:00</td>\n",
              "      <td>1629-01-01 00:00:00</td>\n",
              "    </tr>\n",
              "    <tr>\n",
              "      <th>10</th>\n",
              "      <td>1630</td>\n",
              "      <td>1639</td>\n",
              "      <td>1630 - 1639</td>\n",
              "      <td>1630-01-01 00:00:00</td>\n",
              "      <td>1639-01-01 00:00:00</td>\n",
              "    </tr>\n",
              "    <tr>\n",
              "      <th>11</th>\n",
              "      <td>1640</td>\n",
              "      <td>1649</td>\n",
              "      <td>1640 - 1649</td>\n",
              "      <td>1640-01-01 00:00:00</td>\n",
              "      <td>1649-01-01 00:00:00</td>\n",
              "    </tr>\n",
              "    <tr>\n",
              "      <th>12</th>\n",
              "      <td>1650</td>\n",
              "      <td>1659</td>\n",
              "      <td>1650 - 1659</td>\n",
              "      <td>1650-01-01 00:00:00</td>\n",
              "      <td>1659-01-01 00:00:00</td>\n",
              "    </tr>\n",
              "    <tr>\n",
              "      <th>13</th>\n",
              "      <td>1660</td>\n",
              "      <td>1669</td>\n",
              "      <td>1660 - 1669</td>\n",
              "      <td>1660-01-01 00:00:00</td>\n",
              "      <td>1669-01-01 00:00:00</td>\n",
              "    </tr>\n",
              "    <tr>\n",
              "      <th>14</th>\n",
              "      <td>1670</td>\n",
              "      <td>1679</td>\n",
              "      <td>1670 - 1679</td>\n",
              "      <td>1670-01-01 00:00:00</td>\n",
              "      <td>1679-01-01 00:00:00</td>\n",
              "    </tr>\n",
              "    <tr>\n",
              "      <th>15</th>\n",
              "      <td>1680</td>\n",
              "      <td>1689</td>\n",
              "      <td>1680 - 1689</td>\n",
              "      <td>1680-01-01 00:00:00</td>\n",
              "      <td>1689-01-01 00:00:00</td>\n",
              "    </tr>\n",
              "    <tr>\n",
              "      <th>16</th>\n",
              "      <td>1690</td>\n",
              "      <td>1699</td>\n",
              "      <td>1690 - 1699</td>\n",
              "      <td>1690-01-01 00:00:00</td>\n",
              "      <td>1699-01-01 00:00:00</td>\n",
              "    </tr>\n",
              "    <tr>\n",
              "      <th>17</th>\n",
              "      <td>1700</td>\n",
              "      <td>1709</td>\n",
              "      <td>1700 - 1709</td>\n",
              "      <td>1700-01-01 00:00:00</td>\n",
              "      <td>1709-01-01 00:00:00</td>\n",
              "    </tr>\n",
              "    <tr>\n",
              "      <th>18</th>\n",
              "      <td>1710</td>\n",
              "      <td>1719</td>\n",
              "      <td>1710 - 1719</td>\n",
              "      <td>1710-01-01 00:00:00</td>\n",
              "      <td>1719-01-01 00:00:00</td>\n",
              "    </tr>\n",
              "    <tr>\n",
              "      <th>19</th>\n",
              "      <td>1720</td>\n",
              "      <td>1729</td>\n",
              "      <td>1720 - 1729</td>\n",
              "      <td>1720-01-01 00:00:00</td>\n",
              "      <td>1729-01-01 00:00:00</td>\n",
              "    </tr>\n",
              "    <tr>\n",
              "      <th>20</th>\n",
              "      <td>1730</td>\n",
              "      <td>1739</td>\n",
              "      <td>1730 - 1739</td>\n",
              "      <td>1730-01-01 00:00:00</td>\n",
              "      <td>1739-01-01 00:00:00</td>\n",
              "    </tr>\n",
              "    <tr>\n",
              "      <th>21</th>\n",
              "      <td>1740</td>\n",
              "      <td>1749</td>\n",
              "      <td>1740 - 1749</td>\n",
              "      <td>1740-01-01 00:00:00</td>\n",
              "      <td>1749-01-01 00:00:00</td>\n",
              "    </tr>\n",
              "    <tr>\n",
              "      <th>22</th>\n",
              "      <td>1750</td>\n",
              "      <td>1759</td>\n",
              "      <td>1750 - 1759</td>\n",
              "      <td>1750-01-01 00:00:00</td>\n",
              "      <td>1759-01-01 00:00:00</td>\n",
              "    </tr>\n",
              "    <tr>\n",
              "      <th>23</th>\n",
              "      <td>1760</td>\n",
              "      <td>1769</td>\n",
              "      <td>1760 - 1769</td>\n",
              "      <td>1760-01-01 00:00:00</td>\n",
              "      <td>1769-01-01 00:00:00</td>\n",
              "    </tr>\n",
              "    <tr>\n",
              "      <th>24</th>\n",
              "      <td>1770</td>\n",
              "      <td>1779</td>\n",
              "      <td>1770 - 1779</td>\n",
              "      <td>1770-01-01 00:00:00</td>\n",
              "      <td>1779-01-01 00:00:00</td>\n",
              "    </tr>\n",
              "    <tr>\n",
              "      <th>25</th>\n",
              "      <td>1780</td>\n",
              "      <td>1789</td>\n",
              "      <td>1780 - 1789</td>\n",
              "      <td>1780-01-01 00:00:00</td>\n",
              "      <td>1789-01-01 00:00:00</td>\n",
              "    </tr>\n",
              "    <tr>\n",
              "      <th>26</th>\n",
              "      <td>1790</td>\n",
              "      <td>1799</td>\n",
              "      <td>1790 - 1799</td>\n",
              "      <td>1790-01-01 00:00:00</td>\n",
              "      <td>1799-01-01 00:00:00</td>\n",
              "    </tr>\n",
              "    <tr>\n",
              "      <th>27</th>\n",
              "      <td>1800</td>\n",
              "      <td>1809</td>\n",
              "      <td>1800 - 1809</td>\n",
              "      <td>1800-01-01 00:00:00</td>\n",
              "      <td>1809-01-01 00:00:00</td>\n",
              "    </tr>\n",
              "    <tr>\n",
              "      <th>28</th>\n",
              "      <td>1810</td>\n",
              "      <td>1819</td>\n",
              "      <td>1810 - 1819</td>\n",
              "      <td>1810-01-01 00:00:00</td>\n",
              "      <td>1819-01-01 00:00:00</td>\n",
              "    </tr>\n",
              "    <tr>\n",
              "      <th>29</th>\n",
              "      <td>1820</td>\n",
              "      <td>1829</td>\n",
              "      <td>1820 - 1829</td>\n",
              "      <td>1820-01-01 00:00:00</td>\n",
              "      <td>1829-01-01 00:00:00</td>\n",
              "    </tr>\n",
              "    <tr>\n",
              "      <th>30</th>\n",
              "      <td>1830</td>\n",
              "      <td>1839</td>\n",
              "      <td>1830 - 1839</td>\n",
              "      <td>1830-01-01 00:00:00</td>\n",
              "      <td>1839-01-01 00:00:00</td>\n",
              "    </tr>\n",
              "    <tr>\n",
              "      <th>31</th>\n",
              "      <td>1840</td>\n",
              "      <td>1849</td>\n",
              "      <td>1840 - 1849</td>\n",
              "      <td>1840-01-01 00:00:00</td>\n",
              "      <td>1849-01-01 00:00:00</td>\n",
              "    </tr>\n",
              "    <tr>\n",
              "      <th>32</th>\n",
              "      <td>1850</td>\n",
              "      <td>1859</td>\n",
              "      <td>1850 - 1859</td>\n",
              "      <td>1850-01-01 00:00:00</td>\n",
              "      <td>1859-01-01 00:00:00</td>\n",
              "    </tr>\n",
              "    <tr>\n",
              "      <th>33</th>\n",
              "      <td>1860</td>\n",
              "      <td>1869</td>\n",
              "      <td>1860 - 1869</td>\n",
              "      <td>1860-01-01 00:00:00</td>\n",
              "      <td>1869-01-01 00:00:00</td>\n",
              "    </tr>\n",
              "    <tr>\n",
              "      <th>34</th>\n",
              "      <td>1870</td>\n",
              "      <td>1879</td>\n",
              "      <td>1870 - 1879</td>\n",
              "      <td>1870-01-01 00:00:00</td>\n",
              "      <td>1879-01-01 00:00:00</td>\n",
              "    </tr>\n",
              "    <tr>\n",
              "      <th>35</th>\n",
              "      <td>1880</td>\n",
              "      <td>1889</td>\n",
              "      <td>1880 - 1889</td>\n",
              "      <td>1880-01-01 00:00:00</td>\n",
              "      <td>1889-01-01 00:00:00</td>\n",
              "    </tr>\n",
              "    <tr>\n",
              "      <th>36</th>\n",
              "      <td>1890</td>\n",
              "      <td>1899</td>\n",
              "      <td>1890 - 1899</td>\n",
              "      <td>1890-01-01 00:00:00</td>\n",
              "      <td>1899-01-01 00:00:00</td>\n",
              "    </tr>\n",
              "    <tr>\n",
              "      <th>37</th>\n",
              "      <td>1900</td>\n",
              "      <td>1909</td>\n",
              "      <td>1900 - 1909</td>\n",
              "      <td>1900-01-01 00:00:00</td>\n",
              "      <td>1909-01-01 00:00:00</td>\n",
              "    </tr>\n",
              "    <tr>\n",
              "      <th>38</th>\n",
              "      <td>1910</td>\n",
              "      <td>1919</td>\n",
              "      <td>1910 - 1919</td>\n",
              "      <td>1910-01-01 00:00:00</td>\n",
              "      <td>1919-01-01 00:00:00</td>\n",
              "    </tr>\n",
              "    <tr>\n",
              "      <th>39</th>\n",
              "      <td>1920</td>\n",
              "      <td>1929</td>\n",
              "      <td>1920 - 1929</td>\n",
              "      <td>1920-01-01 00:00:00</td>\n",
              "      <td>1929-01-01 00:00:00</td>\n",
              "    </tr>\n",
              "    <tr>\n",
              "      <th>40</th>\n",
              "      <td>1930</td>\n",
              "      <td>1939</td>\n",
              "      <td>1930 - 1939</td>\n",
              "      <td>1930-01-01 00:00:00</td>\n",
              "      <td>1939-01-01 00:00:00</td>\n",
              "    </tr>\n",
              "    <tr>\n",
              "      <th>41</th>\n",
              "      <td>1940</td>\n",
              "      <td>1949</td>\n",
              "      <td>1940 - 1949</td>\n",
              "      <td>1940-01-01 00:00:00</td>\n",
              "      <td>1949-01-01 00:00:00</td>\n",
              "    </tr>\n",
              "    <tr>\n",
              "      <th>42</th>\n",
              "      <td>1950</td>\n",
              "      <td>1959</td>\n",
              "      <td>1950 - 1959</td>\n",
              "      <td>1950-01-01 00:00:00</td>\n",
              "      <td>1959-01-01 00:00:00</td>\n",
              "    </tr>\n",
              "    <tr>\n",
              "      <th>43</th>\n",
              "      <td>1960</td>\n",
              "      <td>1969</td>\n",
              "      <td>1960 - 1969</td>\n",
              "      <td>1960-01-01 00:00:00</td>\n",
              "      <td>1969-01-01 00:00:00</td>\n",
              "    </tr>\n",
              "    <tr>\n",
              "      <th>44</th>\n",
              "      <td>1970</td>\n",
              "      <td>1979</td>\n",
              "      <td>1970 - 1979</td>\n",
              "      <td>1970-01-01 00:00:00</td>\n",
              "      <td>1979-01-01 00:00:00</td>\n",
              "    </tr>\n",
              "    <tr>\n",
              "      <th>45</th>\n",
              "      <td>1980</td>\n",
              "      <td>1989</td>\n",
              "      <td>1980 - 1989</td>\n",
              "      <td>1980-01-01 00:00:00</td>\n",
              "      <td>1989-01-01 00:00:00</td>\n",
              "    </tr>\n",
              "    <tr>\n",
              "      <th>46</th>\n",
              "      <td>1990</td>\n",
              "      <td>1999</td>\n",
              "      <td>1990 - 1999</td>\n",
              "      <td>1990-01-01 00:00:00</td>\n",
              "      <td>1999-01-01 00:00:00</td>\n",
              "    </tr>\n",
              "    <tr>\n",
              "      <th>47</th>\n",
              "      <td>2000</td>\n",
              "      <td>2009</td>\n",
              "      <td>2000 - 2009</td>\n",
              "      <td>2000-01-01 00:00:00</td>\n",
              "      <td>2009-01-01 00:00:00</td>\n",
              "    </tr>\n",
              "    <tr>\n",
              "      <th>48</th>\n",
              "      <td>2010</td>\n",
              "      <td>2019</td>\n",
              "      <td>2010 - 2019</td>\n",
              "      <td>2010-01-01 00:00:00</td>\n",
              "      <td>2019-01-01 00:00:00</td>\n",
              "    </tr>\n",
              "  </tbody>\n",
              "</table>\n",
              "</div>\n",
              "      <button class=\"colab-df-convert\" onclick=\"convertToInteractive('df-d2d37901-831f-4a2f-baee-4fee15039226')\"\n",
              "              title=\"Convert this dataframe to an interactive table.\"\n",
              "              style=\"display:none;\">\n",
              "        \n",
              "  <svg xmlns=\"http://www.w3.org/2000/svg\" height=\"24px\"viewBox=\"0 0 24 24\"\n",
              "       width=\"24px\">\n",
              "    <path d=\"M0 0h24v24H0V0z\" fill=\"none\"/>\n",
              "    <path d=\"M18.56 5.44l.94 2.06.94-2.06 2.06-.94-2.06-.94-.94-2.06-.94 2.06-2.06.94zm-11 1L8.5 8.5l.94-2.06 2.06-.94-2.06-.94L8.5 2.5l-.94 2.06-2.06.94zm10 10l.94 2.06.94-2.06 2.06-.94-2.06-.94-.94-2.06-.94 2.06-2.06.94z\"/><path d=\"M17.41 7.96l-1.37-1.37c-.4-.4-.92-.59-1.43-.59-.52 0-1.04.2-1.43.59L10.3 9.45l-7.72 7.72c-.78.78-.78 2.05 0 2.83L4 21.41c.39.39.9.59 1.41.59.51 0 1.02-.2 1.41-.59l7.78-7.78 2.81-2.81c.8-.78.8-2.07 0-2.86zM5.41 20L4 18.59l7.72-7.72 1.47 1.35L5.41 20z\"/>\n",
              "  </svg>\n",
              "      </button>\n",
              "      \n",
              "  <style>\n",
              "    .colab-df-container {\n",
              "      display:flex;\n",
              "      flex-wrap:wrap;\n",
              "      gap: 12px;\n",
              "    }\n",
              "\n",
              "    .colab-df-convert {\n",
              "      background-color: #E8F0FE;\n",
              "      border: none;\n",
              "      border-radius: 50%;\n",
              "      cursor: pointer;\n",
              "      display: none;\n",
              "      fill: #1967D2;\n",
              "      height: 32px;\n",
              "      padding: 0 0 0 0;\n",
              "      width: 32px;\n",
              "    }\n",
              "\n",
              "    .colab-df-convert:hover {\n",
              "      background-color: #E2EBFA;\n",
              "      box-shadow: 0px 1px 2px rgba(60, 64, 67, 0.3), 0px 1px 3px 1px rgba(60, 64, 67, 0.15);\n",
              "      fill: #174EA6;\n",
              "    }\n",
              "\n",
              "    [theme=dark] .colab-df-convert {\n",
              "      background-color: #3B4455;\n",
              "      fill: #D2E3FC;\n",
              "    }\n",
              "\n",
              "    [theme=dark] .colab-df-convert:hover {\n",
              "      background-color: #434B5C;\n",
              "      box-shadow: 0px 1px 3px 1px rgba(0, 0, 0, 0.15);\n",
              "      filter: drop-shadow(0px 1px 2px rgba(0, 0, 0, 0.3));\n",
              "      fill: #FFFFFF;\n",
              "    }\n",
              "  </style>\n",
              "\n",
              "      <script>\n",
              "        const buttonEl =\n",
              "          document.querySelector('#df-d2d37901-831f-4a2f-baee-4fee15039226 button.colab-df-convert');\n",
              "        buttonEl.style.display =\n",
              "          google.colab.kernel.accessAllowed ? 'block' : 'none';\n",
              "\n",
              "        async function convertToInteractive(key) {\n",
              "          const element = document.querySelector('#df-d2d37901-831f-4a2f-baee-4fee15039226');\n",
              "          const dataTable =\n",
              "            await google.colab.kernel.invokeFunction('convertToInteractive',\n",
              "                                                     [key], {});\n",
              "          if (!dataTable) return;\n",
              "\n",
              "          const docLinkHtml = 'Like what you see? Visit the ' +\n",
              "            '<a target=\"_blank\" href=https://colab.research.google.com/notebooks/data_table.ipynb>data table notebook</a>'\n",
              "            + ' to learn more about interactive tables.';\n",
              "          element.innerHTML = '';\n",
              "          dataTable['output_type'] = 'display_data';\n",
              "          await google.colab.output.renderOutput(dataTable, element);\n",
              "          const docLink = document.createElement('div');\n",
              "          docLink.innerHTML = docLinkHtml;\n",
              "          element.appendChild(docLink);\n",
              "        }\n",
              "      </script>\n",
              "    </div>\n",
              "  </div>\n",
              "  "
            ]
          },
          "metadata": {},
          "execution_count": 416
        }
      ]
    },
    {
      "cell_type": "markdown",
      "source": [
        "# **5. Clean Relationships Data**"
      ],
      "metadata": {
        "id": "F0ZLiGrHxvHn"
      }
    },
    {
      "cell_type": "code",
      "source": [
        "# Read in the raw data file from Github\n",
        "r_url = \"https://raw.githubusercontent.com/MissMaya/CASA0004_DISSERTATION/main/raw_data/relations.csv\"\n",
        "r_df = pd.read_csv(r_url)"
      ],
      "metadata": {
        "id": "IZA_Lx9u-4vC"
      },
      "execution_count": null,
      "outputs": []
    },
    {
      "cell_type": "code",
      "source": [
        "# Check the shape of the dataframe\n",
        "r_df.head()"
      ],
      "metadata": {
        "colab": {
          "base_uri": "https://localhost:8080/",
          "height": 270
        },
        "id": "jtQsQ4wL-4zc",
        "outputId": "c4082a62-d3c0-4db4-806c-4ed70ee2d3b3"
      },
      "execution_count": null,
      "outputs": [
        {
          "output_type": "execute_result",
          "data": {
            "text/plain": [
              "   source_maker_id source_maker_surname source_maker_first_name  \\\n",
              "0             2806                    \\                 William   \n",
              "1             1122                AARON                   Aaron   \n",
              "2             1122                AARON                   Aaron   \n",
              "3             1671          AARON & CO.                   Isaac   \n",
              "4             1671          AARON & CO.                   Isaac   \n",
              "\n",
              "  source_maker_date_1 source_maker_date_2 relation_description  relation_code  \\\n",
              "0          1808-01-01          1808-01-01             See Also             14   \n",
              "1          1805-01-01          1822-01-01      Associated with             15   \n",
              "2          1805-01-01          1822-01-01      Associated with             15   \n",
              "3          1801-01-01          1801-01-01      Associated with             15   \n",
              "4          1801-01-01          1801-01-01      Associated with             15   \n",
              "\n",
              "   target_maker_id target_maker_surname target_maker_first_name  \\\n",
              "0             2028            CARPENTER                  Philip   \n",
              "1             1671          AARON & CO.                   Isaac   \n",
              "2             1670          AARON & SON                   Isaac   \n",
              "3             1670          AARON & SON                   Isaac   \n",
              "4             1122                AARON                   Aaron   \n",
              "\n",
              "  target_maker_date_1 target_maker_date_2  \n",
              "0          1808-01-01          1833-01-01  \n",
              "1          1801-01-01          1801-01-01  \n",
              "2          1794-01-01          1814-01-01  \n",
              "3          1794-01-01          1814-01-01  \n",
              "4          1805-01-01          1822-01-01  "
            ],
            "text/html": [
              "\n",
              "  <div id=\"df-fea1fe29-00bc-44c1-a6a9-ea7ed8c292c7\">\n",
              "    <div class=\"colab-df-container\">\n",
              "      <div>\n",
              "<style scoped>\n",
              "    .dataframe tbody tr th:only-of-type {\n",
              "        vertical-align: middle;\n",
              "    }\n",
              "\n",
              "    .dataframe tbody tr th {\n",
              "        vertical-align: top;\n",
              "    }\n",
              "\n",
              "    .dataframe thead th {\n",
              "        text-align: right;\n",
              "    }\n",
              "</style>\n",
              "<table border=\"1\" class=\"dataframe\">\n",
              "  <thead>\n",
              "    <tr style=\"text-align: right;\">\n",
              "      <th></th>\n",
              "      <th>source_maker_id</th>\n",
              "      <th>source_maker_surname</th>\n",
              "      <th>source_maker_first_name</th>\n",
              "      <th>source_maker_date_1</th>\n",
              "      <th>source_maker_date_2</th>\n",
              "      <th>relation_description</th>\n",
              "      <th>relation_code</th>\n",
              "      <th>target_maker_id</th>\n",
              "      <th>target_maker_surname</th>\n",
              "      <th>target_maker_first_name</th>\n",
              "      <th>target_maker_date_1</th>\n",
              "      <th>target_maker_date_2</th>\n",
              "    </tr>\n",
              "  </thead>\n",
              "  <tbody>\n",
              "    <tr>\n",
              "      <th>0</th>\n",
              "      <td>2806</td>\n",
              "      <td>\\</td>\n",
              "      <td>William</td>\n",
              "      <td>1808-01-01</td>\n",
              "      <td>1808-01-01</td>\n",
              "      <td>See Also</td>\n",
              "      <td>14</td>\n",
              "      <td>2028</td>\n",
              "      <td>CARPENTER</td>\n",
              "      <td>Philip</td>\n",
              "      <td>1808-01-01</td>\n",
              "      <td>1833-01-01</td>\n",
              "    </tr>\n",
              "    <tr>\n",
              "      <th>1</th>\n",
              "      <td>1122</td>\n",
              "      <td>AARON</td>\n",
              "      <td>Aaron</td>\n",
              "      <td>1805-01-01</td>\n",
              "      <td>1822-01-01</td>\n",
              "      <td>Associated with</td>\n",
              "      <td>15</td>\n",
              "      <td>1671</td>\n",
              "      <td>AARON &amp; CO.</td>\n",
              "      <td>Isaac</td>\n",
              "      <td>1801-01-01</td>\n",
              "      <td>1801-01-01</td>\n",
              "    </tr>\n",
              "    <tr>\n",
              "      <th>2</th>\n",
              "      <td>1122</td>\n",
              "      <td>AARON</td>\n",
              "      <td>Aaron</td>\n",
              "      <td>1805-01-01</td>\n",
              "      <td>1822-01-01</td>\n",
              "      <td>Associated with</td>\n",
              "      <td>15</td>\n",
              "      <td>1670</td>\n",
              "      <td>AARON &amp; SON</td>\n",
              "      <td>Isaac</td>\n",
              "      <td>1794-01-01</td>\n",
              "      <td>1814-01-01</td>\n",
              "    </tr>\n",
              "    <tr>\n",
              "      <th>3</th>\n",
              "      <td>1671</td>\n",
              "      <td>AARON &amp; CO.</td>\n",
              "      <td>Isaac</td>\n",
              "      <td>1801-01-01</td>\n",
              "      <td>1801-01-01</td>\n",
              "      <td>Associated with</td>\n",
              "      <td>15</td>\n",
              "      <td>1670</td>\n",
              "      <td>AARON &amp; SON</td>\n",
              "      <td>Isaac</td>\n",
              "      <td>1794-01-01</td>\n",
              "      <td>1814-01-01</td>\n",
              "    </tr>\n",
              "    <tr>\n",
              "      <th>4</th>\n",
              "      <td>1671</td>\n",
              "      <td>AARON &amp; CO.</td>\n",
              "      <td>Isaac</td>\n",
              "      <td>1801-01-01</td>\n",
              "      <td>1801-01-01</td>\n",
              "      <td>Associated with</td>\n",
              "      <td>15</td>\n",
              "      <td>1122</td>\n",
              "      <td>AARON</td>\n",
              "      <td>Aaron</td>\n",
              "      <td>1805-01-01</td>\n",
              "      <td>1822-01-01</td>\n",
              "    </tr>\n",
              "  </tbody>\n",
              "</table>\n",
              "</div>\n",
              "      <button class=\"colab-df-convert\" onclick=\"convertToInteractive('df-fea1fe29-00bc-44c1-a6a9-ea7ed8c292c7')\"\n",
              "              title=\"Convert this dataframe to an interactive table.\"\n",
              "              style=\"display:none;\">\n",
              "        \n",
              "  <svg xmlns=\"http://www.w3.org/2000/svg\" height=\"24px\"viewBox=\"0 0 24 24\"\n",
              "       width=\"24px\">\n",
              "    <path d=\"M0 0h24v24H0V0z\" fill=\"none\"/>\n",
              "    <path d=\"M18.56 5.44l.94 2.06.94-2.06 2.06-.94-2.06-.94-.94-2.06-.94 2.06-2.06.94zm-11 1L8.5 8.5l.94-2.06 2.06-.94-2.06-.94L8.5 2.5l-.94 2.06-2.06.94zm10 10l.94 2.06.94-2.06 2.06-.94-2.06-.94-.94-2.06-.94 2.06-2.06.94z\"/><path d=\"M17.41 7.96l-1.37-1.37c-.4-.4-.92-.59-1.43-.59-.52 0-1.04.2-1.43.59L10.3 9.45l-7.72 7.72c-.78.78-.78 2.05 0 2.83L4 21.41c.39.39.9.59 1.41.59.51 0 1.02-.2 1.41-.59l7.78-7.78 2.81-2.81c.8-.78.8-2.07 0-2.86zM5.41 20L4 18.59l7.72-7.72 1.47 1.35L5.41 20z\"/>\n",
              "  </svg>\n",
              "      </button>\n",
              "      \n",
              "  <style>\n",
              "    .colab-df-container {\n",
              "      display:flex;\n",
              "      flex-wrap:wrap;\n",
              "      gap: 12px;\n",
              "    }\n",
              "\n",
              "    .colab-df-convert {\n",
              "      background-color: #E8F0FE;\n",
              "      border: none;\n",
              "      border-radius: 50%;\n",
              "      cursor: pointer;\n",
              "      display: none;\n",
              "      fill: #1967D2;\n",
              "      height: 32px;\n",
              "      padding: 0 0 0 0;\n",
              "      width: 32px;\n",
              "    }\n",
              "\n",
              "    .colab-df-convert:hover {\n",
              "      background-color: #E2EBFA;\n",
              "      box-shadow: 0px 1px 2px rgba(60, 64, 67, 0.3), 0px 1px 3px 1px rgba(60, 64, 67, 0.15);\n",
              "      fill: #174EA6;\n",
              "    }\n",
              "\n",
              "    [theme=dark] .colab-df-convert {\n",
              "      background-color: #3B4455;\n",
              "      fill: #D2E3FC;\n",
              "    }\n",
              "\n",
              "    [theme=dark] .colab-df-convert:hover {\n",
              "      background-color: #434B5C;\n",
              "      box-shadow: 0px 1px 3px 1px rgba(0, 0, 0, 0.15);\n",
              "      filter: drop-shadow(0px 1px 2px rgba(0, 0, 0, 0.3));\n",
              "      fill: #FFFFFF;\n",
              "    }\n",
              "  </style>\n",
              "\n",
              "      <script>\n",
              "        const buttonEl =\n",
              "          document.querySelector('#df-fea1fe29-00bc-44c1-a6a9-ea7ed8c292c7 button.colab-df-convert');\n",
              "        buttonEl.style.display =\n",
              "          google.colab.kernel.accessAllowed ? 'block' : 'none';\n",
              "\n",
              "        async function convertToInteractive(key) {\n",
              "          const element = document.querySelector('#df-fea1fe29-00bc-44c1-a6a9-ea7ed8c292c7');\n",
              "          const dataTable =\n",
              "            await google.colab.kernel.invokeFunction('convertToInteractive',\n",
              "                                                     [key], {});\n",
              "          if (!dataTable) return;\n",
              "\n",
              "          const docLinkHtml = 'Like what you see? Visit the ' +\n",
              "            '<a target=\"_blank\" href=https://colab.research.google.com/notebooks/data_table.ipynb>data table notebook</a>'\n",
              "            + ' to learn more about interactive tables.';\n",
              "          element.innerHTML = '';\n",
              "          dataTable['output_type'] = 'display_data';\n",
              "          await google.colab.output.renderOutput(dataTable, element);\n",
              "          const docLink = document.createElement('div');\n",
              "          docLink.innerHTML = docLinkHtml;\n",
              "          element.appendChild(docLink);\n",
              "        }\n",
              "      </script>\n",
              "    </div>\n",
              "  </div>\n",
              "  "
            ]
          },
          "metadata": {},
          "execution_count": 418
        }
      ]
    },
    {
      "cell_type": "code",
      "source": [
        "# Check the data types\n",
        "r_df.dtypes"
      ],
      "metadata": {
        "colab": {
          "base_uri": "https://localhost:8080/"
        },
        "id": "Mww92tYfA5uN",
        "outputId": "cfbf1a75-6777-413f-e1ac-d3e493fe9597"
      },
      "execution_count": null,
      "outputs": [
        {
          "output_type": "execute_result",
          "data": {
            "text/plain": [
              "source_maker_id             int64\n",
              "source_maker_surname       object\n",
              "source_maker_first_name    object\n",
              "source_maker_date_1        object\n",
              "source_maker_date_2        object\n",
              "relation_description       object\n",
              "relation_code               int64\n",
              "target_maker_id             int64\n",
              "target_maker_surname       object\n",
              "target_maker_first_name    object\n",
              "target_maker_date_1        object\n",
              "target_maker_date_2        object\n",
              "dtype: object"
            ]
          },
          "metadata": {},
          "execution_count": 419
        }
      ]
    },
    {
      "cell_type": "code",
      "source": [
        "# Keep only selected columns \n",
        "\n",
        "keep = [\"source_maker_id\",\n",
        "        \"relation_description\",\n",
        "        \"target_maker_id\"]\n",
        "\n",
        "r_df = r_df.drop(r_df.columns.difference(keep), axis = 1)"
      ],
      "metadata": {
        "id": "CI72OD8u4T6s"
      },
      "execution_count": null,
      "outputs": []
    },
    {
      "cell_type": "code",
      "source": [
        "# Rename columns \n",
        "r_df.rename(columns = {\"source_maker_id\" : \"source\", \"relation_description\" : \"relationship\", \"target_maker_id\" : \"target\"}, inplace = True)\n"
      ],
      "metadata": {
        "id": "3FQVsl_HSsjS"
      },
      "execution_count": null,
      "outputs": []
    },
    {
      "cell_type": "code",
      "source": [
        "# Rename null values in \"relationship\" column  \n",
        "r_df[\"relationship\"] = r_df[\"relationship\"].fillna(\"UNKNOWN_RELATION\")"
      ],
      "metadata": {
        "id": "yiypqcMEIEdj"
      },
      "execution_count": null,
      "outputs": []
    },
    {
      "cell_type": "code",
      "source": [
        "# Convert values in \"relationship\" column to upper case and replace spaces with \"_\"\n",
        "# Conversion in line with Neo4j naming conventions \n",
        "r_df[\"relationship\"] = r_df[\"relationship\"].str.upper().str.replace(\" \",\"_\")"
      ],
      "metadata": {
        "id": "yc2oSOVTPRwm"
      },
      "execution_count": null,
      "outputs": []
    },
    {
      "cell_type": "code",
      "source": [
        "# Check that shape of dataframe is as expected at this point\n",
        "r_df.head()"
      ],
      "metadata": {
        "colab": {
          "base_uri": "https://localhost:8080/",
          "height": 206
        },
        "id": "teTbMfmSPv0a",
        "outputId": "6203d184-9a15-4af4-e6b6-b1da03de5b10"
      },
      "execution_count": null,
      "outputs": [
        {
          "output_type": "execute_result",
          "data": {
            "text/plain": [
              "   source     relationship  target\n",
              "0    2806         SEE_ALSO    2028\n",
              "1    1122  ASSOCIATED_WITH    1671\n",
              "2    1122  ASSOCIATED_WITH    1670\n",
              "3    1671  ASSOCIATED_WITH    1670\n",
              "4    1671  ASSOCIATED_WITH    1122"
            ],
            "text/html": [
              "\n",
              "  <div id=\"df-f299c025-d241-42e7-83ed-aaace64f2af8\">\n",
              "    <div class=\"colab-df-container\">\n",
              "      <div>\n",
              "<style scoped>\n",
              "    .dataframe tbody tr th:only-of-type {\n",
              "        vertical-align: middle;\n",
              "    }\n",
              "\n",
              "    .dataframe tbody tr th {\n",
              "        vertical-align: top;\n",
              "    }\n",
              "\n",
              "    .dataframe thead th {\n",
              "        text-align: right;\n",
              "    }\n",
              "</style>\n",
              "<table border=\"1\" class=\"dataframe\">\n",
              "  <thead>\n",
              "    <tr style=\"text-align: right;\">\n",
              "      <th></th>\n",
              "      <th>source</th>\n",
              "      <th>relationship</th>\n",
              "      <th>target</th>\n",
              "    </tr>\n",
              "  </thead>\n",
              "  <tbody>\n",
              "    <tr>\n",
              "      <th>0</th>\n",
              "      <td>2806</td>\n",
              "      <td>SEE_ALSO</td>\n",
              "      <td>2028</td>\n",
              "    </tr>\n",
              "    <tr>\n",
              "      <th>1</th>\n",
              "      <td>1122</td>\n",
              "      <td>ASSOCIATED_WITH</td>\n",
              "      <td>1671</td>\n",
              "    </tr>\n",
              "    <tr>\n",
              "      <th>2</th>\n",
              "      <td>1122</td>\n",
              "      <td>ASSOCIATED_WITH</td>\n",
              "      <td>1670</td>\n",
              "    </tr>\n",
              "    <tr>\n",
              "      <th>3</th>\n",
              "      <td>1671</td>\n",
              "      <td>ASSOCIATED_WITH</td>\n",
              "      <td>1670</td>\n",
              "    </tr>\n",
              "    <tr>\n",
              "      <th>4</th>\n",
              "      <td>1671</td>\n",
              "      <td>ASSOCIATED_WITH</td>\n",
              "      <td>1122</td>\n",
              "    </tr>\n",
              "  </tbody>\n",
              "</table>\n",
              "</div>\n",
              "      <button class=\"colab-df-convert\" onclick=\"convertToInteractive('df-f299c025-d241-42e7-83ed-aaace64f2af8')\"\n",
              "              title=\"Convert this dataframe to an interactive table.\"\n",
              "              style=\"display:none;\">\n",
              "        \n",
              "  <svg xmlns=\"http://www.w3.org/2000/svg\" height=\"24px\"viewBox=\"0 0 24 24\"\n",
              "       width=\"24px\">\n",
              "    <path d=\"M0 0h24v24H0V0z\" fill=\"none\"/>\n",
              "    <path d=\"M18.56 5.44l.94 2.06.94-2.06 2.06-.94-2.06-.94-.94-2.06-.94 2.06-2.06.94zm-11 1L8.5 8.5l.94-2.06 2.06-.94-2.06-.94L8.5 2.5l-.94 2.06-2.06.94zm10 10l.94 2.06.94-2.06 2.06-.94-2.06-.94-.94-2.06-.94 2.06-2.06.94z\"/><path d=\"M17.41 7.96l-1.37-1.37c-.4-.4-.92-.59-1.43-.59-.52 0-1.04.2-1.43.59L10.3 9.45l-7.72 7.72c-.78.78-.78 2.05 0 2.83L4 21.41c.39.39.9.59 1.41.59.51 0 1.02-.2 1.41-.59l7.78-7.78 2.81-2.81c.8-.78.8-2.07 0-2.86zM5.41 20L4 18.59l7.72-7.72 1.47 1.35L5.41 20z\"/>\n",
              "  </svg>\n",
              "      </button>\n",
              "      \n",
              "  <style>\n",
              "    .colab-df-container {\n",
              "      display:flex;\n",
              "      flex-wrap:wrap;\n",
              "      gap: 12px;\n",
              "    }\n",
              "\n",
              "    .colab-df-convert {\n",
              "      background-color: #E8F0FE;\n",
              "      border: none;\n",
              "      border-radius: 50%;\n",
              "      cursor: pointer;\n",
              "      display: none;\n",
              "      fill: #1967D2;\n",
              "      height: 32px;\n",
              "      padding: 0 0 0 0;\n",
              "      width: 32px;\n",
              "    }\n",
              "\n",
              "    .colab-df-convert:hover {\n",
              "      background-color: #E2EBFA;\n",
              "      box-shadow: 0px 1px 2px rgba(60, 64, 67, 0.3), 0px 1px 3px 1px rgba(60, 64, 67, 0.15);\n",
              "      fill: #174EA6;\n",
              "    }\n",
              "\n",
              "    [theme=dark] .colab-df-convert {\n",
              "      background-color: #3B4455;\n",
              "      fill: #D2E3FC;\n",
              "    }\n",
              "\n",
              "    [theme=dark] .colab-df-convert:hover {\n",
              "      background-color: #434B5C;\n",
              "      box-shadow: 0px 1px 3px 1px rgba(0, 0, 0, 0.15);\n",
              "      filter: drop-shadow(0px 1px 2px rgba(0, 0, 0, 0.3));\n",
              "      fill: #FFFFFF;\n",
              "    }\n",
              "  </style>\n",
              "\n",
              "      <script>\n",
              "        const buttonEl =\n",
              "          document.querySelector('#df-f299c025-d241-42e7-83ed-aaace64f2af8 button.colab-df-convert');\n",
              "        buttonEl.style.display =\n",
              "          google.colab.kernel.accessAllowed ? 'block' : 'none';\n",
              "\n",
              "        async function convertToInteractive(key) {\n",
              "          const element = document.querySelector('#df-f299c025-d241-42e7-83ed-aaace64f2af8');\n",
              "          const dataTable =\n",
              "            await google.colab.kernel.invokeFunction('convertToInteractive',\n",
              "                                                     [key], {});\n",
              "          if (!dataTable) return;\n",
              "\n",
              "          const docLinkHtml = 'Like what you see? Visit the ' +\n",
              "            '<a target=\"_blank\" href=https://colab.research.google.com/notebooks/data_table.ipynb>data table notebook</a>'\n",
              "            + ' to learn more about interactive tables.';\n",
              "          element.innerHTML = '';\n",
              "          dataTable['output_type'] = 'display_data';\n",
              "          await google.colab.output.renderOutput(dataTable, element);\n",
              "          const docLink = document.createElement('div');\n",
              "          docLink.innerHTML = docLinkHtml;\n",
              "          element.appendChild(docLink);\n",
              "        }\n",
              "      </script>\n",
              "    </div>\n",
              "  </div>\n",
              "  "
            ]
          },
          "metadata": {},
          "execution_count": 424
        }
      ]
    },
    {
      "cell_type": "code",
      "source": [
        "# Count unique values in \"relationship\" column \n",
        "r_df[\"relationship\"].nunique()"
      ],
      "metadata": {
        "colab": {
          "base_uri": "https://localhost:8080/"
        },
        "id": "50XZZp2G8X3u",
        "outputId": "2759df39-d472-4519-e40b-00f0d4899279"
      },
      "execution_count": null,
      "outputs": [
        {
          "output_type": "execute_result",
          "data": {
            "text/plain": [
              "33"
            ]
          },
          "metadata": {},
          "execution_count": 425
        }
      ]
    },
    {
      "cell_type": "code",
      "source": [
        "# List unique values in \"relationship\" column \n",
        "print(r_df[\"relationship\"].unique())"
      ],
      "metadata": {
        "colab": {
          "base_uri": "https://localhost:8080/"
        },
        "id": "6-0QCKb2Okow",
        "outputId": "130b741f-c5c3-4908-d868-9e26a94e14c0"
      },
      "execution_count": null,
      "outputs": [
        {
          "output_type": "stream",
          "name": "stdout",
          "text": [
            "['SEE_ALSO' 'ASSOCIATED_WITH' 'HAD_APPRENTICE' 'APPRENTICED_TO'\n",
            " 'SUCCEEDED__BY' 'EMPLOYED_BY' 'TOOK_OVER_FROM' 'CHILD_OF' 'SPOUSE_OF'\n",
            " 'PARENT_OF' 'SIBLING_OF' 'SAME_PREMISES_AS' 'WORKED_FOR' 'PARTNERSHIP'\n",
            " 'AGENT_TO' 'NEPHNEICE_OF' 'COUSIN_OF' 'UNCAUNT_OF' 'SUPPLIED_TO'\n",
            " 'GRANDCHILD_OF' 'UNKNOWN_RELATION' 'SUPPLIED_BY' 'SON-IN-LAW_OF'\n",
            " 'STEP-PARENT_OF' 'STEPCHILD_OF' 'OWNED_BY' 'OWNER_OF' 'FRIEND_OF'\n",
            " 'FATHER-IN-LAW_OF' 'BROTHER-IN-LAW_OF' 'SUBCONTRACTOR_TO'\n",
            " 'FELLOW_APPRENTICE_OF' 'SUPPLIED_TO,_CREDITOR_OF']\n"
          ]
        }
      ]
    },
    {
      "cell_type": "code",
      "source": [
        "# Rename selected values in \"relationship\" column\n",
        "# \"FELLOW_APPRENTICE_OF\" seems to denote instances in which an individual was apprenticed more than once\n",
        "# \"SUPPLIED_TO,_CREDITOR_OF\" appears in only 2 instances and has been amalgamated with \"SUPPLIED_TO\" for simplicity\n",
        "new_rels = {\"UNCAUNT_OF\" : \"UNCLE_AUNT_OF\",\n",
        "            \"SON-IN-LAW_OF\" : \"SON_IN_LAW_OF\",\n",
        "            \"NEPHNEICE_OF\" : \"NEPHEW_NIECE_OF\",\n",
        "            \"BROTHER-IN-LAW_OF\" : \"BROTHER_IN_LAW_OF\",\n",
        "            \"FELLOW_APPRENTICE_OF\" : \"APPRENTICED_TO\",\n",
        "            \"FATHER-IN-LAW_OF\" : \"FATHER_IN_LAW_OF\",\n",
        "            \"STEP-PARENT_OF\" : \"STEP_PARENT_OF\",\n",
        "            \"SUPPLIED_TO,_CREDITOR_OF\" : \"SUPPLIED_TO\"\n",
        "            }\n",
        "\n",
        "r_df[\"relationship\"] = r_df[\"relationship\"].replace(new_rels)"
      ],
      "metadata": {
        "id": "Os3RKpgQUYgK"
      },
      "execution_count": null,
      "outputs": []
    },
    {
      "cell_type": "code",
      "source": [
        "# Check the revised list of unique values in the \"relationship\" column\n",
        "print(r_df[\"relationship\"].unique())"
      ],
      "metadata": {
        "colab": {
          "base_uri": "https://localhost:8080/"
        },
        "id": "PV8DqW0RZuqa",
        "outputId": "693f35dd-0bb9-40b2-e037-e029e7944dbc"
      },
      "execution_count": null,
      "outputs": [
        {
          "output_type": "stream",
          "name": "stdout",
          "text": [
            "['SEE_ALSO' 'ASSOCIATED_WITH' 'HAD_APPRENTICE' 'APPRENTICED_TO'\n",
            " 'SUCCEEDED__BY' 'EMPLOYED_BY' 'TOOK_OVER_FROM' 'CHILD_OF' 'SPOUSE_OF'\n",
            " 'PARENT_OF' 'SIBLING_OF' 'SAME_PREMISES_AS' 'WORKED_FOR' 'PARTNERSHIP'\n",
            " 'AGENT_TO' 'NEPHEW_NIECE_OF' 'COUSIN_OF' 'UNCLE_AUNT_OF' 'SUPPLIED_TO'\n",
            " 'GRANDCHILD_OF' 'UNKNOWN_RELATION' 'SUPPLIED_BY' 'SON_IN_LAW_OF'\n",
            " 'STEP_PARENT_OF' 'STEPCHILD_OF' 'OWNED_BY' 'OWNER_OF' 'FRIEND_OF'\n",
            " 'FATHER_IN_LAW_OF' 'BROTHER_IN_LAW_OF' 'SUBCONTRACTOR_TO']\n"
          ]
        }
      ]
    },
    {
      "cell_type": "code",
      "source": [
        "# Check the shape of the cleaned dataframe \n",
        "r_df.head()"
      ],
      "metadata": {
        "colab": {
          "base_uri": "https://localhost:8080/",
          "height": 206
        },
        "id": "bp-dsnCo6BpN",
        "outputId": "c3a98397-77e4-4b5e-d8bd-6ecf5243a352"
      },
      "execution_count": null,
      "outputs": [
        {
          "output_type": "execute_result",
          "data": {
            "text/plain": [
              "   source     relationship  target\n",
              "0    2806         SEE_ALSO    2028\n",
              "1    1122  ASSOCIATED_WITH    1671\n",
              "2    1122  ASSOCIATED_WITH    1670\n",
              "3    1671  ASSOCIATED_WITH    1670\n",
              "4    1671  ASSOCIATED_WITH    1122"
            ],
            "text/html": [
              "\n",
              "  <div id=\"df-a0d77e4b-d2dd-4321-a62d-233eb3f87094\">\n",
              "    <div class=\"colab-df-container\">\n",
              "      <div>\n",
              "<style scoped>\n",
              "    .dataframe tbody tr th:only-of-type {\n",
              "        vertical-align: middle;\n",
              "    }\n",
              "\n",
              "    .dataframe tbody tr th {\n",
              "        vertical-align: top;\n",
              "    }\n",
              "\n",
              "    .dataframe thead th {\n",
              "        text-align: right;\n",
              "    }\n",
              "</style>\n",
              "<table border=\"1\" class=\"dataframe\">\n",
              "  <thead>\n",
              "    <tr style=\"text-align: right;\">\n",
              "      <th></th>\n",
              "      <th>source</th>\n",
              "      <th>relationship</th>\n",
              "      <th>target</th>\n",
              "    </tr>\n",
              "  </thead>\n",
              "  <tbody>\n",
              "    <tr>\n",
              "      <th>0</th>\n",
              "      <td>2806</td>\n",
              "      <td>SEE_ALSO</td>\n",
              "      <td>2028</td>\n",
              "    </tr>\n",
              "    <tr>\n",
              "      <th>1</th>\n",
              "      <td>1122</td>\n",
              "      <td>ASSOCIATED_WITH</td>\n",
              "      <td>1671</td>\n",
              "    </tr>\n",
              "    <tr>\n",
              "      <th>2</th>\n",
              "      <td>1122</td>\n",
              "      <td>ASSOCIATED_WITH</td>\n",
              "      <td>1670</td>\n",
              "    </tr>\n",
              "    <tr>\n",
              "      <th>3</th>\n",
              "      <td>1671</td>\n",
              "      <td>ASSOCIATED_WITH</td>\n",
              "      <td>1670</td>\n",
              "    </tr>\n",
              "    <tr>\n",
              "      <th>4</th>\n",
              "      <td>1671</td>\n",
              "      <td>ASSOCIATED_WITH</td>\n",
              "      <td>1122</td>\n",
              "    </tr>\n",
              "  </tbody>\n",
              "</table>\n",
              "</div>\n",
              "      <button class=\"colab-df-convert\" onclick=\"convertToInteractive('df-a0d77e4b-d2dd-4321-a62d-233eb3f87094')\"\n",
              "              title=\"Convert this dataframe to an interactive table.\"\n",
              "              style=\"display:none;\">\n",
              "        \n",
              "  <svg xmlns=\"http://www.w3.org/2000/svg\" height=\"24px\"viewBox=\"0 0 24 24\"\n",
              "       width=\"24px\">\n",
              "    <path d=\"M0 0h24v24H0V0z\" fill=\"none\"/>\n",
              "    <path d=\"M18.56 5.44l.94 2.06.94-2.06 2.06-.94-2.06-.94-.94-2.06-.94 2.06-2.06.94zm-11 1L8.5 8.5l.94-2.06 2.06-.94-2.06-.94L8.5 2.5l-.94 2.06-2.06.94zm10 10l.94 2.06.94-2.06 2.06-.94-2.06-.94-.94-2.06-.94 2.06-2.06.94z\"/><path d=\"M17.41 7.96l-1.37-1.37c-.4-.4-.92-.59-1.43-.59-.52 0-1.04.2-1.43.59L10.3 9.45l-7.72 7.72c-.78.78-.78 2.05 0 2.83L4 21.41c.39.39.9.59 1.41.59.51 0 1.02-.2 1.41-.59l7.78-7.78 2.81-2.81c.8-.78.8-2.07 0-2.86zM5.41 20L4 18.59l7.72-7.72 1.47 1.35L5.41 20z\"/>\n",
              "  </svg>\n",
              "      </button>\n",
              "      \n",
              "  <style>\n",
              "    .colab-df-container {\n",
              "      display:flex;\n",
              "      flex-wrap:wrap;\n",
              "      gap: 12px;\n",
              "    }\n",
              "\n",
              "    .colab-df-convert {\n",
              "      background-color: #E8F0FE;\n",
              "      border: none;\n",
              "      border-radius: 50%;\n",
              "      cursor: pointer;\n",
              "      display: none;\n",
              "      fill: #1967D2;\n",
              "      height: 32px;\n",
              "      padding: 0 0 0 0;\n",
              "      width: 32px;\n",
              "    }\n",
              "\n",
              "    .colab-df-convert:hover {\n",
              "      background-color: #E2EBFA;\n",
              "      box-shadow: 0px 1px 2px rgba(60, 64, 67, 0.3), 0px 1px 3px 1px rgba(60, 64, 67, 0.15);\n",
              "      fill: #174EA6;\n",
              "    }\n",
              "\n",
              "    [theme=dark] .colab-df-convert {\n",
              "      background-color: #3B4455;\n",
              "      fill: #D2E3FC;\n",
              "    }\n",
              "\n",
              "    [theme=dark] .colab-df-convert:hover {\n",
              "      background-color: #434B5C;\n",
              "      box-shadow: 0px 1px 3px 1px rgba(0, 0, 0, 0.15);\n",
              "      filter: drop-shadow(0px 1px 2px rgba(0, 0, 0, 0.3));\n",
              "      fill: #FFFFFF;\n",
              "    }\n",
              "  </style>\n",
              "\n",
              "      <script>\n",
              "        const buttonEl =\n",
              "          document.querySelector('#df-a0d77e4b-d2dd-4321-a62d-233eb3f87094 button.colab-df-convert');\n",
              "        buttonEl.style.display =\n",
              "          google.colab.kernel.accessAllowed ? 'block' : 'none';\n",
              "\n",
              "        async function convertToInteractive(key) {\n",
              "          const element = document.querySelector('#df-a0d77e4b-d2dd-4321-a62d-233eb3f87094');\n",
              "          const dataTable =\n",
              "            await google.colab.kernel.invokeFunction('convertToInteractive',\n",
              "                                                     [key], {});\n",
              "          if (!dataTable) return;\n",
              "\n",
              "          const docLinkHtml = 'Like what you see? Visit the ' +\n",
              "            '<a target=\"_blank\" href=https://colab.research.google.com/notebooks/data_table.ipynb>data table notebook</a>'\n",
              "            + ' to learn more about interactive tables.';\n",
              "          element.innerHTML = '';\n",
              "          dataTable['output_type'] = 'display_data';\n",
              "          await google.colab.output.renderOutput(dataTable, element);\n",
              "          const docLink = document.createElement('div');\n",
              "          docLink.innerHTML = docLinkHtml;\n",
              "          element.appendChild(docLink);\n",
              "        }\n",
              "      </script>\n",
              "    </div>\n",
              "  </div>\n",
              "  "
            ]
          },
          "metadata": {},
          "execution_count": 429
        }
      ]
    },
    {
      "cell_type": "code",
      "source": [
        "# Count the number of relationships \n",
        "r_df[\"relationship\"].count()\n"
      ],
      "metadata": {
        "colab": {
          "base_uri": "https://localhost:8080/"
        },
        "id": "xY0qVR-Dfq86",
        "outputId": "5408ac57-8653-4bda-8880-283a97719334"
      },
      "execution_count": null,
      "outputs": [
        {
          "output_type": "execute_result",
          "data": {
            "text/plain": [
              "10046"
            ]
          },
          "metadata": {},
          "execution_count": 430
        }
      ]
    },
    {
      "cell_type": "code",
      "source": [
        "# Generate a frequency table of the categories of relationships \n",
        "r_df[\"relationship\"].value_counts()"
      ],
      "metadata": {
        "colab": {
          "base_uri": "https://localhost:8080/"
        },
        "id": "vb9c-xdFXiE5",
        "outputId": "0c494de2-535d-47b5-d914-82ef91bc6f7c"
      },
      "execution_count": null,
      "outputs": [
        {
          "output_type": "execute_result",
          "data": {
            "text/plain": [
              "SEE_ALSO             3360\n",
              "TOOK_OVER_FROM       1147\n",
              "SUCCEEDED__BY        1044\n",
              "HAD_APPRENTICE        930\n",
              "APPRENTICED_TO        829\n",
              "ASSOCIATED_WITH       560\n",
              "CHILD_OF              469\n",
              "PARENT_OF             389\n",
              "PARTNERSHIP           274\n",
              "SIBLING_OF            266\n",
              "WORKED_FOR            196\n",
              "EMPLOYED_BY           149\n",
              "SAME_PREMISES_AS      146\n",
              "SPOUSE_OF             114\n",
              "UNKNOWN_RELATION       39\n",
              "NEPHEW_NIECE_OF        33\n",
              "UNCLE_AUNT_OF          26\n",
              "SUPPLIED_TO            25\n",
              "GRANDCHILD_OF          11\n",
              "COUSIN_OF               8\n",
              "OWNED_BY                6\n",
              "AGENT_TO                5\n",
              "SUPPLIED_BY             4\n",
              "FATHER_IN_LAW_OF        4\n",
              "SON_IN_LAW_OF           3\n",
              "STEPCHILD_OF            2\n",
              "FRIEND_OF               2\n",
              "BROTHER_IN_LAW_OF       2\n",
              "STEP_PARENT_OF          1\n",
              "OWNER_OF                1\n",
              "SUBCONTRACTOR_TO        1\n",
              "Name: relationship, dtype: int64"
            ]
          },
          "metadata": {},
          "execution_count": 431
        }
      ]
    },
    {
      "cell_type": "code",
      "source": [
        "# Distribution of relationships \n",
        "plt.figure(figsize=(10,5))\n",
        "chart = sns.countplot(data = r_df, \n",
        "                      x = \"relationship\",\n",
        "                      order = pd.value_counts(r_df[\"relationship\"]).index,\n",
        "                      color = \"#55b8d1\")\n",
        "chart.set_xticklabels(chart.get_xticklabels(), rotation=90)\n",
        "chart.set_xlabel(\"Relationship\", fontsize = 11)\n",
        "chart.set_ylabel(\"Count\", fontsize = 11)\n",
        "plt.savefig(\"relationships.svg\")"
      ],
      "metadata": {
        "colab": {
          "base_uri": "https://localhost:8080/",
          "height": 435
        },
        "id": "HkNrR6DIdf04",
        "outputId": "a628c2cc-09ab-4186-e68f-8669b97796cd"
      },
      "execution_count": null,
      "outputs": [
        {
          "output_type": "display_data",
          "data": {
            "text/plain": [
              "<Figure size 720x360 with 1 Axes>"
            ],
            "image/png": "[encoded data removed]"
          },
          "metadata": {
            "needs_background": "light"
          }
        }
      ]
    },
    {
      "cell_type": "code",
      "source": [
        "familial = [\"CHILD_OF\",\n",
        "            \"PARENT_OF\",\n",
        "            \"SIBLING_OF\",\n",
        "            \"SPOUSE_OF\",\n",
        "            \"UNKNOWN_RELATION\",\n",
        "            \"NEPHEW_NIECE_OF\",\n",
        "            \"UNCLE_AUNT_OF\",\n",
        "            \"GRANDCHILD_OF\",\n",
        "            \"COUSIN_OF\",\n",
        "            \"FATHER_IN_LAW_OF\",\n",
        "            \"SON_IN_LAW_OF\"\n",
        "            \"BROTHER_IN_LAW_OF\",\n",
        "            \"STEPCHILD_OF\",\n",
        "            \"STEP_PARENT_OF\"]"
      ],
      "metadata": {
        "id": "pbsWDI8TfbDI"
      },
      "execution_count": null,
      "outputs": []
    },
    {
      "cell_type": "code",
      "source": [
        "boolean_series = r_df[\"relationship\"].isin(familial)\n",
        "familial_df = r_df[boolean_series]"
      ],
      "metadata": {
        "id": "ASAulJ2DQwPf"
      },
      "execution_count": null,
      "outputs": []
    },
    {
      "cell_type": "code",
      "source": [
        "# Calculate proportion of relationships marked \"SEE_ALSO\"\n",
        "r_df[\"relationship\"].value_counts()[\"SEE_ALSO\"] / r_df[\"relationship\"].count() * 100"
      ],
      "metadata": {
        "colab": {
          "base_uri": "https://localhost:8080/"
        },
        "id": "i6eAAwVRpVSg",
        "outputId": "5138c9b1-aaa4-4fb2-9f33-c34105b10af0"
      },
      "execution_count": null,
      "outputs": [
        {
          "output_type": "execute_result",
          "data": {
            "text/plain": [
              "33.44614772048576"
            ]
          },
          "metadata": {},
          "execution_count": 435
        }
      ]
    },
    {
      "cell_type": "code",
      "source": [
        "# Calculate proportion of familial relationships\n",
        "\n",
        "len(familial_df[\"relationship\"]) / len(r_df[\"relationship\"]) * 100"
      ],
      "metadata": {
        "colab": {
          "base_uri": "https://localhost:8080/"
        },
        "id": "hypVunP6Rs0O",
        "outputId": "8d8d173d-ab2f-4618-ccac-90a7d7a5ad99"
      },
      "execution_count": null,
      "outputs": [
        {
          "output_type": "execute_result",
          "data": {
            "text/plain": [
              "13.557634879554051"
            ]
          },
          "metadata": {},
          "execution_count": 436
        }
      ]
    },
    {
      "cell_type": "markdown",
      "source": [
        "# **6. Clean Street Level Address Data**"
      ],
      "metadata": {
        "id": "GIGM4JIxY6FO"
      }
    },
    {
      "cell_type": "code",
      "source": [
        "# Read in the raw data file from Github\n",
        "a_url = \"https://raw.githubusercontent.com/MissMaya/CASA0004_DISSERTATION/main/raw_data/addresses.csv\"\n",
        "a_df = pd.read_csv(a_url)"
      ],
      "metadata": {
        "id": "E4U9vzHKY9ss"
      },
      "execution_count": null,
      "outputs": []
    },
    {
      "cell_type": "code",
      "source": [
        "# Check the shape of the dataframe \n",
        "a_df.head()"
      ],
      "metadata": {
        "colab": {
          "base_uri": "https://localhost:8080/",
          "height": 409
        },
        "id": "5HgFEO01Y-DX",
        "outputId": "331664c0-9d6b-42b4-d5a7-74110730de35"
      },
      "execution_count": null,
      "outputs": [
        {
          "output_type": "execute_result",
          "data": {
            "text/plain": [
              "   address_id  maker_id              surname     first_name  \\\n",
              "0       21604     11414              RICHARD         Benoit   \n",
              "1       21603     11413        NEWBOLD & CO.          A. E.   \n",
              "2       21602     11412                 MILL  Julian Thomas   \n",
              "3       21601     11411                KRIMM          Franz   \n",
              "4       21597     11410  HAMMERSLEY BROTHERS            NaN   \n",
              "\n",
              "                          street_1 street_2       town        match_text  \\\n",
              "0              58 F Hatton Garden,      NaN  London EC     Hatton Garden   \n",
              "1                 70 Grays Inn Rd,      NaN  London WC   GRAY'S INN ROAD   \n",
              "2                 48 Myddelton St,      NaN  London EC  MYDDELTON STREET   \n",
              "3                23 Hatton Garden,      NaN  London EC     Hatton Garden   \n",
              "4  17 Station Buildings, Acton St,      NaN  London NE      Acton Street   \n",
              "\n",
              "        gb1900_text                 gb1900_id        lat       lon  \n",
              "0     Hatton Garden  57f5a8892c66dcab3d018272  51.520856 -0.108769  \n",
              "1   GRAY'S INN ROAD  5803bba72c66dcab3d07b61e  51.527997 -0.119165  \n",
              "2  MYDDELTON STREET  57f3a6ca2c66dcab3d008bf8  51.526735 -0.107278  \n",
              "3     Hatton Garden  57f5a8892c66dcab3d018272  51.520856 -0.108769  \n",
              "4      Acton Street  580920b82c66dc1ce5011efd  51.538842 -0.076336  "
            ],
            "text/html": [
              "\n",
              "  <div id=\"df-60f5378a-b5bd-4def-98e2-9bcbdb805f13\">\n",
              "    <div class=\"colab-df-container\">\n",
              "      <div>\n",
              "<style scoped>\n",
              "    .dataframe tbody tr th:only-of-type {\n",
              "        vertical-align: middle;\n",
              "    }\n",
              "\n",
              "    .dataframe tbody tr th {\n",
              "        vertical-align: top;\n",
              "    }\n",
              "\n",
              "    .dataframe thead th {\n",
              "        text-align: right;\n",
              "    }\n",
              "</style>\n",
              "<table border=\"1\" class=\"dataframe\">\n",
              "  <thead>\n",
              "    <tr style=\"text-align: right;\">\n",
              "      <th></th>\n",
              "      <th>address_id</th>\n",
              "      <th>maker_id</th>\n",
              "      <th>surname</th>\n",
              "      <th>first_name</th>\n",
              "      <th>street_1</th>\n",
              "      <th>street_2</th>\n",
              "      <th>town</th>\n",
              "      <th>match_text</th>\n",
              "      <th>gb1900_text</th>\n",
              "      <th>gb1900_id</th>\n",
              "      <th>lat</th>\n",
              "      <th>lon</th>\n",
              "    </tr>\n",
              "  </thead>\n",
              "  <tbody>\n",
              "    <tr>\n",
              "      <th>0</th>\n",
              "      <td>21604</td>\n",
              "      <td>11414</td>\n",
              "      <td>RICHARD</td>\n",
              "      <td>Benoit</td>\n",
              "      <td>58 F Hatton Garden,</td>\n",
              "      <td>NaN</td>\n",
              "      <td>London EC</td>\n",
              "      <td>Hatton Garden</td>\n",
              "      <td>Hatton Garden</td>\n",
              "      <td>57f5a8892c66dcab3d018272</td>\n",
              "      <td>51.520856</td>\n",
              "      <td>-0.108769</td>\n",
              "    </tr>\n",
              "    <tr>\n",
              "      <th>1</th>\n",
              "      <td>21603</td>\n",
              "      <td>11413</td>\n",
              "      <td>NEWBOLD &amp; CO.</td>\n",
              "      <td>A. E.</td>\n",
              "      <td>70 Grays Inn Rd,</td>\n",
              "      <td>NaN</td>\n",
              "      <td>London WC</td>\n",
              "      <td>GRAY'S INN ROAD</td>\n",
              "      <td>GRAY'S INN ROAD</td>\n",
              "      <td>5803bba72c66dcab3d07b61e</td>\n",
              "      <td>51.527997</td>\n",
              "      <td>-0.119165</td>\n",
              "    </tr>\n",
              "    <tr>\n",
              "      <th>2</th>\n",
              "      <td>21602</td>\n",
              "      <td>11412</td>\n",
              "      <td>MILL</td>\n",
              "      <td>Julian Thomas</td>\n",
              "      <td>48 Myddelton St,</td>\n",
              "      <td>NaN</td>\n",
              "      <td>London EC</td>\n",
              "      <td>MYDDELTON STREET</td>\n",
              "      <td>MYDDELTON STREET</td>\n",
              "      <td>57f3a6ca2c66dcab3d008bf8</td>\n",
              "      <td>51.526735</td>\n",
              "      <td>-0.107278</td>\n",
              "    </tr>\n",
              "    <tr>\n",
              "      <th>3</th>\n",
              "      <td>21601</td>\n",
              "      <td>11411</td>\n",
              "      <td>KRIMM</td>\n",
              "      <td>Franz</td>\n",
              "      <td>23 Hatton Garden,</td>\n",
              "      <td>NaN</td>\n",
              "      <td>London EC</td>\n",
              "      <td>Hatton Garden</td>\n",
              "      <td>Hatton Garden</td>\n",
              "      <td>57f5a8892c66dcab3d018272</td>\n",
              "      <td>51.520856</td>\n",
              "      <td>-0.108769</td>\n",
              "    </tr>\n",
              "    <tr>\n",
              "      <th>4</th>\n",
              "      <td>21597</td>\n",
              "      <td>11410</td>\n",
              "      <td>HAMMERSLEY BROTHERS</td>\n",
              "      <td>NaN</td>\n",
              "      <td>17 Station Buildings, Acton St,</td>\n",
              "      <td>NaN</td>\n",
              "      <td>London NE</td>\n",
              "      <td>Acton Street</td>\n",
              "      <td>Acton Street</td>\n",
              "      <td>580920b82c66dc1ce5011efd</td>\n",
              "      <td>51.538842</td>\n",
              "      <td>-0.076336</td>\n",
              "    </tr>\n",
              "  </tbody>\n",
              "</table>\n",
              "</div>\n",
              "      <button class=\"colab-df-convert\" onclick=\"convertToInteractive('df-60f5378a-b5bd-4def-98e2-9bcbdb805f13')\"\n",
              "              title=\"Convert this dataframe to an interactive table.\"\n",
              "              style=\"display:none;\">\n",
              "        \n",
              "  <svg xmlns=\"http://www.w3.org/2000/svg\" height=\"24px\"viewBox=\"0 0 24 24\"\n",
              "       width=\"24px\">\n",
              "    <path d=\"M0 0h24v24H0V0z\" fill=\"none\"/>\n",
              "    <path d=\"M18.56 5.44l.94 2.06.94-2.06 2.06-.94-2.06-.94-.94-2.06-.94 2.06-2.06.94zm-11 1L8.5 8.5l.94-2.06 2.06-.94-2.06-.94L8.5 2.5l-.94 2.06-2.06.94zm10 10l.94 2.06.94-2.06 2.06-.94-2.06-.94-.94-2.06-.94 2.06-2.06.94z\"/><path d=\"M17.41 7.96l-1.37-1.37c-.4-.4-.92-.59-1.43-.59-.52 0-1.04.2-1.43.59L10.3 9.45l-7.72 7.72c-.78.78-.78 2.05 0 2.83L4 21.41c.39.39.9.59 1.41.59.51 0 1.02-.2 1.41-.59l7.78-7.78 2.81-2.81c.8-.78.8-2.07 0-2.86zM5.41 20L4 18.59l7.72-7.72 1.47 1.35L5.41 20z\"/>\n",
              "  </svg>\n",
              "      </button>\n",
              "      \n",
              "  <style>\n",
              "    .colab-df-container {\n",
              "      display:flex;\n",
              "      flex-wrap:wrap;\n",
              "      gap: 12px;\n",
              "    }\n",
              "\n",
              "    .colab-df-convert {\n",
              "      background-color: #E8F0FE;\n",
              "      border: none;\n",
              "      border-radius: 50%;\n",
              "      cursor: pointer;\n",
              "      display: none;\n",
              "      fill: #1967D2;\n",
              "      height: 32px;\n",
              "      padding: 0 0 0 0;\n",
              "      width: 32px;\n",
              "    }\n",
              "\n",
              "    .colab-df-convert:hover {\n",
              "      background-color: #E2EBFA;\n",
              "      box-shadow: 0px 1px 2px rgba(60, 64, 67, 0.3), 0px 1px 3px 1px rgba(60, 64, 67, 0.15);\n",
              "      fill: #174EA6;\n",
              "    }\n",
              "\n",
              "    [theme=dark] .colab-df-convert {\n",
              "      background-color: #3B4455;\n",
              "      fill: #D2E3FC;\n",
              "    }\n",
              "\n",
              "    [theme=dark] .colab-df-convert:hover {\n",
              "      background-color: #434B5C;\n",
              "      box-shadow: 0px 1px 3px 1px rgba(0, 0, 0, 0.15);\n",
              "      filter: drop-shadow(0px 1px 2px rgba(0, 0, 0, 0.3));\n",
              "      fill: #FFFFFF;\n",
              "    }\n",
              "  </style>\n",
              "\n",
              "      <script>\n",
              "        const buttonEl =\n",
              "          document.querySelector('#df-60f5378a-b5bd-4def-98e2-9bcbdb805f13 button.colab-df-convert');\n",
              "        buttonEl.style.display =\n",
              "          google.colab.kernel.accessAllowed ? 'block' : 'none';\n",
              "\n",
              "        async function convertToInteractive(key) {\n",
              "          const element = document.querySelector('#df-60f5378a-b5bd-4def-98e2-9bcbdb805f13');\n",
              "          const dataTable =\n",
              "            await google.colab.kernel.invokeFunction('convertToInteractive',\n",
              "                                                     [key], {});\n",
              "          if (!dataTable) return;\n",
              "\n",
              "          const docLinkHtml = 'Like what you see? Visit the ' +\n",
              "            '<a target=\"_blank\" href=https://colab.research.google.com/notebooks/data_table.ipynb>data table notebook</a>'\n",
              "            + ' to learn more about interactive tables.';\n",
              "          element.innerHTML = '';\n",
              "          dataTable['output_type'] = 'display_data';\n",
              "          await google.colab.output.renderOutput(dataTable, element);\n",
              "          const docLink = document.createElement('div');\n",
              "          docLink.innerHTML = docLinkHtml;\n",
              "          element.appendChild(docLink);\n",
              "        }\n",
              "      </script>\n",
              "    </div>\n",
              "  </div>\n",
              "  "
            ]
          },
          "metadata": {},
          "execution_count": 438
        }
      ]
    },
    {
      "cell_type": "code",
      "source": [
        "# Check the data types\n",
        "a_df.dtypes"
      ],
      "metadata": {
        "colab": {
          "base_uri": "https://localhost:8080/"
        },
        "id": "0LYRPCjaY-Yd",
        "outputId": "32cb0b6f-9001-4c40-f3cf-60461355a204"
      },
      "execution_count": null,
      "outputs": [
        {
          "output_type": "execute_result",
          "data": {
            "text/plain": [
              "address_id       int64\n",
              "maker_id         int64\n",
              "surname         object\n",
              "first_name      object\n",
              "street_1        object\n",
              "street_2        object\n",
              "town            object\n",
              "match_text      object\n",
              "gb1900_text     object\n",
              "gb1900_id       object\n",
              "lat            float64\n",
              "lon            float64\n",
              "dtype: object"
            ]
          },
          "metadata": {},
          "execution_count": 439
        }
      ]
    },
    {
      "cell_type": "code",
      "source": [
        "# Rename \"maker_id\" to \"id\" to be consistent with other CSV files \n",
        "a_df.rename(columns = {\"maker_id\" : \"id\"}, inplace = True)"
      ],
      "metadata": {
        "id": "gdcvUVUEupdC"
      },
      "execution_count": null,
      "outputs": []
    },
    {
      "cell_type": "code",
      "source": [
        "# Check that there are no null values in the \"id\" column\n",
        "a_df[\"id\"].isnull().any()"
      ],
      "metadata": {
        "colab": {
          "base_uri": "https://localhost:8080/"
        },
        "id": "weRj-YsHY-tl",
        "outputId": "860cec4b-d521-4dc9-a6e2-e1c58aea5849"
      },
      "execution_count": null,
      "outputs": [
        {
          "output_type": "execute_result",
          "data": {
            "text/plain": [
              "False"
            ]
          },
          "metadata": {},
          "execution_count": 441
        }
      ]
    },
    {
      "cell_type": "code",
      "source": [
        "# Determine the number of unique addresses\n",
        "a_df.nunique()"
      ],
      "metadata": {
        "colab": {
          "base_uri": "https://localhost:8080/"
        },
        "id": "4l85M9iRx3yz",
        "outputId": "28567050-9a99-4548-b9e1-e112f1fb751e"
      },
      "execution_count": null,
      "outputs": [
        {
          "output_type": "execute_result",
          "data": {
            "text/plain": [
              "address_id     7759\n",
              "id             4543\n",
              "surname        2912\n",
              "first_name     1256\n",
              "street_1       5911\n",
              "street_2         33\n",
              "town             23\n",
              "match_text      836\n",
              "gb1900_text     836\n",
              "gb1900_id       842\n",
              "lat             819\n",
              "lon             825\n",
              "dtype: int64"
            ]
          },
          "metadata": {},
          "execution_count": 442
        }
      ]
    },
    {
      "cell_type": "code",
      "source": [
        "# Drop selected columns\n",
        "# Dropping \"town\" here because the higher level location data is much richer in terms of this information: 23 unique towns in this dataframe vs 554 in the locations dataframe below \n",
        "to_drop = [\"address_id\",\n",
        "           \"surname\",\n",
        "           \"first_name\",\n",
        "           \"street_2\",\n",
        "           \"town\",\n",
        "           \"match_text\",\n",
        "           \"gb1900_text\",\n",
        "           \"gb1900_id\"]\n",
        "\n",
        "a_df = a_df.drop(to_drop, axis=1)     "
      ],
      "metadata": {
        "id": "e7rx-cAcfSMX"
      },
      "execution_count": null,
      "outputs": []
    },
    {
      "cell_type": "code",
      "source": [
        "# Rename street_1 to street\n",
        "a_df.rename(columns = {\"street_1\" : \"street\"}, inplace = True)"
      ],
      "metadata": {
        "id": "FWagKqFB1Tf0"
      },
      "execution_count": null,
      "outputs": []
    },
    {
      "cell_type": "code",
      "source": [
        "# Filter the a_df dataframe of street addresses to retain only those with a matching id in i_df, the dataframe containing the individual makers\n",
        "a_df = a_df[a_df[\"id\"].isin(i_df[\"id\"])]"
      ],
      "metadata": {
        "id": "mU58Xo36HPAH"
      },
      "execution_count": null,
      "outputs": []
    },
    {
      "cell_type": "code",
      "source": [
        "# Number of addresses in a_df after the filtering\n",
        "len(a_df)"
      ],
      "metadata": {
        "colab": {
          "base_uri": "https://localhost:8080/"
        },
        "id": "HYzyuJL8HOwj",
        "outputId": "4d16b272-73ff-4ca7-c304-6ec795569511"
      },
      "execution_count": null,
      "outputs": [
        {
          "output_type": "execute_result",
          "data": {
            "text/plain": [
              "4990"
            ]
          },
          "metadata": {},
          "execution_count": 446
        }
      ]
    },
    {
      "cell_type": "code",
      "source": [
        "# Determine number of unique addresses remaining after the filtering\n",
        "a_df.nunique()"
      ],
      "metadata": {
        "colab": {
          "base_uri": "https://localhost:8080/"
        },
        "id": "ZMSEGmBVHOpG",
        "outputId": "a7f30c73-b19e-458c-feed-dc101e08e4c6"
      },
      "execution_count": null,
      "outputs": [
        {
          "output_type": "execute_result",
          "data": {
            "text/plain": [
              "id        2634\n",
              "street    3726\n",
              "lat        589\n",
              "lon        587\n",
              "dtype: int64"
            ]
          },
          "metadata": {},
          "execution_count": 447
        }
      ]
    },
    {
      "cell_type": "code",
      "source": [
        "# Create a dataframe preserving only the first of the duplicated strings in \"street\" from a_df\n",
        "dupes = a_df.drop_duplicates(subset = \"street\")"
      ],
      "metadata": {
        "id": "jwukMOS7HOhX"
      },
      "execution_count": null,
      "outputs": []
    },
    {
      "cell_type": "code",
      "source": [
        "# Check that dupes is of the expected length\n",
        "len(dupes)"
      ],
      "metadata": {
        "colab": {
          "base_uri": "https://localhost:8080/"
        },
        "id": "5_k8UtdCHac5",
        "outputId": "2082a275-f48f-4cd4-e2bc-8d9bc3b756d2"
      },
      "execution_count": null,
      "outputs": [
        {
          "output_type": "execute_result",
          "data": {
            "text/plain": [
              "3726"
            ]
          },
          "metadata": {},
          "execution_count": 449
        }
      ]
    },
    {
      "cell_type": "code",
      "source": [
        "# Create 2 dictionaries:\n",
        "# lat_dict => a dictionary with \"street\" from dupes as keys and \"lat\" as values\n",
        "# lon_dict => a dictionary with \"street\" from dupes as keys and \"lon\" as values\n",
        "\n",
        "lat_dict = dupes.set_index(\"street\").to_dict()[\"lat\"]\n",
        "lon_dict = dupes.set_index(\"street\").to_dict()[\"lon\"]"
      ],
      "metadata": {
        "id": "XQLyGBg2IAGZ"
      },
      "execution_count": null,
      "outputs": []
    },
    {
      "cell_type": "code",
      "source": [
        "# Perform 2 non-exhaustive mappings\n",
        "# Mapping 1: map latitudes in lat_dict to a_df[\"lat\"] using streets in lat_dict as keys\n",
        "# Mapping 2: map longitudes in lon_dict to a_df[\"lon\"] using streets in lon_dict as keys\n",
        "# This ensures that all addresses with matching strings in a_df[\"street\"] have the same values of \"lat\" and \"lon\"\n",
        "a_df[\"lat\"] = a_df[\"street\"].map(lat_dict).fillna(a_df[\"lat\"])\n",
        "a_df[\"lon\"] = a_df[\"street\"].map(lon_dict).fillna(a_df[\"lon\"])\n"
      ],
      "metadata": {
        "id": "oIAFZH56H_1n"
      },
      "execution_count": null,
      "outputs": []
    },
    {
      "cell_type": "code",
      "source": [
        "# Concatenate lat and lon coordinates in a new column\n",
        "# This column will be used to set uniqueness constraints in the database\n",
        "\n",
        "# Convert both lat and lon to strings to allow for a coordnate_label column to be created\n",
        "a_df = a_df.astype({\"lat\" : \"string\", \"lon\" : \"string\"})\n",
        "\n",
        "# Create the column containing the concatenated lat and lon combinations \n",
        "a_df[\"coordinate_label\"] = a_df[\"lat\"] + a_df[\"lon\"]\n",
        "\n"
      ],
      "metadata": {
        "id": "ATOg1J7l_1Ry"
      },
      "execution_count": null,
      "outputs": []
    },
    {
      "cell_type": "code",
      "source": [
        "# Sort dataframe in ascending order of ids\n",
        "a_df = a_df.sort_values(by = [\"id\"]);"
      ],
      "metadata": {
        "id": "yfyIEoEP4wBf"
      },
      "execution_count": null,
      "outputs": []
    },
    {
      "cell_type": "code",
      "source": [
        "# Check retained columns in dataframe\n",
        "a_df.head()"
      ],
      "metadata": {
        "colab": {
          "base_uri": "https://localhost:8080/",
          "height": 250
        },
        "id": "fMHuUk6m5JRE",
        "outputId": "8be3096b-39b4-44f3-a459-3387b1655100"
      },
      "execution_count": null,
      "outputs": [
        {
          "output_type": "execute_result",
          "data": {
            "text/plain": [
              "      id                                             street               lat  \\\n",
              "7758   5  Archimedes & Globe in Dean St, nr. St.Anne's C...  51.5149321514664   \n",
              "7757   5  Archimedes & Globe in Market St, nr. St.Anne's...  51.5174959202116   \n",
              "7756   7          Golden Spectacles & Quadrant, Ludgate St,  51.5140241154312   \n",
              "7755  10                                 Little Tower Hill,  51.5071064232539   \n",
              "7754  10                           Postern Row, Tower Hill,  51.5092165642489   \n",
              "\n",
              "                      lon                     coordinate_label  \n",
              "7758   -0.133531093597412   51.5149321514664-0.133531093597412  \n",
              "7757   -0.171414613723755   51.5174959202116-0.171414613723755  \n",
              "7756   -0.103211402893066   51.5140241154312-0.103211402893066  \n",
              "7755  -0.0740396976470947  51.5071064232539-0.0740396976470947  \n",
              "7754   -0.078202486038208   51.5092165642489-0.078202486038208  "
            ],
            "text/html": [
              "\n",
              "  <div id=\"df-a006e61e-7a9e-4628-b833-4bf7749f7872\">\n",
              "    <div class=\"colab-df-container\">\n",
              "      <div>\n",
              "<style scoped>\n",
              "    .dataframe tbody tr th:only-of-type {\n",
              "        vertical-align: middle;\n",
              "    }\n",
              "\n",
              "    .dataframe tbody tr th {\n",
              "        vertical-align: top;\n",
              "    }\n",
              "\n",
              "    .dataframe thead th {\n",
              "        text-align: right;\n",
              "    }\n",
              "</style>\n",
              "<table border=\"1\" class=\"dataframe\">\n",
              "  <thead>\n",
              "    <tr style=\"text-align: right;\">\n",
              "      <th></th>\n",
              "      <th>id</th>\n",
              "      <th>street</th>\n",
              "      <th>lat</th>\n",
              "      <th>lon</th>\n",
              "      <th>coordinate_label</th>\n",
              "    </tr>\n",
              "  </thead>\n",
              "  <tbody>\n",
              "    <tr>\n",
              "      <th>7758</th>\n",
              "      <td>5</td>\n",
              "      <td>Archimedes &amp; Globe in Dean St, nr. St.Anne's C...</td>\n",
              "      <td>51.5149321514664</td>\n",
              "      <td>-0.133531093597412</td>\n",
              "      <td>51.5149321514664-0.133531093597412</td>\n",
              "    </tr>\n",
              "    <tr>\n",
              "      <th>7757</th>\n",
              "      <td>5</td>\n",
              "      <td>Archimedes &amp; Globe in Market St, nr. St.Anne's...</td>\n",
              "      <td>51.5174959202116</td>\n",
              "      <td>-0.171414613723755</td>\n",
              "      <td>51.5174959202116-0.171414613723755</td>\n",
              "    </tr>\n",
              "    <tr>\n",
              "      <th>7756</th>\n",
              "      <td>7</td>\n",
              "      <td>Golden Spectacles &amp; Quadrant, Ludgate St,</td>\n",
              "      <td>51.5140241154312</td>\n",
              "      <td>-0.103211402893066</td>\n",
              "      <td>51.5140241154312-0.103211402893066</td>\n",
              "    </tr>\n",
              "    <tr>\n",
              "      <th>7755</th>\n",
              "      <td>10</td>\n",
              "      <td>Little Tower Hill,</td>\n",
              "      <td>51.5071064232539</td>\n",
              "      <td>-0.0740396976470947</td>\n",
              "      <td>51.5071064232539-0.0740396976470947</td>\n",
              "    </tr>\n",
              "    <tr>\n",
              "      <th>7754</th>\n",
              "      <td>10</td>\n",
              "      <td>Postern Row, Tower Hill,</td>\n",
              "      <td>51.5092165642489</td>\n",
              "      <td>-0.078202486038208</td>\n",
              "      <td>51.5092165642489-0.078202486038208</td>\n",
              "    </tr>\n",
              "  </tbody>\n",
              "</table>\n",
              "</div>\n",
              "      <button class=\"colab-df-convert\" onclick=\"convertToInteractive('df-a006e61e-7a9e-4628-b833-4bf7749f7872')\"\n",
              "              title=\"Convert this dataframe to an interactive table.\"\n",
              "              style=\"display:none;\">\n",
              "        \n",
              "  <svg xmlns=\"http://www.w3.org/2000/svg\" height=\"24px\"viewBox=\"0 0 24 24\"\n",
              "       width=\"24px\">\n",
              "    <path d=\"M0 0h24v24H0V0z\" fill=\"none\"/>\n",
              "    <path d=\"M18.56 5.44l.94 2.06.94-2.06 2.06-.94-2.06-.94-.94-2.06-.94 2.06-2.06.94zm-11 1L8.5 8.5l.94-2.06 2.06-.94-2.06-.94L8.5 2.5l-.94 2.06-2.06.94zm10 10l.94 2.06.94-2.06 2.06-.94-2.06-.94-.94-2.06-.94 2.06-2.06.94z\"/><path d=\"M17.41 7.96l-1.37-1.37c-.4-.4-.92-.59-1.43-.59-.52 0-1.04.2-1.43.59L10.3 9.45l-7.72 7.72c-.78.78-.78 2.05 0 2.83L4 21.41c.39.39.9.59 1.41.59.51 0 1.02-.2 1.41-.59l7.78-7.78 2.81-2.81c.8-.78.8-2.07 0-2.86zM5.41 20L4 18.59l7.72-7.72 1.47 1.35L5.41 20z\"/>\n",
              "  </svg>\n",
              "      </button>\n",
              "      \n",
              "  <style>\n",
              "    .colab-df-container {\n",
              "      display:flex;\n",
              "      flex-wrap:wrap;\n",
              "      gap: 12px;\n",
              "    }\n",
              "\n",
              "    .colab-df-convert {\n",
              "      background-color: #E8F0FE;\n",
              "      border: none;\n",
              "      border-radius: 50%;\n",
              "      cursor: pointer;\n",
              "      display: none;\n",
              "      fill: #1967D2;\n",
              "      height: 32px;\n",
              "      padding: 0 0 0 0;\n",
              "      width: 32px;\n",
              "    }\n",
              "\n",
              "    .colab-df-convert:hover {\n",
              "      background-color: #E2EBFA;\n",
              "      box-shadow: 0px 1px 2px rgba(60, 64, 67, 0.3), 0px 1px 3px 1px rgba(60, 64, 67, 0.15);\n",
              "      fill: #174EA6;\n",
              "    }\n",
              "\n",
              "    [theme=dark] .colab-df-convert {\n",
              "      background-color: #3B4455;\n",
              "      fill: #D2E3FC;\n",
              "    }\n",
              "\n",
              "    [theme=dark] .colab-df-convert:hover {\n",
              "      background-color: #434B5C;\n",
              "      box-shadow: 0px 1px 3px 1px rgba(0, 0, 0, 0.15);\n",
              "      filter: drop-shadow(0px 1px 2px rgba(0, 0, 0, 0.3));\n",
              "      fill: #FFFFFF;\n",
              "    }\n",
              "  </style>\n",
              "\n",
              "      <script>\n",
              "        const buttonEl =\n",
              "          document.querySelector('#df-a006e61e-7a9e-4628-b833-4bf7749f7872 button.colab-df-convert');\n",
              "        buttonEl.style.display =\n",
              "          google.colab.kernel.accessAllowed ? 'block' : 'none';\n",
              "\n",
              "        async function convertToInteractive(key) {\n",
              "          const element = document.querySelector('#df-a006e61e-7a9e-4628-b833-4bf7749f7872');\n",
              "          const dataTable =\n",
              "            await google.colab.kernel.invokeFunction('convertToInteractive',\n",
              "                                                     [key], {});\n",
              "          if (!dataTable) return;\n",
              "\n",
              "          const docLinkHtml = 'Like what you see? Visit the ' +\n",
              "            '<a target=\"_blank\" href=https://colab.research.google.com/notebooks/data_table.ipynb>data table notebook</a>'\n",
              "            + ' to learn more about interactive tables.';\n",
              "          element.innerHTML = '';\n",
              "          dataTable['output_type'] = 'display_data';\n",
              "          await google.colab.output.renderOutput(dataTable, element);\n",
              "          const docLink = document.createElement('div');\n",
              "          docLink.innerHTML = docLinkHtml;\n",
              "          element.appendChild(docLink);\n",
              "        }\n",
              "      </script>\n",
              "    </div>\n",
              "  </div>\n",
              "  "
            ]
          },
          "metadata": {},
          "execution_count": 454
        }
      ]
    },
    {
      "cell_type": "markdown",
      "source": [
        "# **7. Clean Town Level Location Data**"
      ],
      "metadata": {
        "id": "u9SmV8exslab"
      }
    },
    {
      "cell_type": "code",
      "source": [
        "# Read in the raw data file from Github\n",
        "l_url = \"https://raw.githubusercontent.com/MissMaya/CASA0004_DISSERTATION/main/raw_data/towns.csv\"\n",
        "l_df = pd.read_csv(l_url)"
      ],
      "metadata": {
        "id": "Stwo3WXqY04u"
      },
      "execution_count": null,
      "outputs": []
    },
    {
      "cell_type": "code",
      "source": [
        "# Sort dataframe in ascending order of ids:\n",
        "l_df = l_df.sort_values(by = [\"id\"]);"
      ],
      "metadata": {
        "id": "XID4vp7KyOYs"
      },
      "execution_count": null,
      "outputs": []
    },
    {
      "cell_type": "code",
      "source": [
        "# Check the shape of the dataframe\n",
        "l_df.head()"
      ],
      "metadata": {
        "colab": {
          "base_uri": "https://localhost:8080/",
          "height": 206
        },
        "id": "OqZxs5slY09n",
        "outputId": "470d0f46-25c4-4c1e-f818-9cb7c2b0a1a6"
      },
      "execution_count": null,
      "outputs": [
        {
          "output_type": "execute_result",
          "data": {
            "text/plain": [
              "    id  surname first_name  date_1  date_2       town town_date_1 town_date_2  \\\n",
              "24   1  ABRAHAM    Abraham    1818    1850  Liverpool        1829        1834   \n",
              "20   1  ABRAHAM    Abraham    1818    1850  Liverpool        1818        1820   \n",
              "25   1  ABRAHAM    Abraham    1818    1850  Liverpool        1837        1839   \n",
              "26   1  ABRAHAM    Abraham    1818    1850  Liverpool        1837        1839   \n",
              "23   1  ABRAHAM    Abraham    1818    1850  Liverpool        1827        1827   \n",
              "\n",
              "        lon        lat  \n",
              "24 -2.99168  53.407199  \n",
              "20 -2.99168  53.407199  \n",
              "25 -2.99168  53.407199  \n",
              "26 -2.99168  53.407199  \n",
              "23 -2.99168  53.407199  "
            ],
            "text/html": [
              "\n",
              "  <div id=\"df-04c5aa10-bce0-4576-b41c-4bbeee081d02\">\n",
              "    <div class=\"colab-df-container\">\n",
              "      <div>\n",
              "<style scoped>\n",
              "    .dataframe tbody tr th:only-of-type {\n",
              "        vertical-align: middle;\n",
              "    }\n",
              "\n",
              "    .dataframe tbody tr th {\n",
              "        vertical-align: top;\n",
              "    }\n",
              "\n",
              "    .dataframe thead th {\n",
              "        text-align: right;\n",
              "    }\n",
              "</style>\n",
              "<table border=\"1\" class=\"dataframe\">\n",
              "  <thead>\n",
              "    <tr style=\"text-align: right;\">\n",
              "      <th></th>\n",
              "      <th>id</th>\n",
              "      <th>surname</th>\n",
              "      <th>first_name</th>\n",
              "      <th>date_1</th>\n",
              "      <th>date_2</th>\n",
              "      <th>town</th>\n",
              "      <th>town_date_1</th>\n",
              "      <th>town_date_2</th>\n",
              "      <th>lon</th>\n",
              "      <th>lat</th>\n",
              "    </tr>\n",
              "  </thead>\n",
              "  <tbody>\n",
              "    <tr>\n",
              "      <th>24</th>\n",
              "      <td>1</td>\n",
              "      <td>ABRAHAM</td>\n",
              "      <td>Abraham</td>\n",
              "      <td>1818</td>\n",
              "      <td>1850</td>\n",
              "      <td>Liverpool</td>\n",
              "      <td>1829</td>\n",
              "      <td>1834</td>\n",
              "      <td>-2.99168</td>\n",
              "      <td>53.407199</td>\n",
              "    </tr>\n",
              "    <tr>\n",
              "      <th>20</th>\n",
              "      <td>1</td>\n",
              "      <td>ABRAHAM</td>\n",
              "      <td>Abraham</td>\n",
              "      <td>1818</td>\n",
              "      <td>1850</td>\n",
              "      <td>Liverpool</td>\n",
              "      <td>1818</td>\n",
              "      <td>1820</td>\n",
              "      <td>-2.99168</td>\n",
              "      <td>53.407199</td>\n",
              "    </tr>\n",
              "    <tr>\n",
              "      <th>25</th>\n",
              "      <td>1</td>\n",
              "      <td>ABRAHAM</td>\n",
              "      <td>Abraham</td>\n",
              "      <td>1818</td>\n",
              "      <td>1850</td>\n",
              "      <td>Liverpool</td>\n",
              "      <td>1837</td>\n",
              "      <td>1839</td>\n",
              "      <td>-2.99168</td>\n",
              "      <td>53.407199</td>\n",
              "    </tr>\n",
              "    <tr>\n",
              "      <th>26</th>\n",
              "      <td>1</td>\n",
              "      <td>ABRAHAM</td>\n",
              "      <td>Abraham</td>\n",
              "      <td>1818</td>\n",
              "      <td>1850</td>\n",
              "      <td>Liverpool</td>\n",
              "      <td>1837</td>\n",
              "      <td>1839</td>\n",
              "      <td>-2.99168</td>\n",
              "      <td>53.407199</td>\n",
              "    </tr>\n",
              "    <tr>\n",
              "      <th>23</th>\n",
              "      <td>1</td>\n",
              "      <td>ABRAHAM</td>\n",
              "      <td>Abraham</td>\n",
              "      <td>1818</td>\n",
              "      <td>1850</td>\n",
              "      <td>Liverpool</td>\n",
              "      <td>1827</td>\n",
              "      <td>1827</td>\n",
              "      <td>-2.99168</td>\n",
              "      <td>53.407199</td>\n",
              "    </tr>\n",
              "  </tbody>\n",
              "</table>\n",
              "</div>\n",
              "      <button class=\"colab-df-convert\" onclick=\"convertToInteractive('df-04c5aa10-bce0-4576-b41c-4bbeee081d02')\"\n",
              "              title=\"Convert this dataframe to an interactive table.\"\n",
              "              style=\"display:none;\">\n",
              "        \n",
              "  <svg xmlns=\"http://www.w3.org/2000/svg\" height=\"24px\"viewBox=\"0 0 24 24\"\n",
              "       width=\"24px\">\n",
              "    <path d=\"M0 0h24v24H0V0z\" fill=\"none\"/>\n",
              "    <path d=\"M18.56 5.44l.94 2.06.94-2.06 2.06-.94-2.06-.94-.94-2.06-.94 2.06-2.06.94zm-11 1L8.5 8.5l.94-2.06 2.06-.94-2.06-.94L8.5 2.5l-.94 2.06-2.06.94zm10 10l.94 2.06.94-2.06 2.06-.94-2.06-.94-.94-2.06-.94 2.06-2.06.94z\"/><path d=\"M17.41 7.96l-1.37-1.37c-.4-.4-.92-.59-1.43-.59-.52 0-1.04.2-1.43.59L10.3 9.45l-7.72 7.72c-.78.78-.78 2.05 0 2.83L4 21.41c.39.39.9.59 1.41.59.51 0 1.02-.2 1.41-.59l7.78-7.78 2.81-2.81c.8-.78.8-2.07 0-2.86zM5.41 20L4 18.59l7.72-7.72 1.47 1.35L5.41 20z\"/>\n",
              "  </svg>\n",
              "      </button>\n",
              "      \n",
              "  <style>\n",
              "    .colab-df-container {\n",
              "      display:flex;\n",
              "      flex-wrap:wrap;\n",
              "      gap: 12px;\n",
              "    }\n",
              "\n",
              "    .colab-df-convert {\n",
              "      background-color: #E8F0FE;\n",
              "      border: none;\n",
              "      border-radius: 50%;\n",
              "      cursor: pointer;\n",
              "      display: none;\n",
              "      fill: #1967D2;\n",
              "      height: 32px;\n",
              "      padding: 0 0 0 0;\n",
              "      width: 32px;\n",
              "    }\n",
              "\n",
              "    .colab-df-convert:hover {\n",
              "      background-color: #E2EBFA;\n",
              "      box-shadow: 0px 1px 2px rgba(60, 64, 67, 0.3), 0px 1px 3px 1px rgba(60, 64, 67, 0.15);\n",
              "      fill: #174EA6;\n",
              "    }\n",
              "\n",
              "    [theme=dark] .colab-df-convert {\n",
              "      background-color: #3B4455;\n",
              "      fill: #D2E3FC;\n",
              "    }\n",
              "\n",
              "    [theme=dark] .colab-df-convert:hover {\n",
              "      background-color: #434B5C;\n",
              "      box-shadow: 0px 1px 3px 1px rgba(0, 0, 0, 0.15);\n",
              "      filter: drop-shadow(0px 1px 2px rgba(0, 0, 0, 0.3));\n",
              "      fill: #FFFFFF;\n",
              "    }\n",
              "  </style>\n",
              "\n",
              "      <script>\n",
              "        const buttonEl =\n",
              "          document.querySelector('#df-04c5aa10-bce0-4576-b41c-4bbeee081d02 button.colab-df-convert');\n",
              "        buttonEl.style.display =\n",
              "          google.colab.kernel.accessAllowed ? 'block' : 'none';\n",
              "\n",
              "        async function convertToInteractive(key) {\n",
              "          const element = document.querySelector('#df-04c5aa10-bce0-4576-b41c-4bbeee081d02');\n",
              "          const dataTable =\n",
              "            await google.colab.kernel.invokeFunction('convertToInteractive',\n",
              "                                                     [key], {});\n",
              "          if (!dataTable) return;\n",
              "\n",
              "          const docLinkHtml = 'Like what you see? Visit the ' +\n",
              "            '<a target=\"_blank\" href=https://colab.research.google.com/notebooks/data_table.ipynb>data table notebook</a>'\n",
              "            + ' to learn more about interactive tables.';\n",
              "          element.innerHTML = '';\n",
              "          dataTable['output_type'] = 'display_data';\n",
              "          await google.colab.output.renderOutput(dataTable, element);\n",
              "          const docLink = document.createElement('div');\n",
              "          docLink.innerHTML = docLinkHtml;\n",
              "          element.appendChild(docLink);\n",
              "        }\n",
              "      </script>\n",
              "    </div>\n",
              "  </div>\n",
              "  "
            ]
          },
          "metadata": {},
          "execution_count": 457
        }
      ]
    },
    {
      "cell_type": "code",
      "source": [
        "# Check length of dataframe\n",
        "len(l_df)"
      ],
      "metadata": {
        "colab": {
          "base_uri": "https://localhost:8080/"
        },
        "id": "-VoPxOe48k2F",
        "outputId": "e0927c7b-2247-4ca8-b46a-90d36f09ed1b"
      },
      "execution_count": null,
      "outputs": [
        {
          "output_type": "execute_result",
          "data": {
            "text/plain": [
              "20686"
            ]
          },
          "metadata": {},
          "execution_count": 458
        }
      ]
    },
    {
      "cell_type": "code",
      "source": [
        "# Check the data types\n",
        "l_df.dtypes"
      ],
      "metadata": {
        "colab": {
          "base_uri": "https://localhost:8080/"
        },
        "id": "JQO0yuuxbO_N",
        "outputId": "a520aef8-85d8-44ed-b04e-740e161f52f3"
      },
      "execution_count": null,
      "outputs": [
        {
          "output_type": "execute_result",
          "data": {
            "text/plain": [
              "id               int64\n",
              "surname         object\n",
              "first_name      object\n",
              "date_1           int64\n",
              "date_2           int64\n",
              "town            object\n",
              "town_date_1     object\n",
              "town_date_2     object\n",
              "lon            float64\n",
              "lat            float64\n",
              "dtype: object"
            ]
          },
          "metadata": {},
          "execution_count": 459
        }
      ]
    },
    {
      "cell_type": "code",
      "source": [
        "# Check that there are no null values in the \"id\" column\n",
        "l_df[\"id\"].isnull().any()"
      ],
      "metadata": {
        "id": "R3kgGwN7sm5l",
        "colab": {
          "base_uri": "https://localhost:8080/"
        },
        "outputId": "ae69eb1f-9560-4e35-961e-d1f202e7eb8f"
      },
      "execution_count": null,
      "outputs": [
        {
          "output_type": "execute_result",
          "data": {
            "text/plain": [
              "False"
            ]
          },
          "metadata": {},
          "execution_count": 460
        }
      ]
    },
    {
      "cell_type": "code",
      "source": [
        "# Determine how many unique town locations there are  \n",
        "l_df.nunique()"
      ],
      "metadata": {
        "colab": {
          "base_uri": "https://localhost:8080/"
        },
        "id": "HVV2QSKoFDuQ",
        "outputId": "c56d7778-4f5e-478d-a2dc-3ec892df443a"
      },
      "execution_count": null,
      "outputs": [
        {
          "output_type": "execute_result",
          "data": {
            "text/plain": [
              "id             11002\n",
              "surname         6037\n",
              "first_name      2328\n",
              "date_1           352\n",
              "date_2           380\n",
              "town             554\n",
              "town_date_1      482\n",
              "town_date_2      512\n",
              "lon              550\n",
              "lat              550\n",
              "dtype: int64"
            ]
          },
          "metadata": {},
          "execution_count": 461
        }
      ]
    },
    {
      "cell_type": "code",
      "source": [
        "# Drop selected columns\n",
        "to_drop = [\"surname\",\n",
        "           \"first_name\",\n",
        "           \"date_1\",\n",
        "           \"date_2\"]\n",
        "\n",
        "l_df = l_df.drop(to_drop, axis=1)          "
      ],
      "metadata": {
        "id": "Kbd1BYEuCrMy"
      },
      "execution_count": null,
      "outputs": []
    },
    {
      "cell_type": "code",
      "source": [
        "# Rename all values in l_df not containing 4 digits from the \"town_date_1\" and \"town_date_to\" columns \n",
        "l_df[\"town_date_1\"] = l_df[\"town_date_1\"].astype(str).str.replace(r\"^(?!\\d{4}).*\", \"no_date\", regex = True)\n",
        "l_df[\"town_date_2\"] = l_df[\"town_date_2\"].astype(str).str.replace(r\"^(?!\\d{4}).*\", \"no_date\", regex = True)"
      ],
      "metadata": {
        "id": "l_iArHUZicoj"
      },
      "execution_count": null,
      "outputs": []
    },
    {
      "cell_type": "code",
      "source": [
        "# Rename all null values in l_df in the \"town_date_1\" and \"town_date_2\" columns (regex did not capture null values)\n",
        "l_df[\"town_date_1\"] = l_df[\"town_date_1\"].fillna(\"no_date\")\n",
        "l_df[\"town_date_2\"] = l_df[\"town_date_2\"].fillna(\"no_date\")"
      ],
      "metadata": {
        "id": "NkJYOlbdhW9N"
      },
      "execution_count": null,
      "outputs": []
    },
    {
      "cell_type": "code",
      "source": [
        "# Check final shape of the dataframe\n",
        "l_df.head()"
      ],
      "metadata": {
        "colab": {
          "base_uri": "https://localhost:8080/",
          "height": 206
        },
        "id": "NbP23qV2Hjap",
        "outputId": "e6b89c8a-a354-4e1c-a3a9-26a45c881f94"
      },
      "execution_count": null,
      "outputs": [
        {
          "output_type": "execute_result",
          "data": {
            "text/plain": [
              "    id       town town_date_1 town_date_2      lon        lat\n",
              "24   1  Liverpool        1829        1834 -2.99168  53.407199\n",
              "20   1  Liverpool        1818        1820 -2.99168  53.407199\n",
              "25   1  Liverpool        1837        1839 -2.99168  53.407199\n",
              "26   1  Liverpool        1837        1839 -2.99168  53.407199\n",
              "23   1  Liverpool        1827        1827 -2.99168  53.407199"
            ],
            "text/html": [
              "\n",
              "  <div id=\"df-c187bae0-4271-4d11-9483-b9ad295c3c83\">\n",
              "    <div class=\"colab-df-container\">\n",
              "      <div>\n",
              "<style scoped>\n",
              "    .dataframe tbody tr th:only-of-type {\n",
              "        vertical-align: middle;\n",
              "    }\n",
              "\n",
              "    .dataframe tbody tr th {\n",
              "        vertical-align: top;\n",
              "    }\n",
              "\n",
              "    .dataframe thead th {\n",
              "        text-align: right;\n",
              "    }\n",
              "</style>\n",
              "<table border=\"1\" class=\"dataframe\">\n",
              "  <thead>\n",
              "    <tr style=\"text-align: right;\">\n",
              "      <th></th>\n",
              "      <th>id</th>\n",
              "      <th>town</th>\n",
              "      <th>town_date_1</th>\n",
              "      <th>town_date_2</th>\n",
              "      <th>lon</th>\n",
              "      <th>lat</th>\n",
              "    </tr>\n",
              "  </thead>\n",
              "  <tbody>\n",
              "    <tr>\n",
              "      <th>24</th>\n",
              "      <td>1</td>\n",
              "      <td>Liverpool</td>\n",
              "      <td>1829</td>\n",
              "      <td>1834</td>\n",
              "      <td>-2.99168</td>\n",
              "      <td>53.407199</td>\n",
              "    </tr>\n",
              "    <tr>\n",
              "      <th>20</th>\n",
              "      <td>1</td>\n",
              "      <td>Liverpool</td>\n",
              "      <td>1818</td>\n",
              "      <td>1820</td>\n",
              "      <td>-2.99168</td>\n",
              "      <td>53.407199</td>\n",
              "    </tr>\n",
              "    <tr>\n",
              "      <th>25</th>\n",
              "      <td>1</td>\n",
              "      <td>Liverpool</td>\n",
              "      <td>1837</td>\n",
              "      <td>1839</td>\n",
              "      <td>-2.99168</td>\n",
              "      <td>53.407199</td>\n",
              "    </tr>\n",
              "    <tr>\n",
              "      <th>26</th>\n",
              "      <td>1</td>\n",
              "      <td>Liverpool</td>\n",
              "      <td>1837</td>\n",
              "      <td>1839</td>\n",
              "      <td>-2.99168</td>\n",
              "      <td>53.407199</td>\n",
              "    </tr>\n",
              "    <tr>\n",
              "      <th>23</th>\n",
              "      <td>1</td>\n",
              "      <td>Liverpool</td>\n",
              "      <td>1827</td>\n",
              "      <td>1827</td>\n",
              "      <td>-2.99168</td>\n",
              "      <td>53.407199</td>\n",
              "    </tr>\n",
              "  </tbody>\n",
              "</table>\n",
              "</div>\n",
              "      <button class=\"colab-df-convert\" onclick=\"convertToInteractive('df-c187bae0-4271-4d11-9483-b9ad295c3c83')\"\n",
              "              title=\"Convert this dataframe to an interactive table.\"\n",
              "              style=\"display:none;\">\n",
              "        \n",
              "  <svg xmlns=\"http://www.w3.org/2000/svg\" height=\"24px\"viewBox=\"0 0 24 24\"\n",
              "       width=\"24px\">\n",
              "    <path d=\"M0 0h24v24H0V0z\" fill=\"none\"/>\n",
              "    <path d=\"M18.56 5.44l.94 2.06.94-2.06 2.06-.94-2.06-.94-.94-2.06-.94 2.06-2.06.94zm-11 1L8.5 8.5l.94-2.06 2.06-.94-2.06-.94L8.5 2.5l-.94 2.06-2.06.94zm10 10l.94 2.06.94-2.06 2.06-.94-2.06-.94-.94-2.06-.94 2.06-2.06.94z\"/><path d=\"M17.41 7.96l-1.37-1.37c-.4-.4-.92-.59-1.43-.59-.52 0-1.04.2-1.43.59L10.3 9.45l-7.72 7.72c-.78.78-.78 2.05 0 2.83L4 21.41c.39.39.9.59 1.41.59.51 0 1.02-.2 1.41-.59l7.78-7.78 2.81-2.81c.8-.78.8-2.07 0-2.86zM5.41 20L4 18.59l7.72-7.72 1.47 1.35L5.41 20z\"/>\n",
              "  </svg>\n",
              "      </button>\n",
              "      \n",
              "  <style>\n",
              "    .colab-df-container {\n",
              "      display:flex;\n",
              "      flex-wrap:wrap;\n",
              "      gap: 12px;\n",
              "    }\n",
              "\n",
              "    .colab-df-convert {\n",
              "      background-color: #E8F0FE;\n",
              "      border: none;\n",
              "      border-radius: 50%;\n",
              "      cursor: pointer;\n",
              "      display: none;\n",
              "      fill: #1967D2;\n",
              "      height: 32px;\n",
              "      padding: 0 0 0 0;\n",
              "      width: 32px;\n",
              "    }\n",
              "\n",
              "    .colab-df-convert:hover {\n",
              "      background-color: #E2EBFA;\n",
              "      box-shadow: 0px 1px 2px rgba(60, 64, 67, 0.3), 0px 1px 3px 1px rgba(60, 64, 67, 0.15);\n",
              "      fill: #174EA6;\n",
              "    }\n",
              "\n",
              "    [theme=dark] .colab-df-convert {\n",
              "      background-color: #3B4455;\n",
              "      fill: #D2E3FC;\n",
              "    }\n",
              "\n",
              "    [theme=dark] .colab-df-convert:hover {\n",
              "      background-color: #434B5C;\n",
              "      box-shadow: 0px 1px 3px 1px rgba(0, 0, 0, 0.15);\n",
              "      filter: drop-shadow(0px 1px 2px rgba(0, 0, 0, 0.3));\n",
              "      fill: #FFFFFF;\n",
              "    }\n",
              "  </style>\n",
              "\n",
              "      <script>\n",
              "        const buttonEl =\n",
              "          document.querySelector('#df-c187bae0-4271-4d11-9483-b9ad295c3c83 button.colab-df-convert');\n",
              "        buttonEl.style.display =\n",
              "          google.colab.kernel.accessAllowed ? 'block' : 'none';\n",
              "\n",
              "        async function convertToInteractive(key) {\n",
              "          const element = document.querySelector('#df-c187bae0-4271-4d11-9483-b9ad295c3c83');\n",
              "          const dataTable =\n",
              "            await google.colab.kernel.invokeFunction('convertToInteractive',\n",
              "                                                     [key], {});\n",
              "          if (!dataTable) return;\n",
              "\n",
              "          const docLinkHtml = 'Like what you see? Visit the ' +\n",
              "            '<a target=\"_blank\" href=https://colab.research.google.com/notebooks/data_table.ipynb>data table notebook</a>'\n",
              "            + ' to learn more about interactive tables.';\n",
              "          element.innerHTML = '';\n",
              "          dataTable['output_type'] = 'display_data';\n",
              "          await google.colab.output.renderOutput(dataTable, element);\n",
              "          const docLink = document.createElement('div');\n",
              "          docLink.innerHTML = docLinkHtml;\n",
              "          element.appendChild(docLink);\n",
              "        }\n",
              "      </script>\n",
              "    </div>\n",
              "  </div>\n",
              "  "
            ]
          },
          "metadata": {},
          "execution_count": 465
        }
      ]
    },
    {
      "cell_type": "code",
      "source": [
        "# Plot distribution of locations\n",
        "plt.figure(figsize=(10,5))\n",
        "chart = sns.countplot(data = l_df, \n",
        "                      x = \"town\",\n",
        "                      order = pd.value_counts(l_df[\"town\"]).iloc[:50].index,\n",
        "                      color = \"#55b8d1\")\n",
        "chart.set_xticklabels(chart.get_xticklabels(), rotation=90)\n",
        "chart.set_xlabel(\"Location\", fontsize = 11)\n",
        "chart.set_ylabel(\"Count\", fontsize = 11)\n",
        "plt.savefig(\"locations.svg\")"
      ],
      "metadata": {
        "colab": {
          "base_uri": "https://localhost:8080/",
          "height": 429
        },
        "id": "vtQAYMGtagKk",
        "outputId": "33e843f2-b2da-4e15-abf8-2961b2ce4a6a"
      },
      "execution_count": null,
      "outputs": [
        {
          "output_type": "display_data",
          "data": {
            "text/plain": [
              "<Figure size 720x360 with 1 Axes>"
            ],
            "image/png": "[encoded data removed]"
          },
          "metadata": {
            "needs_background": "light"
          }
        }
      ]
    },
    {
      "cell_type": "markdown",
      "source": [
        "# **8. Clean Trades Data**"
      ],
      "metadata": {
        "id": "zVWMAA86sbfQ"
      }
    },
    {
      "cell_type": "code",
      "source": [
        "# Read in the raw data file from Github \n",
        "tg_url = \"https://raw.githubusercontent.com/MissMaya/CASA0004_DISSERTATION/main/raw_data/trades.csv\"\n",
        "tg_df = pd.read_csv(tg_url)"
      ],
      "metadata": {
        "id": "MtDjFHoGL2OM"
      },
      "execution_count": null,
      "outputs": []
    },
    {
      "cell_type": "code",
      "source": [
        "# Check the shape of the dataframe\n",
        "tg_df.head()"
      ],
      "metadata": {
        "colab": {
          "base_uri": "https://localhost:8080/",
          "height": 438
        },
        "id": "q3Y5co6XM1n7",
        "outputId": "fe90d45a-88bd-440c-fbf1-4b9f901d979e"
      },
      "execution_count": null,
      "outputs": [
        {
          "output_type": "execute_result",
          "data": {
            "text/plain": [
              "   ref                  date     name other_trades Other Trades Parenth  \\\n",
              "0  1.0  1818-01-01T00:00:00Z  ABRAHAM          NaN                  NaN   \n",
              "1  1.0  1818-01-01T00:00:00Z  ABRAHAM          NaN                  NaN   \n",
              "2  1.0  1818-01-01T00:00:00Z  ABRAHAM          NaN                  NaN   \n",
              "3  2.0  1770-01-01T00:00:00Z  BERRICK          NaN                  NaN   \n",
              "4  3.0  1790-01-01T00:00:00Z    FIELD          NaN                  NaN   \n",
              "\n",
              "  Other Trades Dates Other Trade Suffix 2 Role_primary Relation to  \\\n",
              "0                NaN                  NaN          NaN         NaN   \n",
              "1                NaN                  NaN          NaN         NaN   \n",
              "2                NaN                  NaN          NaN         NaN   \n",
              "3                NaN                  NaN          NaN         NaN   \n",
              "4                NaN                  NaN          NaN         NaN   \n",
              "\n",
              "  RoleRelationDates  ... IM Dates Parenth Material Qualifier IM seller_trades  \\\n",
              "0               NaN  ...              NaN      NaN          NaN           NaN   \n",
              "1               NaN  ...              NaN      NaN          NaN           NaN   \n",
              "2               NaN  ...              NaN      NaN          NaN           NaN   \n",
              "3               NaN  ...              NaN      NaN          NaN           NaN   \n",
              "4               NaN  ...              NaN      NaN          NaN           NaN   \n",
              "\n",
              "  Seller_trades parenth Seller trade dates maker_trades  \\\n",
              "0                   NaN                NaN          NaN   \n",
              "1                   NaN                NaN          NaN   \n",
              "2                   NaN                NaN          NaN   \n",
              "3                   NaN                NaN         Rule   \n",
              "4                   NaN                NaN          NaN   \n",
              "\n",
              "  Maker_trade parentheses 1 Maker_trade Date Qual Maker_qualifier  \n",
              "0                       NaN                   NaN             NaN  \n",
              "1                       NaN                   NaN             NaN  \n",
              "2                       NaN                   NaN             NaN  \n",
              "3                       NaN                   NaN             NaN  \n",
              "4                       NaN                   NaN             NaN  \n",
              "\n",
              "[5 rows x 26 columns]"
            ],
            "text/html": [
              "\n",
              "  <div id=\"df-3fe3afb5-0776-4e28-b5d5-1e36fe8ba68d\">\n",
              "    <div class=\"colab-df-container\">\n",
              "      <div>\n",
              "<style scoped>\n",
              "    .dataframe tbody tr th:only-of-type {\n",
              "        vertical-align: middle;\n",
              "    }\n",
              "\n",
              "    .dataframe tbody tr th {\n",
              "        vertical-align: top;\n",
              "    }\n",
              "\n",
              "    .dataframe thead th {\n",
              "        text-align: right;\n",
              "    }\n",
              "</style>\n",
              "<table border=\"1\" class=\"dataframe\">\n",
              "  <thead>\n",
              "    <tr style=\"text-align: right;\">\n",
              "      <th></th>\n",
              "      <th>ref</th>\n",
              "      <th>date</th>\n",
              "      <th>name</th>\n",
              "      <th>other_trades</th>\n",
              "      <th>Other Trades Parenth</th>\n",
              "      <th>Other Trades Dates</th>\n",
              "      <th>Other Trade Suffix 2</th>\n",
              "      <th>Role_primary</th>\n",
              "      <th>Relation to</th>\n",
              "      <th>RoleRelationDates</th>\n",
              "      <th>...</th>\n",
              "      <th>IM Dates Parenth</th>\n",
              "      <th>Material</th>\n",
              "      <th>Qualifier IM</th>\n",
              "      <th>seller_trades</th>\n",
              "      <th>Seller_trades parenth</th>\n",
              "      <th>Seller trade dates</th>\n",
              "      <th>maker_trades</th>\n",
              "      <th>Maker_trade parentheses 1</th>\n",
              "      <th>Maker_trade Date Qual</th>\n",
              "      <th>Maker_qualifier</th>\n",
              "    </tr>\n",
              "  </thead>\n",
              "  <tbody>\n",
              "    <tr>\n",
              "      <th>0</th>\n",
              "      <td>1.0</td>\n",
              "      <td>1818-01-01T00:00:00Z</td>\n",
              "      <td>ABRAHAM</td>\n",
              "      <td>NaN</td>\n",
              "      <td>NaN</td>\n",
              "      <td>NaN</td>\n",
              "      <td>NaN</td>\n",
              "      <td>NaN</td>\n",
              "      <td>NaN</td>\n",
              "      <td>NaN</td>\n",
              "      <td>...</td>\n",
              "      <td>NaN</td>\n",
              "      <td>NaN</td>\n",
              "      <td>NaN</td>\n",
              "      <td>NaN</td>\n",
              "      <td>NaN</td>\n",
              "      <td>NaN</td>\n",
              "      <td>NaN</td>\n",
              "      <td>NaN</td>\n",
              "      <td>NaN</td>\n",
              "      <td>NaN</td>\n",
              "    </tr>\n",
              "    <tr>\n",
              "      <th>1</th>\n",
              "      <td>1.0</td>\n",
              "      <td>1818-01-01T00:00:00Z</td>\n",
              "      <td>ABRAHAM</td>\n",
              "      <td>NaN</td>\n",
              "      <td>NaN</td>\n",
              "      <td>NaN</td>\n",
              "      <td>NaN</td>\n",
              "      <td>NaN</td>\n",
              "      <td>NaN</td>\n",
              "      <td>NaN</td>\n",
              "      <td>...</td>\n",
              "      <td>NaN</td>\n",
              "      <td>NaN</td>\n",
              "      <td>NaN</td>\n",
              "      <td>NaN</td>\n",
              "      <td>NaN</td>\n",
              "      <td>NaN</td>\n",
              "      <td>NaN</td>\n",
              "      <td>NaN</td>\n",
              "      <td>NaN</td>\n",
              "      <td>NaN</td>\n",
              "    </tr>\n",
              "    <tr>\n",
              "      <th>2</th>\n",
              "      <td>1.0</td>\n",
              "      <td>1818-01-01T00:00:00Z</td>\n",
              "      <td>ABRAHAM</td>\n",
              "      <td>NaN</td>\n",
              "      <td>NaN</td>\n",
              "      <td>NaN</td>\n",
              "      <td>NaN</td>\n",
              "      <td>NaN</td>\n",
              "      <td>NaN</td>\n",
              "      <td>NaN</td>\n",
              "      <td>...</td>\n",
              "      <td>NaN</td>\n",
              "      <td>NaN</td>\n",
              "      <td>NaN</td>\n",
              "      <td>NaN</td>\n",
              "      <td>NaN</td>\n",
              "      <td>NaN</td>\n",
              "      <td>NaN</td>\n",
              "      <td>NaN</td>\n",
              "      <td>NaN</td>\n",
              "      <td>NaN</td>\n",
              "    </tr>\n",
              "    <tr>\n",
              "      <th>3</th>\n",
              "      <td>2.0</td>\n",
              "      <td>1770-01-01T00:00:00Z</td>\n",
              "      <td>BERRICK</td>\n",
              "      <td>NaN</td>\n",
              "      <td>NaN</td>\n",
              "      <td>NaN</td>\n",
              "      <td>NaN</td>\n",
              "      <td>NaN</td>\n",
              "      <td>NaN</td>\n",
              "      <td>NaN</td>\n",
              "      <td>...</td>\n",
              "      <td>NaN</td>\n",
              "      <td>NaN</td>\n",
              "      <td>NaN</td>\n",
              "      <td>NaN</td>\n",
              "      <td>NaN</td>\n",
              "      <td>NaN</td>\n",
              "      <td>Rule</td>\n",
              "      <td>NaN</td>\n",
              "      <td>NaN</td>\n",
              "      <td>NaN</td>\n",
              "    </tr>\n",
              "    <tr>\n",
              "      <th>4</th>\n",
              "      <td>3.0</td>\n",
              "      <td>1790-01-01T00:00:00Z</td>\n",
              "      <td>FIELD</td>\n",
              "      <td>NaN</td>\n",
              "      <td>NaN</td>\n",
              "      <td>NaN</td>\n",
              "      <td>NaN</td>\n",
              "      <td>NaN</td>\n",
              "      <td>NaN</td>\n",
              "      <td>NaN</td>\n",
              "      <td>...</td>\n",
              "      <td>NaN</td>\n",
              "      <td>NaN</td>\n",
              "      <td>NaN</td>\n",
              "      <td>NaN</td>\n",
              "      <td>NaN</td>\n",
              "      <td>NaN</td>\n",
              "      <td>NaN</td>\n",
              "      <td>NaN</td>\n",
              "      <td>NaN</td>\n",
              "      <td>NaN</td>\n",
              "    </tr>\n",
              "  </tbody>\n",
              "</table>\n",
              "<p>5 rows × 26 columns</p>\n",
              "</div>\n",
              "      <button class=\"colab-df-convert\" onclick=\"convertToInteractive('df-3fe3afb5-0776-4e28-b5d5-1e36fe8ba68d')\"\n",
              "              title=\"Convert this dataframe to an interactive table.\"\n",
              "              style=\"display:none;\">\n",
              "        \n",
              "  <svg xmlns=\"http://www.w3.org/2000/svg\" height=\"24px\"viewBox=\"0 0 24 24\"\n",
              "       width=\"24px\">\n",
              "    <path d=\"M0 0h24v24H0V0z\" fill=\"none\"/>\n",
              "    <path d=\"M18.56 5.44l.94 2.06.94-2.06 2.06-.94-2.06-.94-.94-2.06-.94 2.06-2.06.94zm-11 1L8.5 8.5l.94-2.06 2.06-.94-2.06-.94L8.5 2.5l-.94 2.06-2.06.94zm10 10l.94 2.06.94-2.06 2.06-.94-2.06-.94-.94-2.06-.94 2.06-2.06.94z\"/><path d=\"M17.41 7.96l-1.37-1.37c-.4-.4-.92-.59-1.43-.59-.52 0-1.04.2-1.43.59L10.3 9.45l-7.72 7.72c-.78.78-.78 2.05 0 2.83L4 21.41c.39.39.9.59 1.41.59.51 0 1.02-.2 1.41-.59l7.78-7.78 2.81-2.81c.8-.78.8-2.07 0-2.86zM5.41 20L4 18.59l7.72-7.72 1.47 1.35L5.41 20z\"/>\n",
              "  </svg>\n",
              "      </button>\n",
              "      \n",
              "  <style>\n",
              "    .colab-df-container {\n",
              "      display:flex;\n",
              "      flex-wrap:wrap;\n",
              "      gap: 12px;\n",
              "    }\n",
              "\n",
              "    .colab-df-convert {\n",
              "      background-color: #E8F0FE;\n",
              "      border: none;\n",
              "      border-radius: 50%;\n",
              "      cursor: pointer;\n",
              "      display: none;\n",
              "      fill: #1967D2;\n",
              "      height: 32px;\n",
              "      padding: 0 0 0 0;\n",
              "      width: 32px;\n",
              "    }\n",
              "\n",
              "    .colab-df-convert:hover {\n",
              "      background-color: #E2EBFA;\n",
              "      box-shadow: 0px 1px 2px rgba(60, 64, 67, 0.3), 0px 1px 3px 1px rgba(60, 64, 67, 0.15);\n",
              "      fill: #174EA6;\n",
              "    }\n",
              "\n",
              "    [theme=dark] .colab-df-convert {\n",
              "      background-color: #3B4455;\n",
              "      fill: #D2E3FC;\n",
              "    }\n",
              "\n",
              "    [theme=dark] .colab-df-convert:hover {\n",
              "      background-color: #434B5C;\n",
              "      box-shadow: 0px 1px 3px 1px rgba(0, 0, 0, 0.15);\n",
              "      filter: drop-shadow(0px 1px 2px rgba(0, 0, 0, 0.3));\n",
              "      fill: #FFFFFF;\n",
              "    }\n",
              "  </style>\n",
              "\n",
              "      <script>\n",
              "        const buttonEl =\n",
              "          document.querySelector('#df-3fe3afb5-0776-4e28-b5d5-1e36fe8ba68d button.colab-df-convert');\n",
              "        buttonEl.style.display =\n",
              "          google.colab.kernel.accessAllowed ? 'block' : 'none';\n",
              "\n",
              "        async function convertToInteractive(key) {\n",
              "          const element = document.querySelector('#df-3fe3afb5-0776-4e28-b5d5-1e36fe8ba68d');\n",
              "          const dataTable =\n",
              "            await google.colab.kernel.invokeFunction('convertToInteractive',\n",
              "                                                     [key], {});\n",
              "          if (!dataTable) return;\n",
              "\n",
              "          const docLinkHtml = 'Like what you see? Visit the ' +\n",
              "            '<a target=\"_blank\" href=https://colab.research.google.com/notebooks/data_table.ipynb>data table notebook</a>'\n",
              "            + ' to learn more about interactive tables.';\n",
              "          element.innerHTML = '';\n",
              "          dataTable['output_type'] = 'display_data';\n",
              "          await google.colab.output.renderOutput(dataTable, element);\n",
              "          const docLink = document.createElement('div');\n",
              "          docLink.innerHTML = docLinkHtml;\n",
              "          element.appendChild(docLink);\n",
              "        }\n",
              "      </script>\n",
              "    </div>\n",
              "  </div>\n",
              "  "
            ]
          },
          "metadata": {},
          "execution_count": 468
        }
      ]
    },
    {
      "cell_type": "code",
      "source": [
        "# Check the data types\n",
        "tg_df.dtypes"
      ],
      "metadata": {
        "colab": {
          "base_uri": "https://localhost:8080/"
        },
        "id": "mFNqgrXzJC3B",
        "outputId": "be502e8b-db64-4c8d-c02c-d2302e5de897"
      },
      "execution_count": null,
      "outputs": [
        {
          "output_type": "execute_result",
          "data": {
            "text/plain": [
              "ref                          float64\n",
              "date                          object\n",
              "name                          object\n",
              "other_trades                  object\n",
              "Other Trades Parenth          object\n",
              "Other Trades Dates            object\n",
              "Other Trade Suffix 2          object\n",
              "Role_primary                  object\n",
              "Relation to                   object\n",
              "RoleRelationDates             object\n",
              "guild_memberships             object\n",
              "opticians                     object\n",
              "seller_descriptions           object\n",
              "Qualifier IS                  object\n",
              "Dates IS                      object\n",
              "maker_descriptions            object\n",
              "IM Dates Parenth              object\n",
              "Material                      object\n",
              "Qualifier IM                  object\n",
              "seller_trades                 object\n",
              "Seller_trades parenth         object\n",
              "Seller trade dates            object\n",
              "maker_trades                  object\n",
              "Maker_trade parentheses 1     object\n",
              "Maker_trade Date Qual         object\n",
              "Maker_qualifier               object\n",
              "dtype: object"
            ]
          },
          "metadata": {},
          "execution_count": 469
        }
      ]
    },
    {
      "cell_type": "code",
      "source": [
        "# Convert columnn names to lower case and replace spaces with underscores for consistent naming conventions \n",
        "tg_df.columns = tg_df.columns.str.lower().str.replace(\" \",\"_\")"
      ],
      "metadata": {
        "id": "HUQBehoyNsi6"
      },
      "execution_count": null,
      "outputs": []
    },
    {
      "cell_type": "code",
      "source": [
        "# Rename \"ref\" to \"id\" \n",
        "tg_df.rename(columns = {\"ref\" : \"id\"}, inplace = True)"
      ],
      "metadata": {
        "id": "lfAwbddwNuLM"
      },
      "execution_count": null,
      "outputs": []
    },
    {
      "cell_type": "code",
      "source": [
        "# Drop any rows with no value in \"id\" column\n",
        "tg_df = tg_df.dropna(subset=[\"id\"])"
      ],
      "metadata": {
        "id": "2fgrWmbvN2g1"
      },
      "execution_count": null,
      "outputs": []
    },
    {
      "cell_type": "code",
      "source": [
        "# Change data type of \"id\" from float to int \n",
        "tg_df[\"id\"] = tg_df[\"id\"].astype(int)\n"
      ],
      "metadata": {
        "id": "pJHOjqGpQaf2",
        "colab": {
          "base_uri": "https://localhost:8080/"
        },
        "outputId": "f9ba5342-a6f0-4304-fd42-286ac15e12e2"
      },
      "execution_count": null,
      "outputs": [
        {
          "output_type": "stream",
          "name": "stderr",
          "text": [
            "<ipython-input-473-951789f335cf>:2: SettingWithCopyWarning: \n",
            "A value is trying to be set on a copy of a slice from a DataFrame.\n",
            "Try using .loc[row_indexer,col_indexer] = value instead\n",
            "\n",
            "See the caveats in the documentation: https://pandas.pydata.org/pandas-docs/stable/user_guide/indexing.html#returning-a-view-versus-a-copy\n",
            "  tg_df[\"id\"] = tg_df[\"id\"].astype(int)\n"
          ]
        }
      ]
    },
    {
      "cell_type": "code",
      "source": [
        "# Print column names for inspection\n",
        "list(tg_df.columns)"
      ],
      "metadata": {
        "colab": {
          "base_uri": "https://localhost:8080/"
        },
        "id": "aigXVVtFVBQZ",
        "outputId": "2378f9c8-cf93-475d-b264-70f88bd961ec"
      },
      "execution_count": null,
      "outputs": [
        {
          "output_type": "execute_result",
          "data": {
            "text/plain": [
              "['id',\n",
              " 'date',\n",
              " 'name',\n",
              " 'other_trades',\n",
              " 'other_trades_parenth',\n",
              " 'other_trades_dates',\n",
              " 'other_trade_suffix_2',\n",
              " 'role_primary',\n",
              " 'relation_to',\n",
              " 'rolerelationdates',\n",
              " 'guild_memberships',\n",
              " 'opticians',\n",
              " 'seller_descriptions',\n",
              " 'qualifier_is',\n",
              " 'dates_is',\n",
              " 'maker_descriptions',\n",
              " 'im_dates_parenth',\n",
              " 'material',\n",
              " 'qualifier_im',\n",
              " 'seller_trades',\n",
              " 'seller_trades_parenth',\n",
              " 'seller_trade_dates',\n",
              " 'maker_trades',\n",
              " 'maker_trade_parentheses_1',\n",
              " 'maker_trade_date_qual',\n",
              " 'maker_qualifier']"
            ]
          },
          "metadata": {},
          "execution_count": 474
        }
      ]
    },
    {
      "cell_type": "code",
      "source": [
        "# Drop selected columns\n",
        "to_drop = [\"date\",\n",
        "           \"name\",\n",
        "           \"other_trades_dates\",\n",
        "           \"other_trade_suffix_2\",\n",
        "           \"rolerelationdates\",\n",
        "           \"opticians\",\n",
        "           \"qualifier_is\",\n",
        "           \"dates_is\",\n",
        "           \"im_dates_parenth\",\n",
        "           \"seller_trade_dates\",\n",
        "           \"maker_trade_date_qual\"]\n",
        "\n",
        "tg_df = tg_df.drop(to_drop, axis=1)"
      ],
      "metadata": {
        "id": "jQrT9FWxPK_n"
      },
      "execution_count": null,
      "outputs": []
    },
    {
      "cell_type": "code",
      "source": [
        "# Check reduced list of columns \n",
        "list(tg_df.columns)"
      ],
      "metadata": {
        "colab": {
          "base_uri": "https://localhost:8080/"
        },
        "id": "p1Ri6iIBPKYA",
        "outputId": "3d727fb2-7f8b-45c7-ffc2-f355486eb57f"
      },
      "execution_count": null,
      "outputs": [
        {
          "output_type": "execute_result",
          "data": {
            "text/plain": [
              "['id',\n",
              " 'other_trades',\n",
              " 'other_trades_parenth',\n",
              " 'role_primary',\n",
              " 'relation_to',\n",
              " 'guild_memberships',\n",
              " 'seller_descriptions',\n",
              " 'maker_descriptions',\n",
              " 'material',\n",
              " 'qualifier_im',\n",
              " 'seller_trades',\n",
              " 'seller_trades_parenth',\n",
              " 'maker_trades',\n",
              " 'maker_trade_parentheses_1',\n",
              " 'maker_qualifier']"
            ]
          },
          "metadata": {},
          "execution_count": 476
        }
      ]
    },
    {
      "cell_type": "code",
      "source": [
        "# Check the shape of the cleaned dataframe\n",
        "tg_df.head()"
      ],
      "metadata": {
        "colab": {
          "base_uri": "https://localhost:8080/",
          "height": 270
        },
        "id": "a7VsipgRGoiy",
        "outputId": "b8a18758-0733-4e2a-f027-131141091974"
      },
      "execution_count": null,
      "outputs": [
        {
          "output_type": "execute_result",
          "data": {
            "text/plain": [
              "   id other_trades other_trades_parenth role_primary relation_to  \\\n",
              "0   1          NaN                  NaN          NaN         NaN   \n",
              "1   1          NaN                  NaN          NaN         NaN   \n",
              "2   1          NaN                  NaN          NaN         NaN   \n",
              "3   2          NaN                  NaN          NaN         NaN   \n",
              "4   3          NaN                  NaN          NaN         NaN   \n",
              "\n",
              "  guild_memberships seller_descriptions maker_descriptions material  \\\n",
              "0               NaN                 NaN      Philosophical      NaN   \n",
              "1               NaN                 NaN       Mathematical      NaN   \n",
              "2               NaN                 NaN                NaN      NaN   \n",
              "3               NaN                 NaN                NaN      NaN   \n",
              "4               NaN                 NaN      Philosophical      NaN   \n",
              "\n",
              "  qualifier_im seller_trades seller_trades_parenth maker_trades  \\\n",
              "0          NaN           NaN                   NaN          NaN   \n",
              "1          NaN           NaN                   NaN          NaN   \n",
              "2          NaN           NaN                   NaN          NaN   \n",
              "3          NaN           NaN                   NaN         Rule   \n",
              "4          NaN           NaN                   NaN          NaN   \n",
              "\n",
              "  maker_trade_parentheses_1 maker_qualifier  \n",
              "0                       NaN             NaN  \n",
              "1                       NaN             NaN  \n",
              "2                       NaN             NaN  \n",
              "3                       NaN             NaN  \n",
              "4                       NaN             NaN  "
            ],
            "text/html": [
              "\n",
              "  <div id=\"df-e4b52918-eb80-43af-b9be-b8a4d241e64f\">\n",
              "    <div class=\"colab-df-container\">\n",
              "      <div>\n",
              "<style scoped>\n",
              "    .dataframe tbody tr th:only-of-type {\n",
              "        vertical-align: middle;\n",
              "    }\n",
              "\n",
              "    .dataframe tbody tr th {\n",
              "        vertical-align: top;\n",
              "    }\n",
              "\n",
              "    .dataframe thead th {\n",
              "        text-align: right;\n",
              "    }\n",
              "</style>\n",
              "<table border=\"1\" class=\"dataframe\">\n",
              "  <thead>\n",
              "    <tr style=\"text-align: right;\">\n",
              "      <th></th>\n",
              "      <th>id</th>\n",
              "      <th>other_trades</th>\n",
              "      <th>other_trades_parenth</th>\n",
              "      <th>role_primary</th>\n",
              "      <th>relation_to</th>\n",
              "      <th>guild_memberships</th>\n",
              "      <th>seller_descriptions</th>\n",
              "      <th>maker_descriptions</th>\n",
              "      <th>material</th>\n",
              "      <th>qualifier_im</th>\n",
              "      <th>seller_trades</th>\n",
              "      <th>seller_trades_parenth</th>\n",
              "      <th>maker_trades</th>\n",
              "      <th>maker_trade_parentheses_1</th>\n",
              "      <th>maker_qualifier</th>\n",
              "    </tr>\n",
              "  </thead>\n",
              "  <tbody>\n",
              "    <tr>\n",
              "      <th>0</th>\n",
              "      <td>1</td>\n",
              "      <td>NaN</td>\n",
              "      <td>NaN</td>\n",
              "      <td>NaN</td>\n",
              "      <td>NaN</td>\n",
              "      <td>NaN</td>\n",
              "      <td>NaN</td>\n",
              "      <td>Philosophical</td>\n",
              "      <td>NaN</td>\n",
              "      <td>NaN</td>\n",
              "      <td>NaN</td>\n",
              "      <td>NaN</td>\n",
              "      <td>NaN</td>\n",
              "      <td>NaN</td>\n",
              "      <td>NaN</td>\n",
              "    </tr>\n",
              "    <tr>\n",
              "      <th>1</th>\n",
              "      <td>1</td>\n",
              "      <td>NaN</td>\n",
              "      <td>NaN</td>\n",
              "      <td>NaN</td>\n",
              "      <td>NaN</td>\n",
              "      <td>NaN</td>\n",
              "      <td>NaN</td>\n",
              "      <td>Mathematical</td>\n",
              "      <td>NaN</td>\n",
              "      <td>NaN</td>\n",
              "      <td>NaN</td>\n",
              "      <td>NaN</td>\n",
              "      <td>NaN</td>\n",
              "      <td>NaN</td>\n",
              "      <td>NaN</td>\n",
              "    </tr>\n",
              "    <tr>\n",
              "      <th>2</th>\n",
              "      <td>1</td>\n",
              "      <td>NaN</td>\n",
              "      <td>NaN</td>\n",
              "      <td>NaN</td>\n",
              "      <td>NaN</td>\n",
              "      <td>NaN</td>\n",
              "      <td>NaN</td>\n",
              "      <td>NaN</td>\n",
              "      <td>NaN</td>\n",
              "      <td>NaN</td>\n",
              "      <td>NaN</td>\n",
              "      <td>NaN</td>\n",
              "      <td>NaN</td>\n",
              "      <td>NaN</td>\n",
              "      <td>NaN</td>\n",
              "    </tr>\n",
              "    <tr>\n",
              "      <th>3</th>\n",
              "      <td>2</td>\n",
              "      <td>NaN</td>\n",
              "      <td>NaN</td>\n",
              "      <td>NaN</td>\n",
              "      <td>NaN</td>\n",
              "      <td>NaN</td>\n",
              "      <td>NaN</td>\n",
              "      <td>NaN</td>\n",
              "      <td>NaN</td>\n",
              "      <td>NaN</td>\n",
              "      <td>NaN</td>\n",
              "      <td>NaN</td>\n",
              "      <td>Rule</td>\n",
              "      <td>NaN</td>\n",
              "      <td>NaN</td>\n",
              "    </tr>\n",
              "    <tr>\n",
              "      <th>4</th>\n",
              "      <td>3</td>\n",
              "      <td>NaN</td>\n",
              "      <td>NaN</td>\n",
              "      <td>NaN</td>\n",
              "      <td>NaN</td>\n",
              "      <td>NaN</td>\n",
              "      <td>NaN</td>\n",
              "      <td>Philosophical</td>\n",
              "      <td>NaN</td>\n",
              "      <td>NaN</td>\n",
              "      <td>NaN</td>\n",
              "      <td>NaN</td>\n",
              "      <td>NaN</td>\n",
              "      <td>NaN</td>\n",
              "      <td>NaN</td>\n",
              "    </tr>\n",
              "  </tbody>\n",
              "</table>\n",
              "</div>\n",
              "      <button class=\"colab-df-convert\" onclick=\"convertToInteractive('df-e4b52918-eb80-43af-b9be-b8a4d241e64f')\"\n",
              "              title=\"Convert this dataframe to an interactive table.\"\n",
              "              style=\"display:none;\">\n",
              "        \n",
              "  <svg xmlns=\"http://www.w3.org/2000/svg\" height=\"24px\"viewBox=\"0 0 24 24\"\n",
              "       width=\"24px\">\n",
              "    <path d=\"M0 0h24v24H0V0z\" fill=\"none\"/>\n",
              "    <path d=\"M18.56 5.44l.94 2.06.94-2.06 2.06-.94-2.06-.94-.94-2.06-.94 2.06-2.06.94zm-11 1L8.5 8.5l.94-2.06 2.06-.94-2.06-.94L8.5 2.5l-.94 2.06-2.06.94zm10 10l.94 2.06.94-2.06 2.06-.94-2.06-.94-.94-2.06-.94 2.06-2.06.94z\"/><path d=\"M17.41 7.96l-1.37-1.37c-.4-.4-.92-.59-1.43-.59-.52 0-1.04.2-1.43.59L10.3 9.45l-7.72 7.72c-.78.78-.78 2.05 0 2.83L4 21.41c.39.39.9.59 1.41.59.51 0 1.02-.2 1.41-.59l7.78-7.78 2.81-2.81c.8-.78.8-2.07 0-2.86zM5.41 20L4 18.59l7.72-7.72 1.47 1.35L5.41 20z\"/>\n",
              "  </svg>\n",
              "      </button>\n",
              "      \n",
              "  <style>\n",
              "    .colab-df-container {\n",
              "      display:flex;\n",
              "      flex-wrap:wrap;\n",
              "      gap: 12px;\n",
              "    }\n",
              "\n",
              "    .colab-df-convert {\n",
              "      background-color: #E8F0FE;\n",
              "      border: none;\n",
              "      border-radius: 50%;\n",
              "      cursor: pointer;\n",
              "      display: none;\n",
              "      fill: #1967D2;\n",
              "      height: 32px;\n",
              "      padding: 0 0 0 0;\n",
              "      width: 32px;\n",
              "    }\n",
              "\n",
              "    .colab-df-convert:hover {\n",
              "      background-color: #E2EBFA;\n",
              "      box-shadow: 0px 1px 2px rgba(60, 64, 67, 0.3), 0px 1px 3px 1px rgba(60, 64, 67, 0.15);\n",
              "      fill: #174EA6;\n",
              "    }\n",
              "\n",
              "    [theme=dark] .colab-df-convert {\n",
              "      background-color: #3B4455;\n",
              "      fill: #D2E3FC;\n",
              "    }\n",
              "\n",
              "    [theme=dark] .colab-df-convert:hover {\n",
              "      background-color: #434B5C;\n",
              "      box-shadow: 0px 1px 3px 1px rgba(0, 0, 0, 0.15);\n",
              "      filter: drop-shadow(0px 1px 2px rgba(0, 0, 0, 0.3));\n",
              "      fill: #FFFFFF;\n",
              "    }\n",
              "  </style>\n",
              "\n",
              "      <script>\n",
              "        const buttonEl =\n",
              "          document.querySelector('#df-e4b52918-eb80-43af-b9be-b8a4d241e64f button.colab-df-convert');\n",
              "        buttonEl.style.display =\n",
              "          google.colab.kernel.accessAllowed ? 'block' : 'none';\n",
              "\n",
              "        async function convertToInteractive(key) {\n",
              "          const element = document.querySelector('#df-e4b52918-eb80-43af-b9be-b8a4d241e64f');\n",
              "          const dataTable =\n",
              "            await google.colab.kernel.invokeFunction('convertToInteractive',\n",
              "                                                     [key], {});\n",
              "          if (!dataTable) return;\n",
              "\n",
              "          const docLinkHtml = 'Like what you see? Visit the ' +\n",
              "            '<a target=\"_blank\" href=https://colab.research.google.com/notebooks/data_table.ipynb>data table notebook</a>'\n",
              "            + ' to learn more about interactive tables.';\n",
              "          element.innerHTML = '';\n",
              "          dataTable['output_type'] = 'display_data';\n",
              "          await google.colab.output.renderOutput(dataTable, element);\n",
              "          const docLink = document.createElement('div');\n",
              "          docLink.innerHTML = docLinkHtml;\n",
              "          element.appendChild(docLink);\n",
              "        }\n",
              "      </script>\n",
              "    </div>\n",
              "  </div>\n",
              "  "
            ]
          },
          "metadata": {},
          "execution_count": 477
        }
      ]
    },
    {
      "cell_type": "code",
      "source": [
        "# Count the number of values in each column\n",
        "# Use these counts to determine which columns are the most useful for analysis \n",
        "\n",
        "tg_df.count()"
      ],
      "metadata": {
        "colab": {
          "base_uri": "https://localhost:8080/"
        },
        "id": "8DQ2gHm9u-rg",
        "outputId": "7094dd97-161a-480e-e177-0b8dc0be8e37"
      },
      "execution_count": null,
      "outputs": [
        {
          "output_type": "execute_result",
          "data": {
            "text/plain": [
              "id                           27318\n",
              "other_trades                   596\n",
              "other_trades_parenth           144\n",
              "role_primary                  1946\n",
              "relation_to                   1278\n",
              "guild_memberships             1837\n",
              "seller_descriptions            138\n",
              "maker_descriptions            4540\n",
              "material                        21\n",
              "qualifier_im                    20\n",
              "seller_trades                  393\n",
              "seller_trades_parenth           42\n",
              "maker_trades                 15013\n",
              "maker_trade_parentheses_1     1148\n",
              "maker_qualifier                 10\n",
              "dtype: int64"
            ]
          },
          "metadata": {},
          "execution_count": 478
        }
      ]
    },
    {
      "cell_type": "code",
      "source": [
        "# Count unique values in each column \n",
        "tg_df.nunique()"
      ],
      "metadata": {
        "colab": {
          "base_uri": "https://localhost:8080/"
        },
        "id": "bgYoMwFPjcqn",
        "outputId": "f204ca39-c9e9-4dd6-e6fd-5e10a5d4a33f"
      },
      "execution_count": null,
      "outputs": [
        {
          "output_type": "execute_result",
          "data": {
            "text/plain": [
              "id                           9311\n",
              "other_trades                  121\n",
              "other_trades_parenth           49\n",
              "role_primary                   84\n",
              "relation_to                   276\n",
              "guild_memberships              56\n",
              "seller_descriptions            13\n",
              "maker_descriptions             36\n",
              "material                       10\n",
              "qualifier_im                   10\n",
              "seller_trades                  65\n",
              "seller_trades_parenth          20\n",
              "maker_trades                  217\n",
              "maker_trade_parentheses_1     160\n",
              "maker_qualifier                 8\n",
              "dtype: int64"
            ]
          },
          "metadata": {},
          "execution_count": 479
        }
      ]
    },
    {
      "cell_type": "code",
      "source": [
        "# Distribution of primary roles\n",
        "plt.figure(figsize=(10,5))\n",
        "chart = sns.countplot(data = tg_df, \n",
        "                      x = \"role_primary\",\n",
        "                      order = pd.value_counts(tg_df[\"role_primary\"]).iloc[:50].index,\n",
        "                      color = \"#55b8d1\")\n",
        "chart.set_xticklabels(chart.get_xticklabels(), rotation=90)\n",
        "chart.set_xlabel(\"Primary Role\", fontsize = 11)\n",
        "chart.set_ylabel(\"Count\", fontsize = 11)\n",
        "plt.savefig(\"primary_roles.svg\")"
      ],
      "metadata": {
        "colab": {
          "base_uri": "https://localhost:8080/",
          "height": 391
        },
        "id": "GYWry5aRfgKM",
        "outputId": "b54fbdc4-22b0-495b-8575-c5ee078d80b8"
      },
      "execution_count": null,
      "outputs": [
        {
          "output_type": "display_data",
          "data": {
            "text/plain": [
              "<Figure size 720x360 with 1 Axes>"
            ],
            "image/png": "[encoded data removed]"
          },
          "metadata": {
            "needs_background": "light"
          }
        }
      ]
    },
    {
      "cell_type": "code",
      "source": [
        "# Distribution of materials used \n",
        "plt.figure(figsize=(10,5))\n",
        "chart = sns.countplot(data = tg_df, \n",
        "                      x = \"material\",\n",
        "                      order = pd.value_counts(tg_df[\"material\"]).iloc[:50].index,\n",
        "                      color = \"#55b8d1\")\n",
        "chart.set_xticklabels(chart.get_xticklabels(), rotation=90)\n",
        "chart.set_xlabel(\"Material\", fontsize = 11)\n",
        "chart.set_ylabel(\"Count\", fontsize = 11)\n",
        "plt.savefig(\"materials.svg\")"
      ],
      "metadata": {
        "colab": {
          "base_uri": "https://localhost:8080/",
          "height": 448
        },
        "id": "QoJeogEogXm2",
        "outputId": "80857178-7847-4794-e882-0b7ffe8f5769"
      },
      "execution_count": null,
      "outputs": [
        {
          "output_type": "display_data",
          "data": {
            "text/plain": [
              "<Figure size 720x360 with 1 Axes>"
            ],
            "image/png": "[encoded data removed]"
          },
          "metadata": {
            "needs_background": "light"
          }
        }
      ]
    },
    {
      "cell_type": "code",
      "source": [
        "# Distribution of seller trades\n",
        "plt.figure(figsize=(10,5))\n",
        "chart = sns.countplot(data = tg_df, \n",
        "                      x = \"seller_trades\",\n",
        "                      order = pd.value_counts(tg_df[\"seller_trades\"]).iloc[:50].index,\n",
        "                      color = \"#55b8d1\")\n",
        "chart.set_xticklabels(chart.get_xticklabels(), rotation=90)\n",
        "chart.set_xlabel(\"Items Sold\", fontsize = 11)\n",
        "chart.set_ylabel(\"Count\", fontsize = 11)\n",
        "plt.savefig(\"seller_trades.svg\")"
      ],
      "metadata": {
        "colab": {
          "base_uri": "https://localhost:8080/",
          "height": 456
        },
        "id": "fMTKtad5gXzH",
        "outputId": "96e13e99-ecb4-4f3b-e971-19a9853c1fa9"
      },
      "execution_count": null,
      "outputs": [
        {
          "output_type": "display_data",
          "data": {
            "text/plain": [
              "<Figure size 720x360 with 1 Axes>"
            ],
            "image/png": "[encoded data removed]"
          },
          "metadata": {
            "needs_background": "light"
          }
        }
      ]
    },
    {
      "cell_type": "code",
      "source": [
        "# Distribution of maker trades\n",
        "plt.figure(figsize=(10,5))\n",
        "chart = sns.countplot(data = tg_df, \n",
        "                      x = \"maker_trades\",\n",
        "                      order = pd.value_counts(tg_df[\"maker_trades\"]).iloc[:50].index,\n",
        "                      color = \"#55b8d1\")\n",
        "chart.set_xticklabels(chart.get_xticklabels(), rotation=90)\n",
        "chart.set_xlabel(\"Items Made\", fontsize = 11)\n",
        "chart.set_ylabel(\"Count\", fontsize = 11)\n",
        "plt.savefig(\"maker_trades.svg\")"
      ],
      "metadata": {
        "colab": {
          "base_uri": "https://localhost:8080/",
          "height": 422
        },
        "id": "-9cToQuEgX8f",
        "outputId": "b5f7cc3a-4a1f-43b5-8f8b-ce64a589f55b"
      },
      "execution_count": null,
      "outputs": [
        {
          "output_type": "display_data",
          "data": {
            "text/plain": [
              "<Figure size 720x360 with 1 Axes>"
            ],
            "image/png": "[encoded data removed]"
          },
          "metadata": {
            "needs_background": "light"
          }
        }
      ]
    },
    {
      "cell_type": "code",
      "source": [
        "# Distribution of other trades\n",
        "plt.figure(figsize=(10,5))\n",
        "chart = sns.countplot(data = tg_df, \n",
        "                      x = \"other_trades\",\n",
        "                      order = pd.value_counts(tg_df[\"other_trades\"]).iloc[:50].index,\n",
        "                      color = \"#55b8d1\")\n",
        "chart.set_xticklabels(chart.get_xticklabels(), rotation=90)\n",
        "chart.set_xlabel(\"Other Trades\", fontsize = 11)\n",
        "chart.set_ylabel(\"Count\", fontsize = 11)\n",
        "plt.savefig(\"other_trades.svg\")"
      ],
      "metadata": {
        "colab": {
          "base_uri": "https://localhost:8080/",
          "height": 441
        },
        "id": "dktd1lXbh1TA",
        "outputId": "2bf51519-6ff6-41bd-a9a1-299ab417dc6d"
      },
      "execution_count": null,
      "outputs": [
        {
          "output_type": "display_data",
          "data": {
            "text/plain": [
              "<Figure size 720x360 with 1 Axes>"
            ],
            "image/png": "[encoded data removed]"
          },
          "metadata": {
            "needs_background": "light"
          }
        }
      ]
    },
    {
      "cell_type": "code",
      "source": [
        "# Distribution of guild memberships \n",
        "plt.figure(figsize=(10,5))\n",
        "chart = sns.countplot(data = tg_df, \n",
        "                      x = \"guild_memberships\",\n",
        "                      order = pd.value_counts(tg_df[\"guild_memberships\"]).iloc[:50].index,\n",
        "                      color = \"#55b8d1\")\n",
        "chart.set_xticklabels(chart.get_xticklabels(), rotation=90)\n",
        "chart.set_xlabel(\"Guild\", fontsize = 11)\n",
        "chart.set_ylabel(\"Count\", fontsize = 11)\n",
        "plt.savefig(\"guild_memberships.svg\")"
      ],
      "metadata": {
        "colab": {
          "base_uri": "https://localhost:8080/",
          "height": 443
        },
        "id": "k7CA6OY7egrd",
        "outputId": "527beb62-118c-4fbf-a86e-2f9bd50a0927"
      },
      "execution_count": null,
      "outputs": [
        {
          "output_type": "display_data",
          "data": {
            "text/plain": [
              "<Figure size 720x360 with 1 Axes>"
            ],
            "image/png": "[encoded data removed]"
          },
          "metadata": {
            "needs_background": "light"
          }
        }
      ]
    },
    {
      "cell_type": "markdown",
      "source": [
        "# **9. Create Subset of data for Testing**"
      ],
      "metadata": {
        "id": "5qRglI_TXxmH"
      }
    },
    {
      "cell_type": "code",
      "source": [
        "subset_rows = 50\n",
        "\n",
        "# Create new dataframe from relationships data consisting of the first n rows as specified by subset_rows\n",
        "r_df_subset = r_df.head(subset_rows)\n",
        "\n",
        "# Append \"target\" to \"source\" rows to create a list of subset ids\n",
        "subset_ids = r_df_subset[\"source\"].append(r_df_subset[\"target\"])\n",
        "\n",
        "# Subset individuals data by selecting only the ids in subset_ids  \n",
        "i_df_subset = i_df[i_df[\"id\"].isin(subset_ids)]\n",
        "\n",
        "# Subset address data by selecting only the ids in subset_ids\n",
        "a_df_subset = a_df[a_df[\"id\"].isin(subset_ids)]\n",
        "\n",
        "# Subset location data by selecting only the ids in subset_ids \n",
        "l_df_subset = l_df[l_df[\"id\"].isin(subset_ids)]\n",
        "\n",
        "# Subset trades and guilds data by selecting only the ids in subset_ids \n",
        "tg_df_subset = tg_df[tg_df[\"id\"].isin(subset_ids)]\n",
        "\n",
        "\n"
      ],
      "metadata": {
        "id": "VyFqAaR0XvuQ"
      },
      "execution_count": null,
      "outputs": []
    },
    {
      "cell_type": "markdown",
      "source": [
        "# **10. Save Full Cleaned Files to Google Drive**"
      ],
      "metadata": {
        "id": "OmbFifEaxPta"
      }
    },
    {
      "cell_type": "code",
      "source": [
        "# Individuals \n",
        "path = \"/content/drive/MyDrive/dissertation/CASA0004_DISSERTATION/full_cleaned_data/full_individuals_cleaned.csv\"\n",
        "\n",
        "with open(path, 'w', encoding = 'utf-8-sig') as f:\n",
        "  i_df.to_csv(f, index = False)"
      ],
      "metadata": {
        "id": "g25Pr5Emw4qe"
      },
      "execution_count": null,
      "outputs": []
    },
    {
      "cell_type": "code",
      "source": [
        "# Relationships\n",
        "path = \"/content/drive/MyDrive/dissertation/CASA0004_DISSERTATION/full_cleaned_data/full_relationships_cleaned.csv\"\n",
        "\n",
        "with open(path, 'w', encoding = 'utf-8-sig') as f:\n",
        "  r_df.to_csv(f, index = False)"
      ],
      "metadata": {
        "id": "ggSDRkv9D6wv"
      },
      "execution_count": null,
      "outputs": []
    },
    {
      "cell_type": "code",
      "source": [
        "# Addresses\n",
        "path = \"/content/drive/MyDrive/dissertation/CASA0004_DISSERTATION/full_cleaned_data/full_addresses_cleaned.csv\"\n",
        "\n",
        "with open(path, 'w', encoding = 'utf-8-sig') as f:\n",
        "  a_df.to_csv(f, index = False)"
      ],
      "metadata": {
        "id": "7cQKI2qam2hJ"
      },
      "execution_count": null,
      "outputs": []
    },
    {
      "cell_type": "code",
      "source": [
        "# Locations\n",
        "path = \"/content/drive/MyDrive/dissertation/CASA0004_DISSERTATION/full_cleaned_data/full_locations_cleaned.csv\"\n",
        "\n",
        "with open(path, 'w', encoding = 'utf-8-sig') as f:\n",
        "  l_df.to_csv(f, index = False)"
      ],
      "metadata": {
        "id": "kn_2eVH5D9rs"
      },
      "execution_count": null,
      "outputs": []
    },
    {
      "cell_type": "code",
      "source": [
        "# Trades and Guilds\n",
        "path = \"/content/drive/MyDrive/dissertation/CASA0004_DISSERTATION/full_cleaned_data/full_trades_guilds_cleaned.csv\"\n",
        "\n",
        "with open(path, 'w', encoding = 'utf-8-sig') as f:\n",
        "  tg_df.to_csv(f, index = False)"
      ],
      "metadata": {
        "id": "W-JKfED9EAMo"
      },
      "execution_count": null,
      "outputs": []
    },
    {
      "cell_type": "code",
      "source": [
        "# Time Intervals\n",
        "path = \"/content/drive/MyDrive/dissertation/CASA0004_DISSERTATION/full_cleaned_data/time_intervals.csv\"\n",
        "\n",
        "with open(path, 'w', encoding = 'utf-8-sig') as f:\n",
        "  t_df.to_csv(f, index = False)\n"
      ],
      "metadata": {
        "id": "JX-xGIZ-XMwo"
      },
      "execution_count": null,
      "outputs": []
    },
    {
      "cell_type": "markdown",
      "source": [
        "# **11. Save Subsetted Cleaned Files to Google Drive**"
      ],
      "metadata": {
        "id": "RW2h75122tSi"
      }
    },
    {
      "cell_type": "code",
      "source": [
        "# Individuals\n",
        "path = \"/content/drive/MyDrive/dissertation/CASA0004_DISSERTATION/subset_cleaned_data/subset_individuals_cleaned.csv\"\n",
        "\n",
        "with open(path, 'w', encoding = 'utf-8-sig') as f:\n",
        "  i_df_subset.to_csv(f, index = False)"
      ],
      "metadata": {
        "id": "ax0BuDzR3uhi"
      },
      "execution_count": null,
      "outputs": []
    },
    {
      "cell_type": "code",
      "source": [
        "# Relationships\n",
        "path = \"/content/drive/MyDrive/dissertation/CASA0004_DISSERTATION/subset_cleaned_data/subset_relationships_cleaned.csv\"\n",
        "\n",
        "with open(path, 'w', encoding = 'utf-8-sig') as f:\n",
        "  r_df_subset.to_csv(f, index = False)"
      ],
      "metadata": {
        "id": "IMswLqCD4-TE"
      },
      "execution_count": null,
      "outputs": []
    },
    {
      "cell_type": "code",
      "source": [
        "# Addresses \n",
        "path = \"/content/drive/MyDrive/dissertation/CASA0004_DISSERTATION/subset_cleaned_data/subset_addresses_cleaned.csv\"\n",
        "\n",
        "with open(path, 'w', encoding = 'utf-8-sig') as f:\n",
        "  a_df_subset.to_csv(f, index = False)"
      ],
      "metadata": {
        "id": "3EoY69_nnFc8"
      },
      "execution_count": null,
      "outputs": []
    },
    {
      "cell_type": "code",
      "source": [
        "# Locations\n",
        "path = \"/content/drive/MyDrive/dissertation/CASA0004_DISSERTATION/subset_cleaned_data/subset_locations_cleaned.csv\"\n",
        "\n",
        "with open(path, 'w', encoding = 'utf-8-sig') as f:\n",
        "  l_df_subset.to_csv(f, index = False)"
      ],
      "metadata": {
        "id": "MsRsohjY4-bA"
      },
      "execution_count": null,
      "outputs": []
    },
    {
      "cell_type": "code",
      "source": [
        "# Trades and Guilds\n",
        "path = \"/content/drive/MyDrive/dissertation/CASA0004_DISSERTATION/subset_cleaned_data/subset_trades_guilds_cleaned.csv\"\n",
        "\n",
        "with open(path, 'w', encoding = 'utf-8-sig') as f:\n",
        "  tg_df_subset.to_csv(f, index = False)"
      ],
      "metadata": {
        "id": "0XNEARGB4-iu"
      },
      "execution_count": null,
      "outputs": []
    },
    {
      "cell_type": "code",
      "source": [
        "# Time Intervals \n",
        "path = \"/content/drive/MyDrive/dissertation/CASA0004_DISSERTATION/subset_cleaned_data/subset_time_intervals.csv\"\n",
        "\n",
        "with open(path, 'w', encoding = 'utf-8-sig') as f:\n",
        "  t_df.to_csv(f, index = False)\n"
      ],
      "metadata": {
        "id": "DPakkcpDiXjr"
      },
      "execution_count": null,
      "outputs": []
    }
  ]
}